{
 "cells": [
  {
   "cell_type": "markdown",
   "metadata": {},
   "source": [
    "**1. In mathematics, the Fibonacci numbers, commonly denoted Fn, form a sequence, called the Fibonacci sequence, such that each number is the sum of the two preceding ones, starting from 0 and 1:**\n",
    "\n",
    "The beginning of the sequence is this:\n",
    "\n",
    "0, 1, 1, 2, 3, 5, 8, 13, 21, 34, 55, 89, 144, ...\n",
    "\n",
    "**The function fastFib(num) returns the fibonacci number Fn, of the given num as an argument.**\n",
    "\n",
    "Examples\n",
    "\n",
    "fib_fast(5) ➞ **5**\n",
    "\n",
    "fib_fast(10) ➞ **55**\n",
    "\n",
    "fib_fast(20) ➞**6765**\n",
    "\n",
    "fib_fast(50) ➞ **12586269025**\n"
   ]
  },
  {
   "cell_type": "code",
   "execution_count": 2,
   "metadata": {},
   "outputs": [
    {
     "name": "stdout",
     "output_type": "stream",
     "text": [
      "5\n",
      "------------------------------\n",
      "55\n",
      "------------------------------\n",
      "6765\n",
      "------------------------------\n",
      "12586269025\n",
      "------------------------------\n"
     ]
    }
   ],
   "source": [
    "class Fibonacci:\n",
    "    \n",
    "    def __init__(self,num):\n",
    "        self.num = num\n",
    "\n",
    "    def fib_fast(self):\n",
    "        \"\"\"\n",
    "        The function fastFib(num) returns the fibonacci number Fn, of the given num as an argument\n",
    "        \"\"\"\n",
    "        try:\n",
    "            a = 0\n",
    "            b = 1\n",
    "            for i in range(1,self.num):\n",
    "                a ,b = b, a+b\n",
    "            return b\n",
    "        \n",
    "        except Exception as e:\n",
    "            print(e)\n",
    "            \n",
    "#     def __str__(self):\n",
    "        \n",
    "#         return 'The Given Function Is Written Inside The Class & Can Be Used For Generating Fibonacci Squence Last Element.'\n",
    "    \n",
    "#Calling Class\n",
    "f = Fibonacci(5)\n",
    "print(f.fib_fast())\n",
    "print('---'*10)\n",
    "\n",
    "f = Fibonacci(10)\n",
    "print(f.fib_fast())\n",
    "print('---'*10)\n",
    "\n",
    "f = Fibonacci(20)\n",
    "print(f.fib_fast())\n",
    "print('---'*10)\n",
    "\n",
    "f = Fibonacci(50)\n",
    "print(f.fib_fast())\n",
    "print('---'*10)"
   ]
  },
  {
   "cell_type": "markdown",
   "metadata": {},
   "source": [
    "**2. Create a function that takes a strings characters as ASCII and returns each characters hexadecimal value as a string.**\n",
    "\n",
    "Examples\n",
    "\n",
    "convert_to_hex(\"hello world\") ➞ **\"68 65 6c 6c 6f 20 77 6f 72 6c 64\"**\n",
    "\n",
    "convert_to_hex(\"Big Boi\") ➞ **\"42 69 67 20 42 6f 69\"**\n",
    "\n",
    "convert_to_hex(\"Marty Poppinson\") ➞ **\"4d 61 72 74 79 20 50 6f 70 70 69 6e 73 6f 6e\"**\n"
   ]
  },
  {
   "cell_type": "code",
   "execution_count": 5,
   "metadata": {},
   "outputs": [
    {
     "name": "stdout",
     "output_type": "stream",
     "text": [
      "68656c6c6f20776f726c64\n",
      "******************************\n",
      "42696720426f69\n",
      "******************************\n",
      "4d6172747920506f7070696e736f6e\n",
      "******************************\n"
     ]
    }
   ],
   "source": [
    "class Hexadecimal:\n",
    "    \n",
    "    def __init__(self,string):\n",
    "        self.string = string\n",
    "\n",
    "    def convert_to_hex(self):\n",
    "        \"\"\"\n",
    "        The Given Function That Takes a Strings Characters As ASCII And Returns Each Characters Hexadecimal Value As a String.\n",
    "        \"\"\"\n",
    "        try:\n",
    "            empty_str = \"\"\n",
    "\n",
    "            for i in range(len(self.string)):\n",
    "\n",
    "                part = hex(ord(self.string[i])).rstrip('L').lstrip('0x')\n",
    "\n",
    "                empty_str += part\n",
    "\n",
    "            return empty_str\n",
    "\n",
    "        except Exception as e:\n",
    "            print(e)\n",
    "\n",
    "#     def __str__(self):\n",
    "\n",
    "#         return 'The Given Function Is Written Inside The Class & Can Be Used For Converting The String Into Hexadecimal Number.'\n",
    "\n",
    "#Calling Class\n",
    "h = Hexadecimal('hello world')\n",
    "print(h.convert_to_hex())\n",
    "print('***'*10)\n",
    "\n",
    "h = Hexadecimal('Big Boi')\n",
    "print(h.convert_to_hex())\n",
    "print('***'*10)\n",
    "\n",
    "h = Hexadecimal('Marty Poppinson')\n",
    "print(h.convert_to_hex())\n",
    "print('***'*10)"
   ]
  },
  {
   "cell_type": "markdown",
   "metadata": {},
   "source": [
    "**3. Someone has attempted to censor my strings by replacing every vowel with a *, l*k* th*s. Luckily, I've been able to find the vowels that were removed.**\n",
    "\n",
    "Given a censored string and a string of the censored vowels, return the original uncensored string.\n",
    "\n",
    "Example\n",
    "\n",
    "uncensor(\"Wh*r* d*d my v*w*ls g*?\", \"eeioeo\") ➞ **\"Where did my vowels go?\"**\n",
    "\n",
    "uncensor(\"abcd\", \"\") ➞ **\"abcd\"**\n",
    "\n",
    "uncensor(\"*PP*RC*S*\", \"UEAE\") ➞ **\"UPPERCASE\"**\n"
   ]
  },
  {
   "cell_type": "code",
   "execution_count": 6,
   "metadata": {},
   "outputs": [],
   "source": [
    "def uncensor(string, vowels):\n",
    "    new = ''\n",
    "    counter = 0\n",
    "    for i in range(len(string)):\n",
    "        if string[i] == '*':            \n",
    "            new += vowels[counter]\n",
    "            counter += 1\n",
    "        else:\n",
    "            new += string[i]\n",
    "    return new"
   ]
  },
  {
   "cell_type": "code",
   "execution_count": 7,
   "metadata": {},
   "outputs": [
    {
     "data": {
      "text/plain": [
       "'Where did my vowels go?'"
      ]
     },
     "execution_count": 7,
     "metadata": {},
     "output_type": "execute_result"
    }
   ],
   "source": [
    "uncensor('Wh*r* d*d my v*w*ls g*?', 'eeioeo')"
   ]
  },
  {
   "cell_type": "code",
   "execution_count": 8,
   "metadata": {},
   "outputs": [
    {
     "data": {
      "text/plain": [
       "'abcd'"
      ]
     },
     "execution_count": 8,
     "metadata": {},
     "output_type": "execute_result"
    }
   ],
   "source": [
    "uncensor('abcd', '')"
   ]
  },
  {
   "cell_type": "code",
   "execution_count": 9,
   "metadata": {},
   "outputs": [
    {
     "data": {
      "text/plain": [
       "'UPPERCASE'"
      ]
     },
     "execution_count": 9,
     "metadata": {},
     "output_type": "execute_result"
    }
   ],
   "source": [
    "uncensor('*PP*RC*S*', 'UEAE')"
   ]
  },
  {
   "cell_type": "code",
   "execution_count": null,
   "metadata": {},
   "outputs": [],
   "source": []
  },
  {
   "cell_type": "code",
   "execution_count": null,
   "metadata": {},
   "outputs": [],
   "source": []
  },
  {
   "cell_type": "markdown",
   "metadata": {},
   "source": [
    "**4. Write a function that takes an IP address and returns the domain name using PTR DNS records.**\n",
    "\n",
    "Example\n",
    "\n",
    "get_domain(\"8.8.8.8\") ➞ **\"dns.google\"**\n",
    "\n",
    "get_domain(\"8.8.4.4\") ➞ **\"dns.google\"**\n"
   ]
  },
  {
   "cell_type": "code",
   "execution_count": 11,
   "metadata": {},
   "outputs": [
    {
     "name": "stdout",
     "output_type": "stream",
     "text": [
      "Collecting dnspython\n",
      "  Downloading dnspython-2.2.1-py3-none-any.whl (269 kB)\n",
      "Installing collected packages: dnspython\n",
      "Successfully installed dnspython-2.2.1\n"
     ]
    }
   ],
   "source": [
    "!pip install dnspython"
   ]
  },
  {
   "cell_type": "code",
   "execution_count": 12,
   "metadata": {},
   "outputs": [],
   "source": [
    "from dns import reversename\n",
    "from dns import resolver\n",
    "\n",
    "def get_domain(ipAdd):\n",
    "\n",
    "    domain_address = reversename.from_address(ipAdd)\n",
    "    domain_name = str(resolver.resolve(domain_address,\"PTR\")[0])\n",
    "    return domain_name"
   ]
  },
  {
   "cell_type": "code",
   "execution_count": 13,
   "metadata": {},
   "outputs": [
    {
     "data": {
      "text/plain": [
       "'dns.google.'"
      ]
     },
     "execution_count": 13,
     "metadata": {},
     "output_type": "execute_result"
    }
   ],
   "source": [
    "get_domain('8.8.8.8') "
   ]
  },
  {
   "cell_type": "code",
   "execution_count": 14,
   "metadata": {},
   "outputs": [
    {
     "data": {
      "text/plain": [
       "'dns.google.'"
      ]
     },
     "execution_count": 14,
     "metadata": {},
     "output_type": "execute_result"
    }
   ],
   "source": [
    "get_domain('8.8.4.4')"
   ]
  },
  {
   "cell_type": "code",
   "execution_count": null,
   "metadata": {},
   "outputs": [],
   "source": []
  },
  {
   "cell_type": "markdown",
   "metadata": {},
   "source": [
    "**5. Create a function that takes an integer n and returns the factorial of factorials. See below examples for a better understanding:**\n",
    "\n",
    "Examples\n",
    "\n",
    "fact_of_fact(4) ➞ **288**\n",
    "\n",
    "#4! * 3! * 2! * 1! = 288\n",
    "\n",
    "fact_of_fact(5) ➞ **34560**\n",
    "\n",
    "fact_of_fact(6) ➞ **24883200**\n"
   ]
  },
  {
   "cell_type": "code",
   "execution_count": 20,
   "metadata": {},
   "outputs": [],
   "source": [
    "def factorial(n):\n",
    "    fact = 1    \n",
    "    for num in range(2, n + 1):\n",
    "        fact = fact * num\n",
    "    return(fact)\n",
    "\n",
    "def fact_of_fact(num):\n",
    "    factorial_of_fact = 1\n",
    "    if num < 0:\n",
    "        print(\"Can not calculate Factorial of a negative number\")\n",
    "    elif num == 0:\n",
    "        print(\"Factorial of zero is 1\")\n",
    "    else:\n",
    "        for i in range(1,num+1):\n",
    "            factorial_of_fact = factorial_of_fact * factorial(i)\n",
    "    return \"Factorial of {} is :{}\".format(num, factorial_of_fact)"
   ]
  },
  {
   "cell_type": "code",
   "execution_count": 21,
   "metadata": {},
   "outputs": [
    {
     "data": {
      "text/plain": [
       "'Factorial of 4 is :288'"
      ]
     },
     "execution_count": 21,
     "metadata": {},
     "output_type": "execute_result"
    }
   ],
   "source": [
    "fact_of_fact(4)"
   ]
  },
  {
   "cell_type": "code",
   "execution_count": 22,
   "metadata": {},
   "outputs": [
    {
     "data": {
      "text/plain": [
       "'Factorial of 5 is :34560'"
      ]
     },
     "execution_count": 22,
     "metadata": {},
     "output_type": "execute_result"
    }
   ],
   "source": [
    "fact_of_fact(5)"
   ]
  },
  {
   "cell_type": "code",
   "execution_count": 23,
   "metadata": {},
   "outputs": [
    {
     "data": {
      "text/plain": [
       "'Factorial of 6 is :24883200'"
      ]
     },
     "execution_count": 23,
     "metadata": {},
     "output_type": "execute_result"
    }
   ],
   "source": [
    "fact_of_fact(6)"
   ]
  },
  {
   "cell_type": "code",
   "execution_count": null,
   "metadata": {},
   "outputs": [],
   "source": []
  }
 ],
 "metadata": {
  "kernelspec": {
   "display_name": "Python 3 (ipykernel)",
   "language": "python",
   "name": "python3"
  },
  "language_info": {
   "codemirror_mode": {
    "name": "ipython",
    "version": 3
   },
   "file_extension": ".py",
   "mimetype": "text/x-python",
   "name": "python",
   "nbconvert_exporter": "python",
   "pygments_lexer": "ipython3",
   "version": "3.9.7"
  }
 },
 "nbformat": 4,
 "nbformat_minor": 4
}
