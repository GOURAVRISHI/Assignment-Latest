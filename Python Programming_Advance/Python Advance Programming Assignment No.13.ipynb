{
 "cells": [
  {
   "cell_type": "markdown",
   "metadata": {},
   "source": [
    "**1. Create a function that takes a list and string. The function should remove the letters in the string from the list, and return the list.**\n",
    "\n",
    "Examples\n",
    "\n",
    "remove_letters([\"s\", \"t\", \"r\", \"i\", \"n\", \"g\", \"w\"], \"string\") ➞ [\"w\"]\n",
    "\n",
    "remove_letters([\"b\", \"b\", \"l\", \"l\", \"g\", \"n\", \"o\", \"a\", \"w\"], \"balloon\") ➞ [\"b\", \"g\", \"w\"]\n",
    "\n",
    "remove_letters([\"d\", \"b\", \"t\", \"e\", \"a\", \"i\"], \"edabit\") ➞ []"
   ]
  },
  {
   "cell_type": "markdown",
   "metadata": {},
   "source": [
    "**Solution:-**"
   ]
  },
  {
   "cell_type": "code",
   "execution_count": 1,
   "metadata": {},
   "outputs": [
    {
     "name": "stdout",
     "output_type": "stream",
     "text": [
      "['w']\n",
      "------------------------------\n",
      "['b', 'g', 'w']\n",
      "------------------------------\n",
      "[]\n",
      "------------------------------\n"
     ]
    }
   ],
   "source": [
    "def remove_letters (l,w):\n",
    "    n=[]\n",
    "    for i in w:\n",
    "        n.append(i)\n",
    "    for item in n:\n",
    "        if item in l:\n",
    "            l.remove(item)\n",
    "    return l\n",
    "    \n",
    "\n",
    "print(remove_letters([\"s\", \"t\", \"r\", \"i\", \"n\", \"g\", \"w\"], \"string\"))\n",
    "print('---'*10)\n",
    "print(remove_letters([\"b\", \"b\", \"l\", \"l\", \"g\", \"n\", \"o\", \"a\", \"w\"], \"balloon\"))\n",
    "print('---'*10)\n",
    "print(remove_letters([\"d\", \"b\", \"t\", \"e\", \"a\", \"i\"], \"edabit\"))\n",
    "print('---'*10)"
   ]
  },
  {
   "cell_type": "markdown",
   "metadata": {},
   "source": [
    "**2. A block sequence in three dimensions. We can write a formula for this one: Create a function that takes a number (step) as an argument and returns the amount of blocks in that step.**\n",
    "\n",
    "Examples\n",
    "\n",
    "blocks(1) ➞ 5\n",
    "\n",
    "blocks(5) ➞ 39\n",
    "\n",
    "blocks(2) ➞ 12"
   ]
  },
  {
   "cell_type": "code",
   "execution_count": 2,
   "metadata": {},
   "outputs": [
    {
     "name": "stdout",
     "output_type": "stream",
     "text": [
      "5\n",
      "------------------------------\n",
      "39\n",
      "------------------------------\n",
      "12\n",
      "------------------------------\n"
     ]
    }
   ],
   "source": [
    "# Formula is number of blocks = fun(step) + step * 3 + step * 2 -1\n",
    "# Where fun(step) = step + fun(step  - 1)\n",
    "\n",
    "def blocks(l):\n",
    "    a=5\n",
    "    b=7\n",
    "    if(l==1):\n",
    "        return a\n",
    "    else:\n",
    "        for i in range (1,l):\n",
    "            a=a+b\n",
    "            b=b+1\n",
    "        return a\n",
    "\n",
    "print(blocks(1))\n",
    "print('---'*10)\n",
    "print(blocks(5))\n",
    "print('---'*10)\n",
    "print(blocks(2))\n",
    "print('---'*10)"
   ]
  },
  {
   "cell_type": "markdown",
   "metadata": {},
   "source": [
    "**3. Create a function that subtracts one positive integer from another, without using any arithmetic operators such as -, %, /, +, etc.**\n",
    "\n",
    "Examples\n",
    "\n",
    "my_sub(5, 9) ➞ 4\n",
    "\n",
    "my_sub(10, 30) ➞ 20\n",
    "\n",
    "my_sub(0, 0) ➞ 0"
   ]
  },
  {
   "cell_type": "code",
   "execution_count": 3,
   "metadata": {},
   "outputs": [
    {
     "name": "stdout",
     "output_type": "stream",
     "text": [
      "4\n",
      "------------------------------\n",
      "20\n",
      "------------------------------\n",
      "0\n",
      "------------------------------\n"
     ]
    }
   ],
   "source": [
    "def my_sub(a,b):\n",
    "    n=[1 for i in range(a)]\n",
    "    m=[1 for i in range(b)]\n",
    "    for item in n:\n",
    "        if item in m:\n",
    "            m.remove(item)\n",
    "    return sum(m)\n",
    "    \n",
    "print(my_sub(5,9))\n",
    "print('---'*10)\n",
    "print(my_sub(10,30))\n",
    "print('---'*10)\n",
    "print(my_sub(0,0))\n",
    "print('---'*10)"
   ]
  },
  {
   "cell_type": "markdown",
   "metadata": {},
   "source": [
    "**4. Create a function that takes a string containing money in dollars and pounds sterling (seperated by comma) and returns the sum of dollar bills only, as an integer. For the input string:**\n",
    "\n",
    "**Each amount is prefixed by the currency symbol:** $ for dollars and £ for pounds. Thousands are represented by the suffix k.\n",
    "\n",
    "i.e.  4𝑘= 4,000 and £40k = £40,000\n",
    "\n",
    "Examples\n",
    "\n",
    "add_bill(\"d20,p40,p60,d50\") ➞ 20 + 50 = 70\n",
    "\n",
    "add_bill(\"p30,d20,p60,d150,p360\") ➞ 20 + 150 = 170\n",
    "\n",
    "add_bill(\"p30,d2k,p60,d200,p360\") ➞ 2 * 1000 + 200 = 2200"
   ]
  },
  {
   "cell_type": "code",
   "execution_count": 4,
   "metadata": {},
   "outputs": [],
   "source": [
    "def add_bill(r):\n",
    "    n=[]\n",
    "    l =list(r.split(\",\"))\n",
    "    l=[i for i in l if i[0] == 'd']\n",
    "    l=[i[1:] for i in l if i[0] == 'd']\n",
    "    for i in l:\n",
    "        if \"k\" in i:\n",
    "            i = i[:-1]\n",
    "            i= int(i)*1000\n",
    "            n.append(i)\n",
    "        else:\n",
    "            n.append(int(i))\n",
    "    return sum(n)"
   ]
  },
  {
   "cell_type": "code",
   "execution_count": 5,
   "metadata": {},
   "outputs": [
    {
     "name": "stdout",
     "output_type": "stream",
     "text": [
      "70\n",
      "------------------------------\n",
      "170\n",
      "------------------------------\n",
      "2200\n",
      "------------------------------\n"
     ]
    }
   ],
   "source": [
    "print(add_bill(\"d20,p40,p60,d50\"))\n",
    "print('---'*10)\n",
    "print(add_bill(\"p30,d20,p60,d150,p360\"))\n",
    "print('---'*10)\n",
    "print(add_bill(\"p30,d2k,p60,d200,p360\"))\n",
    "print('---'*10)"
   ]
  },
  {
   "cell_type": "markdown",
   "metadata": {},
   "source": [
    "**5. Create a function that flips a horizontal list into a vertical list, and a vertical list into a horizontal list.In other words, take an 1 x n list (1 row + n columns) and flip it into a n x 1 list (n rows and 1 column), and vice versa.**\n",
    "\n",
    "Examples\n",
    "\n",
    "flip_list([1, 2, 3, 4]) ➞ [[1], [2], [3], [4]] #Take a horizontal list and flip it vertical.\n",
    "\n",
    "flip_list([[5], [6], [9]]) ➞ [5, 6, 9] #Take a vertical list and flip it horizontal.\n",
    "\n",
    "flip_list([]) ➞ []"
   ]
  },
  {
   "cell_type": "markdown",
   "metadata": {},
   "source": [
    "**Solution:-**"
   ]
  },
  {
   "cell_type": "code",
   "execution_count": 7,
   "metadata": {},
   "outputs": [
    {
     "name": "stdout",
     "output_type": "stream",
     "text": [
      "[['1'], ['2'], ['3'], ['4']]\n",
      "------------------------------\n",
      "[5, 6, 9]\n",
      "------------------------------\n",
      "[]\n"
     ]
    }
   ],
   "source": [
    "def flip_list(l):\n",
    "    y = []\n",
    "    for i in l:\n",
    "        if type(i)!= list:\n",
    "            listA = [str(i)]\n",
    "            for elem in listA:\n",
    "                t = elem.split(', ')\n",
    "                y.append((t))\n",
    "        else:\n",
    "            y.append(i[0])\n",
    "    return y\n",
    "    \n",
    "print(flip_list([1,2,3,4]))\n",
    "print('---'*10)\n",
    "print(flip_list([[5], [6], [9]]))\n",
    "print('---'*10)\n",
    "print(flip_list([]))"
   ]
  },
  {
   "cell_type": "code",
   "execution_count": null,
   "metadata": {},
   "outputs": [],
   "source": []
  }
 ],
 "metadata": {
  "kernelspec": {
   "display_name": "Python 3 (ipykernel)",
   "language": "python",
   "name": "python3"
  },
  "language_info": {
   "codemirror_mode": {
    "name": "ipython",
    "version": 3
   },
   "file_extension": ".py",
   "mimetype": "text/x-python",
   "name": "python",
   "nbconvert_exporter": "python",
   "pygments_lexer": "ipython3",
   "version": "3.9.7"
  }
 },
 "nbformat": 4,
 "nbformat_minor": 4
}
