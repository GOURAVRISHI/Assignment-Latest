{
 "cells": [
  {
   "cell_type": "markdown",
   "metadata": {},
   "source": [
    "**1. For this challenge, forget how to add two numbers together. The best explanation on what to do for this function is this meme:**\n",
    "\n",
    "Examples\n",
    "\n",
    "meme_sum(26, 39) ➞ 515\n",
    "\n",
    "#2+3 = 5, 6+9 = 15\n",
    "\n",
    "#26 + 39 = 515\n",
    "\n",
    "meme_sum(122, 81) ➞ 1103\n",
    "\n",
    "#1+0 = 1, 2+8 = 10, 2+1 = 3\n",
    "\n",
    "#122 + 81 = 1103\n",
    "\n",
    "meme_sum(1222, 30277) ➞ 31499\n"
   ]
  },
  {
   "cell_type": "code",
   "execution_count": 1,
   "metadata": {},
   "outputs": [
    {
     "name": "stdout",
     "output_type": "stream",
     "text": [
      "515\n",
      "------------------------------\n",
      "1103\n",
      "------------------------------\n",
      "31499\n",
      "------------------------------\n"
     ]
    }
   ],
   "source": [
    "def meme_sum(a,b):\n",
    "    a = str(a)\n",
    "    b = str(b)\n",
    "    sum1=''\n",
    "    \n",
    "    while True:\n",
    "        if len(a) < len(b):\n",
    "            a = '0'+a\n",
    "        elif len(b) < len(a):\n",
    "            b = '0'+b\n",
    "        else:\n",
    "            break\n",
    "    \n",
    "    for i in range(len(a)):\n",
    "        sum1 = sum1 + str(int(a[i]) + int(b[i]))\n",
    "        \n",
    "    return int(sum1)\n",
    "\n",
    "print(meme_sum(26,39))\n",
    "print('---'*10)\n",
    "print(meme_sum(122,81))\n",
    "print('---'*10)\n",
    "print(meme_sum(1222,30277))\n",
    "print('---'*10)"
   ]
  },
  {
   "cell_type": "markdown",
   "metadata": {},
   "source": [
    "**2. Given an integer, create a function that returns the next prime. If the number is prime, return the number itself.**\n",
    "\n",
    "Examples\n",
    "\n",
    "next_prime(12) ➞ 13\n",
    "\n",
    "next_prime(24) ➞ 29\n",
    "\n",
    "next_prime(11) ➞ 11 #11 is a prime, so we return the number itself."
   ]
  },
  {
   "cell_type": "code",
   "execution_count": 2,
   "metadata": {},
   "outputs": [
    {
     "name": "stdout",
     "output_type": "stream",
     "text": [
      "13\n",
      "------------------------------\n",
      "25\n",
      "------------------------------\n",
      "11\n",
      "------------------------------\n"
     ]
    }
   ],
   "source": [
    "def prime(n):\n",
    "    for i in range(2,n):\n",
    "        if n % i == 0:\n",
    "            break\n",
    "        else:\n",
    "            return n\n",
    "        \n",
    "def next_prime(n):\n",
    "    while True:\n",
    "        if prime(n) != None:\n",
    "            break\n",
    "        n = n+1\n",
    "        prime(n)\n",
    "        \n",
    "    return prime(n)\n",
    "\n",
    "print(next_prime(12))\n",
    "print('---'*10)\n",
    "print(next_prime(24))\n",
    "print('---'*10)\n",
    "print(next_prime(11))\n",
    "print('---'*10)"
   ]
  },
  {
   "cell_type": "markdown",
   "metadata": {},
   "source": [
    "**3. If a person traveled up a hill for 18mins at 20mph and then traveled back down the same path at 60mph then their average speed traveled was 30mph. Write a function that returns the average speed traveled given an uphill time, uphill rate and a downhill rate. Uphill time is given in minutes. Return the rate as an integer (mph). No rounding is necessary.**\n",
    "\n",
    "Examples\n",
    "\n",
    "ave_spd(18, 20, 60) ➞ 30\n",
    "\n",
    "ave_spd(30, 10, 30) ➞ 15\n",
    "\n",
    "ave_spd(30, 8, 24) ➞ 12"
   ]
  },
  {
   "cell_type": "code",
   "execution_count": 5,
   "metadata": {},
   "outputs": [
    {
     "name": "stdout",
     "output_type": "stream",
     "text": [
      "\n",
      " 30.0\n",
      "\n",
      " 15.0\n",
      "\n",
      " 12.0\n"
     ]
    }
   ],
   "source": [
    "def ave_spd(time1,speed1,speed2):\n",
    "\n",
    "    uptime = time1/60\n",
    "    #distance travelled uphill\n",
    "    distance = speed1 * uptime\n",
    "    #total distance\n",
    "    totaldistance = distance*2\n",
    "    #time taken to downhill\n",
    "    timedown = distance/speed2\n",
    "    totaltime = uptime + timedown\n",
    "    totalspeed = totaldistance/totaltime\n",
    "    return totalspeed\n",
    "\n",
    "print(\"\\n\", ave_spd(18, 20, 60))\n",
    "print(\"\\n\", ave_spd(30, 10, 30))\n",
    "print(\"\\n\", ave_spd(30, 8, 24))"
   ]
  },
  {
   "cell_type": "markdown",
   "metadata": {},
   "source": [
    "**4. The Kempner Function, applied to a composite number, permits to find the\n",
    "smallest integer greater than zero whose factorial is exactly divided by the\n",
    "number.**\n",
    "\n",
    "kempner(6) ➞ 3\n",
    "1! = 1 % 6 > 0\n",
    "2! = 2 % 6 > 0\n",
    "3! = 6 % 6 === 0\n",
    "\n",
    "kempner(10) ➞ 5\n",
    "1! = 1 % 10 > 0\n",
    "2! = 2 % 10 > 0\n",
    "3! = 6 % 10 > 0\n",
    "4! = 24 % 10 > 0\n",
    "5! = 120 % 10 === 0\n",
    "\n",
    "A Kempner Function applied to a prime will always return the prime itself.\n",
    "kempner(2) ➞ 2\n",
    "kempner(5) ➞ 5\n",
    "\n",
    "Given an integer n, implement a Kempner Function.\n",
    "\n",
    "Examples\n",
    "\n",
    "kempner(6) ➞ 3\n",
    "\n",
    "kempner(10) ➞ 5\n",
    "\n",
    "kempner(2) ➞ 2"
   ]
  },
  {
   "cell_type": "code",
   "execution_count": 6,
   "metadata": {},
   "outputs": [
    {
     "name": "stdout",
     "output_type": "stream",
     "text": [
      "\n",
      " 3\n",
      "\n",
      " 5\n",
      "\n",
      " 2\n"
     ]
    }
   ],
   "source": [
    "def isPrime(n):\n",
    "    if n==1:\n",
    "        return True\n",
    "    else:\n",
    "        for i in range(2,int(n/2)+1):\n",
    "            if n%i==0:\n",
    "                return False\n",
    "        return True\n",
    "def fact(num):\n",
    "    factorial=1\n",
    "    for i in range(1,num + 1):\n",
    "        factorial = factorial*i\n",
    "    #   print(factorial)\n",
    "    return factorial\n",
    "    \n",
    "def kempner(n):\n",
    "    if isPrime(n):\n",
    "        return n\n",
    "    else:\n",
    "        for i in range(1,n):\n",
    "            if fact(i)%n == 0:\n",
    "                return i\n",
    "\n",
    "print(\"\\n\", kempner(6))\n",
    "print(\"\\n\", kempner(10))\n",
    "print(\"\\n\", kempner(2))\n"
   ]
  },
  {
   "cell_type": "markdown",
   "metadata": {},
   "source": [
    "5. You work in a factory, and your job is to take items from a conveyor belt\n",
    "and pack them into boxes. Each box can hold a maximum of 10 kgs. Given a\n",
    "list containing the weight (in kg) of each item, how many boxes would you\n",
    "need to pack all of the items?\n",
    "\n",
    "Example\n",
    "boxes([2, 1, 2, 5, 4, 3, 6, 1, 1, 9, 3, 2]) ➞ 5\n",
    "\n",
    "- Box 1 = [2, 1, 2, 5] (10kg)\n",
    "- Box 2 = [4, 3] (7kg)\n",
    "- Box 3 = [6, 1, 1] (8kg)\n",
    "- Box 4 = [9] (9kg)\n",
    "- Box 5 = [3, 2] (5kg)"
   ]
  },
  {
   "cell_type": "code",
   "execution_count": 8,
   "metadata": {},
   "outputs": [
    {
     "name": "stdout",
     "output_type": "stream",
     "text": [
      "We need 5 boxes\n",
      "Box1 has [2, 1, 2, 5], and 10kgs\n",
      "Box2 has [4, 3], and 7kgs\n",
      "Box3 has [6, 1, 1], and 8kgs\n",
      "Box4 has [9], and 9kgs\n",
      "Box5 has [3, 2], and 5kgs\n",
      "\n",
      " None\n",
      "We need 5 boxes\n",
      "Box1 has [3, 4], and 7kgs\n",
      "Box2 has [5, 2], and 7kgs\n",
      "Box3 has [5, 4], and 9kgs\n",
      "Box4 has [8, 1], and 9kgs\n",
      "Box5 has [2, 3], and 5kgs\n",
      "\n",
      " None\n"
     ]
    }
   ],
   "source": [
    "def boxes(q):\n",
    "    l = len(q)\n",
    "    i = 0\n",
    "    a = []\n",
    "    box=[]\n",
    "    while l :\n",
    "        if sum(a)  <=  10 :\n",
    "            a.append(q[i])\n",
    "            i = i + 1\n",
    "            l = l - 1   \n",
    "        elif sum(a) > 10:\n",
    "            box.append(a[:-1:])\n",
    "            i = i - 1\n",
    "            l = l + 1\n",
    "            a.clear()\n",
    "    box.append(a)\n",
    "\n",
    "    print(\"We need {} boxes\".format(len(box)))\n",
    "    for i in range(len(box)):\n",
    "        print(\"Box{} has {}, and {}kgs\".format(i+1,box[i],sum(box[i])))\n",
    "\n",
    "print(\"\\n\", boxes([2, 1, 2, 5, 4, 3, 6, 1, 1, 9, 3, 2]))\n",
    "print(\"\\n\", boxes([3,4,5,2,5,4,8,1,2,3]))"
   ]
  },
  {
   "cell_type": "code",
   "execution_count": null,
   "metadata": {},
   "outputs": [],
   "source": []
  }
 ],
 "metadata": {
  "kernelspec": {
   "display_name": "Python 3 (ipykernel)",
   "language": "python",
   "name": "python3"
  },
  "language_info": {
   "codemirror_mode": {
    "name": "ipython",
    "version": 3
   },
   "file_extension": ".py",
   "mimetype": "text/x-python",
   "name": "python",
   "nbconvert_exporter": "python",
   "pygments_lexer": "ipython3",
   "version": "3.9.7"
  }
 },
 "nbformat": 4,
 "nbformat_minor": 4
}
