{
  "nbformat": 4,
  "nbformat_minor": 0,
  "metadata": {
    "colab": {
      "name": "Programming Assignment- 13.ipynb",
      "provenance": [],
      "collapsed_sections": []
    },
    "kernelspec": {
      "name": "python3",
      "display_name": "Python 3"
    },
    "language_info": {
      "name": "python"
    }
  },
  "cells": [
    {
      "cell_type": "code",
      "metadata": {
        "id": "TP_kaU1wM21Q",
        "colab": {
          "base_uri": "https://localhost:8080/",
          "height": 72
        },
        "outputId": "8cd1ae35-5ee4-4001-d53a-130a4dff3aa1"
      },
      "source": [
        "# Question 1:\n",
        "'''Write a program that calculates and prints the value according to the given formula:\n",
        "Q = Square root of [(2 * C * D)/H]\n",
        "Following are the fixed values of C and H:\n",
        "C is 50. H is 30.\n",
        "D is the variable whose values should be input to your program in a comma-separated sequence.\n",
        "Example\n",
        "Let us assume the following comma separated input sequence is given to the program:\n",
        "100, 150, 180\n",
        "The output of the program should be:\n",
        "18, 22, 24''' "
      ],
      "execution_count": 1,
      "outputs": [
        {
          "output_type": "execute_result",
          "data": {
            "application/vnd.google.colaboratory.intrinsic+json": {
              "type": "string"
            },
            "text/plain": [
              "'Write a program that calculates and prints the value according to the given formula:\\nQ = Square root of [(2 * C * D)/H]\\nFollowing are the fixed values of C and H:\\nC is 50. H is 30.\\nD is the variable whose values should be input to your program in a comma-separated sequence.\\nExample\\nLet us assume the following comma separated input sequence is given to the program:\\n100, 150, 180\\nThe output of the program should be:\\n18, 22, 24'"
            ]
          },
          "metadata": {
            "tags": []
          },
          "execution_count": 1
        }
      ]
    },
    {
      "cell_type": "code",
      "metadata": {
        "id": "HGijuHDXNBdD",
        "colab": {
          "base_uri": "https://localhost:8080/"
        },
        "outputId": "7da2928b-c9c3-4119-f88a-bc96803fdf50"
      },
      "source": [
        "import math\n",
        "C=50\n",
        "H=30\n",
        "D1, D2, D3 = map(int, input(\"Enter your values\\n\").split(', '))\n",
        "\n",
        "d1=(2*C*D1)\n",
        "d2=(2*C*D2)\n",
        "d3=(2*C*D3)\n",
        "\n",
        "Q1= round(math.sqrt(d1/H))\n",
        "Q2= round(math.sqrt(d2/H))\n",
        "Q3= round(math.sqrt(d3/H))\n",
        "\n",
        "print(\"\\nThe Output Result of D1 is {}, D2 is {} and D3 is {}\".format(Q1, Q2, Q3))"
      ],
      "execution_count": 2,
      "outputs": [
        {
          "output_type": "stream",
          "text": [
            "Enter your values\n",
            "100, 150, 180\n",
            "\n",
            "The Output Result of D1 is 18, D2 is 22 and D3 is 24\n"
          ],
          "name": "stdout"
        }
      ]
    },
    {
      "cell_type": "code",
      "metadata": {
        "id": "ghSiyPYeNCGL",
        "colab": {
          "base_uri": "https://localhost:8080/",
          "height": 72
        },
        "outputId": "dfd80e0c-d72b-41e4-cc04-35b3e492fb7c"
      },
      "source": [
        "'''Question 2:\n",
        "Write a program which takes 2 digits, X,Y as input and generates a 2-dimensional array. The\n",
        "element value in the i-th row and j-th column of the array should be i*j.\n",
        "Note: i=0,1.., X-1; j=0,1,¡Y-1.\n",
        "Example\n",
        "Suppose the following inputs are given to the program:\n",
        "3,5\n",
        "Then, the output of the program should be:\n",
        "[[0, 0, 0, 0, 0], [0, 1, 2, 3, 4], [0, 2, 4, 6, 8]]'''"
      ],
      "execution_count": 3,
      "outputs": [
        {
          "output_type": "execute_result",
          "data": {
            "application/vnd.google.colaboratory.intrinsic+json": {
              "type": "string"
            },
            "text/plain": [
              "'Question 2:\\nWrite a program which takes 2 digits, X,Y as input and generates a 2-dimensional array. The\\nelement value in the i-th row and j-th column of the array should be i*j.\\nNote: i=0,1.., X-1; j=0,1,¡Y-1.\\nExample\\nSuppose the following inputs are given to the program:\\n3,5\\nThen, the output of the program should be:\\n[[0, 0, 0, 0, 0], [0, 1, 2, 3, 4], [0, 2, 4, 6, 8]]'"
            ]
          },
          "metadata": {
            "tags": []
          },
          "execution_count": 3
        }
      ]
    },
    {
      "cell_type": "code",
      "metadata": {
        "id": "RchR3QcHNCzR",
        "colab": {
          "base_uri": "https://localhost:8080/"
        },
        "outputId": "94e663df-b550-4da3-e771-ccdd4e20a808"
      },
      "source": [
        "row_no= int(input(\"Enter the number of Rows: \"))\n",
        "col_no= int(input(\"Enter the number of Columns: \"))\n",
        "\n",
        "# matrix = [[0 for col in range(col_no)] for row in range(row_no)] \n",
        "matrix= []\n",
        "for row in range(row_no):\n",
        "  matrix.append([])\n",
        "  for col in range(col_no):\n",
        "    matrix[row].append(0)\n",
        "\n",
        "for row in range(row_no):\n",
        "  for col in range(col_no):\n",
        "    matrix[row][col]= row*col\n",
        "\n",
        "print(matrix)"
      ],
      "execution_count": 4,
      "outputs": [
        {
          "output_type": "stream",
          "text": [
            "Enter the number of Rows: 3\n",
            "Enter the number of Columns: 5\n",
            "[[0, 0, 0, 0, 0], [0, 1, 2, 3, 4], [0, 2, 4, 6, 8]]\n"
          ],
          "name": "stdout"
        }
      ]
    },
    {
      "cell_type": "code",
      "metadata": {
        "id": "J7dMJsvpNC72",
        "colab": {
          "base_uri": "https://localhost:8080/",
          "height": 110
        },
        "outputId": "b80bcc6b-afd6-4567-ae91-ef39545f2646"
      },
      "source": [
        "'''Question 3:\n",
        "Write a program that accepts a comma separated sequence of words as input and prints the\n",
        "words in a comma-separated sequence after sorting them alphabetically.\n",
        "Suppose the following input is supplied to the program:\n",
        "without, hello, bag, world\n",
        "Then, the output should be:\n",
        "bag,hello,without,world'''"
      ],
      "execution_count": null,
      "outputs": [
        {
          "output_type": "execute_result",
          "data": {
            "application/vnd.google.colaboratory.intrinsic+json": {
              "type": "string"
            },
            "text/plain": [
              "'Question 3:\\nWrite a program that accepts a comma separated sequence of words as input and prints the\\nwords in a comma-separated sequence after sorting them alphabetically.\\nSuppose the following input is supplied to the program:\\nwithout, hello, bag, world\\nThen, the output should be:\\nbag,hello,without,world'"
            ]
          },
          "metadata": {
            "tags": []
          },
          "execution_count": 5
        }
      ]
    },
    {
      "cell_type": "code",
      "metadata": {
        "id": "rJ__4YtyNDD9",
        "colab": {
          "base_uri": "https://localhost:8080/"
        },
        "outputId": "6f75c9fd-9692-48a9-9110-d27a60e0478b"
      },
      "source": [
        "S1, S2, S3, S4 = map(str, input(\"Enter your strings\\n\").split(', '))\n",
        "lst=[S1, S2, S3, S4]\n",
        "\n",
        "lst.sort()\n",
        "for i in lst:\n",
        "  print(i, end=\", \")"
      ],
      "execution_count": 5,
      "outputs": [
        {
          "output_type": "stream",
          "text": [
            "Enter your strings\n",
            "without, hello, bag, world\n",
            "bag, hello, without, world, "
          ],
          "name": "stdout"
        }
      ]
    },
    {
      "cell_type": "code",
      "metadata": {
        "id": "70nU56eXNDLx",
        "colab": {
          "base_uri": "https://localhost:8080/",
          "height": 127
        },
        "outputId": "80b3c00b-ce37-4680-8aaf-c0debf8c389d"
      },
      "source": [
        "''''Question 4:\n",
        "Write a program that accepts a sequence of whitespace separated words as input and prints\n",
        "the words after removing all duplicate words and sorting them alphanumerically.\n",
        "Suppose the following input is supplied to the program:\n",
        "hello world and practice makes perfect and hello world again\n",
        "Then, the output should be:\n",
        "again and hello makes perfect practice world'''"
      ],
      "execution_count": null,
      "outputs": [
        {
          "output_type": "execute_result",
          "data": {
            "application/vnd.google.colaboratory.intrinsic+json": {
              "type": "string"
            },
            "text/plain": [
              "\"'Question 4:\\nWrite a program that accepts a sequence of whitespace separated words as input and prints\\nthe words after removing all duplicate words and sorting them alphanumerically.\\nSuppose the following input is supplied to the program:\\nhello world and practice makes perfect and hello world again\\nThen, the output should be:\\nagain and hello makes perfect practice world\""
            ]
          },
          "metadata": {
            "tags": []
          },
          "execution_count": 3
        }
      ]
    },
    {
      "cell_type": "code",
      "metadata": {
        "id": "imDb7o-BNDRn",
        "colab": {
          "base_uri": "https://localhost:8080/"
        },
        "outputId": "74c95b7d-7d80-491d-d72c-442e91ffd6d9"
      },
      "source": [
        "string= str(input(\"Enter your Paragraph: \"))\n",
        "string_split= string.split(' ')\n",
        "\n",
        "lst= []\n",
        "for i in string_split:\n",
        "  if i not in lst:\n",
        "    lst.append(i)\n",
        "  else:\n",
        "    continue\n",
        "lst.sort()\n",
        "print((' ').join(lst))"
      ],
      "execution_count": 6,
      "outputs": [
        {
          "output_type": "stream",
          "text": [
            "Enter your Paragraph: hello world and practice makes perfect and hello world again\n",
            "again and hello makes perfect practice world\n"
          ],
          "name": "stdout"
        }
      ]
    },
    {
      "cell_type": "code",
      "metadata": {
        "id": "nBqIB5H4NDYZ",
        "colab": {
          "base_uri": "https://localhost:8080/",
          "height": 89
        },
        "outputId": "1aa12e39-c242-4a27-f50d-e1a05b96c141"
      },
      "source": [
        "'''Question 5:\n",
        "Write a program that accepts a sentence and calculate the number of letters and digits.\n",
        "Suppose the following input is supplied to the program:\n",
        "hello world! 123\n",
        "Then, the output should be:\n",
        "LETTERS 10\n",
        "DIGITS 3'''"
      ],
      "execution_count": null,
      "outputs": [
        {
          "output_type": "execute_result",
          "data": {
            "application/vnd.google.colaboratory.intrinsic+json": {
              "type": "string"
            },
            "text/plain": [
              "'Question 5:\\nWrite a program that accepts a sentence and calculate the number of letters and digits.\\nSuppose the following input is supplied to the program:\\nhello world! 123\\nThen, the output should be:\\nLETTERS 10\\nDIGITS 3'"
            ]
          },
          "metadata": {
            "tags": []
          },
          "execution_count": 5
        }
      ]
    },
    {
      "cell_type": "code",
      "metadata": {
        "id": "1wVtHOg2NH-G",
        "colab": {
          "base_uri": "https://localhost:8080/"
        },
        "outputId": "853969c3-cc30-422c-c9e1-2431e0d73bd3"
      },
      "source": [
        "a= str(input(\"Enter your string: \"))\n",
        "digit=letter=special=0\n",
        "for i in a:\n",
        "  if i.isdigit():\n",
        "    digit+=1\n",
        "  elif i.isalpha():\n",
        "    letter+=1\n",
        "  else:\n",
        "    special+=1    # including spaces\n",
        "print(\"No. of LETTERS are: \", letter)\n",
        "print(\"No. of DIGITS are: \", digit)\n",
        "print(\"No. of SPECIAL Characters are: \", special)"
      ],
      "execution_count": 7,
      "outputs": [
        {
          "output_type": "stream",
          "text": [
            "Enter your string: hello world! 123\n",
            "No. of LETTERS are:  10\n",
            "No. of DIGITS are:  3\n",
            "No. of SPECIAL Characters are:  3\n"
          ],
          "name": "stdout"
        }
      ]
    },
    {
      "cell_type": "code",
      "metadata": {
        "id": "5GKJsqe1NIU0",
        "colab": {
          "base_uri": "https://localhost:8080/",
          "height": 217
        },
        "outputId": "576f410c-a020-4ba6-ac5f-d816a2e4fb63"
      },
      "source": [
        "'''Question 6:\n",
        "A website requires the users to input username and password to register. Write a program to check the validity of password input by users.\n",
        "Following are the criteria for checking the password:\n",
        "1. At least 1 letter between [a-z]\n",
        "2. At least 1 number between [0-9]\n",
        "1. At least 1 letter between [A-Z]\n",
        "3. At least 1 character from [$#@]\n",
        "4. Minimum length of transaction password: 6\n",
        "5. Maximum length of transaction password: 12\n",
        "Your program should accept a sequence of comma separated passwords and will check them\n",
        "according to the above criteria. Passwords that match the criteria are to be printed, each separated by a comma.\n",
        "Example\n",
        "If the following passwords are given as input to the program:\n",
        "ABd1234@1, a F1#, 2w3E*, 2We3345\n",
        "Then, the output of the program should be:\n",
        "ABd1234@1'''"
      ],
      "execution_count": null,
      "outputs": [
        {
          "output_type": "execute_result",
          "data": {
            "application/vnd.google.colaboratory.intrinsic+json": {
              "type": "string"
            },
            "text/plain": [
              "'Question 6:\\nA website requires the users to input username and password to register. Write a program to check the validity of password input by users.\\nFollowing are the criteria for checking the password:\\n1. At least 1 letter between [a-z]\\n2. At least 1 number between [0-9]\\n1. At least 1 letter between [A-Z]\\n3. At least 1 character from [$#@]\\n4. Minimum length of transaction password: 6\\n5. Maximum length of transaction password: 12\\nYour program should accept a sequence of comma separated passwords and will check them\\naccording to the above criteria. Passwords that match the criteria are to be printed, each separated by a comma.\\nExample\\nIf the following passwords are given as input to the program:\\nABd1234@1,a F1#,2w3E*,2We3345\\nThen, the output of the program should be:\\nABd1234@1'"
            ]
          },
          "metadata": {
            "tags": []
          },
          "execution_count": 1
        }
      ]
    },
    {
      "cell_type": "code",
      "metadata": {
        "id": "liLbpWIl5Pvp",
        "colab": {
          "base_uri": "https://localhost:8080/"
        },
        "outputId": "3427675a-d274-4003-e866-4812ecbdf568"
      },
      "source": [
        "# check code and execution\n",
        "import re\n",
        "\n",
        "# Input passwords\n",
        "lst = list(map(str, input(\"Enter multiple values\\n\").split(', ')))\n",
        "\n",
        "print(\"Input List elements: \", lst)\n",
        "\n",
        "lst1 = []\n",
        "for i in lst:\n",
        "       \n",
        "  if len(i) < 6 or len(i) > 12:\n",
        "    continue\n",
        "\n",
        "  elif not re.search(\"([a-z])+\", i):\n",
        "    continue\n",
        "\n",
        "  elif not re.search(\"([A-Z])+\", i):\n",
        "    continue\n",
        "\n",
        "  elif not re.search(\"([0-9])+\", i):\n",
        "    continue\n",
        "\n",
        "  elif not re.search(\"([$#!@$%^&])+\", i):\n",
        "    \n",
        "    continue\n",
        "  \n",
        "\n",
        "  else:\n",
        "\n",
        "    lst1.append(i)\n",
        "    continue\n",
        "\n",
        "  \n",
        "\n",
        "print(lst1)\n",
        "\n",
        "# Input - \"ABd1234@1\", \"a F1#\", \"2w3E*\", \"2We3345\"\n",
        "# Input - ABd1234@1, a F1#, 2w3E*, 2We3345"
      ],
      "execution_count": 23,
      "outputs": [
        {
          "output_type": "stream",
          "text": [
            "Enter multiple values\n",
            "ABd1234@1, a F1#, 2w3E*, 2We3345\n",
            "Input List elements:  ['ABd1234@1', 'a F1#', '2w3E*', '2We3345']\n",
            "['ABd1234@1']\n"
          ],
          "name": "stdout"
        }
      ]
    },
    {
      "cell_type": "code",
      "metadata": {
        "id": "daBc8Mjne60Q"
      },
      "source": [
        ""
      ],
      "execution_count": null,
      "outputs": []
    },
    {
      "cell_type": "code",
      "metadata": {
        "id": "ooFhdFHr5Qiy"
      },
      "source": [
        ""
      ],
      "execution_count": null,
      "outputs": []
    }
  ]
}