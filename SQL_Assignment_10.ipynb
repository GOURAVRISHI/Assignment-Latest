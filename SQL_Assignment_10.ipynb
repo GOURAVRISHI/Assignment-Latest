{
  "nbformat": 4,
  "nbformat_minor": 0,
  "metadata": {
    "colab": {
      "name": "SQL_Assignment_10.ipynb",
      "provenance": [],
      "collapsed_sections": []
    },
    "kernelspec": {
      "name": "python3",
      "display_name": "Python 3"
    },
    "language_info": {
      "name": "python"
    }
  },
  "cells": [
    {
      "cell_type": "markdown",
      "source": [
        "Q-19. Write an SQL query to determine the 5th highest salary without using TOP or limit method."
      ],
      "metadata": {
        "id": "A1bOEW-363c7"
      }
    },
    {
      "cell_type": "code",
      "source": [
        "SELECT * FROM (SELECT ROW_NUMBER() OVER (ORDER BY salary DESC) AS R_NUM, first_name, salary FROM employee) as HEllO WHERE R_NUM=5;"
      ],
      "metadata": {
        "id": "iU49W29Q63yt"
      },
      "execution_count": null,
      "outputs": []
    },
    {
      "cell_type": "markdown",
      "source": [
        "Q-20. Write an SQL query to fetch the list of employees with the same salary."
      ],
      "metadata": {
        "id": "iTePRl0F64T_"
      }
    },
    {
      "cell_type": "code",
      "source": [
        "CREATE TABLE Worker (\n",
        "\tWORKER_ID INT NOT NULL PRIMARY KEY,\n",
        "\tFIRST_NAME CHAR(25),\n",
        "\tLAST_NAME CHAR(25),\n",
        "\tSALARY INT(15),\n",
        "\tJOINING_DATE DATETIME,\n",
        "\tDEPARTMENT CHAR(25)\n",
        ");\n",
        "\n",
        "INSERT INTO Worker \n",
        "\t(WORKER_ID, FIRST_NAME, LAST_NAME, SALARY, JOINING_DATE, DEPARTMENT) VALUES\n",
        "\t\t(001, 'Monika', 'Arora', 100000, '14-02-20 09.00.00', 'HR'),\n",
        "\t\t(002, 'Niharika', 'Verma', 80000, '14-06-11 09.00.00', 'Admin'),\n",
        "\t\t(003, 'Vishal', 'Singhal', 300000, '14-02-20 09.00.00', 'HR'),\n",
        "\t\t(004, 'Amitabh', 'Singh', 500000, '14-02-20 09.00.00', 'Admin'),\n",
        "\t\t(005, 'Vivek', 'Bhati', 500000, '14-06-11 09.00.00', 'Admin'),\n",
        "\t\t(006, 'Vipul', 'Diwan', 200000, '14-06-11 09.00.00', 'Account'),\n",
        "\t\t(007, 'Satish', 'Kumar', 75000, '14-01-20 09.00.00', 'Account'),\n",
        "\t\t(008, 'Geetika', 'Chauhan', 90000, '14-04-11 09.00.00', 'Admin');\n",
        "\n",
        "Select distinct W.WORKER_ID, W.FIRST_NAME, W.Salary \n",
        "from Worker W, Worker W1 \n",
        "where W.Salary = W1.Salary \n",
        "and W.WORKER_ID != W1.WORKER_ID;"
      ],
      "metadata": {
        "id": "KZuMXC0D65n-"
      },
      "execution_count": null,
      "outputs": []
    }
  ]
}