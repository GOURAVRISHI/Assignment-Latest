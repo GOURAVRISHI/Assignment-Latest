{
  "nbformat": 4,
  "nbformat_minor": 0,
  "metadata": {
    "colab": {
      "name": "Assignment 1.ipynb",
      "provenance": [],
      "collapsed_sections": []
    },
    "kernelspec": {
      "name": "python3",
      "display_name": "Python 3"
    }
  },
  "cells": [
    {
      "cell_type": "code",
      "metadata": {
        "colab": {
          "base_uri": "https://localhost:8080/",
          "height": 54
        },
        "id": "ma3s0qR7xF_1",
        "outputId": "7f705adc-acb6-4482-b45c-27cdae435507"
      },
      "source": [
        "''' 1. What are the differences between operators and values in the following?\n",
        "*         - Operator\n",
        "'hello'   - string (data type)\n",
        "-87.8     - value(Float - number with decimals)\n",
        "-         - Operator\n",
        "/         - Operator\n",
        "+         - Operator\n",
        "6         - Value  '''     "
      ],
      "execution_count": 30,
      "outputs": [
        {
          "output_type": "execute_result",
          "data": {
            "application/vnd.google.colaboratory.intrinsic+json": {
              "type": "string"
            },
            "text/plain": [
              "\" 1. What are the differences between operators and values in the following?\\n*         - Operator\\n'hello'   - string (data type)\\n-87.8     - value(Float - number with decimals)\\n-         - Operator\\n/         - Operator\\n+         - Operator\\n6         - Value  \""
            ]
          },
          "metadata": {
            "tags": []
          },
          "execution_count": 30
        }
      ]
    },
    {
      "cell_type": "code",
      "metadata": {
        "colab": {
          "base_uri": "https://localhost:8080/",
          "height": 72
        },
        "id": "xywYi5QNxNWJ",
        "outputId": "ce1df1d8-939d-4c67-b8e9-14dcfc9651cc"
      },
      "source": [
        "'''Ans: \n",
        "*         - Operator \n",
        "'hello'   - string (data type)\n",
        "-87.8     - value(Float - number with decimals)\n",
        "-         - Operator\n",
        "/         - Operator\n",
        "+         - Operator\n",
        "6         - Value  \n",
        "Operator – are used to performs operations on values and variables. Like Multiply, divide, Addition, subtraction etc and Values are numbers. '''"
      ],
      "execution_count": 31,
      "outputs": [
        {
          "output_type": "execute_result",
          "data": {
            "application/vnd.google.colaboratory.intrinsic+json": {
              "type": "string"
            },
            "text/plain": [
              "\"Ans: \\n*         - Operator \\n'hello'   - string (data type)\\n-87.8     - value(Float - number with decimals)\\n-         - Operator\\n/         - Operator\\n+         - Operator\\n6         - Value  \\nOperator – are used to performs operations on values and variables. Like Multiply, divide, Addition, subtraction etc and Values are numbers. \""
            ]
          },
          "metadata": {
            "tags": []
          },
          "execution_count": 31
        }
      ]
    },
    {
      "cell_type": "code",
      "metadata": {
        "colab": {
          "base_uri": "https://localhost:8080/",
          "height": 36
        },
        "id": "s2gMy9vdxR3P",
        "outputId": "ca606c6b-4e53-436e-f167-927cd4bd3b4b"
      },
      "source": [
        "\"2. What is the difference between string and variable?\""
      ],
      "execution_count": 32,
      "outputs": [
        {
          "output_type": "execute_result",
          "data": {
            "application/vnd.google.colaboratory.intrinsic+json": {
              "type": "string"
            },
            "text/plain": [
              "'2. What is the difference between string and variable?'"
            ]
          },
          "metadata": {
            "tags": []
          },
          "execution_count": 32
        }
      ]
    },
    {
      "cell_type": "code",
      "metadata": {
        "colab": {
          "base_uri": "https://localhost:8080/",
          "height": 54
        },
        "id": "_rYylNssxc-W",
        "outputId": "07134a28-58d8-492b-e503-2263c158c286"
      },
      "source": [
        "'''Ans: \n",
        "Spam – It is variable. We can assign values to variable. Ex – A = 10, B = 20, C= 30. \n",
        "'spam'- it is string. It represent values as text. String stores information it can a name, place, address. Etc – Spam123. String always starts and ends with a quote ‘    ’, “   ”. '''"
      ],
      "execution_count": 33,
      "outputs": [
        {
          "output_type": "execute_result",
          "data": {
            "application/vnd.google.colaboratory.intrinsic+json": {
              "type": "string"
            },
            "text/plain": [
              "\"Ans: \\nSpam – It is variable. We can assign values to variable. Ex – A = 10, B = 20, C= 30. \\n'spam'- it is string. It represent values as text. String stores information it can a name, place, address. Etc – Spam123. String always starts and ends with a quote ‘    ’, “   ”. \""
            ]
          },
          "metadata": {
            "tags": []
          },
          "execution_count": 33
        }
      ]
    },
    {
      "cell_type": "code",
      "metadata": {
        "colab": {
          "base_uri": "https://localhost:8080/"
        },
        "id": "EGiiXwPTxi8U",
        "outputId": "612cbbde-8632-48e8-8eca-d4affe9f44c8"
      },
      "source": [
        "d=10   # Variables\n",
        "d"
      ],
      "execution_count": 34,
      "outputs": [
        {
          "output_type": "execute_result",
          "data": {
            "text/plain": [
              "10"
            ]
          },
          "metadata": {
            "tags": []
          },
          "execution_count": 34
        }
      ]
    },
    {
      "cell_type": "code",
      "metadata": {
        "colab": {
          "base_uri": "https://localhost:8080/",
          "height": 36
        },
        "id": "YcB9FhKmxsl3",
        "outputId": "4fb977e4-3b24-40ac-93c8-c6c6380176fe"
      },
      "source": [
        "\"String\"   # String"
      ],
      "execution_count": 35,
      "outputs": [
        {
          "output_type": "execute_result",
          "data": {
            "application/vnd.google.colaboratory.intrinsic+json": {
              "type": "string"
            },
            "text/plain": [
              "'String'"
            ]
          },
          "metadata": {
            "tags": []
          },
          "execution_count": 35
        }
      ]
    },
    {
      "cell_type": "code",
      "metadata": {
        "colab": {
          "base_uri": "https://localhost:8080/",
          "height": 36
        },
        "id": "dVDCcCVXx6pG",
        "outputId": "79d217e8-6573-488e-eae7-96b1d2d2fcb8"
      },
      "source": [
        "'''3. Describe three different data forms.'''"
      ],
      "execution_count": 36,
      "outputs": [
        {
          "output_type": "execute_result",
          "data": {
            "application/vnd.google.colaboratory.intrinsic+json": {
              "type": "string"
            },
            "text/plain": [
              "'3. Describe three different data forms.'"
            ]
          },
          "metadata": {
            "tags": []
          },
          "execution_count": 36
        }
      ]
    },
    {
      "cell_type": "code",
      "metadata": {
        "colab": {
          "base_uri": "https://localhost:8080/",
          "height": 108
        },
        "id": "HaegOq5oyDPz",
        "outputId": "1d9917e9-c6b9-4822-9a83-b47f48d8c39f"
      },
      "source": [
        "'''Ans:\n",
        "Variables are used for storing data types. \n",
        "There are different type of data forms in python \n",
        "String-str, numeric- int, float, complex, & boolean - bool etc. We can use type() function to know the type of data form. \n",
        "String – It is the data form which is a collection of words and numbers. ex – “Gourav123” , “Rishi”\n",
        "Integer – It is the data form which contain only numerical and rational number values. Ex – 1, 2, 3, 8, 99\n",
        "Float – it is the data form which contain irrational numbers. Ex. 11.20, 18.75 etc\n",
        "Complex- it is the data form which contain complex numbers. Ex – 8+1j, 10+2j\n",
        "List - it is the data form which contain the collection of elements. All items in list need not to do of same type. Ex \n",
        "[1, 1.55, “Gourav”, “Krish123”]. '''\n"
      ],
      "execution_count": 37,
      "outputs": [
        {
          "output_type": "execute_result",
          "data": {
            "application/vnd.google.colaboratory.intrinsic+json": {
              "type": "string"
            },
            "text/plain": [
              "'Ans:\\nVariables are used for storing data types. \\nThere are different type of data forms in python \\nString-str, numeric- int, float, complex, & boolean - bool etc. We can use type() function to know the type of data form. \\nString – It is the data form which is a collection of words and numbers. ex – “Gourav123” , “Rishi”\\nInteger – It is the data form which contain only numerical and rational number values. Ex – 1, 2, 3, 8, 99\\nFloat – it is the data form which contain irrational numbers. Ex. 11.20, 18.75 etc\\nComplex- it is the data form which contain complex numbers. Ex – 8+1j, 10+2j\\nList - it is the data form which contain the collection of elements. All items in list need not to do of same type. Ex \\n[1, 1.55, “Gourav”, “Krish123”]. '"
            ]
          },
          "metadata": {
            "tags": []
          },
          "execution_count": 37
        }
      ]
    },
    {
      "cell_type": "code",
      "metadata": {
        "colab": {
          "base_uri": "https://localhost:8080/",
          "height": 36
        },
        "id": "NiP12JHuyH3L",
        "outputId": "54dee02b-8e98-41fb-a822-fcd8791d17cd"
      },
      "source": [
        "\"4. What makes up an expression? What are the functions of all expressions?\""
      ],
      "execution_count": 38,
      "outputs": [
        {
          "output_type": "execute_result",
          "data": {
            "application/vnd.google.colaboratory.intrinsic+json": {
              "type": "string"
            },
            "text/plain": [
              "'4. What makes up an expression? What are the functions of all expressions?'"
            ]
          },
          "metadata": {
            "tags": []
          },
          "execution_count": 38
        }
      ]
    },
    {
      "cell_type": "code",
      "metadata": {
        "id": "Me1bSTEjyNHe",
        "colab": {
          "base_uri": "https://localhost:8080/",
          "height": 108
        },
        "outputId": "2ffad9c7-4fc9-4e97-cc6b-46f496734c11"
      },
      "source": [
        " ''' Ans: An expression is a combination of values, variables, operators, and calls to functions. Expression are representation of values. \n",
        " These expressions can only contain -  identifiers, literals, and operators.\n",
        " Identifiers: Any name that is used to define a class, function, variable module, or object is an identifier. \n",
        " Literals: These are language-independent terms in Python and should exist independently in any programming language. \n",
        " In Python, there are the string literals, byte literals, integer literals, floating point literals, and imaginary literals. \n",
        " Operators: In Python you can implement the following operations using the corresponding tokens.  Operator : add, substract, multiply, & token  +, -, *. \n",
        " '''"
      ],
      "execution_count": 39,
      "outputs": [
        {
          "output_type": "execute_result",
          "data": {
            "application/vnd.google.colaboratory.intrinsic+json": {
              "type": "string"
            },
            "text/plain": [
              "' Ans: An expression is a combination of values, variables, operators, and calls to functions. Expression are representation of values. \\nThese expressions can only contain -  identifiers, literals, and operators.\\nIdentifiers: Any name that is used to define a class, function, variable module, or object is an identifier. \\nLiterals: These are language-independent terms in Python and should exist independently in any programming language. \\nIn Python, there are the string literals, byte literals, integer literals, floating point literals, and imaginary literals. \\nOperators: In Python you can implement the following operations using the corresponding tokens.  Operator : add, substract, multiply, & token  +, -, *. \\n'"
            ]
          },
          "metadata": {
            "tags": []
          },
          "execution_count": 39
        }
      ]
    },
    {
      "cell_type": "code",
      "metadata": {
        "colab": {
          "base_uri": "https://localhost:8080/"
        },
        "id": "QRAeuNMRC2Xv",
        "outputId": "1c1fbdcb-c908-4fff-9778-f500a2d8ca53"
      },
      "source": [
        "list(x for x in range(10))  # Example of expression "
      ],
      "execution_count": 40,
      "outputs": [
        {
          "output_type": "execute_result",
          "data": {
            "text/plain": [
              "[0, 1, 2, 3, 4, 5, 6, 7, 8, 9]"
            ]
          },
          "metadata": {
            "tags": []
          },
          "execution_count": 40
        }
      ]
    },
    {
      "cell_type": "code",
      "metadata": {
        "colab": {
          "base_uri": "https://localhost:8080/",
          "height": 36
        },
        "id": "zIOxprsRyRfw",
        "outputId": "b9b94266-5eac-4928-e804-69f632955ef0"
      },
      "source": [
        "'''5. In this chapter, assignment statements such as spam = 10 were added. What's the difference between a declaration and an expression?'''"
      ],
      "execution_count": 41,
      "outputs": [
        {
          "output_type": "execute_result",
          "data": {
            "application/vnd.google.colaboratory.intrinsic+json": {
              "type": "string"
            },
            "text/plain": [
              "\"5. In this chapter, assignment statements such as spam = 10 were added. What's the difference between a declaration and an expression?\""
            ]
          },
          "metadata": {
            "tags": []
          },
          "execution_count": 41
        }
      ]
    },
    {
      "cell_type": "code",
      "metadata": {
        "id": "6DPvxVjYyU2g",
        "colab": {
          "base_uri": "https://localhost:8080/",
          "height": 72
        },
        "outputId": "b8163b61-69d4-4f01-e9ca-b8bc16322d6b"
      },
      "source": [
        "'''Ans:\n",
        "An expression evaluates to a single value. A statement does not.\n",
        "Expression is a combination of variables, operations and values which always gives a resultant value. Ex- \n",
        "Declaring values: Example - spam = 10. It means that 10 value is declared to variable spam. In python for declaring values we do not need to tell the data type it automatically interpret the data type.\n",
        "Ex - a=10 (We do not need specify 10 as int.) and B= 5. (it will interpret as float)\n",
        " '''"
      ],
      "execution_count": 42,
      "outputs": [
        {
          "output_type": "execute_result",
          "data": {
            "application/vnd.google.colaboratory.intrinsic+json": {
              "type": "string"
            },
            "text/plain": [
              "'Ans:\\nAn expression evaluates to a single value. A statement does not.\\nExpression is a combination of variables, operations and values which always gives a resultant value. Ex- \\nDeclaring values: Example - spam = 10. It means that 10 value is declared to variable spam. In python for declaring values we do not need to tell the data type it automatically interpret the data type.\\nEx - a=10 (We do not need specify 10 as int.) and B= 5. (it will interpret as float)\\n '"
            ]
          },
          "metadata": {
            "tags": []
          },
          "execution_count": 42
        }
      ]
    },
    {
      "cell_type": "code",
      "metadata": {
        "id": "SOV5jO_fydVS"
      },
      "source": [
        "#6. After running the following code, what does the variable bacon contain?"
      ],
      "execution_count": 43,
      "outputs": []
    },
    {
      "cell_type": "code",
      "metadata": {
        "colab": {
          "base_uri": "https://localhost:8080/"
        },
        "id": "Q3ser4eryhvi",
        "outputId": "5bbdc2bc-298e-418e-c9a8-3769f041ac41"
      },
      "source": [
        "bacon = 22\n",
        "bacon + 1\n"
      ],
      "execution_count": 44,
      "outputs": [
        {
          "output_type": "execute_result",
          "data": {
            "text/plain": [
              "23"
            ]
          },
          "metadata": {
            "tags": []
          },
          "execution_count": 44
        }
      ]
    },
    {
      "cell_type": "code",
      "metadata": {
        "colab": {
          "base_uri": "https://localhost:8080/",
          "height": 36
        },
        "id": "QydvzTAXyi5h",
        "outputId": "bc3bb710-fc5f-4099-a962-f64ca1e77013"
      },
      "source": [
        "\"Ans: Bacon is a Variable containing value as 22. And the express bacon + 1 cannot reassign the value in the variable bacon. \""
      ],
      "execution_count": 45,
      "outputs": [
        {
          "output_type": "execute_result",
          "data": {
            "application/vnd.google.colaboratory.intrinsic+json": {
              "type": "string"
            },
            "text/plain": [
              "'Ans: Bacon is a Variable containing value as 22. And the express bacon + 1 cannot reassign the value in the variable bacon. '"
            ]
          },
          "metadata": {
            "tags": []
          },
          "execution_count": 45
        }
      ]
    },
    {
      "cell_type": "code",
      "metadata": {
        "id": "QlK78sxOylez"
      },
      "source": [
        "#7. What should the values of the following two terms be?"
      ],
      "execution_count": 46,
      "outputs": []
    },
    {
      "cell_type": "code",
      "metadata": {
        "colab": {
          "base_uri": "https://localhost:8080/",
          "height": 36
        },
        "id": "6bZGkhsCypxt",
        "outputId": "3d026be5-2ead-41a7-a657-415bfb53f88c"
      },
      "source": [
        "'spam' + 'spamspam'"
      ],
      "execution_count": 47,
      "outputs": [
        {
          "output_type": "execute_result",
          "data": {
            "application/vnd.google.colaboratory.intrinsic+json": {
              "type": "string"
            },
            "text/plain": [
              "'spamspamspam'"
            ]
          },
          "metadata": {
            "tags": []
          },
          "execution_count": 47
        }
      ]
    },
    {
      "cell_type": "code",
      "metadata": {
        "colab": {
          "base_uri": "https://localhost:8080/",
          "height": 36
        },
        "id": "iUdPyglqyuEW",
        "outputId": "87fa1c77-da10-49e2-833d-013caf30f6d5"
      },
      "source": [
        "'spam' * 3"
      ],
      "execution_count": 48,
      "outputs": [
        {
          "output_type": "execute_result",
          "data": {
            "application/vnd.google.colaboratory.intrinsic+json": {
              "type": "string"
            },
            "text/plain": [
              "'spamspamspam'"
            ]
          },
          "metadata": {
            "tags": []
          },
          "execution_count": 48
        }
      ]
    },
    {
      "cell_type": "code",
      "metadata": {
        "colab": {
          "base_uri": "https://localhost:8080/",
          "height": 36
        },
        "id": "J_bE2o1kyvrv",
        "outputId": "3615fd5c-d4f6-4aad-828e-54b57bc19fdd"
      },
      "source": [
        "\"Ans:  Both outputs are same – ‘spamspamspam’\"\n"
      ],
      "execution_count": 49,
      "outputs": [
        {
          "output_type": "execute_result",
          "data": {
            "application/vnd.google.colaboratory.intrinsic+json": {
              "type": "string"
            },
            "text/plain": [
              "'Ans:  Both outputs are same – ‘spamspamspam’'"
            ]
          },
          "metadata": {
            "tags": []
          },
          "execution_count": 49
        }
      ]
    },
    {
      "cell_type": "code",
      "metadata": {
        "colab": {
          "base_uri": "https://localhost:8080/",
          "height": 36
        },
        "id": "QhDbZcNfyyS-",
        "outputId": "5ad38aeb-fba9-427d-8856-d9a657395cec"
      },
      "source": [
        "\"8. Why is it that eggs is a true variable name but 100 is not?\"\n"
      ],
      "execution_count": 50,
      "outputs": [
        {
          "output_type": "execute_result",
          "data": {
            "application/vnd.google.colaboratory.intrinsic+json": {
              "type": "string"
            },
            "text/plain": [
              "'8. Why is it that eggs is a true variable name but 100 is not?'"
            ]
          },
          "metadata": {
            "tags": []
          },
          "execution_count": 50
        }
      ]
    },
    {
      "cell_type": "code",
      "metadata": {
        "colab": {
          "base_uri": "https://localhost:8080/"
        },
        "id": "3w0UOv42y7w5",
        "outputId": "1d88350e-03e3-45ae-ad92-e44a51898805"
      },
      "source": [
        "\"Ans: It is because - Variable names cannot begin with a number\"\n",
        "egg =100\n",
        "egg"
      ],
      "execution_count": 51,
      "outputs": [
        {
          "output_type": "execute_result",
          "data": {
            "text/plain": [
              "100"
            ]
          },
          "metadata": {
            "tags": []
          },
          "execution_count": 51
        }
      ]
    },
    {
      "cell_type": "code",
      "metadata": {
        "colab": {
          "base_uri": "https://localhost:8080/",
          "height": 36
        },
        "id": "GxGqGpB7y9k0",
        "outputId": "d0587b76-fccd-408d-be95-82b7c571ffcb"
      },
      "source": [
        "\"9. Which of the following three functions may be used to convert a value to an integer, a floating-point number, or a string?\"\n"
      ],
      "execution_count": 52,
      "outputs": [
        {
          "output_type": "execute_result",
          "data": {
            "application/vnd.google.colaboratory.intrinsic+json": {
              "type": "string"
            },
            "text/plain": [
              "'9. Which of the following three functions may be used to convert a value to an integer, a floating-point number, or a string?'"
            ]
          },
          "metadata": {
            "tags": []
          },
          "execution_count": 52
        }
      ]
    },
    {
      "cell_type": "code",
      "metadata": {
        "colab": {
          "base_uri": "https://localhost:8080/"
        },
        "id": "tZQOZqylzDCd",
        "outputId": "25993ea4-1af4-4dd4-d8f6-13aeac8c0dfc"
      },
      "source": [
        "'''Ans: The int(), float(), and str() functions will evaluate to the integer, floating-point number, and string versions of the value passed to them.'''\n",
        "a='10'\n",
        "b='5'\n",
        "print(type(a))\n",
        "print(type(b))\n",
        "\n",
        "a= float(a)  # converted into float\n",
        "b= int(b)    # converted into int\n",
        "sum = a+b    # Result is in float\n",
        "print(sum)\n",
        "print(type(sum))  # Result is in float"
      ],
      "execution_count": 53,
      "outputs": [
        {
          "output_type": "stream",
          "text": [
            "<class 'str'>\n",
            "<class 'str'>\n",
            "15.0\n",
            "<class 'float'>\n"
          ],
          "name": "stdout"
        }
      ]
    },
    {
      "cell_type": "code",
      "metadata": {
        "colab": {
          "base_uri": "https://localhost:8080/",
          "height": 36
        },
        "id": "_o2WhaY6zEuj",
        "outputId": "7825c28a-2f0b-49e0-bed8-c2483c40cfe5"
      },
      "source": [
        "\"10. What is the error caused by this expression? What would you do about it?\""
      ],
      "execution_count": 54,
      "outputs": [
        {
          "output_type": "execute_result",
          "data": {
            "application/vnd.google.colaboratory.intrinsic+json": {
              "type": "string"
            },
            "text/plain": [
              "'10. What is the error caused by this expression? What would you do about it?'"
            ]
          },
          "metadata": {
            "tags": []
          },
          "execution_count": 54
        }
      ]
    },
    {
      "cell_type": "code",
      "metadata": {
        "colab": {
          "base_uri": "https://localhost:8080/",
          "height": 54
        },
        "id": "I6MMdO0TzKkW",
        "outputId": "59764210-3214-461b-8742-2c9a8b9247d2"
      },
      "source": [
        "'''Ans: 'I have eaten ' + 99 + ' burritos.'\n",
        "Two different type of data sets cannot be concatenate like Strings cannot be concatenated with integer. \n",
        "Or integers cannot be concatenate with string.'''\n"
      ],
      "execution_count": 55,
      "outputs": [
        {
          "output_type": "execute_result",
          "data": {
            "application/vnd.google.colaboratory.intrinsic+json": {
              "type": "string"
            },
            "text/plain": [
              "\"Ans: 'I have eaten ' + 99 + ' burritos.'\\nTwo different type of data sets cannot be concatenate like Strings cannot be concatenated with integer. \\nOr integers cannot be concatenate with string.\""
            ]
          },
          "metadata": {
            "tags": []
          },
          "execution_count": 55
        }
      ]
    },
    {
      "cell_type": "code",
      "metadata": {
        "id": "Ee6IRw_tzQql"
      },
      "source": [
        "Correction: 'I have eaten ' +str(99) + ' burritos.'"
      ],
      "execution_count": 56,
      "outputs": []
    },
    {
      "cell_type": "code",
      "metadata": {
        "id": "wD0G0K5RzRF4"
      },
      "source": [
        ""
      ],
      "execution_count": 56,
      "outputs": []
    }
  ]
}