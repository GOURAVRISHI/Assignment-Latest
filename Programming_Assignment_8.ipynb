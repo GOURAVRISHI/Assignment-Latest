{
  "nbformat": 4,
  "nbformat_minor": 0,
  "metadata": {
    "colab": {
      "name": "Programming Assignment- 8.ipynb",
      "provenance": [],
      "collapsed_sections": []
    },
    "kernelspec": {
      "name": "python3",
      "display_name": "Python 3"
    },
    "language_info": {
      "name": "python"
    }
  },
  "cells": [
    {
      "cell_type": "code",
      "metadata": {
        "id": "NdOTAyVdwRce"
      },
      "source": [
        "# 1. Write a Python Program to Add Two Matrices?"
      ],
      "execution_count": null,
      "outputs": []
    },
    {
      "cell_type": "code",
      "metadata": {
        "id": "QwcEgmTywpWc",
        "colab": {
          "base_uri": "https://localhost:8080/"
        },
        "outputId": "d9123d22-0640-448e-8227-d082213b796a"
      },
      "source": [
        "M1 = [[28, 35, 41],\n",
        "      [47, 46, 19],\n",
        "      [52, 68, 97]]\n",
        "\n",
        "M2 = [[15, 92, 53],\n",
        "      [44, 75, 61],\n",
        "      [67, 88, 49]]\n",
        "\n",
        "\n",
        "sum = [[0, 0, 0],\n",
        "       [0, 0, 0],\n",
        "       [0, 0, 0]]\n",
        "\n",
        "for i in range(len(M1)):\n",
        "    for j in range(len(M1[0])):\n",
        "        sum[i][j] = M1[i][j] + M2[i][j]\n",
        "\n",
        "for total in sum:\n",
        "    print(total)"
      ],
      "execution_count": 1,
      "outputs": [
        {
          "output_type": "stream",
          "text": [
            "[43, 127, 94]\n",
            "[91, 121, 80]\n",
            "[119, 156, 146]\n"
          ],
          "name": "stdout"
        }
      ]
    },
    {
      "cell_type": "code",
      "metadata": {
        "id": "2cgQBn4rwped"
      },
      "source": [
        "# 2. Write a Python Program to Multiply Two Matrices?"
      ],
      "execution_count": null,
      "outputs": []
    },
    {
      "cell_type": "code",
      "metadata": {
        "id": "gVQjimjnwpmO",
        "colab": {
          "base_uri": "https://localhost:8080/"
        },
        "outputId": "749e4ef4-f92d-4314-aa31-47bd029210ad"
      },
      "source": [
        "M1 = [[8, 5, 4],\n",
        "      [7, 6, 9],\n",
        "      [5, 8, 7]]\n",
        "\n",
        "M2 = [[5, 9, 3, 2],\n",
        "      [4, 5, 6, 4],\n",
        "      [7, 8, 9, 3]]\n",
        "\n",
        "output = [[0, 0, 0, 0],\n",
        "         [0, 0, 0, 0],\n",
        "         [0, 0, 0, 0]]\n",
        "\n",
        "for i in range(len(M1)):\n",
        "  for j in range(len(M2[0])):\n",
        "    for k in range(len(M2)):\n",
        "      output[i][j] +=M1[i][k]*M2[k][j]\n",
        "\n",
        "for r in output:\n",
        "  print(r)"
      ],
      "execution_count": 2,
      "outputs": [
        {
          "output_type": "stream",
          "text": [
            "[88, 129, 90, 48]\n",
            "[122, 165, 138, 65]\n",
            "[106, 141, 126, 63]\n"
          ],
          "name": "stdout"
        }
      ]
    },
    {
      "cell_type": "code",
      "metadata": {
        "id": "_aYou0qzwpuF"
      },
      "source": [
        "# 3. Write a Python Program to Transpose a Matrix?"
      ],
      "execution_count": null,
      "outputs": []
    },
    {
      "cell_type": "code",
      "metadata": {
        "id": "MtIqmgkTwp1X",
        "colab": {
          "base_uri": "https://localhost:8080/"
        },
        "outputId": "4a44f5e1-1a9e-4ca5-a118-44ed09c304e8"
      },
      "source": [
        "M = [[4,6],\n",
        "    [2 ,11],\n",
        "    [9 ,61]]\n",
        "\n",
        "output = [[0,0,0],\n",
        "          [0,0,0]]\n",
        "\n",
        "for i in range(len(M)):\n",
        "   for j in range(len(M[0])):\n",
        "       output[j][i] = M[i][j]\n",
        "\n",
        "for r in output:\n",
        "   print(r)"
      ],
      "execution_count": 7,
      "outputs": [
        {
          "output_type": "stream",
          "text": [
            "[4, 2, 9]\n",
            "[6, 11, 61]\n"
          ],
          "name": "stdout"
        }
      ]
    },
    {
      "cell_type": "code",
      "metadata": {
        "id": "X67SyvVrwp9I"
      },
      "source": [
        "# 4. Write a Python Program to Sort Words in Alphabetic Order?"
      ],
      "execution_count": null,
      "outputs": []
    },
    {
      "cell_type": "code",
      "metadata": {
        "id": "UtxwhvrTwqE4",
        "colab": {
          "base_uri": "https://localhost:8080/"
        },
        "outputId": "b2dfbcb3-d0ff-4b05-e4ca-9b45214a1832"
      },
      "source": [
        "str= input(\"Enter your String\")\n",
        "\n",
        "word=str.split()\n",
        "\n",
        "word.sort()\n",
        "\n",
        "print(\"The sorted words are: \")\n",
        "for i in word:\n",
        "  print(i)"
      ],
      "execution_count": 5,
      "outputs": [
        {
          "output_type": "stream",
          "text": [
            "Enter your String i am gourav rishi\n",
            "The sorted words are: \n",
            "am\n",
            "gourav\n",
            "i\n",
            "rishi\n"
          ],
          "name": "stdout"
        }
      ]
    },
    {
      "cell_type": "code",
      "metadata": {
        "id": "3DafdTedwqMh"
      },
      "source": [
        "# 5. Write a Python Program to Remove Punctuation From a String?"
      ],
      "execution_count": 6,
      "outputs": []
    },
    {
      "cell_type": "code",
      "metadata": {
        "id": "vxsOTgSzwqVt",
        "colab": {
          "base_uri": "https://localhost:8080/"
        },
        "outputId": "58888412-2c27-4c9c-c1a5-e935f67d6eac"
      },
      "source": [
        "punc= '''!()-[]{};:'\"\\,<>./?@#$%^&*_~'''\n",
        "str= input(\"Enter your String: \")\n",
        "\n",
        "no_punc = \"\"\n",
        "for i in str:\n",
        "  if i not in punc:\n",
        "    no_punc = no_punc + i\n",
        "\n",
        "print(no_punc)"
      ],
      "execution_count": 9,
      "outputs": [
        {
          "output_type": "stream",
          "text": [
            "Enter your String: Hi!!, I am Gourav from Delhi. I went to College for doing b.tech\n",
            "Hi I am Gourav from Delhi I went to College for doing btech\n"
          ],
          "name": "stdout"
        }
      ]
    },
    {
      "cell_type": "code",
      "metadata": {
        "id": "y0SWN36az3Te"
      },
      "source": [
        ""
      ],
      "execution_count": 9,
      "outputs": []
    }
  ]
}