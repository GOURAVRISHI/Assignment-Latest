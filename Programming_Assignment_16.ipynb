{
  "nbformat": 4,
  "nbformat_minor": 0,
  "metadata": {
    "colab": {
      "name": "Programming Assignment- 16.ipynb",
      "provenance": [],
      "collapsed_sections": []
    },
    "kernelspec": {
      "name": "python3",
      "display_name": "Python 3"
    },
    "language_info": {
      "name": "python"
    }
  },
  "cells": [
    {
      "cell_type": "code",
      "metadata": {
        "colab": {
          "base_uri": "https://localhost:8080/",
          "height": 72
        },
        "id": "f7tcxfH9kuPt",
        "outputId": "5b7f68c1-7a11-4a56-8294-1f40efdf0641"
      },
      "source": [
        "'''Question1. Write a function that stutters a word as if someone is struggling to read it. The\n",
        "first two letters are repeated twice with an ellipsis ... and space after each, and then the\n",
        "word is pronounced with a question mark ?.\n",
        "Examples\n",
        "stutter(\"incredible\") ➞ \"in... in... incredible?\";\n",
        "stutter(\"enthusiastic\") ➞ \"en... en... enthusiastic?\";\n",
        "stutter(\"outstanding\") ➞ \"ou... ou... outstanding?\";\n",
        "\n",
        "Hint :- Assume all input is in lower case and at least two characters long.'''"
      ],
      "execution_count": 83,
      "outputs": [
        {
          "output_type": "execute_result",
          "data": {
            "application/vnd.google.colaboratory.intrinsic+json": {
              "type": "string"
            },
            "text/plain": [
              "'Question1. Write a function that stutters a word as if someone is struggling to read it. The\\nfirst two letters are repeated twice with an ellipsis ... and space after each, and then the\\nword is pronounced with a question mark ?.\\nExamples\\nstutter(\"incredible\") ➞ \"in... in... incredible?\";\\nstutter(\"enthusiastic\") ➞ \"en... en... enthusiastic?\";\\nstutter(\"outstanding\") ➞ \"ou... ou... outstanding?\";\\n\\nHint :- Assume all input is in lower case and at least two characters long.'"
            ]
          },
          "metadata": {
            "tags": []
          },
          "execution_count": 83
        }
      ]
    },
    {
      "cell_type": "code",
      "metadata": {
        "id": "EljGft73kutD",
        "colab": {
          "base_uri": "https://localhost:8080/"
        },
        "outputId": "7c891d9e-d2c1-4724-9dca-c103b7700f3f"
      },
      "source": [
        "string= str(input(\"Enter your string: \"))\n",
        "print((string[0:2])+ str(\"... \")+(string[0:2])+ str(\"... \")+ string+ str(\" ?\"))"
      ],
      "execution_count": 84,
      "outputs": [
        {
          "output_type": "stream",
          "text": [
            "Enter your string: incredible\n",
            "in... in... incredible ?\n"
          ],
          "name": "stdout"
        }
      ]
    },
    {
      "cell_type": "code",
      "metadata": {
        "colab": {
          "base_uri": "https://localhost:8080/",
          "height": 90
        },
        "id": "Gk6eYooAkuzH",
        "outputId": "fc0f6bde-cb8b-4599-dcc9-0a5c00896569"
      },
      "source": [
        "'''Question 2.Create a function that takes an angle in radians and returns the corresponding\n",
        "angle in degrees rounded to one decimal place.\n",
        "Examples\n",
        "radians_to_degrees(1) ➞ 57.3\n",
        "radians_to_degrees(20) ➞ 1145.9\n",
        "radians_to_degrees(50) ➞ 2864.8\n",
        "'''"
      ],
      "execution_count": null,
      "outputs": [
        {
          "output_type": "execute_result",
          "data": {
            "application/vnd.google.colaboratory.intrinsic+json": {
              "type": "string"
            },
            "text/plain": [
              "'Question 2.Create a function that takes an angle in radians and returns the corresponding\\nangle in degrees rounded to one decimal place.\\nExamples\\nradians_to_degrees(1) ➞ 57.3\\nradians_to_degrees(20) ➞ 1145.9\\nradians_to_degrees(50) ➞ 2864.8\\n'"
            ]
          },
          "metadata": {
            "tags": []
          },
          "execution_count": 4
        }
      ]
    },
    {
      "cell_type": "code",
      "metadata": {
        "id": "-dGvMrbzkwdX",
        "colab": {
          "base_uri": "https://localhost:8080/"
        },
        "outputId": "cc021b16-539d-42d6-9421-222a78a70c10"
      },
      "source": [
        "radian= float(input(\"Enter the value of angle in radians: \"))\n",
        "degree= 57.296*radian\n",
        "deg=round(degree, 1)\n",
        "\n",
        "print(\"The {} radian in degree is: {}\".format(radian , deg))"
      ],
      "execution_count": 85,
      "outputs": [
        {
          "output_type": "stream",
          "text": [
            "Enter the value of angle in radians: 25\n",
            "The 25.0 radian in degree is: 1432.4\n"
          ],
          "name": "stdout"
        }
      ]
    },
    {
      "cell_type": "code",
      "metadata": {
        "colab": {
          "base_uri": "https://localhost:8080/",
          "height": 163
        },
        "id": "4jT5Q4aakwmY",
        "outputId": "0ee244b5-2269-4d18-9bb4-d96987d013fb"
      },
      "source": [
        "'''Question 3. In this challenge, establish if a given integer num is a Curzon number. If 1 plus\n",
        "2 elevated to num is exactly divisible by 1 plus 2 multiplied by num, then num is a Curzon\n",
        "number.\n",
        "Given a non-negative integer num, implement a function that returns True if num is a Curzon\n",
        "number, or False otherwise.\n",
        "Examples\n",
        "is_curzon(5) ➞ True\n",
        "# 2 ** 5 + 1 = 33\n",
        "# 2 * 5 + 1 = 11\n",
        "# 33 is a multiple of 11\n",
        "is_curzon(10) ➞ False\n",
        "# 2 ** 10 + 1 = 1025\n",
        "# 2 * 10 + 1 = 21\n",
        "# 1025 is not a multiple of 21\n",
        "is_curzon(14) ➞ True\n",
        "# 2 ** 14 + 1 = 16385\n",
        "# 2 * 14 + 1 = 29\n",
        "# 16385 is a multiple of 29\n",
        "'''"
      ],
      "execution_count": null,
      "outputs": [
        {
          "output_type": "execute_result",
          "data": {
            "application/vnd.google.colaboratory.intrinsic+json": {
              "type": "string"
            },
            "text/plain": [
              "'Question 3. In this challenge, establish if a given integer num is a Curzon number. If 1 plus\\n2 elevated to num is exactly divisible by 1 plus 2 multiplied by num, then num is a Curzon\\nnumber.\\nGiven a non-negative integer num, implement a function that returns True if num is a Curzon\\nnumber, or False otherwise.\\nExamples\\nis_curzon(5) ➞ True\\n# 2 ** 5 + 1 = 33\\n# 2 * 5 + 1 = 11\\n# 33 is a multiple of 11\\nis_curzon(10) ➞ False\\n# 2 ** 10 + 1 = 1025\\n# 2 * 10 + 1 = 21\\n# 1025 is not a multiple of 21\\nis_curzon(14) ➞ True\\n# 2 ** 14 + 1 = 16385\\n# 2 * 14 + 1 = 29\\n# 16385 is a multiple of 29\\n'"
            ]
          },
          "metadata": {
            "tags": []
          },
          "execution_count": 5
        }
      ]
    },
    {
      "cell_type": "code",
      "metadata": {
        "id": "R2mtNmdhkwub",
        "colab": {
          "base_uri": "https://localhost:8080/"
        },
        "outputId": "57615ada-8ec4-4852-f4bb-00b61ce9778a"
      },
      "source": [
        "num= int(input(\"Enter the Number: \"))\n",
        "num1= 2**num+1\n",
        "num2= 2*num+1\n",
        "\n",
        "cur_num=num1%num2\n",
        "\n",
        "if num<0:\n",
        "  print(\"Please Enter the positive integer!!\") \n",
        "\n",
        "else:\n",
        "\n",
        "  if cur_num == 0:\n",
        "    print(\"{} is Curzon Number\".format(num ))\n",
        "  else:\n",
        "    print(\"{} is not a Curzon Number\".format(num ))"
      ],
      "execution_count": 86,
      "outputs": [
        {
          "output_type": "stream",
          "text": [
            "Enter the Number: 5\n",
            "5 is Curzon Number\n"
          ],
          "name": "stdout"
        }
      ]
    },
    {
      "cell_type": "code",
      "metadata": {
        "colab": {
          "base_uri": "https://localhost:8080/",
          "height": 72
        },
        "id": "3PWggDs6lGX1",
        "outputId": "8374d3c4-0049-4654-f986-c07f850b6997"
      },
      "source": [
        "'''Question 4.Given the side length x find the area of a hexagon.\n",
        "Examples\n",
        "area_of_hexagon(1) ➞ 2.6\n",
        "area_of_hexagon(2) ➞ 10.4\n",
        "area_of_hexagon(3) ➞ 23.4\n",
        "\n",
        "Formula = Area = (3*sqrt3*s**2)/2\n",
        "'''"
      ],
      "execution_count": null,
      "outputs": [
        {
          "output_type": "execute_result",
          "data": {
            "application/vnd.google.colaboratory.intrinsic+json": {
              "type": "string"
            },
            "text/plain": [
              "'Question 4.Given the side length x find the area of a hexagon.\\nExamples\\narea_of_hexagon(1) ➞ 2.6\\narea_of_hexagon(2) ➞ 10.4\\narea_of_hexagon(3) ➞ 23.4'"
            ]
          },
          "metadata": {
            "tags": []
          },
          "execution_count": 6
        }
      ]
    },
    {
      "cell_type": "code",
      "metadata": {
        "colab": {
          "base_uri": "https://localhost:8080/"
        },
        "id": "6WvvNKU6lGkd",
        "outputId": "86473797-c6f5-4486-d888-301cb63d28bb"
      },
      "source": [
        "import math \n",
        "s = float(input(\"Enter the Side: \"))\n",
        "a= math.sqrt(3)\n",
        "c= 3*a*s**2\n",
        "Area= round((c/2), 1)\n",
        "print(\"Area of Hexagon of side {} is {}\".format(s, Area))"
      ],
      "execution_count": 87,
      "outputs": [
        {
          "output_type": "stream",
          "text": [
            "Enter the Side: 2\n",
            "Area of Hexagon of side 2.0 is 10.4\n"
          ],
          "name": "stdout"
        }
      ]
    },
    {
      "cell_type": "code",
      "metadata": {
        "colab": {
          "base_uri": "https://localhost:8080/",
          "height": 145
        },
        "id": "Jkl4tvsRlGte",
        "outputId": "0e4b29bb-c34d-4926-8979-d7c1d7a65914"
      },
      "source": [
        "'''Question 5. Create a function that returns a base-2 (binary) representation of a base-10 (decimal) string number. \n",
        "To convert is simple: ((2) means base-2 and (10) means base-10)\n",
        "010101001(2) = 1 + 8 + 32 + 128.\n",
        "Going from right to left, the value of the most right bit is 1, now from that every bit to the left\n",
        "will be x2 the value, value of an 8 bit binary numbers are (256, 128, 64, 32, 16, 8, 4, 2, 1).\n",
        "Examples\n",
        "binary(1) ➞ \"1\"\n",
        "# 1*1 = 1\n",
        "binary(5) ➞ \"101\"\n",
        "# 1*1 + 1*4 = 5\n",
        "binary(10) ➞ \"1010\"\n",
        "# 1*2 + 1*8 = 10\n",
        "'''"
      ],
      "execution_count": null,
      "outputs": [
        {
          "output_type": "execute_result",
          "data": {
            "application/vnd.google.colaboratory.intrinsic+json": {
              "type": "string"
            },
            "text/plain": [
              "'Question 5. Create a function that returns a base-2 (binary) representation of a base-10\\n(decimal) string number. To convert is simple: ((2) means base-2 and (10) means base-10)\\n010101001(2) = 1 + 8 + 32 + 128.\\nGoing from right to left, the value of the most right bit is 1, now from that every bit to the left\\nwill be x2 the value, value of an 8 bit binary numbers are (256, 128, 64, 32, 16, 8, 4, 2, 1).\\nExamples\\nbinary(1) ➞ \"1\"\\n# 1*1 = 1\\nbinary(5) ➞ \"101\"\\n# 1*1 + 1*4 = 5\\nbinary(10) ➞ \"1010\"\\n# 1*2 + 1*8 = 10\\n'"
            ]
          },
          "metadata": {
            "tags": []
          },
          "execution_count": 8
        }
      ]
    },
    {
      "cell_type": "code",
      "metadata": {
        "colab": {
          "base_uri": "https://localhost:8080/"
        },
        "id": "mWpFJXHBNSO2",
        "outputId": "609f5b75-096c-427b-9d36-c146797d728b"
      },
      "source": [
        "num= str(input(\"Enter the number: \"))\n",
        "base= int(input(\"Enter the base value: \"))\n",
        "\n",
        "def char(c):  \n",
        "  if c >='0' and c<='9':\n",
        "    return ord(c) - ord('0')\n",
        "  else:\n",
        "    return ord(c)- ord('A')+10;\n",
        "\n",
        "# Convert into number from given base to decimal\n",
        "\n",
        "def deci(num, base):\n",
        "  lenn = len(num)\n",
        "  pow = 1 \n",
        "  number = 0\n",
        "\n",
        "# str[len-1]*1+ str[len-2]*base*1+str[len-3]*base**2+ so on\n",
        "  for i in range(lenn-1, -1, -1):\n",
        "    if char(num[i]) >= base:\n",
        "      print(\"Invalid Number\")\n",
        "      return 0\n",
        "    number += val(num[i])*pow\n",
        "    pow= pow*base\n",
        "  return number\n",
        "\n",
        "print('Decimal equivalent of', num, 'in base', base, 'is: ', deci(num, base))"
      ],
      "execution_count": 88,
      "outputs": [
        {
          "output_type": "stream",
          "text": [
            "Enter the number: 11A\n",
            "Enter the base value: 16\n",
            "Decimal equivalent of 11A in base 16 is:  282\n"
          ],
          "name": "stdout"
        }
      ]
    },
    {
      "cell_type": "code",
      "metadata": {
        "id": "D3cFSA_vdz0I"
      },
      "source": [
        ""
      ],
      "execution_count": null,
      "outputs": []
    }
  ]
}