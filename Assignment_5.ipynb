{
  "nbformat": 4,
  "nbformat_minor": 0,
  "metadata": {
    "colab": {
      "name": "Assignment-5.ipynb",
      "provenance": [],
      "collapsed_sections": []
    },
    "kernelspec": {
      "name": "python3",
      "display_name": "Python 3"
    },
    "language_info": {
      "name": "python"
    }
  },
  "cells": [
    {
      "cell_type": "code",
      "metadata": {
        "id": "mvhxJZ_Fgjzq"
      },
      "source": [
        "# 1. What does an empty dictionary's code look like?"
      ],
      "execution_count": null,
      "outputs": []
    },
    {
      "cell_type": "code",
      "metadata": {
        "id": "LA082XAlheAs"
      },
      "source": [
        "dic= {}"
      ],
      "execution_count": null,
      "outputs": []
    },
    {
      "cell_type": "code",
      "metadata": {
        "colab": {
          "base_uri": "https://localhost:8080/"
        },
        "id": "WblTwpeAmsNd",
        "outputId": "6b7d238d-29a8-4813-f341-c6ed7a3b2016"
      },
      "source": [
        "type(dic)"
      ],
      "execution_count": null,
      "outputs": [
        {
          "output_type": "execute_result",
          "data": {
            "text/plain": [
              "dict"
            ]
          },
          "metadata": {
            "tags": []
          },
          "execution_count": 2
        }
      ]
    },
    {
      "cell_type": "code",
      "metadata": {
        "id": "RmKgj46theFu"
      },
      "source": [
        "# 2. What is the value of a dictionary value with the key 'foo'; and the value 42?"
      ],
      "execution_count": null,
      "outputs": []
    },
    {
      "cell_type": "code",
      "metadata": {
        "colab": {
          "base_uri": "https://localhost:8080/"
        },
        "id": "0fGXJmoEheLR",
        "outputId": "d356e12d-2b88-4e56-984a-292aaf14b74f"
      },
      "source": [
        "dic1={'foo': 42}\n",
        "dic1.values()"
      ],
      "execution_count": null,
      "outputs": [
        {
          "output_type": "execute_result",
          "data": {
            "text/plain": [
              "dict_values([42])"
            ]
          },
          "metadata": {
            "tags": []
          },
          "execution_count": 5
        }
      ]
    },
    {
      "cell_type": "code",
      "metadata": {
        "id": "b-YwWW9BhePs"
      },
      "source": [
        "# 3. What is the most significant distinction between a dictionary and a list?"
      ],
      "execution_count": null,
      "outputs": []
    },
    {
      "cell_type": "code",
      "metadata": {
        "id": "tk9_PK2UheVW",
        "colab": {
          "base_uri": "https://localhost:8080/",
          "height": 108
        },
        "outputId": "fb56fa2d-fe61-4672-8d12-cfc6c62cdbf0"
      },
      "source": [
        "'''List: \n",
        "a. values in list is written with a comma-separation and in between square brackets.\n",
        "b. elements are maintained in order.\n",
        "c. any type of element can be present in list - (int, float, string, tuple etc.)\n",
        "d. Elements are accessed through their index values\n",
        "e. we use List when we have a collection of data that does not need random access.\n",
        "f. We can use list when values can be changed.\n",
        "\n",
        "Dictionary: \n",
        "a. Dictionary is an unordered collection of key-value pairs. \n",
        "b. Dictionaries are used to handle large amount of data\n",
        "\n",
        "Every element is having a key-value pair. Every elements are accessed by user using it’s key value.\n",
        "We use dictionary When we are dealing with unique keys and we are mapp values to the keys.\n",
        "'''"
      ],
      "execution_count": 5,
      "outputs": [
        {
          "output_type": "execute_result",
          "data": {
            "application/vnd.google.colaboratory.intrinsic+json": {
              "type": "string"
            },
            "text/plain": [
              "'List: \\na. values in list is written with a comma-separation and in between square brackets.\\nb. elements are maintained in order.\\nc. any type of element can be present in list - (int, float, string, tuple etc.)\\nd. Elements are accessed through their index values\\ne. we use List when we have a collection of data that does not need random access.\\nf. We can use list when values can be changed.\\n\\nDictionary: \\na. Dictionary is an unordered collection of key-value pairs. \\nb. Dictionaries are used to handle large amount of data\\n\\nEvery element is having a key-value pair. Every elements are accessed by user using it’s key value.\\nWe use dictionary When we are dealing with unique keys and we are mapp values to the keys.\\n'"
            ]
          },
          "metadata": {
            "tags": []
          },
          "execution_count": 5
        }
      ]
    },
    {
      "cell_type": "code",
      "metadata": {
        "id": "kYFzlMlaheaF"
      },
      "source": [
        "# 4. What happens if you try to access spam['foo'] if spam is {'bar': 100}?"
      ],
      "execution_count": null,
      "outputs": []
    },
    {
      "cell_type": "code",
      "metadata": {
        "colab": {
          "base_uri": "https://localhost:8080/"
        },
        "id": "efCvWG-cheew",
        "outputId": "c5e54997-4e8f-4580-d429-7b218a65cecf"
      },
      "source": [
        "spam={'bar':100}    # dic is key value pair\n",
        "spam['bar']"
      ],
      "execution_count": null,
      "outputs": [
        {
          "output_type": "execute_result",
          "data": {
            "text/plain": [
              "100"
            ]
          },
          "metadata": {
            "tags": []
          },
          "execution_count": 7
        }
      ]
    },
    {
      "cell_type": "code",
      "metadata": {
        "colab": {
          "base_uri": "https://localhost:8080/",
          "height": 171
        },
        "id": "e3CuaSCenJPF",
        "outputId": "ee04d018-3ee6-4c6d-c305-d8de45f6d7ad"
      },
      "source": [
        "spam['foo']   # KeyError because 'bar' is key amd 100 is value. and 'foo' is not in the key"
      ],
      "execution_count": null,
      "outputs": [
        {
          "output_type": "error",
          "ename": "KeyError",
          "evalue": "ignored",
          "traceback": [
            "\u001b[0;31m---------------------------------------------------------------------------\u001b[0m",
            "\u001b[0;31mKeyError\u001b[0m                                  Traceback (most recent call last)",
            "\u001b[0;32m<ipython-input-8-9b5a94d1de8d>\u001b[0m in \u001b[0;36m<module>\u001b[0;34m()\u001b[0m\n\u001b[0;32m----> 1\u001b[0;31m \u001b[0mspam\u001b[0m\u001b[0;34m[\u001b[0m\u001b[0;34m'foo'\u001b[0m\u001b[0;34m]\u001b[0m\u001b[0;34m\u001b[0m\u001b[0;34m\u001b[0m\u001b[0m\n\u001b[0m",
            "\u001b[0;31mKeyError\u001b[0m: 'foo'"
          ]
        }
      ]
    },
    {
      "cell_type": "code",
      "metadata": {
        "id": "0e2J64Dbhejs"
      },
      "source": [
        "# 5. If a dictionary is stored in spam, what is the difference between the expressions 'cat' in spam and 'cat' in spam.keys()?"
      ],
      "execution_count": null,
      "outputs": []
    },
    {
      "cell_type": "code",
      "metadata": {
        "colab": {
          "base_uri": "https://localhost:8080/"
        },
        "id": "30TQ_S5t2dk9",
        "outputId": "d5ba4637-1d73-4be5-d80b-7faf0fea5cf3"
      },
      "source": [
        "spam = {'cat': 10, 'dog':20, 'cow':30, 'fox': 50}\n",
        "spam.keys()"
      ],
      "execution_count": 68,
      "outputs": [
        {
          "output_type": "execute_result",
          "data": {
            "text/plain": [
              "dict_keys(['cat', 'dog', 'cow', 'fox'])"
            ]
          },
          "metadata": {
            "tags": []
          },
          "execution_count": 68
        }
      ]
    },
    {
      "cell_type": "code",
      "metadata": {
        "colab": {
          "base_uri": "https://localhost:8080/"
        },
        "id": "_o94C39RHCMX",
        "outputId": "784ef836-1978-440f-c01a-135495daf609"
      },
      "source": [
        "'cat' in spam.keys()"
      ],
      "execution_count": 70,
      "outputs": [
        {
          "output_type": "execute_result",
          "data": {
            "text/plain": [
              "True"
            ]
          },
          "metadata": {
            "tags": []
          },
          "execution_count": 70
        }
      ]
    },
    {
      "cell_type": "code",
      "metadata": {
        "colab": {
          "base_uri": "https://localhost:8080/"
        },
        "id": "uqTxEJIhHZGa",
        "outputId": "8fd926b6-4fd0-4956-f250-fa70bb5140d9"
      },
      "source": [
        "'cat' in spam   # check whether 'cat' as key is there in spam dictionary"
      ],
      "execution_count": 73,
      "outputs": [
        {
          "output_type": "execute_result",
          "data": {
            "text/plain": [
              "True"
            ]
          },
          "metadata": {
            "tags": []
          },
          "execution_count": 73
        }
      ]
    },
    {
      "cell_type": "code",
      "metadata": {
        "id": "7RcFYgaZhetj"
      },
      "source": [
        "# 6. If a dictionary is stored in spam, what is the difference between the expressions 'cat' in spam and 'cat' in spam.values()?"
      ],
      "execution_count": null,
      "outputs": []
    },
    {
      "cell_type": "code",
      "metadata": {
        "id": "yZKrKp_jheyX",
        "colab": {
          "base_uri": "https://localhost:8080/"
        },
        "outputId": "2e257364-411d-4fe5-ded5-5b5857d3229d"
      },
      "source": [
        "spam = {'cat': 10, 'dog':20, 'cow':30, 'fox': 50}\n",
        "spam.values()"
      ],
      "execution_count": 75,
      "outputs": [
        {
          "output_type": "execute_result",
          "data": {
            "text/plain": [
              "dict_values([10, 20, 30, 50])"
            ]
          },
          "metadata": {
            "tags": []
          },
          "execution_count": 75
        }
      ]
    },
    {
      "cell_type": "code",
      "metadata": {
        "colab": {
          "base_uri": "https://localhost:8080/"
        },
        "id": "khHR4FR6HM3y",
        "outputId": "35c3b694-2c5f-456d-d6c3-dea873d7374f"
      },
      "source": [
        "'cat' in spam.values()"
      ],
      "execution_count": 76,
      "outputs": [
        {
          "output_type": "execute_result",
          "data": {
            "text/plain": [
              "False"
            ]
          },
          "metadata": {
            "tags": []
          },
          "execution_count": 76
        }
      ]
    },
    {
      "cell_type": "code",
      "metadata": {
        "colab": {
          "base_uri": "https://localhost:8080/"
        },
        "id": "xesJWk9BHUjm",
        "outputId": "004d1102-df6e-45ec-d6d9-056f21fd0b07"
      },
      "source": [
        "'cat' in spam     # check whether 'cat' as key is there in spam dictionary"
      ],
      "execution_count": 78,
      "outputs": [
        {
          "output_type": "execute_result",
          "data": {
            "text/plain": [
              "True"
            ]
          },
          "metadata": {
            "tags": []
          },
          "execution_count": 78
        }
      ]
    },
    {
      "cell_type": "code",
      "metadata": {
        "id": "CHkCHMCVhe3X"
      },
      "source": [
        "# 7. What is a shortcut for the following code? if 'color' not in spam: \n",
        "# spam['color'] = 'black'"
      ],
      "execution_count": 37,
      "outputs": []
    },
    {
      "cell_type": "code",
      "metadata": {
        "id": "9CtOsTuohe8G",
        "colab": {
          "base_uri": "https://localhost:8080/"
        },
        "outputId": "3f297a38-8f31-4706-f115-19b215ce95b0"
      },
      "source": [
        "spam = {'bar':100, 'gourav': 'student', 'class':'b.tech'} \n",
        "for i in spam.keys():\n",
        "  if i == 'color':\n",
        "    print(\"Color is there\")\n",
        "    break\n",
        "  else:\n",
        "    print(\"Color is not there, then add 'color' as key\")\n",
        "    spam['color'] = 'black'\n",
        "    break\n",
        "    \n",
        "spam    # printing new spam dictionary"
      ],
      "execution_count": 57,
      "outputs": [
        {
          "output_type": "stream",
          "text": [
            "Color is not there, then add 'color' as key\n"
          ],
          "name": "stdout"
        },
        {
          "output_type": "execute_result",
          "data": {
            "text/plain": [
              "{'bar': 100, 'class': 'b.tech', 'color': 'black', 'gourav': 'student'}"
            ]
          },
          "metadata": {
            "tags": []
          },
          "execution_count": 57
        }
      ]
    },
    {
      "cell_type": "code",
      "metadata": {
        "colab": {
          "base_uri": "https://localhost:8080/"
        },
        "id": "ZPRg68l8Bz96",
        "outputId": "7770738d-6864-4d63-d21b-c27ab9fc0165"
      },
      "source": [
        "spam = {'bar':100, 'gourav': 'student', 'class':'b.tech'} \n",
        "spam.setdefault('color', 'black')           # spam.setdefault(key, value) - function \n",
        "print(spam)\n",
        "print(\"This Person likes\", spam.setdefault('color'), \"color shirts.\")"
      ],
      "execution_count": 64,
      "outputs": [
        {
          "output_type": "stream",
          "text": [
            "{'bar': 100, 'gourav': 'student', 'class': 'b.tech', 'color': 'black'}\n",
            "This Person likes black color shirts.\n"
          ],
          "name": "stdout"
        }
      ]
    },
    {
      "cell_type": "code",
      "metadata": {
        "colab": {
          "base_uri": "https://localhost:8080/"
        },
        "id": "q5HFnhLSCBu_",
        "outputId": "d63ffc2f-4500-46e8-e199-e5e88872c55b"
      },
      "source": [
        "spam"
      ],
      "execution_count": 52,
      "outputs": [
        {
          "output_type": "execute_result",
          "data": {
            "text/plain": [
              "{'bar': 100, 'class': 'b.tech', 'gourav': 'student'}"
            ]
          },
          "metadata": {
            "tags": []
          },
          "execution_count": 52
        }
      ]
    },
    {
      "cell_type": "code",
      "metadata": {
        "id": "O-vdtRjrhfCM"
      },
      "source": [
        "# 8. How do you \"pretty print\" dictionary values using which module and function?"
      ],
      "execution_count": 4,
      "outputs": []
    },
    {
      "cell_type": "code",
      "metadata": {
        "id": "IlW5LGUNBn-8"
      },
      "source": [
        "# Answer: Using pprint.print()"
      ],
      "execution_count": null,
      "outputs": []
    },
    {
      "cell_type": "code",
      "metadata": {
        "colab": {
          "base_uri": "https://localhost:8080/"
        },
        "id": "Q2_Z0ru75rFd",
        "outputId": "9e8e0cbc-1273-4dc2-a6c8-7fb12c85c940"
      },
      "source": [
        "!pip install pprintpp\n",
        "import pprint * "
      ],
      "execution_count": 16,
      "outputs": [
        {
          "output_type": "stream",
          "text": [
            "Requirement already satisfied: pprintpp in /usr/local/lib/python3.7/dist-packages (0.4.0)\n"
          ],
          "name": "stdout"
        }
      ]
    },
    {
      "cell_type": "code",
      "metadata": {
        "colab": {
          "base_uri": "https://localhost:8080/"
        },
        "id": "N6oQNbcnsvD2",
        "outputId": "a80ea6e1-b482-4cf6-b9dd-a3efd80d2dcb"
      },
      "source": [
        "lst1= [(1, {'a': 'A', 'b': 'B', 'c': 'C','d': 'D'})]\n",
        "lst2= [(2, {'e': 'E', 'f': 'F','g': 'G','h': 'H','i':'I','j': 'J','k': 'K'})] \n",
        "lst3= [(3, ['m', 'n', 'l'])]\n",
        "result = lst1+lst2+lst3\n",
        "pprint(result)"
      ],
      "execution_count": 29,
      "outputs": [
        {
          "output_type": "stream",
          "text": [
            "[(1, {'a': 'A', 'b': 'B', 'c': 'C', 'd': 'D'}),\n",
            " (2, {'e': 'E', 'f': 'F', 'g': 'G', 'h': 'H', 'i': 'I', 'j': 'J', 'k': 'K'}),\n",
            " (3, ['m', 'n', 'l'])]\n"
          ],
          "name": "stdout"
        }
      ]
    },
    {
      "cell_type": "code",
      "metadata": {
        "colab": {
          "base_uri": "https://localhost:8080/"
        },
        "id": "Jqvw9mrSs2mv",
        "outputId": "a23c5e41-b932-45be-f805-dd563cf36166"
      },
      "source": [
        "lst5= {'e': 'E', 'f': 'F','g': 'G','h': 'H','i':'I','j': 'J','k': 'K'}\n",
        "pprint(lst5.values())"
      ],
      "execution_count": 31,
      "outputs": [
        {
          "output_type": "stream",
          "text": [
            "dict_values(['E', 'F', 'G', 'H', 'I', 'J', 'K'])\n"
          ],
          "name": "stdout"
        }
      ]
    },
    {
      "cell_type": "code",
      "metadata": {
        "colab": {
          "base_uri": "https://localhost:8080/",
          "height": 189
        },
        "id": "dT0vhfOf32Bi",
        "outputId": "f3c11268-7e09-459c-caf2-55d6304234ad"
      },
      "source": [
        "lst5= {'h': 'H','i':'I','j': 'J','k': 'K', 'e': 'E', 'f': 'F','g': 'G'}\n",
        "pprint(lst5.keys())"
      ],
      "execution_count": 35,
      "outputs": [
        {
          "output_type": "error",
          "ename": "TypeError",
          "evalue": "ignored",
          "traceback": [
            "\u001b[0;31m---------------------------------------------------------------------------\u001b[0m",
            "\u001b[0;31mTypeError\u001b[0m                                 Traceback (most recent call last)",
            "\u001b[0;32m<ipython-input-35-a6855fc53ee4>\u001b[0m in \u001b[0;36m<module>\u001b[0;34m()\u001b[0m\n\u001b[1;32m      1\u001b[0m \u001b[0mlst5\u001b[0m\u001b[0;34m=\u001b[0m \u001b[0;34m{\u001b[0m\u001b[0;34m'h'\u001b[0m\u001b[0;34m:\u001b[0m \u001b[0;34m'H'\u001b[0m\u001b[0;34m,\u001b[0m\u001b[0;34m'i'\u001b[0m\u001b[0;34m:\u001b[0m\u001b[0;34m'I'\u001b[0m\u001b[0;34m,\u001b[0m\u001b[0;34m'j'\u001b[0m\u001b[0;34m:\u001b[0m \u001b[0;34m'J'\u001b[0m\u001b[0;34m,\u001b[0m\u001b[0;34m'k'\u001b[0m\u001b[0;34m:\u001b[0m \u001b[0;34m'K'\u001b[0m\u001b[0;34m,\u001b[0m \u001b[0;34m'e'\u001b[0m\u001b[0;34m:\u001b[0m \u001b[0;34m'E'\u001b[0m\u001b[0;34m,\u001b[0m \u001b[0;34m'f'\u001b[0m\u001b[0;34m:\u001b[0m \u001b[0;34m'F'\u001b[0m\u001b[0;34m,\u001b[0m\u001b[0;34m'g'\u001b[0m\u001b[0;34m:\u001b[0m \u001b[0;34m'G'\u001b[0m\u001b[0;34m}\u001b[0m\u001b[0;34m\u001b[0m\u001b[0;34m\u001b[0m\u001b[0m\n\u001b[0;32m----> 2\u001b[0;31m \u001b[0mpprint\u001b[0m\u001b[0;34m(\u001b[0m\u001b[0mlst5\u001b[0m\u001b[0;34m.\u001b[0m\u001b[0mvalues\u001b[0m\u001b[0;34m(\u001b[0m\u001b[0;34m)\u001b[0m\u001b[0;34m)\u001b[0m\u001b[0;34m\u001b[0m\u001b[0;34m\u001b[0m\u001b[0m\n\u001b[0m",
            "\u001b[0;31mTypeError\u001b[0m: 'module' object is not callable"
          ]
        }
      ]
    },
    {
      "cell_type": "code",
      "metadata": {
        "colab": {
          "base_uri": "https://localhost:8080/"
        },
        "id": "5EzlG5jH94z6",
        "outputId": "7160e07b-2d78-4eaf-9d68-4ce60ee28625"
      },
      "source": [
        "lst5= {'e': 'E', 'f': 'F','g': 'G','h': 'H','i':'I','j': 'J','k': 'K'}\n",
        "lst5.values()"
      ],
      "execution_count": 36,
      "outputs": [
        {
          "output_type": "execute_result",
          "data": {
            "text/plain": [
              "dict_values(['E', 'F', 'G', 'H', 'I', 'J', 'K'])"
            ]
          },
          "metadata": {
            "tags": []
          },
          "execution_count": 36
        }
      ]
    },
    {
      "cell_type": "code",
      "metadata": {
        "id": "jVLMN_9h-G14"
      },
      "source": [
        ""
      ],
      "execution_count": null,
      "outputs": []
    }
  ]
}