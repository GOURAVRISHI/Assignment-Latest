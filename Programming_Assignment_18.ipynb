{
  "nbformat": 4,
  "nbformat_minor": 0,
  "metadata": {
    "colab": {
      "name": "Programming Assignment- 18.ipynb",
      "provenance": [],
      "collapsed_sections": []
    },
    "kernelspec": {
      "name": "python3",
      "display_name": "Python 3"
    },
    "language_info": {
      "name": "python"
    }
  },
  "cells": [
    {
      "cell_type": "code",
      "metadata": {
        "id": "xgSHtQVBsFQ9",
        "colab": {
          "base_uri": "https://localhost:8080/",
          "height": 54
        },
        "outputId": "4efad4b2-c0ee-4e25-c77b-fc19e90cc322"
      },
      "source": [
        "'''Question 1\n",
        "Create a function that takes a list of non-negative integers and strings and return a new list\n",
        "without the strings.\n",
        "Examples\n",
        "filter_list([1, 2, \"a\", \"b\"]) ➞ [1, 2]\n",
        "filter_list([1, \"a\", \"b\", 0, 15]) ➞ [1, 0, 15]\n",
        "filter_list([1, 2, \"aasf\", \"1\", \"123\", 123]) ➞ [1, 2, 123]'''"
      ],
      "execution_count": null,
      "outputs": [
        {
          "output_type": "execute_result",
          "data": {
            "application/vnd.google.colaboratory.intrinsic+json": {
              "type": "string"
            },
            "text/plain": [
              "'Question 1\\nCreate a function that takes a list of non-negative integers and strings and return a new list\\nwithout the strings.\\nExamples\\nfilter_list([1, 2, \"a\", \"b\"]) ➞ [1, 2]\\nfilter_list([1, \"a\", \"b\", 0, 15]) ➞ [1, 0, 15]\\nfilter_list([1, 2, \"aasf\", \"1\", \"123\", 123]) ➞ [1, 2, 123]'"
            ]
          },
          "metadata": {
            "tags": []
          },
          "execution_count": 1
        }
      ]
    },
    {
      "cell_type": "code",
      "metadata": {
        "colab": {
          "base_uri": "https://localhost:8080/"
        },
        "id": "8Iwp2j0YNL-t",
        "outputId": "b3d57f14-856d-452b-e5b8-85c8244e2dcd"
      },
      "source": [
        "def filtered_list(data):\n",
        "  lst=[]\n",
        "  for i in data:\n",
        "      if type(i) == int:\n",
        "          lst.append(i)\n",
        "      else:\n",
        "          pass\n",
        "  return print(\"filtered list without string: \", lst)\n",
        "\n",
        "filtered_list([1, 2, \"aasf\", \"1\", \"123\", 123])"
      ],
      "execution_count": 54,
      "outputs": [
        {
          "output_type": "stream",
          "text": [
            "filtered list without string:  [1, 2, 123]\n"
          ],
          "name": "stdout"
        }
      ]
    },
    {
      "cell_type": "code",
      "metadata": {
        "id": "REQmB2Acslrr"
      },
      "source": [
        "'''Question 2\n",
        "The \"Reverser\" takes a string as input and returns that string in reverse order, with the\n",
        "opposite case.\n",
        "Examples\n",
        "reverse(\"Hello World\") ➞ \"DLROw OLLEh\"\n",
        "reverse(\"ReVeRsE\") ➞ \"eSrEvEr\"\n",
        "reverse(\"Radar\") ➞ \"RADAr\"\n",
        "'''"
      ],
      "execution_count": null,
      "outputs": []
    },
    {
      "cell_type": "code",
      "metadata": {
        "id": "0rNSrJy4sl3h",
        "colab": {
          "base_uri": "https://localhost:8080/"
        },
        "outputId": "8833f598-8415-49c0-c85c-df0cb4c181ee"
      },
      "source": [
        "string=str(input(\"Enter your String: \"))\n",
        "# new_string=print(string[-1::-1])\n",
        "string_mod=\"\"\n",
        "count1=0  # uppercases\n",
        "count2=0  # lowercases\n",
        "count3=0  # whitespace\n",
        "\n",
        "for i in string:\n",
        "\n",
        "  if (i.isupper())==True:\n",
        "    count1 = count1+1\n",
        "    string_mod= string_mod+(i.lower())\n",
        "\n",
        "  elif (i.islower())==True:\n",
        "    count2 = count2+1\n",
        "    string_mod=string_mod+(i.upper())\n",
        "\n",
        "  elif (i.isspace())==True:\n",
        "    count3 = count3+1\n",
        "    string_mod=string_mod+i\n",
        "\n",
        "print(\"Original String: \", string)\n",
        "print(\"New String: \", string_mod[-1::-1])\n",
        "print(\"Total upper cases\", count1, \"lower cases\", count2, \"whitespaces\", count3)\n",
        "\n",
        "# input text - Hello World/ ReVeRsE/ Radar"
      ],
      "execution_count": null,
      "outputs": [
        {
          "output_type": "stream",
          "text": [
            "Enter your String: Hello World\n",
            "Original String:  Hello World\n",
            "New String:  DLROw OLLEh\n",
            "Total upper cases 2 lower cases 8 whitespaces 1\n"
          ],
          "name": "stdout"
        }
      ]
    },
    {
      "cell_type": "code",
      "metadata": {
        "colab": {
          "base_uri": "https://localhost:8080/",
          "height": 108
        },
        "id": "nsfKQ_NG4J9e",
        "outputId": "f33b9397-18cd-42bc-961d-025c918f9c93"
      },
      "source": [
        "'''Question 3\n",
        "You can assign variables from lists like this:\n",
        "lst = [1, 2, 3, 4, 5, 6]\n",
        "first = lst[0]\n",
        "middle = lst[1:-1]\n",
        "last = lst[-1]\n",
        "print(first) ➞ outputs 1\n",
        "print(middle) ➞ outputs [2, 3, 4, 5]\n",
        "print(last) ➞ outputs 6\n",
        "With Python 3, you can assign variables from lists in a much more succinct way. Create\n",
        "variables first, middle and last from the given list using destructuring assignment\n",
        "(check the Resources tab for some examples), where:\n",
        "first ➞ 1\n",
        "middle ➞ [2, 3, 4, 5]\n",
        "last ➞ 6\n",
        "Your task is to unpack the list writeyourcodehere into three variables, being first,\n",
        "middle, and last, with middle being everything in between the first and last element. Then\n",
        "print all three variables.\n",
        "'''"
      ],
      "execution_count": null,
      "outputs": [
        {
          "output_type": "execute_result",
          "data": {
            "application/vnd.google.colaboratory.intrinsic+json": {
              "type": "string"
            },
            "text/plain": [
              "'Question 3\\nYou can assign variables from lists like this:\\nlst = [1, 2, 3, 4, 5, 6]\\nfirst = lst[0]\\nmiddle = lst[1:-1]\\nlast = lst[-1]\\nprint(first) ➞ outputs 1\\nprint(middle) ➞ outputs [2, 3, 4, 5]\\nprint(last) ➞ outputs 6\\nWith Python 3, you can assign variables from lists in a much more succinct way. Create\\nvariables first, middle and last from the given list using destructuring assignment\\n(check the Resources tab for some examples), where:\\nfirst ➞ 1\\nmiddle ➞ [2, 3, 4, 5]\\nlast ➞ 6\\nYour task is to unpack the list writeyourcodehere into three variables, being first,\\nmiddle, and last, with middle being everything in between the first and last element. Then\\nprint all three variables.\\n'"
            ]
          },
          "metadata": {
            "tags": []
          },
          "execution_count": 21
        }
      ]
    },
    {
      "cell_type": "code",
      "metadata": {
        "colab": {
          "base_uri": "https://localhost:8080/"
        },
        "id": "ofxiszGQ4Ks_",
        "outputId": "ddd23cd5-b801-4392-c31e-3cf4e0c31176"
      },
      "source": [
        "lst = [1, 2, 3, 4, 5, 6]\n",
        "\n",
        "print(\"First element: \", lst[0])\n",
        "print(\"Middle elements: \", lst[1:-1])\n",
        "print(\"Last element: \", lst[-1])"
      ],
      "execution_count": null,
      "outputs": [
        {
          "output_type": "stream",
          "text": [
            "First element:  1\n",
            "Middle elements:  [2, 3, 4, 5]\n",
            "Last element:  6\n"
          ],
          "name": "stdout"
        }
      ]
    },
    {
      "cell_type": "code",
      "metadata": {
        "colab": {
          "base_uri": "https://localhost:8080/",
          "height": 72
        },
        "id": "TSmBG6wNsmRB",
        "outputId": "37982aee-0fc2-4727-a7c3-c71fba72dd94"
      },
      "source": [
        "'''Question 4\n",
        "Write a function that calculates the factorial of a number recursively.\n",
        "Examples\n",
        "factorial(5) ➞ 120\n",
        "factorial(3) ➞ 6\n",
        "factorial(1) ➞ 1\n",
        "factorial(0) ➞ 1\n",
        "'''"
      ],
      "execution_count": null,
      "outputs": [
        {
          "output_type": "execute_result",
          "data": {
            "application/vnd.google.colaboratory.intrinsic+json": {
              "type": "string"
            },
            "text/plain": [
              "'Question 4\\nWrite a function that calculates the factorial of a number recursively.\\nExamples\\nfactorial(5) ➞ 120\\nfactorial(3) ➞ 6\\nfactorial(1) ➞ 1\\nfactorial(0) ➞ 1\\n'"
            ]
          },
          "metadata": {
            "tags": []
          },
          "execution_count": 2
        }
      ]
    },
    {
      "cell_type": "code",
      "metadata": {
        "id": "6Gmktn1Rti9M",
        "colab": {
          "base_uri": "https://localhost:8080/"
        },
        "outputId": "0fbff1fa-4628-48e4-b384-e4ca88e1f838"
      },
      "source": [
        "num = int(input(\"Enter the Number: \"))\n",
        "\n",
        "def fact(num):\n",
        "  if num == 1:\n",
        "    return num \n",
        "  else:\n",
        "    return num*fact(num-1)\n",
        "\n",
        "if num < 0:\n",
        "  print(\"Invalid Number!\")\n",
        "elif num == 0:\n",
        "  print(\"The Factorial of 0 is 1\")\n",
        "else:\n",
        "  print(\"The Factorial of\", num, \"is\", fact(num))"
      ],
      "execution_count": 56,
      "outputs": [
        {
          "output_type": "stream",
          "text": [
            "Enter the Number: 5\n",
            "The Factorial of 5 is 120\n"
          ],
          "name": "stdout"
        }
      ]
    },
    {
      "cell_type": "code",
      "metadata": {
        "colab": {
          "base_uri": "https://localhost:8080/",
          "height": 108
        },
        "id": "XMSm5UmMtjIF",
        "outputId": "5f2c22e7-aae9-48b2-da42-4f9a20b7bd15"
      },
      "source": [
        "'''Question 5\n",
        "Write a function that moves all elements of one type to the end of the list.\n",
        "Examples\n",
        "move_to_end([1, 3, 2, 4, 4, 1], 1) ➞ [3, 2, 4, 4, 1, 1]\n",
        "# Move all the 1s to the end of the array.\n",
        "move_to_end([7, 8, 9, 1, 2, 3, 4], 9) ➞ [7, 8, 1, 2, 3, 4, 9]\n",
        "move_to_end([\"a\", \"a\", \"a\", \"b\"], \"a\") ➞ [\"b\", \"a\", \"a\", \"a\"]'''"
      ],
      "execution_count": null,
      "outputs": [
        {
          "output_type": "execute_result",
          "data": {
            "application/vnd.google.colaboratory.intrinsic+json": {
              "type": "string"
            },
            "text/plain": [
              "'Question 5\\nWrite a function that moves all elements of one type to the end of the list.\\nExamples\\nmove_to_end([1, 3, 2, 4, 4, 1], 1) ➞ [3, 2, 4, 4, 1, 1]\\n# Move all the 1s to the end of the array.\\nmove_to_end([7, 8, 9, 1, 2, 3, 4], 9) ➞ [7, 8, 1, 2, 3, 4, 9]\\nmove_to_end([\"a\", \"a\", \"a\", \"b\"], \"a\") ➞ [\"b\", \"a\", \"a\", \"a\"]'"
            ]
          },
          "metadata": {
            "tags": []
          },
          "execution_count": 1
        }
      ]
    },
    {
      "cell_type": "code",
      "metadata": {
        "colab": {
          "base_uri": "https://localhost:8080/"
        },
        "id": "dPcPDDI2mLGU",
        "outputId": "e7b0d979-7c83-4926-8cb2-a560e39eb3a7"
      },
      "source": [
        "list1 = ([\"a\", \"a\", \"a\", \"b\"], \"a\")\n",
        "\n",
        "select_options= str(input('''Type your input as \"Str\"\" if string or \"int\" if integer: '''))\n",
        "if select_options ==int:\n",
        "  num=int(input(\"Element which needs to shift to last: \"))\n",
        "else:\n",
        "  num=str(input(\"Element which needs to shift to last: \"))\n",
        "\n",
        "def move_to_end (list1):\n",
        "\n",
        "  # a=\"a\"\n",
        "  lst2=[]\n",
        "  lst1=[]\n",
        "  for item in list1:\n",
        "    if type(item) == list:\n",
        "      lst2.append(item)\n",
        "  \n",
        "  for item in lst2:\n",
        "      if type(item)== list:\n",
        "          print(\"Tuple is  converted into list: \", item)\n",
        "\n",
        "  item.append(item.pop(item.index(num)))\n",
        "\n",
        "  result = print(\"move_to_end\", str(item))\n",
        "  return result \n",
        "\n",
        "move_to_end (list1)\n",
        "\n",
        "# input -([1, 3, 2, 4, 4, 1], 1) ➞ [3, 2, 4, 4, 1, 1]\n",
        "# input -([7, 8, 9, 1, 2, 3, 4], 9)     ➞ [7, 8, 1, 2, 3, 4, 9]\n",
        "# input -([\"a\", \"a\", \"a\", \"b\"], \"a\")    ➞ [\"b\", \"a\", \"a\", \"a\"]"
      ],
      "execution_count": 125,
      "outputs": [
        {
          "output_type": "stream",
          "text": [
            "Type your input as \"Str\"\" if string or \"int\" if integer: str\n",
            "Element which needs to shift to last: a\n",
            "Tuple is  converted into list:  ['a', 'a', 'a', 'b']\n",
            "move_to_end ['a', 'a', 'b', 'a']\n"
          ],
          "name": "stdout"
        }
      ]
    },
    {
      "cell_type": "code",
      "metadata": {
        "colab": {
          "base_uri": "https://localhost:8080/"
        },
        "id": "DwfCA9ZbnSo_",
        "outputId": "3f8e374a-e80b-4e40-a294-c854954d75e0"
      },
      "source": [
        "list1 = ([7, 8, 9, 1, 2, 3, 4], 9)\n",
        "\n",
        "def move_to_end (list1):\n",
        "\n",
        "  num=9\n",
        "  lst2=[]\n",
        "  lst1=[]\n",
        "  for item in list1:\n",
        "    if type(item) == list:\n",
        "      lst2.append(item)\n",
        "  \n",
        "  for item in lst2:\n",
        "      if type(item)== list:\n",
        "          print(\"Tuple is  converted into list: \", item)\n",
        "\n",
        "  item.append(item.pop(item.index(9)))\n",
        "\n",
        "  result = print(\"move_to_end: \", str(item))\n",
        "  return result \n",
        "\n",
        "move_to_end (list1)"
      ],
      "execution_count": 131,
      "outputs": [
        {
          "output_type": "stream",
          "text": [
            "Tuple is  converted into list:  [7, 8, 9, 1, 2, 3, 4]\n",
            "move_to_end:  [7, 8, 1, 2, 3, 4, 9]\n"
          ],
          "name": "stdout"
        }
      ]
    },
    {
      "cell_type": "code",
      "metadata": {
        "id": "Cs-X-PRenZc0"
      },
      "source": [
        ""
      ],
      "execution_count": 85,
      "outputs": []
    },
    {
      "cell_type": "code",
      "metadata": {
        "id": "sj-P9yODODTr"
      },
      "source": [
        ""
      ],
      "execution_count": null,
      "outputs": []
    }
  ]
}