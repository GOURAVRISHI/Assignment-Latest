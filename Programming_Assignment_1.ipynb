{
  "nbformat": 4,
  "nbformat_minor": 0,
  "metadata": {
    "colab": {
      "name": "Programming Assignment- 1.ipynb",
      "provenance": [],
      "collapsed_sections": []
    },
    "kernelspec": {
      "name": "python3",
      "display_name": "Python 3"
    },
    "language_info": {
      "name": "python"
    }
  },
  "cells": [
    {
      "cell_type": "code",
      "metadata": {
        "colab": {
          "base_uri": "https://localhost:8080/"
        },
        "id": "xrhDgu7YLie8",
        "outputId": "8b8670eb-6ab2-4e73-cc3d-6e6e3b7c0164"
      },
      "source": [
        "# Ques 1:\tWrite a Python program to print \"Hello Python\"?\n",
        "print(\"Hello Python\")"
      ],
      "execution_count": 2,
      "outputs": [
        {
          "output_type": "stream",
          "text": [
            "Hello Python\n"
          ],
          "name": "stdout"
        }
      ]
    },
    {
      "cell_type": "code",
      "metadata": {
        "id": "e7gdVHCBLquw"
      },
      "source": [
        "# 2.\tWrite a Python program to do arithmetical operations addition and division.?"
      ],
      "execution_count": 3,
      "outputs": []
    },
    {
      "cell_type": "code",
      "metadata": {
        "colab": {
          "base_uri": "https://localhost:8080/"
        },
        "id": "G-AEwWnSOEYV",
        "outputId": "86bd3654-8472-40f6-e2a6-6a3aea3ede69"
      },
      "source": [
        "num1 = float(input(\"Enter first number: \"))\n",
        "num2 = float(input(\"Enter second number: \"))\n",
        "add   =num1 +num2 \n",
        "divide=num1 / num2\n",
        "\n",
        "print(\"Addition of {0} and {1} numbers is= {2} \".format(num1, num2, add))\n",
        "print(\"Division of {0} and {1} numbers is= {2} \".format(num1, num2, divide))"
      ],
      "execution_count": 52,
      "outputs": [
        {
          "output_type": "stream",
          "text": [
            "Enter first number: 12\n",
            "Enter second number: 13\n",
            "Addition of 12.0 and 13.0 numbers is= 25.0 \n",
            "Division of 12.0 and 13.0 numbers is= 0.9230769230769231 \n"
          ],
          "name": "stdout"
        }
      ]
    },
    {
      "cell_type": "code",
      "metadata": {
        "id": "QVvOEiAXL0VU"
      },
      "source": [
        "# 3.\tWrite a Python program to find the area of a triangle?"
      ],
      "execution_count": 7,
      "outputs": []
    },
    {
      "cell_type": "code",
      "metadata": {
        "colab": {
          "base_uri": "https://localhost:8080/"
        },
        "id": "nDL6EDubOODC",
        "outputId": "cace5748-194d-439d-dd71-7d44707b5c12"
      },
      "source": [
        "base=int(input(\"base: \"))\n",
        "height=int(input(\"height: \"))\n",
        "area =(base*height)/2\n",
        "print(\"Area of the triangle is : \", area)"
      ],
      "execution_count": 46,
      "outputs": [
        {
          "output_type": "stream",
          "text": [
            "base: 4\n",
            "height: 2\n",
            "Area of the triangle is :  4.0\n"
          ],
          "name": "stdout"
        }
      ]
    },
    {
      "cell_type": "code",
      "metadata": {
        "id": "wp2BW3_jL2CZ"
      },
      "source": [
        "# 4.\tWrite a Python program to swap two variables?"
      ],
      "execution_count": 41,
      "outputs": []
    },
    {
      "cell_type": "code",
      "metadata": {
        "colab": {
          "base_uri": "https://localhost:8080/"
        },
        "id": "W4NlRSHVOOhQ",
        "outputId": "382f9b44-cdc4-4d10-97e1-3d95d05c9623"
      },
      "source": [
        "x = int(input(\"Enter the value of x: \"))\n",
        "y = int(input(\"Enter the value of y: \"))\n",
        "\n",
        "x, y = y, x\n",
        "print(\"Value of x after swapping=\", x)\n",
        "print(\"Value of y after swapping=\", y)"
      ],
      "execution_count": 55,
      "outputs": [
        {
          "output_type": "stream",
          "text": [
            "Enter the value of x: 10\n",
            "Enter the value of y: 20\n",
            "Value of x after swapping= 20\n",
            "Value of y after swapping= 10\n"
          ],
          "name": "stdout"
        }
      ]
    },
    {
      "cell_type": "code",
      "metadata": {
        "id": "wa6xgtrWL2xy"
      },
      "source": [
        "# 5.\tWrite a Python program to generate a random number?"
      ],
      "execution_count": 9,
      "outputs": []
    },
    {
      "cell_type": "code",
      "metadata": {
        "colab": {
          "base_uri": "https://localhost:8080/"
        },
        "id": "mOTwOZLQL3UJ",
        "outputId": "22c79f41-ff8d-4d5f-b7bc-8fa86a2af56f"
      },
      "source": [
        "#Generate 1 random numbers between 15 to 30\n",
        "import random\n",
        "n=random.randint(15,30)\n",
        "print(n)"
      ],
      "execution_count": 15,
      "outputs": [
        {
          "output_type": "stream",
          "text": [
            "30\n"
          ],
          "name": "stdout"
        }
      ]
    },
    {
      "cell_type": "code",
      "metadata": {
        "colab": {
          "base_uri": "https://localhost:8080/"
        },
        "id": "wxKxwNm5L-5H",
        "outputId": "cae741ac-1fcf-4bca-a54b-29d867c9f95a"
      },
      "source": [
        "# generate 10 random number from 15 to 110\n",
        "# after generating 10 random number. Sorted all\n",
        "import random \n",
        "list = random.sample(range(15, 110), 10)\n",
        "print(list)"
      ],
      "execution_count": 40,
      "outputs": [
        {
          "output_type": "stream",
          "text": [
            "[37, 19, 97, 76, 53, 91, 77, 96, 70, 79]\n"
          ],
          "name": "stdout"
        }
      ]
    },
    {
      "cell_type": "code",
      "metadata": {
        "id": "lXgpEdfLNPEt"
      },
      "source": [
        ""
      ],
      "execution_count": null,
      "outputs": []
    }
  ]
}