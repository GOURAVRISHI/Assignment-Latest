{
 "cells": [
  {
   "cell_type": "markdown",
   "metadata": {
    "id": "Wxi1hKDBLbaR"
   },
   "source": [
    "# Assignment-13"
   ]
  },
  {
   "cell_type": "code",
   "execution_count": 13,
   "metadata": {
    "id": "HhkWflwX42N6"
   },
   "outputs": [],
   "source": [
    "# 1. What advantages do Excel spreadsheets have over CSV spreadsheets?"
   ]
  },
  {
   "cell_type": "code",
   "execution_count": 14,
   "metadata": {
    "id": "XYBZ9_tXLimT"
   },
   "outputs": [
    {
     "data": {
      "text/plain": [
       "'In Excel, spreadsheets can have values of various data types except strings; cells can have different fonts, \\nsizes, or color; cells can be different widths and heights; adjacent cells can be merged; \\nand we can attach images and charts. Excel is also a great reporting tool.\\n\\nExcel - \\n1. It is a binary file that holds information about all the worksheets in a workbook.\\n2. An Excel not only stores data but can also do operations on the data \\n3. Reading large files user is much easier in Excel for the end user. Also, you can have\\nadditional functions like selecting individual cells for import, convert dates and time \\nautomatically, reading formulas and their results, filters, sorting, etc.\\n4. Apart from text, data can also be stored in form of charts and graphs\\n5.Excel can connect to external data sources to fetch data. You can use custom add-in in Excel\\nto increase its functionality. Excel allows for Review of Data with detailed tracking and commenting feature. \\n\\nCSV - \\n1. It is a plain text format with a series of values separated by commas. \\n2. A CSV file is just a text file, it stores data but does not contain formatting, \\nformulas, macros, etc. It is also known as flat files\\n3. Reading large files in CSV will not be as easier as Excel for the End User\\n4. Each record is stored as one line of a text file, and every newline signifies a \\nnew database row. CSV can not store charts or graphs\\n5. All this functionality is not possible in CSV\\n\\n'"
      ]
     },
     "execution_count": 14,
     "metadata": {},
     "output_type": "execute_result"
    }
   ],
   "source": [
    "'''In Excel, spreadsheets can have values of various data types except strings; cells can have different fonts, \n",
    "sizes, or color; cells can be different widths and heights; adjacent cells can be merged; \n",
    "and we can attach images and charts. Excel is also a great reporting tool.\n",
    "\n",
    "Excel - \n",
    "1. It is a binary file that holds information about all the worksheets in a workbook.\n",
    "2. An Excel not only stores data but can also do operations on the data \n",
    "3. Reading large files user is much easier in Excel for the end user. Also, you can have\n",
    "additional functions like selecting individual cells for import, convert dates and time \n",
    "automatically, reading formulas and their results, filters, sorting, etc.\n",
    "4. Apart from text, data can also be stored in form of charts and graphs\n",
    "5.Excel can connect to external data sources to fetch data. You can use custom add-in in Excel\n",
    "to increase its functionality. Excel allows for Review of Data with detailed tracking and commenting feature. \n",
    "6. We can work on multiple sheets in excel.\n",
    "7. We can specify the width and height of column and rows.\n",
    "\n",
    "CSV - \n",
    "1. It is a plain text format with a series of values separated by commas. \n",
    "2. A CSV file is just a text file, it stores data but does not contain formatting, \n",
    "formulas, macros, etc. It is also known as flat files\n",
    "3. Reading large files in CSV will not be as easier as Excel for the End User\n",
    "4. Each record is stored as one line of a text file, and every newline signifies a \n",
    "new database row. CSV can not store charts or graphs\n",
    "5. All this functionality is not possible in CSV\n",
    "\n",
    "'''"
   ]
  },
  {
   "cell_type": "code",
   "execution_count": 15,
   "metadata": {
    "id": "QengiWI342Vd"
   },
   "outputs": [],
   "source": [
    "# 2.What do you pass to csv.reader() and csv.writer() to create reader and writer objects?"
   ]
  },
  {
   "cell_type": "code",
   "execution_count": 25,
   "metadata": {
    "id": "pui4nvW942cX"
   },
   "outputs": [
    {
     "data": {
      "text/plain": [
       "[['a', ' b', ' c', ' d', ' message'],\n",
       " ['1', ' 2', ' 3', ' 4', ' hello '],\n",
       " ['5', ' 6', ' 7', ' 8', ' world'],\n",
       " ['9', ' 10', ' 11', ' 12', ' foo']]"
      ]
     },
     "execution_count": 25,
     "metadata": {},
     "output_type": "execute_result"
    }
   ],
   "source": [
    " '''You pass a File object, obtained from a call to open().'''\n",
    "import csv\n",
    "file = open('C:\\\\Users\\\\GAURAV\\\\Assignment\\\\ex1.csv')\n",
    "reader= csv.reader(file)\n",
    "data=list(reader)\n",
    "data"
   ]
  },
  {
   "cell_type": "code",
   "execution_count": 30,
   "metadata": {},
   "outputs": [],
   "source": [
    "# for writting csv file \n",
    "\n",
    "file= open('C:\\\\Users\\\\GAURAV\\\\Assignment\\\\ex1.csv', 'w', newline='')# we can use a to append also\n",
    "writer= csv.writer(file)\n",
    "writer.writerow([13, 14, 15, 16, 'mumbai'])\n",
    "writer.writerow(['Student', 'of', 'INeuron', 'from', 'mumbai'])\n",
    "file.close()"
   ]
  },
  {
   "cell_type": "code",
   "execution_count": 32,
   "metadata": {},
   "outputs": [
    {
     "data": {
      "text/plain": [
       "[['13', '14', '15', '16', 'mumbai'],\n",
       " ['Student', 'of', 'INeuron', 'from', 'mumbai'],\n",
       " ['13', '14', '15', '16', 'mumbai'],\n",
       " ['Student', 'of', 'INeuron', 'from', 'mumbai']]"
      ]
     },
     "execution_count": 32,
     "metadata": {},
     "output_type": "execute_result"
    }
   ],
   "source": [
    "file = open('C:\\\\Users\\\\GAURAV\\\\Assignment\\\\ex1.csv')\n",
    "reader= csv.reader(file)\n",
    "data=list(reader)\n",
    "data"
   ]
  },
  {
   "cell_type": "code",
   "execution_count": 17,
   "metadata": {
    "id": "4fb1oSJq42iI"
   },
   "outputs": [],
   "source": [
    "# 3. What modes do File objects for reader and writer objects need to be opened in?"
   ]
  },
  {
   "cell_type": "code",
   "execution_count": 41,
   "metadata": {
    "id": "prGGBHEB42oV"
   },
   "outputs": [
    {
     "data": {
      "text/plain": [
       "' File objects need to be opened in read-binary (\\'rb\\') for Reader objects and write-binary (\\'wb\\') for Writer objects.\\nExample code for dictreader\\nfile = open(\\'C:\\\\Users\\\\GAURAV\\\\Assignment\\\\ex2.csv\\')\\nfiledictreader =csv.DictReader(file, [\\'venue\\', \\'country\\', \\'city\\', \\'name\\', \\'fare\\'])\\n\\nExample code for dictwriter\\nfile = open(\\'C:\\\\Users\\\\GAURAV\\\\Assignment\\\\ex2.csv\\', \\'w\\', newline=\"\")\\nfileDictWriter =csv.DictWriter(file, [\\'venue0\\', \\'country1\\', \\'city2\\', \\'name3\\', \\'fare4\\'])\\nfileDictWriter.writeheader()\\nfileDictWriter.writerow({\\'Venue0\\': \\'Taj Mahal\\',\\'country1\\':\\'India\\', \\'city2\\': \\'Agra\\', \\'name3\\': \\'Bravo Smith\\', \\'fare4\\': \\'10,000\\'})\\nfileDictWriter.writerow({\\'Venue0\\': \\'Jal Mahal\\',\\'country1\\':\\'India\\', \\'city2\\': \\'Jaipur\\', \\'name3\\': \\'Tracy\\', \\'fare4\\': \\'5,000\\'})\\nfileDictWriter.writerow({\\'Venue0\\': \\'Red Fort\\',\\'country1\\':\\'Canada\\', \\'city2\\': \\'Delhi\\', \\'name3\\': \\'William\\', \\'fare4\\': \\'25,000\\'})\\nfile.close()\\n'"
      ]
     },
     "execution_count": 41,
     "metadata": {},
     "output_type": "execute_result"
    }
   ],
   "source": [
    "''' File objects need to be opened in read-binary ('rb') for Reader objects and write-binary ('wb') for Writer objects.\n",
    "Example code for dictreader\n",
    "file = open('C:\\\\Users\\\\GAURAV\\\\Assignment\\\\ex2.csv')\n",
    "filedictreader =csv.DictReader(file, ['venue', 'country', 'city', 'name', 'fare'])\n",
    "\n",
    "Example code for dictwriter\n",
    "file = open('C:\\\\Users\\\\GAURAV\\\\Assignment\\\\ex2.csv', 'w', newline=\"\")\n",
    "fileDictWriter =csv.DictWriter(file, ['venue0', 'country1', 'city2', 'name3', 'fare4'])\n",
    "fileDictWriter.writeheader()\n",
    "fileDictWriter.writerow({'Venue0': 'Taj Mahal','country1':'India', 'city2': 'Agra', 'name3': 'Bravo Smith', 'fare4': '10,000'})\n",
    "fileDictWriter.writerow({'Venue0': 'Jal Mahal','country1':'India', 'city2': 'Jaipur', 'name3': 'Tracy', 'fare4': '5,000'})\n",
    "fileDictWriter.writerow({'Venue0': 'Red Fort','country1':'Canada', 'city2': 'Delhi', 'name3': 'William', 'fare4': '25,000'})\n",
    "file.close()\n",
    "'''"
   ]
  },
  {
   "cell_type": "code",
   "execution_count": 19,
   "metadata": {
    "id": "xOBMzu4A42tm"
   },
   "outputs": [],
   "source": [
    "# 4. What method takes a list argument and writes it to a CSV file?"
   ]
  },
  {
   "cell_type": "code",
   "execution_count": 40,
   "metadata": {
    "id": "q6US4ezO42zx"
   },
   "outputs": [],
   "source": [
    "import csv\n",
    "\"write.row() is used to write in csv files\"\n",
    "file= open('C:\\\\Users\\\\GAURAV\\\\Assignment\\\\ex3.csv', 'w+', newline='')# we can use a to append also\n",
    "writer= csv.writer(file)\n",
    "writer.writerow([13, 14, 15, 16, 'mumbai'])\n",
    "writer.writerow(['Student', 'of', 'INeuron', 'from', 'mumbai'])\n",
    "file.close()"
   ]
  },
  {
   "cell_type": "code",
   "execution_count": null,
   "metadata": {
    "id": "JeIij5IR425B"
   },
   "outputs": [],
   "source": [
    "# 5. What do the keyword arguments delimiter and line terminator do?"
   ]
  },
  {
   "cell_type": "code",
   "execution_count": null,
   "metadata": {
    "id": "vRGxx4_J42_n"
   },
   "outputs": [],
   "source": [
    "'''The delimiter argument changes the string used to separate cells in a row.\n",
    "By default, delimiter for CSV file is a comma.\n",
    "The lineterminator argument changes the string used to separate rows. \n",
    "and it comes at the end of a row. By default, line terminator is a newline.\n",
    "delimiter = '\\t' change the character between cells to a tab and lineterminator ='\\n\\n' \n",
    "this changes character between rows to two newlines. '''"
   ]
  },
  {
   "cell_type": "code",
   "execution_count": null,
   "metadata": {
    "id": "PxTNhCZH43FA"
   },
   "outputs": [],
   "source": [
    "# 6. What function takes a string of JSON data and returns a Python data structure?"
   ]
  },
  {
   "cell_type": "code",
   "execution_count": 22,
   "metadata": {
    "id": "p20YIzPX43Lr"
   },
   "outputs": [
    {
     "name": "stdout",
     "output_type": "stream",
     "text": [
      "Gourav\n",
      "<class 'int'>\n",
      "<class 'str'>\n"
     ]
    }
   ],
   "source": [
    "import json\n",
    "\n",
    "string=  '{\"name\": \"Gourav\", \"class\": \"Data Science\", \"city\": \"Mumbai\", \"age\": 38}'\n",
    "\n",
    "data= json.loads(string)\n",
    "\n",
    "print(data[\"name\"])\n",
    "print(type(data[\"age\"]))\n",
    "print(type(data[\"name\"]))"
   ]
  },
  {
   "cell_type": "code",
   "execution_count": null,
   "metadata": {
    "id": "qI_xSG9O43Rx"
   },
   "outputs": [],
   "source": [
    "# 7. What function takes a Python data structure and returns a string of JSON data?"
   ]
  },
  {
   "cell_type": "code",
   "execution_count": null,
   "metadata": {
    "id": "u4CtCrbX43Yh"
   },
   "outputs": [],
   "source": [
    "import json\n",
    "\n",
    "dict1 = {\"name\": \"Gourav\", \n",
    "        \"class\": \"Data Science\", \n",
    "        \"city\": \"Mumbai\", \"age\": 38}\n",
    "\n",
    "# converting into JSON\n",
    "data =json.dumps(dict1)\n",
    "\n",
    "print(data)\n",
    "print(type(data))\n",
    "print(type(dict1))"
   ]
  },
  {
   "cell_type": "code",
   "execution_count": null,
   "metadata": {},
   "outputs": [],
   "source": []
  }
 ],
 "metadata": {
  "colab": {
   "authorship_tag": "ABX9TyMjUQWWuCK/zro7/IHrHBdX",
   "collapsed_sections": [],
   "name": "Assignment-13.ipynb",
   "provenance": [
    {
     "file_id": "13F8m7f1FYdmEb_jDZRgzGcA8u9F84HBj",
     "timestamp": 1619608597162
    },
    {
     "file_id": "1GePJoyw_r-Heh5id1yfTtQPAHTmmq8Bg",
     "timestamp": 1619608492749
    },
    {
     "file_id": "1lw_nIW3ihFOeDFRd34OlidktQSmlu_-B",
     "timestamp": 1619608286164
    },
    {
     "file_id": "1-kGdOM-lRIuOIezqW_bqGkavQEIwzdvT",
     "timestamp": 1619607743989
    }
   ]
  },
  "kernelspec": {
   "display_name": "Python 3",
   "language": "python",
   "name": "python3"
  },
  "language_info": {
   "codemirror_mode": {
    "name": "ipython",
    "version": 3
   },
   "file_extension": ".py",
   "mimetype": "text/x-python",
   "name": "python",
   "nbconvert_exporter": "python",
   "pygments_lexer": "ipython3",
   "version": "3.8.5"
  }
 },
 "nbformat": 4,
 "nbformat_minor": 1
}
