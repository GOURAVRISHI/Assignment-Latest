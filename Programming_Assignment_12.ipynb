{
  "nbformat": 4,
  "nbformat_minor": 0,
  "metadata": {
    "colab": {
      "name": "Programming Assignment- 12.ipynb",
      "provenance": [],
      "collapsed_sections": []
    },
    "kernelspec": {
      "name": "python3",
      "display_name": "Python 3"
    },
    "language_info": {
      "name": "python"
    }
  },
  "cells": [
    {
      "cell_type": "code",
      "metadata": {
        "id": "TP_kaU1wM21Q"
      },
      "source": [
        "# 1. Write a Python program to Extract Unique values dictionary values?"
      ],
      "execution_count": null,
      "outputs": []
    },
    {
      "cell_type": "code",
      "metadata": {
        "id": "HGijuHDXNBdD",
        "colab": {
          "base_uri": "https://localhost:8080/"
        },
        "outputId": "19436b13-4caf-4531-f5b0-1b13e2c44bd6"
      },
      "source": [
        "data = {'a': 810, 'b':850, 'c':430, 'e': 430, 'f':810 }\n",
        "\n",
        "data_list= data.values()    # split the data in words\n",
        "\n",
        "unique=set(data_list)   # unique values\n",
        "\n",
        "print(unique)"
      ],
      "execution_count": 30,
      "outputs": [
        {
          "output_type": "stream",
          "text": [
            "{810, 850, 430}\n"
          ],
          "name": "stdout"
        }
      ]
    },
    {
      "cell_type": "code",
      "metadata": {
        "id": "ghSiyPYeNCGL"
      },
      "source": [
        "# 2. Write a Python program to find the sum of all items in a dictionary?"
      ],
      "execution_count": null,
      "outputs": []
    },
    {
      "cell_type": "code",
      "metadata": {
        "id": "RchR3QcHNCzR",
        "colab": {
          "base_uri": "https://localhost:8080/"
        },
        "outputId": "bdd309e6-e025-48a3-a1c4-c9152fc04f01"
      },
      "source": [
        "dict = {'a': 810, 'b':850, 'c':430}\n",
        "\n",
        "sum=0\n",
        "for i in dict.values():\n",
        "  sum= sum+i\n",
        "print(\"Sum of all the values is : \", sum)"
      ],
      "execution_count": 23,
      "outputs": [
        {
          "output_type": "stream",
          "text": [
            "Sum of all the values is :  2090\n"
          ],
          "name": "stdout"
        }
      ]
    },
    {
      "cell_type": "code",
      "metadata": {
        "id": "J7dMJsvpNC72"
      },
      "source": [
        "# 3. Write a Python program to Merging two Dictionaries?"
      ],
      "execution_count": null,
      "outputs": []
    },
    {
      "cell_type": "code",
      "metadata": {
        "id": "rJ__4YtyNDD9",
        "colab": {
          "base_uri": "https://localhost:8080/"
        },
        "outputId": "d57c0437-e7a2-4dc7-e076-89dd9aedcf3b"
      },
      "source": [
        "dict_1 = {'1':3456,'2':[24,35,73],'3':['X','Y','Z']}\n",
        "dict_2={'4':142,'5':['L','M','N'],'6':[26,15,98]}\n",
        "dict_1.update(dict_2)\n",
        "print(dict_1)"
      ],
      "execution_count": 13,
      "outputs": [
        {
          "output_type": "stream",
          "text": [
            "{'1': 3456, '2': [24, 35, 73], '3': ['X', 'Y', 'Z'], '4': 142, '5': ['L', 'M', 'N'], '6': [26, 15, 98]}\n"
          ],
          "name": "stdout"
        }
      ]
    },
    {
      "cell_type": "code",
      "metadata": {
        "id": "70nU56eXNDLx"
      },
      "source": [
        "# 4. Write a Python program to convert key-values list to flat dictionary?"
      ],
      "execution_count": null,
      "outputs": []
    },
    {
      "cell_type": "code",
      "metadata": {
        "id": "imDb7o-BNDRn",
        "colab": {
          "base_uri": "https://localhost:8080/"
        },
        "outputId": "0c9a265f-033d-49ca-f736-4087987c62f8"
      },
      "source": [
        "dict_1 = [{'item1':25}, {'item2':71}, {'item3':31}]\n",
        "\n",
        "print(\"Given items in dictionary:\\n\",dict_1)\n",
        "print(\"Type of Object:\\n\",type(dict_1))\n",
        "dict_new = {}\n",
        "for i in dict_1:\n",
        "   dict_new.update(i)\n",
        "\n",
        "print(\"Flattened dictionary:\\n \", dict_new)\n",
        "print(\"Flattened dictionary type:\\n\",type(dict_new))"
      ],
      "execution_count": 38,
      "outputs": [
        {
          "output_type": "stream",
          "text": [
            "Given items in dictionary:\n",
            " [{'item1': 25}, {'item2': 71}, {'item3': 31}]\n",
            "Type of Object:\n",
            " <class 'list'>\n",
            "Flattened dictionary:\n",
            "  {'item1': 25, 'item2': 71, 'item3': 31}\n",
            "Flattened dictionary type:\n",
            " <class 'dict'>\n"
          ],
          "name": "stdout"
        }
      ]
    },
    {
      "cell_type": "code",
      "metadata": {
        "id": "nBqIB5H4NDYZ"
      },
      "source": [
        "# 5. Write a Python program to insertion at the beginning in Ordered Dict?"
      ],
      "execution_count": null,
      "outputs": []
    },
    {
      "cell_type": "code",
      "metadata": {
        "id": "1wVtHOg2NH-G",
        "colab": {
          "base_uri": "https://localhost:8080/"
        },
        "outputId": "45db44d4-862b-42be-deeb-a7e1e6f1884e"
      },
      "source": [
        "from collections import OrderedDict\n",
        "\n",
        "d=OrderedDict()\n",
        "d['e']=5\n",
        "d['a']=1\n",
        "d['d']=4\n",
        "d['c']=3\n",
        "d['b']=2\n",
        "d.move_to_end('e', last=False)    # inserting \"e\" at beginning\n",
        "d"
      ],
      "execution_count": 59,
      "outputs": [
        {
          "output_type": "execute_result",
          "data": {
            "text/plain": [
              "OrderedDict([('e', 5), ('a', 1), ('d', 4), ('c', 3), ('b', 2)])"
            ]
          },
          "metadata": {
            "tags": []
          },
          "execution_count": 59
        }
      ]
    },
    {
      "cell_type": "code",
      "metadata": {
        "id": "liLbpWIl5Pvp"
      },
      "source": [
        " # 6. Write a Python program to check order of character in string using OrderedDict()?"
      ],
      "execution_count": 60,
      "outputs": []
    },
    {
      "cell_type": "code",
      "metadata": {
        "colab": {
          "base_uri": "https://localhost:8080/"
        },
        "id": "In3Wk4QgTGg3",
        "outputId": "7f737626-867c-40bc-ae96-7263e5d7a0c4"
      },
      "source": [
        "from collections import OrderedDict \n",
        "  \n",
        "def checkOrder(input, pattern): \n",
        "   \n",
        "   dict = OrderedDict.fromkeys(input) \n",
        "  \n",
        "   ptr_len = 0\n",
        "   for key,value in dict.items(): \n",
        "     if (key == pattern[ptr_len]): \n",
        "       ptr_len = ptr_len + 1\n",
        "          \n",
        "        \n",
        "     if (ptr_len == (len(pattern))): \n",
        "            return 'true'\n",
        "   \n",
        "   return 'false'\n",
        "  \n",
        "if __name__ == \"__main__\": \n",
        "    input = 'bahubali is the king'\n",
        "    pattern = 'li'\n",
        "    print (checkOrder(input,pattern)) "
      ],
      "execution_count": 61,
      "outputs": [
        {
          "output_type": "stream",
          "text": [
            "true\n"
          ],
          "name": "stdout"
        }
      ]
    },
    {
      "cell_type": "code",
      "metadata": {
        "id": "LOEOUG65TGvT"
      },
      "source": [
        "# 7. Write a Python program to sort Python Dictionaries by Key or Value?"
      ],
      "execution_count": null,
      "outputs": []
    },
    {
      "cell_type": "code",
      "metadata": {
        "id": "ooFhdFHr5Qiy",
        "colab": {
          "base_uri": "https://localhost:8080/"
        },
        "outputId": "f324e0d9-d812-4eba-8f8e-a879051e0698"
      },
      "source": [
        "a = {'A':2 ,'B':1 ,'C':3 ,'D':4 ,'E':5 ,'F':6 }\n",
        "\n",
        "print(sorted(a.keys()))     # sorted list with keys\n",
        "\n",
        "print(sorted(a.values()))   # sorted list with values\n",
        "\n",
        "print(sorted(a.items()))    # sorted list with items"
      ],
      "execution_count": 34,
      "outputs": [
        {
          "output_type": "stream",
          "text": [
            "['A', 'B', 'C', 'D', 'E', 'F']\n",
            "[1, 2, 3, 4, 5, 6]\n",
            "[('A', 2), ('B', 1), ('C', 3), ('D', 4), ('E', 5), ('F', 6)]\n"
          ],
          "name": "stdout"
        }
      ]
    },
    {
      "cell_type": "code",
      "metadata": {
        "id": "z759jer3LLiZ"
      },
      "source": [
        ""
      ],
      "execution_count": null,
      "outputs": []
    }
  ]
}