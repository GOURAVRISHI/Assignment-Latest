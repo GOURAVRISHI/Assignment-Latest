{
  "nbformat": 4,
  "nbformat_minor": 0,
  "metadata": {
    "colab": {
      "name": "Programming Assignment- 11.ipynb",
      "provenance": [],
      "collapsed_sections": []
    },
    "kernelspec": {
      "name": "python3",
      "display_name": "Python 3"
    },
    "language_info": {
      "name": "python"
    }
  },
  "cells": [
    {
      "cell_type": "code",
      "metadata": {
        "id": "TP_kaU1wM21Q"
      },
      "source": [
        "# 1. Write a Python program to find words which are greater than given length k?"
      ],
      "execution_count": null,
      "outputs": []
    },
    {
      "cell_type": "code",
      "metadata": {
        "id": "HGijuHDXNBdD",
        "colab": {
          "base_uri": "https://localhost:8080/"
        },
        "outputId": "7524a9cf-72d9-485b-d2e6-8fa2ffe0abf1"
      },
      "source": [
        "# Input \n",
        "data =  input('Enter the string : ')\n",
        "length = int(input('Enter value of k, (k=length of word) : '))\n",
        "lst = []\n",
        "\n",
        "# Finding words with length greater than given length\n",
        "words = data.split(\" \")\n",
        "for i in words:\n",
        "\tif len(i) > length:\n",
        "\t\tlst.append(i)\n",
        "\t\t\n",
        "# printing values\n",
        "print(\"All words which are greater than length\", length, \"are \", lst)"
      ],
      "execution_count": null,
      "outputs": [
        {
          "output_type": "stream",
          "text": [
            "Enter the string : gourav rishi is a student \n",
            "Enter value of k, (k=length of word) : 2\n",
            "All words which are greater than length 2 are  ['gourav', 'rishi', 'student']\n"
          ],
          "name": "stdout"
        }
      ]
    },
    {
      "cell_type": "code",
      "metadata": {
        "id": "ghSiyPYeNCGL"
      },
      "source": [
        "# 2. Write a Python program for removing i-th character from a string?"
      ],
      "execution_count": null,
      "outputs": []
    },
    {
      "cell_type": "code",
      "metadata": {
        "id": "RchR3QcHNCzR",
        "colab": {
          "base_uri": "https://localhost:8080/"
        },
        "outputId": "ec1b7702-e61d-48a0-a7b6-c1af0082bed9"
      },
      "source": [
        "data = str(input(\"Enter your string: \"))\n",
        "i = int(input(\"Enter 'i th' character to be removed: \"))\n",
        "def delete(data, i):\n",
        "\n",
        "  a= data[:i ]\n",
        "\n",
        "  b= data[i+1: ]       \n",
        "\n",
        "  return a+b\n",
        "\n",
        "print(delete(data, i-1))\n",
        "# gouravrishiisastudent - input"
      ],
      "execution_count": null,
      "outputs": [
        {
          "output_type": "stream",
          "text": [
            "Enter your string: gouravrishiisastudent\n",
            "Enter 'i th' character to be removed: 3\n",
            "goravrishiisastudent\n"
          ],
          "name": "stdout"
        }
      ]
    },
    {
      "cell_type": "code",
      "metadata": {
        "id": "J7dMJsvpNC72"
      },
      "source": [
        "# 3. Write a Python program to split and join a string?"
      ],
      "execution_count": null,
      "outputs": []
    },
    {
      "cell_type": "code",
      "metadata": {
        "colab": {
          "base_uri": "https://localhost:8080/"
        },
        "id": "Fk3GcAB04A0c",
        "outputId": "238bb69d-3ac5-484e-d574-e8551e9fae36"
      },
      "source": [
        "data1 = str(input(\"Enter the first string: \"))\n",
        "data2 = str(input(\"Enter the second string: \"))\n",
        "\n",
        "# Spliting of string\n",
        "print(data1.split(' '))\n",
        "\n",
        "# Joining of string\n",
        "string=str(data1)+str(data2)\n",
        "print(\"Joining of two strings: \", string)\n",
        "#gourav rishi is a student  # of Ineuron  - for input"
      ],
      "execution_count": null,
      "outputs": [
        {
          "output_type": "stream",
          "text": [
            "Enter the first string: gourav rishi is a student \n",
            "Enter the second string: of Ineuron\n",
            "['gourav', 'rishi', 'is', 'a', 'student', '']\n",
            "Joining of two strings:  gourav rishi is a student of Ineuron\n"
          ],
          "name": "stdout"
        }
      ]
    },
    {
      "cell_type": "code",
      "metadata": {
        "id": "70nU56eXNDLx"
      },
      "source": [
        "# 4. Write a Python to check if a given string is binary string or not?"
      ],
      "execution_count": null,
      "outputs": []
    },
    {
      "cell_type": "code",
      "metadata": {
        "id": "imDb7o-BNDRn",
        "colab": {
          "base_uri": "https://localhost:8080/"
        },
        "outputId": "b974c74e-e430-4650-908f-60c00e5bc910"
      },
      "source": [
        "string_a = str(input(\"Enter your first string: \"))\n",
        "b = {'0', '1'}\n",
        "new = set(string_a)\n",
        "\n",
        "if b == new or new == {'0'} or new == {'1'}:\n",
        "  print(\"Your first string is a Binary String\")\n",
        "else :\n",
        "  print(\"Your first string is not a Binary String\")\n",
        "\n",
        "string_b = str(input(\"Enter your second string: \"))\n",
        "c = set(string_b)\n",
        "\n",
        "if b == c or c == {'0'} or c == {'1'}:\n",
        "  print(\"Your second string is a Binary String\")\n",
        "else :\n",
        "  print(\"Your second string is not a Binary String\")\n",
        "\n",
        "# 1110000010101 - Input_1\n",
        "# 5551162010001 - Input_2"
      ],
      "execution_count": null,
      "outputs": [
        {
          "output_type": "stream",
          "text": [
            "Enter your first string: 5551162010001\n",
            "Your first string is not a Binary String\n",
            "Enter your second string: 000\n",
            "Your second string is a Binary String\n"
          ],
          "name": "stdout"
        }
      ]
    },
    {
      "cell_type": "code",
      "metadata": {
        "id": "nBqIB5H4NDYZ"
      },
      "source": [
        "# 5. Write a Python program to find uncommon words from two Strings?"
      ],
      "execution_count": null,
      "outputs": []
    },
    {
      "cell_type": "code",
      "metadata": {
        "id": "1wVtHOg2NH-G",
        "colab": {
          "base_uri": "https://localhost:8080/"
        },
        "outputId": "5b6ff782-8f28-4088-e15f-64d2b3386c31"
      },
      "source": [
        "a = str(input(\"Enter the first input: \"))\n",
        "b = str(input(\"Enter the second input: \"))\n",
        "\n",
        "def distinct_char(a, b):\n",
        "   \n",
        "   # count\n",
        "   count = {}\n",
        "   \n",
        "   # insert words in A\n",
        "   for i in a.split():\n",
        "      count[i] = count.get(i, 0) + 1    # get method return stored value in dict\n",
        "   # insert words in A\n",
        "   for i in b.split():\n",
        "      count[i] = count.get(i, 0) + 1\n",
        "\n",
        "   # Output \n",
        "   return [i for i in count if count[i] == 1]\n",
        "\n",
        "    \n",
        "# main\n",
        "\n",
        "print(\"The uncommon words in strings are:\",distinct_char(a, b))"
      ],
      "execution_count": null,
      "outputs": [
        {
          "output_type": "stream",
          "text": [
            "Enter the first input: gourav rishi is a student\n",
            "Enter the second input: student\n",
            "The uncommon words in strings are: ['gourav', 'rishi', 'is', 'a']\n"
          ],
          "name": "stdout"
        }
      ]
    },
    {
      "cell_type": "code",
      "metadata": {
        "id": "5GKJsqe1NIU0"
      },
      "source": [
        "# 6. Write a Python to find all duplicate characters in string?"
      ],
      "execution_count": null,
      "outputs": []
    },
    {
      "cell_type": "code",
      "metadata": {
        "id": "r8Z_dLQxNIoW",
        "colab": {
          "base_uri": "https://localhost:8080/"
        },
        "outputId": "e3133c68-bb3b-4252-faaa-1730fcb9ffb6"
      },
      "source": [
        "data=input(\"Enter the paragraph-->> \")\n",
        "\n",
        "# Spliting in words\n",
        "data_list= data.split(\" \")\n",
        "\n",
        "# Unique values\n",
        "unique=set(data_list)\n",
        "\n",
        "\n",
        "lst=[]\n",
        "for i in unique:\n",
        "    lst.append(i)\n",
        "\n",
        "print(\"Unique items-->> \",lst)"
      ],
      "execution_count": null,
      "outputs": [
        {
          "output_type": "stream",
          "text": [
            "Enter the paragraph-->> gourav rishi is a student\n",
            "Unique items-->>  ['rishi', 'is', 'student', 'gourav', 'a']\n"
          ],
          "name": "stdout"
        }
      ]
    },
    {
      "cell_type": "code",
      "metadata": {
        "id": "liLbpWIl5Pvp"
      },
      "source": [
        "# 7. Write a Python Program to check if a string contains any special character?"
      ],
      "execution_count": null,
      "outputs": []
    },
    {
      "cell_type": "code",
      "metadata": {
        "id": "ooFhdFHr5Qiy",
        "colab": {
          "base_uri": "https://localhost:8080/"
        },
        "outputId": "2bd55cdd-f384-41a8-ff58-c178d16ab934"
      },
      "source": [
        "import re \n",
        "  \n",
        "def check_splchar(string): \n",
        "  \n",
        "    string_chk= re.compile('[@_!#$%^&*()<>?/\\|}{~:]') \n",
        "    \n",
        "    if(string_chk.search(string) == None): \n",
        "        print(\"This String does not contain Special Characters.\")\n",
        "          \n",
        "    else: \n",
        "        print(\"This String contains Special Characters.\") \n",
        "      \n",
        "  \n",
        "# Main Function Code \n",
        "if __name__ == '__main__' : \n",
        "      \n",
        "    # Enter the string \n",
        " \n",
        "    string = str(input(\"Enter your String: \"))\n",
        "      \n",
        "    check_splchar(string)\n",
        "\n",
        "# Gourav@12#\n",
        "# GouravRishi"
      ],
      "execution_count": 8,
      "outputs": [
        {
          "output_type": "stream",
          "text": [
            "Enter your String: Gourav@12#\n",
            "This String contains Special Characters.\n"
          ],
          "name": "stdout"
        }
      ]
    },
    {
      "cell_type": "code",
      "metadata": {
        "id": "Bx5gWSpGrWMv"
      },
      "source": [
        ""
      ],
      "execution_count": 8,
      "outputs": []
    }
  ]
}