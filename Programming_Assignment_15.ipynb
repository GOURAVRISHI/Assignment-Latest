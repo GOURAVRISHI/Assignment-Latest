{
  "nbformat": 4,
  "nbformat_minor": 0,
  "metadata": {
    "colab": {
      "name": "Programming Assignment- 15.ipynb",
      "provenance": [],
      "collapsed_sections": []
    },
    "kernelspec": {
      "name": "python3",
      "display_name": "Python 3"
    },
    "language_info": {
      "name": "python"
    }
  },
  "cells": [
    {
      "cell_type": "code",
      "metadata": {
        "colab": {
          "base_uri": "https://localhost:8080/",
          "height": 90
        },
        "id": "IBEgH1XRjQ8I",
        "outputId": "75a5efd0-bb10-488a-9f15-3ace567f6bc3"
      },
      "source": [
        "'''Question 1:\n",
        "Please write a program using generator to print the numbers which can be divisible by 5 and\n",
        "7 between 0 and n in comma separated form while n is input by console.\n",
        "Example:\n",
        "If the following n is given as input to the program:\n",
        "100\n",
        "Then, the output of the program should be:\n",
        "0, 35, 70'''"
      ],
      "execution_count": null,
      "outputs": [
        {
          "output_type": "execute_result",
          "data": {
            "application/vnd.google.colaboratory.intrinsic+json": {
              "type": "string"
            },
            "text/plain": [
              "'Question 1:\\nPlease write a program using generator to print the numbers which can be divisible by 5 and\\n7 between 0 and n in comma separated form while n is input by console.\\nExample:\\nIf the following n is given as input to the program:\\n100\\nThen, the output of the program should be:\\n0,35,70'"
            ]
          },
          "metadata": {
            "tags": []
          },
          "execution_count": 1
        }
      ]
    },
    {
      "cell_type": "code",
      "metadata": {
        "id": "asU9WPL_kOnV",
        "colab": {
          "base_uri": "https://localhost:8080/"
        },
        "outputId": "ad157ef5-8527-420d-9b15-db25ac914829"
      },
      "source": [
        "n = int(input(\"Enter the number n : \"))\n",
        "\n",
        "def Num(n):\n",
        "\n",
        "  for i in range(0, n+1):\n",
        "    if i%5==0 and i % 7==0:\n",
        "      yield i\n",
        "  \n",
        "if __name__== \"__main__\":\n",
        "  \n",
        "  for i in Num(n):\n",
        "    print(i, end=\", \")"
      ],
      "execution_count": 24,
      "outputs": [
        {
          "output_type": "stream",
          "text": [
            "Enter the number n : 100\n",
            "0, 35, 70, "
          ],
          "name": "stdout"
        }
      ]
    },
    {
      "cell_type": "code",
      "metadata": {
        "colab": {
          "base_uri": "https://localhost:8080/",
          "height": 90
        },
        "id": "JJSOGeJxkGSO",
        "outputId": "9f84ed09-af12-44d0-f543-7e1fd4084120"
      },
      "source": [
        "'''Question 2:\n",
        "Please write a program using generator to print the even numbers between 0 and n in comma\n",
        "separated form while n is input by console.\n",
        "Example:\n",
        "If the following n is given as input to the program:\n",
        "10\n",
        "Then, the output of the program should be:\n",
        "0,2,4,6,8,10'''"
      ],
      "execution_count": null,
      "outputs": [
        {
          "output_type": "execute_result",
          "data": {
            "application/vnd.google.colaboratory.intrinsic+json": {
              "type": "string"
            },
            "text/plain": [
              "'Question 2:\\nPlease write a program using generator to print the even numbers between 0 and n in comma\\nseparated form while n is input by console.\\nExample:\\nIf the following n is given as input to the program:\\n10\\nThen, the output of the program should be:\\n0,2,4,6,8,10'"
            ]
          },
          "metadata": {
            "tags": []
          },
          "execution_count": 2
        }
      ]
    },
    {
      "cell_type": "code",
      "metadata": {
        "id": "8wrFQWmSkGYt",
        "colab": {
          "base_uri": "https://localhost:8080/"
        },
        "outputId": "c17ae2f4-9c67-42f6-9e4b-d987ff71e6b4"
      },
      "source": [
        "n = int(input(\"The Even between 0 to n, So Enter 'n' : \"))\n",
        "\n",
        "def Num(n):\n",
        "\n",
        "  for i in range(0, n+1):\n",
        "    if i%2==0:\n",
        "      yield i\n",
        "  \n",
        "if __name__== \"__main__\":\n",
        "  \n",
        "  for i in Num(n):\n",
        "    print(i, end=\", \")"
      ],
      "execution_count": 123,
      "outputs": [
        {
          "output_type": "stream",
          "text": [
            "The Even between 0 to n, So Enter 'n' : 10\n",
            "0, 2, 4, 6, 8, 10, "
          ],
          "name": "stdout"
        }
      ]
    },
    {
      "cell_type": "code",
      "metadata": {
        "colab": {
          "base_uri": "https://localhost:8080/",
          "height": 127
        },
        "id": "vwdDRhzTkGfV",
        "outputId": "d22448c1-e03c-49d4-dac3-5721b7692997"
      },
      "source": [
        "'''Question 3:\n",
        "The Fibonacci Sequence is computed based on the following formula:\n",
        "f(n)=0 if n=0\n",
        "f(n)=1 if n=1\n",
        "f(n)=f(n-1)+f(n-2) if n>1\n",
        "Please write a program using list comprehension to print the Fibonacci Sequence in comma\n",
        "separated form with a given n input by console.\n",
        "Example:\n",
        "If the following n is given as input to the program:\n",
        "7\n",
        "Then, the output of the program should be:\n",
        "0,1,1,2,3,5,8,13\n",
        "'''"
      ],
      "execution_count": null,
      "outputs": [
        {
          "output_type": "execute_result",
          "data": {
            "application/vnd.google.colaboratory.intrinsic+json": {
              "type": "string"
            },
            "text/plain": [
              "'Question 3:\\nThe Fibonacci Sequence is computed based on the following formula:\\nf(n)=0 if n=0\\nf(n)=1 if n=1\\nf(n)=f(n-1)+f(n-2) if n&gt;1\\nPlease write a program using list comprehension to print the Fibonacci Sequence in comma\\nseparated form with a given n input by console.\\nExample:\\nIf the following n is given as input to the program:\\n7\\nThen, the output of the program should be:\\n0,1,1,2,3,5,8,13\\n'"
            ]
          },
          "metadata": {
            "tags": []
          },
          "execution_count": 4
        }
      ]
    },
    {
      "cell_type": "code",
      "metadata": {
        "colab": {
          "base_uri": "https://localhost:8080/"
        },
        "id": "rW1mDIfTTJvY",
        "outputId": "e6ecfbb7-1d92-43ac-c4d3-a925c1a813ce"
      },
      "source": [
        "# Check comma in coding!!!!!!!!!\n",
        "n = int(input())\n",
        "fib = [0, 1]\n",
        "[fib.append(sum(fib[-2:])) for x in range(n)]\n",
        "\n",
        "n = print(*(fib[:n]), end= \", \")\n",
        "print(type(n))"
      ],
      "execution_count": 122,
      "outputs": [
        {
          "output_type": "stream",
          "text": [
            "8\n",
            "0 1 1 2 3 5 8 13, <class 'NoneType'>\n"
          ],
          "name": "stdout"
        }
      ]
    },
    {
      "cell_type": "code",
      "metadata": {
        "colab": {
          "base_uri": "https://localhost:8080/",
          "height": 127
        },
        "id": "7OvpldslkG5C",
        "outputId": "4a56ff68-105b-4290-d38a-22f637e046a7"
      },
      "source": [
        "'''Question 4:\n",
        "Assuming that we have some email addresses in the \"username@companyname.com\"; format,\n",
        "please write program to print the user name of a given email address. Both user names and\n",
        "company names are composed of letters only.\n",
        "Example:\n",
        "If the following email address is given as input to the program:\n",
        "john@google.com\n",
        "Then, the output of the program should be:\n",
        "john\n",
        "'''\n",
        "# input = john@google.com"
      ],
      "execution_count": null,
      "outputs": [
        {
          "output_type": "execute_result",
          "data": {
            "application/vnd.google.colaboratory.intrinsic+json": {
              "type": "string"
            },
            "text/plain": [
              "'Question 4:\\nAssuming that we have some email addresses in the &quot;username@companyname.com&quot; format,\\nplease write program to print the user name of a given email address. Both user names and\\ncompany names are composed of letters only.\\nExample:\\nIf the following email address is given as input to the program:\\njohn@google.com\\nThen, the output of the program should be:\\njohn\\n'"
            ]
          },
          "metadata": {
            "tags": []
          },
          "execution_count": 5
        }
      ]
    },
    {
      "cell_type": "code",
      "metadata": {
        "colab": {
          "base_uri": "https://localhost:8080/"
        },
        "id": "72jxKzs1XNX1",
        "outputId": "e35d6fcf-54e9-4cb6-dccb-127ff9462ea4"
      },
      "source": [
        "import re\n",
        "\n",
        "email_id= str(input(\"Enter your email id: \"))\n",
        "\n",
        "pattern1 = \"\\w+\"\n",
        "pattern2 = \"\\w+@(\\w+).com\"\n",
        "\n",
        "\n",
        "ans1 = re.findall(pattern1,email)\n",
        "ans2 = re.findall(pattern2,email)\n",
        "\n",
        "print(\"User Name: \",ans1[0])\n",
        "print(\"Company Name: \",ans2[0])\n",
        "# john@google.com"
      ],
      "execution_count": 99,
      "outputs": [
        {
          "output_type": "stream",
          "text": [
            "Enter your email id: john@google.com\n",
            "User Name:  john\n",
            "Company Name:  google\n"
          ],
          "name": "stdout"
        }
      ]
    },
    {
      "cell_type": "code",
      "metadata": {
        "colab": {
          "base_uri": "https://localhost:8080/",
          "height": 90
        },
        "id": "EtQS_6fAkcRt",
        "outputId": "634091f7-fce3-43e7-cc0e-dc3026720da2"
      },
      "source": [
        "'''Question 5:\n",
        "Define a class named Shape and its subclass Square. The Square class has an init function\n",
        "which takes a length as argument. Both classes have a area function which can print the area\n",
        "of the shape where Shape's area is 0 by default.'''"
      ],
      "execution_count": null,
      "outputs": [
        {
          "output_type": "execute_result",
          "data": {
            "application/vnd.google.colaboratory.intrinsic+json": {
              "type": "string"
            },
            "text/plain": [
              "'Question 5:\\nDefine a class named Shape and its subclass Square. The Square class has an init function\\nwhich takes a length as argument. Both classes have a area function which can print the area\\nof the shape where Shape&#39;s area is 0 by default.'"
            ]
          },
          "metadata": {
            "tags": []
          },
          "execution_count": 6
        }
      ]
    },
    {
      "cell_type": "code",
      "metadata": {
        "id": "KKlNQI_Pkcuu",
        "colab": {
          "base_uri": "https://localhost:8080/"
        },
        "outputId": "daf6f2cd-68f7-4d06-d41e-0eee09b95f0e"
      },
      "source": [
        "class Shape():\n",
        "  def __init__(self):\n",
        "    pass\n",
        "\n",
        "  def area(self):\n",
        "    return 0\n",
        "\n",
        "class Square (Shape):\n",
        "  def __init__(self, length= 0):\n",
        "    Shape.__init__(self)\n",
        "    self.length = length\n",
        "  \n",
        "  def area(self):\n",
        "    return self.length*self.length    # return Area of Square= side*side\n",
        "    \n",
        "Side= int(input(\"Enter the side: \"))\n",
        "Area= Square(Side)      # assumed length as 10 So Area = 100\n",
        "print(\"Area of the Square: \", Area.area())\n",
        "\n",
        "print(\"Area of the Shape: \",Square().area())    # default area as 0. Also mentioned in function."
      ],
      "execution_count": 103,
      "outputs": [
        {
          "output_type": "stream",
          "text": [
            "Enter the side: 10\n",
            "Area of the Square:  100\n",
            "Area of the Shape:  0\n"
          ],
          "name": "stdout"
        }
      ]
    },
    {
      "cell_type": "code",
      "metadata": {
        "id": "gQJQYn5PhigP"
      },
      "source": [
        ""
      ],
      "execution_count": null,
      "outputs": []
    }
  ]
}