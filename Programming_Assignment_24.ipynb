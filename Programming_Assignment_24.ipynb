{
  "nbformat": 4,
  "nbformat_minor": 0,
  "metadata": {
    "colab": {
      "name": "Programming Assignment- 24.ipynb",
      "provenance": [],
      "collapsed_sections": []
    },
    "kernelspec": {
      "name": "python3",
      "display_name": "Python 3"
    },
    "language_info": {
      "name": "python"
    }
  },
  "cells": [
    {
      "cell_type": "code",
      "metadata": {
        "colab": {
          "base_uri": "https://localhost:8080/",
          "height": 199
        },
        "id": "Fjuvoz_w8I7U",
        "outputId": "c75ce4cb-1e3b-4802-98d3-0999f650e8e3"
      },
      "source": [
        "'''Question1\n",
        "Create a function that takes an integer and returns a list from 1 to the given number, where:\n",
        "1. If the number can be divided evenly by 4, amplify it by 10 (i.e. return 10 times the\n",
        "number).\n",
        "2. If the number cannot be divided evenly by 4, simply return the number.\n",
        "Examples\n",
        "amplify(4) ➞ [1, 2, 3, 40]\n",
        "amplify(3) ➞ [1, 2, 3]\n",
        "amplify(25) ➞ [1, 2, 3, 40, 5, 6, 7, 80, 9, 10, 11, 120, 13, 14, 15, 160,\n",
        "17, 18, 19, 200, 21, 22, 23, 240, 25]\n",
        "Notes\n",
        "- The given integer will always be equal to or greater than 1.\n",
        "- Include the number (see example above).\n",
        "- To perform this problem with its intended purpose, try doing it with list\n",
        "comprehensions. If that's too difficult, just solve the challenge any way you can.'''"
      ],
      "execution_count": null,
      "outputs": [
        {
          "output_type": "execute_result",
          "data": {
            "application/vnd.google.colaboratory.intrinsic+json": {
              "type": "string"
            },
            "text/plain": [
              "'Question1\\nCreate a function that takes an integer and returns a list from 1 to the given number, where:\\n1. If the number can be divided evenly by 4, amplify it by 10 (i.e. return 10 times the\\nnumber).\\n2. If the number cannot be divided evenly by 4, simply return the number.\\nExamples\\namplify(4) ➞ [1, 2, 3, 40]\\namplify(3) ➞ [1, 2, 3]\\namplify(25) ➞ [1, 2, 3, 40, 5, 6, 7, 80, 9, 10, 11, 120, 13, 14, 15, 160,\\n17, 18, 19, 200, 21, 22, 23, 240, 25]\\nNotes\\n\\uf0b7 The given integer will always be equal to or greater than 1.\\n\\uf0b7 Include the number (see example above).\\n\\uf0b7 To perform this problem with its intended purpose, try doing it with list\\ncomprehensions. If that&#39;s too difficult, just solve the challenge any way you can.'"
            ]
          },
          "metadata": {
            "tags": []
          },
          "execution_count": 2
        }
      ]
    },
    {
      "cell_type": "code",
      "metadata": {
        "id": "lxo1WGMnCDHZ",
        "colab": {
          "base_uri": "https://localhost:8080/"
        },
        "outputId": "cff08f14-dd53-47d7-cd40-5aa2fec466f5"
      },
      "source": [
        "num = int(input(\"Enter the Number: \"))\n",
        "\n",
        "def amplify(num):\n",
        "  lst=[]\n",
        "  # lst1=[]  # remove - if we need seperate list for divisible by 4 and not divisible by 4\n",
        "  \n",
        "  for i in range(1, num+1):\n",
        "    if i %4 == 0:\n",
        "      i = i*10\n",
        "      lst.append(i)\n",
        "    \n",
        "    else:\n",
        "      lst.append(i) # else lst1.append(i)\n",
        "\n",
        "  # print(\"Numbers which are not divisible by 4 are: \", lst1)\n",
        "  # print(\"Numbers which are divisible by 4 are: \", lst)\n",
        "\n",
        "  print(\"New List: \", lst)\n",
        "  return \n",
        "\n",
        "amplify(num)"
      ],
      "execution_count": null,
      "outputs": [
        {
          "output_type": "stream",
          "text": [
            "Enter the Number: 25\n",
            "New List:  [1, 2, 3, 40, 5, 6, 7, 80, 9, 10, 11, 120, 13, 14, 15, 160, 17, 18, 19, 200, 21, 22, 23, 240, 25]\n"
          ],
          "name": "stdout"
        }
      ]
    },
    {
      "cell_type": "code",
      "metadata": {
        "colab": {
          "base_uri": "https://localhost:8080/",
          "height": 54
        },
        "id": "NJhTYrWZCDPd",
        "outputId": "34b9d384-a23a-4912-93c9-299d0c7a03bb"
      },
      "source": [
        "'''Question2\n",
        "Create a function that takes a list of numbers and return the number that's unique.\n",
        "Examples\n",
        "unique([3, 3, 3, 7, 3, 3]) ➞ 7\n",
        "unique([0, 0, 0.77, 0, 0]) ➞ 0.77\n",
        "unique([0, 1, 1, 1, 1, 1, 1, 1]) ➞ 0\n",
        "Notes\n",
        "Test cases will always have exactly one unique number while all others are the same.'''"
      ],
      "execution_count": null,
      "outputs": [
        {
          "output_type": "execute_result",
          "data": {
            "application/vnd.google.colaboratory.intrinsic+json": {
              "type": "string"
            },
            "text/plain": [
              "\"Question2\\nCreate a function that takes a list of numbers and return the number that's unique.\\nExamples\\nunique([3, 3, 3, 7, 3, 3]) ➞ 7\\nunique([0, 0, 0.77, 0, 0]) ➞ 0.77\\nunique([0, 1, 1, 1, 1, 1, 1, 1]) ➞ 0\\nNotes\\nTest cases will always have exactly one unique number while all others are the same.\""
            ]
          },
          "metadata": {
            "tags": []
          },
          "execution_count": 51
        }
      ]
    },
    {
      "cell_type": "code",
      "metadata": {
        "colab": {
          "base_uri": "https://localhost:8080/"
        },
        "id": "wii-eiNeFfBr",
        "outputId": "9c465ce8-3632-423a-f9a2-ffaddc10e86f"
      },
      "source": [
        "def unique(lst):\n",
        "  lst1= list(lst)\n",
        "  lst2=[]\n",
        "\n",
        "  for i in lst:\n",
        "    if lst.count(i) == 1:\n",
        "    \n",
        "      lst2.append(i)\n",
        "  \n",
        "    else:\n",
        "      pass\n",
        "  print(\"Unique Elemennt is: \", lst2)\n",
        "\n",
        "unique([3, 3, 3, 7, 3, 3])   "
      ],
      "execution_count": 31,
      "outputs": [
        {
          "output_type": "stream",
          "text": [
            "Unique Elemennt is:  [7]\n"
          ],
          "name": "stdout"
        }
      ]
    },
    {
      "cell_type": "code",
      "metadata": {
        "colab": {
          "base_uri": "https://localhost:8080/",
          "height": 163
        },
        "id": "g8M9UzXiB0OT",
        "outputId": "04005208-b260-406d-b914-e8ed9d181df4"
      },
      "source": [
        "'''Question3\n",
        "Your task is to create a Circle constructor that creates a circle with a radius provided by an\n",
        "argument. The circles constructed must have two getters getArea() (PIr^2) and\n",
        "getPerimeter() (2PI*r) which give both respective areas and perimeter (circumference).\n",
        "For help with this class, I have provided you with a Rectangle constructor which you can use\n",
        "as a base example.\n",
        "Examples\n",
        "circy = Circle(11)\n",
        "circy.getArea()\n",
        "# Should return 380.132711084365\n",
        "circy = Circle(4.44)\n",
        "circy.getPerimeter()\n",
        "# Should return 27.897342763877365\n",
        "Notes\n",
        "Round results up to the nearest integer.'''"
      ],
      "execution_count": null,
      "outputs": [
        {
          "output_type": "execute_result",
          "data": {
            "application/vnd.google.colaboratory.intrinsic+json": {
              "type": "string"
            },
            "text/plain": [
              "'Question3\\nYour task is to create a Circle constructor that creates a circle with a radius provided by an\\nargument. The circles constructed must have two getters getArea() (PIr^2) and\\ngetPerimeter() (2PI*r) which give both respective areas and perimeter (circumference).\\nFor help with this class, I have provided you with a Rectangle constructor which you can use\\nas a base example.\\nExamples\\ncircy = Circle(11)\\ncircy.getArea()\\n# Should return 380.132711084365\\ncircy = Circle(4.44)\\ncircy.getPerimeter()\\n# Should return 27.897342763877365\\nNotes\\nRound results up to the nearest integer.'"
            ]
          },
          "metadata": {
            "tags": []
          },
          "execution_count": 6
        }
      ]
    },
    {
      "cell_type": "code",
      "metadata": {
        "colab": {
          "base_uri": "https://localhost:8080/"
        },
        "id": "w7mEYSVP3Sjs",
        "outputId": "2c0501bb-9c98-4e85-aea8-5f046b9f3996"
      },
      "source": [
        "import math\n",
        "PI= math.pi\n",
        "radius = float(input(\"Enter the Radius: \"))\n",
        "\n",
        "class Circle():\n",
        "    def __init__(self, r):\n",
        "        self.radius = r\n",
        "\n",
        "    def getArea(self):\n",
        "        return (self.radius**2*PI)\n",
        "    \n",
        "    def getPerimeter(self):\n",
        "        return round((2*self.radius*PI), 2)   # rounded by 2 decimal point\n",
        "\n",
        "circy = Circle(radius)\n",
        "print(\"Area: \", circy.getArea())\n",
        "print(\"Perimeter: \", circy.getPerimeter())"
      ],
      "execution_count": 32,
      "outputs": [
        {
          "output_type": "stream",
          "text": [
            "Enter the Radius: 4.44\n",
            "Area:  61.93210093580775\n",
            "Perimeter:  27.9\n"
          ],
          "name": "stdout"
        }
      ]
    },
    {
      "cell_type": "code",
      "metadata": {
        "colab": {
          "base_uri": "https://localhost:8080/",
          "height": 90
        },
        "id": "0oTnlhGOClF9",
        "outputId": "73a18e16-82f8-4dc5-d79f-e7ca78796c5d"
      },
      "source": [
        "'''Question4\n",
        "Create a function that takes a list of strings and return a list, sorted from shortest to longest.\n",
        "Examples\n",
        "sort_by_length( )\n",
        "➞ [\"Apple\", \"Google\", \"Microsoft\"]\n",
        "\n",
        "sort_by_length([\"Leonardo\", \"Michelangelo\", \"Raphael\", \"Donatello\"])\n",
        "➞ [\"Raphael\", \"Leonardo\", \"Donatello\", \"Michelangelo\"]\n",
        "\n",
        "sort_by_length([\"Turing\", \"Einstein\", \"Jung\"])\n",
        "➞ [\"Jung\", \"Turing\", \"Einstein\"]\n",
        "\n",
        "Notes\n",
        "All test cases contain lists with strings of different lengths, so you won't have to deal with\n",
        "multiple strings of the same length.'''"
      ],
      "execution_count": null,
      "outputs": [
        {
          "output_type": "execute_result",
          "data": {
            "application/vnd.google.colaboratory.intrinsic+json": {
              "type": "string"
            },
            "text/plain": [
              "'Question4\\nCreate a function that takes a list of strings and return a list, sorted from shortest to longest.\\nExamples\\nsort_by_length([\"Google\", \"Apple\", \"Microsoft\"])\\n➞ [\"Apple\", \"Google\", \"Microsoft\"]\\n\\nsort_by_length([\"Leonardo\", \"Michelangelo\", \"Raphael\", \"Donatello\"])\\n➞ [\"Raphael\", \"Leonardo\", \"Donatello\", \"Michelangelo\"]\\n\\nsort_by_length([\"Turing\", \"Einstein\", \"Jung\"])\\n➞ [\"Jung\", \"Turing\", \"Einstein\"]\\n\\nNotes\\nAll test cases contain lists with strings of different lengths, so you won&#39;t have to deal with\\nmultiple strings of the same length.'"
            ]
          },
          "metadata": {
            "tags": []
          },
          "execution_count": 1
        }
      ]
    },
    {
      "cell_type": "code",
      "metadata": {
        "id": "8oNPIBDRClO0",
        "colab": {
          "base_uri": "https://localhost:8080/"
        },
        "outputId": "dcf6f713-b5b1-4ff9-debc-62b655720996"
      },
      "source": [
        "lst= list(map(str, input(\"Enter your String list: \").split(', ')))\n",
        "print(\"\\nThe input string list is: \", lst)\n",
        "\n",
        "def sort(lst):\n",
        "    lst.sort(key= len)\n",
        "    return lst\n",
        "\n",
        "print(sort(lst))\n",
        "\n",
        "\n",
        "# input - Google, Apple, Microsoft                    -> [\"Apple\", \"Google\", \"Microsoft\"]\n",
        "# input - Leonardo, Michelangelo, Raphael, Donatello  -> [\"Raphael\", \"Leonardo\", \"Donatello\", \"Michelangelo\"]\n",
        "# input - Turing, Einstein, Jung                      -> [\"Jung\", \"Turing\", \"Einstein\"]\n",
        "\n",
        "# Note :  print sorted(strs, key=str.lower)  - is used to print sorted list which will treat uppercase and lowercase the same.\n",
        "  "
      ],
      "execution_count": null,
      "outputs": [
        {
          "output_type": "stream",
          "text": [
            "Enter your String list: Leonardo, Michelangelo, Raphael, Donatello\n",
            "\n",
            "The input string list is:  ['Leonardo', 'Michelangelo', 'Raphael', 'Donatello']\n",
            "['Raphael', 'Leonardo', 'Donatello', 'Michelangelo']\n"
          ],
          "name": "stdout"
        }
      ]
    },
    {
      "cell_type": "code",
      "metadata": {
        "colab": {
          "base_uri": "https://localhost:8080/",
          "height": 127
        },
        "id": "jxf-CtAtClcS",
        "outputId": "29a4e47b-3ead-4b97-9965-597ad151a852"
      },
      "source": [
        "'''Question5\n",
        "Create a function that validates whether three given integers form a Pythagorean triplet. The\n",
        "sum of the squares of the two smallest integers must equal the square of the largest number to\n",
        "be validated.\n",
        "Examples\n",
        "is_triplet(3, 4, 5) ➞ True\n",
        "# 3² + 4² = 25\n",
        "# 5² = 25\n",
        "is_triplet(13, 5, 12) ➞ True\n",
        "# 5² + 12² = 169\n",
        "# 13² = 169\n",
        "is_triplet(1, 2, 3) ➞ False\n",
        "# 1² + 2² = 5\n",
        "# 3² = 9\n",
        "Notes\n",
        "Numbers may not be given in a sorted order.'''"
      ],
      "execution_count": null,
      "outputs": [
        {
          "output_type": "execute_result",
          "data": {
            "application/vnd.google.colaboratory.intrinsic+json": {
              "type": "string"
            },
            "text/plain": [
              "'Question5\\nCreate a function that validates whether three given integers form a Pythagorean triplet. The\\nsum of the squares of the two smallest integers must equal the square of the largest number to\\nbe validated.\\nExamples\\nis_triplet(3, 4, 5) ➞ True\\n# 3² + 4² = 25\\n# 5² = 25\\nis_triplet(13, 5, 12) ➞ True\\n# 5² + 12² = 169\\n# 13² = 169\\nis_triplet(1, 2, 3) ➞ False\\n# 1² + 2² = 5\\n# 3² = 9\\nNotes\\nNumbers may not be given in a sorted order.'"
            ]
          },
          "metadata": {
            "tags": []
          },
          "execution_count": 8
        }
      ]
    },
    {
      "cell_type": "code",
      "metadata": {
        "colab": {
          "base_uri": "https://localhost:8080/"
        },
        "id": "XIUrP_4OMrfg",
        "outputId": "f3e3bb54-3d80-4a03-8757-00300ab77ff3"
      },
      "source": [
        "num= list(map(int, input(\"Enter your sides of triangle: \").split()))\n",
        "\n",
        "a, b, c= sorted(num)\n",
        "if a**2+ b**2 == c**2:\n",
        "  print(\"True\")\n",
        "else:\n",
        "  print(\"False\")\n",
        "\n",
        "# input - 3 4 5\n",
        "# input - 13 5 12\n",
        "# input - 1 2 3"
      ],
      "execution_count": null,
      "outputs": [
        {
          "output_type": "stream",
          "text": [
            "Enter your sides of triangle: 1 2 3\n",
            "False\n"
          ],
          "name": "stdout"
        }
      ]
    },
    {
      "cell_type": "code",
      "metadata": {
        "id": "zf97zrONe-g9"
      },
      "source": [
        ""
      ],
      "execution_count": null,
      "outputs": []
    }
  ]
}