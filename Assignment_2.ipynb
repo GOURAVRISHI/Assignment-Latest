{
  "nbformat": 4,
  "nbformat_minor": 0,
  "metadata": {
    "colab": {
      "name": "Assignment - 2",
      "provenance": [],
      "collapsed_sections": []
    },
    "kernelspec": {
      "name": "python3",
      "display_name": "Python 3"
    },
    "language_info": {
      "name": "python"
    }
  },
  "cells": [
    {
      "cell_type": "code",
      "metadata": {
        "colab": {
          "base_uri": "https://localhost:8080/",
          "height": 36
        },
        "id": "15HsdMu7M9GM",
        "outputId": "ff500327-419d-4909-b700-191eb01ed841"
      },
      "source": [
        "'''1. What are the Boolean data type's two values? How do you go about writing them?'''"
      ],
      "execution_count": null,
      "outputs": [
        {
          "output_type": "execute_result",
          "data": {
            "application/vnd.google.colaboratory.intrinsic+json": {
              "type": "string"
            },
            "text/plain": [
              "\"1. What are the Boolean data type's two values? How do you go about writing them?\""
            ]
          },
          "metadata": {
            "tags": []
          },
          "execution_count": 8
        }
      ]
    },
    {
      "cell_type": "code",
      "metadata": {
        "colab": {
          "base_uri": "https://localhost:8080/"
        },
        "id": "1fRqAbgogrIC",
        "outputId": "474864ca-a85b-4ce2-96d1-da5558977abf"
      },
      "source": [
        "'''Boolean data types are 'True' and 'False'. True means 1, and False means 0. \n",
        "'''\n",
        "x = 15  # Exanple\n",
        "y = 26\n",
        "\n",
        "print(\"x == y:\", x == y)\n",
        "print(\"x != y:\", x != y)\n",
        "print(\"x < y:\", x < y)\n",
        "print(\"x > y:\", x > y)\n",
        "print(\"x <= y:\", x <= y)\n",
        "print(\"x >= y:\", x >= y)"
      ],
      "execution_count": null,
      "outputs": [
        {
          "output_type": "stream",
          "text": [
            "x == y: False\n",
            "x != y: True\n",
            "x < y: True\n",
            "x > y: False\n",
            "x <= y: True\n",
            "x >= y: False\n"
          ],
          "name": "stdout"
        }
      ]
    },
    {
      "cell_type": "code",
      "metadata": {
        "colab": {
          "base_uri": "https://localhost:8080/",
          "height": 36
        },
        "id": "qAinP5FZNCqW",
        "outputId": "4ac6dcca-9ea5-4b8b-9abb-c827f11019cc"
      },
      "source": [
        "'''2. What are the three different types of Boolean operators?'''"
      ],
      "execution_count": null,
      "outputs": [
        {
          "output_type": "execute_result",
          "data": {
            "application/vnd.google.colaboratory.intrinsic+json": {
              "type": "string"
            },
            "text/plain": [
              "'2. What are the three different types of Boolean operators?'"
            ]
          },
          "metadata": {
            "tags": []
          },
          "execution_count": 10
        }
      ]
    },
    {
      "cell_type": "code",
      "metadata": {
        "colab": {
          "base_uri": "https://localhost:8080/"
        },
        "id": "N7aRUVFgi9td",
        "outputId": "5f26ec3b-84df-4bc1-a12d-caf4cdbb120b"
      },
      "source": [
        "'''Three different types of Boolean operators are And, Or and NOT. These are also called as logical operators. They are used to compare values.\n",
        "Logical Boolean operators are typically used to evaluate whether two or more expressions are true or false.\n",
        "\n",
        "AND : It's output will be True only if both the conditions are True\n",
        "OR  : It's output will be True if any of the conditions is True\n",
        "NOT : It's output will be True only if the condition is False. It is basically reverse of input value.\n",
        "'''\n",
        "print((-0.2 > 1.4) and (0.8 < 3.1)) \n",
        "print((7.5 == 8.9) or (9.2 != 9.2))\n",
        "print(not(-5.7 >= 0.3))  "
      ],
      "execution_count": null,
      "outputs": [
        {
          "output_type": "stream",
          "text": [
            "False\n",
            "False\n",
            "True\n"
          ],
          "name": "stdout"
        }
      ]
    },
    {
      "cell_type": "code",
      "metadata": {
        "colab": {
          "base_uri": "https://localhost:8080/",
          "height": 36
        },
        "id": "peF1c0_ZNEGl",
        "outputId": "8c9010f6-e963-4a2c-dac4-7edf95baa5ed"
      },
      "source": [
        "'''3. Make a list of each Boolean operator's truth tables (i.e. every possible combination of Boolean values for the operator and what it evaluate ).'''"
      ],
      "execution_count": null,
      "outputs": [
        {
          "output_type": "execute_result",
          "data": {
            "application/vnd.google.colaboratory.intrinsic+json": {
              "type": "string"
            },
            "text/plain": [
              "\"3. Make a list of each Boolean operator's truth tables (i.e. every possible combination of Boolean values for the operator and what it evaluate ).\""
            ]
          },
          "metadata": {
            "tags": []
          },
          "execution_count": 12
        }
      ]
    },
    {
      "cell_type": "code",
      "metadata": {
        "colab": {
          "base_uri": "https://localhost:8080/",
          "height": 90
        },
        "id": "_Z-2pITVrzvl",
        "outputId": "54c54063-a04a-41db-f33a-db465642784a"
      },
      "source": [
        "'''The truth Table of every possible combination\n",
        "\n",
        "AND Truth Table\n",
        "    X     AND     Y      Output - \n",
        "1. True   AND    True    - True\n",
        "2. True   AND    False   - False\n",
        "3. False  AND    True    - False\n",
        "4. False  AND    False   - False\n",
        "\n",
        "OR Truth Table\n",
        "    X     OR       Y        Output \n",
        "1. True   OR      True    - True\n",
        "2. True   OR      False   - True\n",
        "3. False  OR      True    - True\n",
        "4. False  OR      False   - False\n",
        "\n",
        "NOT Truth Table\n",
        "     NOT X            Output \n",
        "1.    True            False\n",
        "2.    False           True '''"
      ],
      "execution_count": null,
      "outputs": [
        {
          "output_type": "execute_result",
          "data": {
            "application/vnd.google.colaboratory.intrinsic+json": {
              "type": "string"
            },
            "text/plain": [
              "'The truth Table of every possible combination\\n\\nAND Truth Table\\n    X     AND     Y      Output - \\n1. True   AND    True    - True\\n2. True   AND    False   - False\\n3. False  AND    True    - False\\n4. False  AND    False   - False\\n\\nOR Truth Table\\n    X     OR       Y        Output \\n1. True   OR      True    - True\\n2. True   OR      False   - True\\n3. False  OR      True    - True\\n4. False  OR      False   - False\\n\\nNOT Truth Table\\n     NOT X            Output \\n1.    True            False\\n2.    False           True '"
            ]
          },
          "metadata": {
            "tags": []
          },
          "execution_count": 13
        }
      ]
    },
    {
      "cell_type": "code",
      "metadata": {
        "colab": {
          "base_uri": "https://localhost:8080/",
          "height": 54
        },
        "id": "953RPRhINGSJ",
        "outputId": "82ff317e-cdf0-4659-f297-ae7e06659bdb"
      },
      "source": [
        "'''4. What are the values of the following expressions?\n",
        "\n",
        "(5 > 4) and (3 == 5)\n",
        "not (5 > 4)\n",
        "(5 > 4) or (3 == 5)\n",
        "not ((5 > 4) or (3 == 5))\n",
        "(True and True) and (True == False)\n",
        "(not False) or (not True)\n",
        "'''"
      ],
      "execution_count": null,
      "outputs": [
        {
          "output_type": "execute_result",
          "data": {
            "application/vnd.google.colaboratory.intrinsic+json": {
              "type": "string"
            },
            "text/plain": [
              "'4. What are the values of the following expressions?\\n\\n(5 > 4) and (3 == 5)\\nnot (5 > 4)\\n(5 > 4) or (3 == 5)\\nnot ((5 > 4) or (3 == 5))\\n(True and True) and (True == False)\\n(not False) or (not True)\\n'"
            ]
          },
          "metadata": {
            "tags": []
          },
          "execution_count": 14
        }
      ]
    },
    {
      "cell_type": "code",
      "metadata": {
        "colab": {
          "base_uri": "https://localhost:8080/"
        },
        "id": "xbRdRxhxqvoO",
        "outputId": "aa1d8dcd-687c-4d45-c7ac-a03a6cbeb0e9"
      },
      "source": [
        "(5 > 4) and (3 == 5)\n",
        "not (5 > 4)\n",
        "(5 > 4) or (3 == 5)\n",
        "not ((5 > 4) or (3 == 5))\n",
        "(True and True) and (True == False)\n",
        "(not False) or (not True)\n",
        "\n",
        "# Output is True because it is the last output and no other condition is given which changes this output."
      ],
      "execution_count": null,
      "outputs": [
        {
          "output_type": "execute_result",
          "data": {
            "text/plain": [
              "True"
            ]
          },
          "metadata": {
            "tags": []
          },
          "execution_count": 15
        }
      ]
    },
    {
      "cell_type": "code",
      "metadata": {
        "colab": {
          "base_uri": "https://localhost:8080/"
        },
        "id": "lCMlnysorFY1",
        "outputId": "ccf4a801-0a46-4f80-c056-80d485882e65"
      },
      "source": [
        "# values of each of the statement\n",
        "print((5 > 4) and (3 == 5))\n",
        "print(not (5 > 4))\n",
        "print((5 > 4) or (3 == 5))\n",
        "print(not ((5 > 4) or (3 == 5)))\n",
        "print((True and True) and (True == False))\n",
        "print((not False) or (not True))"
      ],
      "execution_count": null,
      "outputs": [
        {
          "output_type": "stream",
          "text": [
            "False\n",
            "False\n",
            "True\n",
            "False\n",
            "False\n",
            "True\n"
          ],
          "name": "stdout"
        }
      ]
    },
    {
      "cell_type": "code",
      "metadata": {
        "colab": {
          "base_uri": "https://localhost:8080/",
          "height": 36
        },
        "id": "rYE51s3aNJfa",
        "outputId": "5a81d621-08e4-48da-f61e-4b66e9e1b74c"
      },
      "source": [
        "'''5. What are the six different types of reference operators?'''"
      ],
      "execution_count": null,
      "outputs": [
        {
          "output_type": "execute_result",
          "data": {
            "application/vnd.google.colaboratory.intrinsic+json": {
              "type": "string"
            },
            "text/plain": [
              "'5. What are the six different types of reference operators?'"
            ]
          },
          "metadata": {
            "tags": []
          },
          "execution_count": 17
        }
      ]
    },
    {
      "cell_type": "code",
      "metadata": {
        "colab": {
          "base_uri": "https://localhost:8080/"
        },
        "id": "k-Sz2QZcuB3t",
        "outputId": "ab6618f8-ffb5-49b9-ae32-9d5dd299c123"
      },
      "source": [
        "''' These operators are used to manipulate values of one or more operans. \n",
        "    1. Assignment Operators are the basic assignment operator equal to ('=') sign. They are used to assign values to variables. Ex: a=2, b=3.\n",
        "    Ex: += means add, *= means multiply, /= means divide, %= means reminder after divisible a/b, **= means exponent operator.\n",
        "    \n",
        "    2. Arithmetic Operators are used for arithnetic operation like addtion, subtraction, division, multiply, returning remainder, exponent operator. \n",
        "    \n",
        "    3. Comparision Operators are used for comparing operators and return True or False. Ex: == if operands are equal\n",
        "    != if operands are not equal, > if operands is greater than right operand,\n",
        "    < if operands is lesser than right operand, >= if operands is greater than or equal to right operand,\n",
        "    <= if operands is lesser than or equal to right operand or not.  \n",
        "    \n",
        "    4. Bitwise Operators are used for comparision. Like AND- &, OR-|, XOR- ^, ONEs - ~, LEFT SHIFT- <<, RIGHT SHIFT- >>\n",
        "\n",
        "    5. Logical Operator are AND, OR and NOT\n",
        "    AND output is True if both the statements are true\n",
        "    OR  output is True if any of the statements are true\n",
        "    NOT output is True if the statements is False.\n",
        "\n",
        "    6. Operator Precedence -  It guides the order in which these operations are carried out.\n",
        "    Listed in decreasing order \n",
        "    Operators                   Meaning\n",
        "    ()                          Parentheses \n",
        "    **                          Exponent \n",
        "    +X, -X, ~X                  Unary plus, Unary minus, Bitwise NOT\n",
        "    *,/,//,%                    Multiplication, Division, Floor division, Modulus\n",
        "    +,-                         Addition, Subtraction\n",
        "    <<, >>                      Bitwise shift operators\n",
        "    &                           Bitwise AND\n",
        "    ^                           Bitwise XOR\n",
        "    |                           Bitwise OR\n",
        "    ==, !=, >, >=, <, <=,       Comparisons, Identity, Membership operators\n",
        "    is, is not, in , not in \n",
        "    not                         Logical NOT\n",
        "    and                         Logical AND\n",
        "    or                          Logical OR\n",
        "    '''\n",
        "\n",
        "#Example of Bitwise operators\n",
        "a=5 # binary 101\n",
        "b=9 # binary 1001\n",
        " \n",
        "print(a&b)  # Binary AND (&) operator,  0101 & 1001 = 0001\n",
        "\n",
        "print(a|b)  # Binary OR (|) operator,   0101 | 1001 = 1101 = 13 (DECIMAL)\n",
        "\n",
        "print(a^b)  # Binary XOR (^) operator,  0101 ^ 1001 = 1100 = 12  # opposite 1 = 0 and vise versa\n",
        " \n",
        "print(~a)   # Binary ONEs Compliment (~) operator, done binary One's Compliment operation  = -(101)\n",
        " \n",
        "print(a<<1) # Binary Left Shift (<<) operator, done binary Left Shift operation\n",
        "\n",
        "print(a>>1) # Binary Right Shift (>>) operator, done binary Right Shift operation\n"
      ],
      "execution_count": null,
      "outputs": [
        {
          "output_type": "stream",
          "text": [
            "1\n",
            "13\n",
            "12\n",
            "-6\n",
            "10\n",
            "2\n"
          ],
          "name": "stdout"
        }
      ]
    },
    {
      "cell_type": "code",
      "metadata": {
        "id": "kmpTPbFbNNAA",
        "colab": {
          "base_uri": "https://localhost:8080/",
          "height": 36
        },
        "outputId": "e251810e-e87f-49a9-e9a6-54a4edd0fe46"
      },
      "source": [
        "'''6. How do you tell the difference between the equal to and assignment operators?'''"
      ],
      "execution_count": null,
      "outputs": [
        {
          "output_type": "execute_result",
          "data": {
            "application/vnd.google.colaboratory.intrinsic+json": {
              "type": "string"
            },
            "text/plain": [
              "'6. How do you tell the difference between the equal to and assignment operators?'"
            ]
          },
          "metadata": {
            "tags": []
          },
          "execution_count": 19
        }
      ]
    },
    {
      "cell_type": "code",
      "metadata": {
        "colab": {
          "base_uri": "https://localhost:8080/"
        },
        "id": "tgU0XqzBycF-",
        "outputId": "542d56f3-874d-4e2a-a9af-c6c6f8e97d89"
      },
      "source": [
        "'''The assignment operator is used to assign the value to the variable.\n",
        "The equal to checks whether the two given operands are equal or not. If true, it returns true else returns false.'''\n",
        "a = 10   # Assignment operator example\n",
        "print(\"Value of a is: \", a)"
      ],
      "execution_count": null,
      "outputs": [
        {
          "output_type": "stream",
          "text": [
            "Value of a is:  10\n"
          ],
          "name": "stdout"
        }
      ]
    },
    {
      "cell_type": "code",
      "metadata": {
        "colab": {
          "base_uri": "https://localhost:8080/"
        },
        "id": "Xwbz_mAN87MX",
        "outputId": "a62164d6-cea7-4136-8c1d-e3d7cd39e43c"
      },
      "source": [
        "a = 10 # equal to operator example \n",
        "b = 4 \n",
        "\n",
        "if (a == b):\n",
        "  print(\"a is equal to b\")\n",
        "else:\n",
        "  print(\"a and b are not equal\")"
      ],
      "execution_count": null,
      "outputs": [
        {
          "output_type": "stream",
          "text": [
            "a and b are not equal\n"
          ],
          "name": "stdout"
        }
      ]
    },
    {
      "cell_type": "code",
      "metadata": {
        "id": "jDt_1dQxNPFU",
        "colab": {
          "base_uri": "https://localhost:8080/",
          "height": 36
        },
        "outputId": "59b8482a-9c84-4e3d-b614-88f13ee7ee23"
      },
      "source": [
        "'''7. Describe a condition and when you would use one.'''"
      ],
      "execution_count": null,
      "outputs": [
        {
          "output_type": "execute_result",
          "data": {
            "application/vnd.google.colaboratory.intrinsic+json": {
              "type": "string"
            },
            "text/plain": [
              "'7. Describe a condition and when you would use one.'"
            ]
          },
          "metadata": {
            "tags": []
          },
          "execution_count": 22
        }
      ]
    },
    {
      "cell_type": "code",
      "metadata": {
        "id": "1qbrr5XJydGm",
        "colab": {
          "base_uri": "https://localhost:8080/"
        },
        "outputId": "aee3a26e-e362-4239-f006-0494f53eb7da"
      },
      "source": [
        "'''Conditional statements are also known as decision-making statements. We use these conditional statements to execute the specific block of code if the given condition is true or false.\n",
        "\n",
        "In Python we can achieve decision making by using the following statements:\n",
        "    1. if statements : It decides whether certain statements need to be executed or not. It checks for a given condition, if the condition is true, then the set of code present inside the ” if ” block will be executed otherwise not.\n",
        "    if condition evaluates a Boolean expression and executes the block of code only when the Boolean expression becomes TRUE.\n",
        "\n",
        "    2. if-else statements: This statement says that if a given condition is true then execute the statements present inside the “if block” and if the condition is false then execute the “else” block.\n",
        "    \n",
        "    3. elif statements: When we have more than one conditional statement is called “elif” statements. “elif” statement is used for multiple conditions only if the given condition is false. The only difference between \"elif\" and “if else” statement is that in “else” we will not check the condition but in “elif” we will check the condition in \"elif\" block also.\n",
        "    \n",
        "    4. Nested if and if-else statements: Nested “if-else” statements mean that an “if” statement or “if-else” statement is present inside another if or if-else block. This feature will help us to check multiple conditions in a given program.\n",
        "    \n",
        "    5. elif ladder: “elif” statements contains a ladder of “elif” statements or “elif” statements are structured in the form of a ladder.\n",
        "'''\n",
        "# if statements\n",
        "a = 0\n",
        "b = 7\n",
        "if (b > a):\n",
        "  print(\"b is greater than a\")\n",
        "\n",
        "\n",
        "# if else statements\n",
        "a = 10\n",
        "b = 0\n",
        "if (a < b):\n",
        "            print( \"a is smaller than b\" )\n",
        "else:\n",
        "            print( \"b is smaller than a\" )\n",
        "\n",
        "# elif statements\n",
        "num = 10\n",
        "if(num >0):\n",
        "       print(\"number is positive\")\n",
        " \n",
        "if(num<8):\n",
        "       print(\"number is less than 10\")\n",
        "\n",
        "\n",
        "# Nested if and if-else statements\n",
        "num = -5\n",
        "if (num != 0):\n",
        "          if (num > 0):\n",
        "                      print(\"Number is positive\")\n",
        "          else:\n",
        "                      print(\"Number is negative\")\n",
        "else:\n",
        "           print(\"Number is Zero\")\n",
        "\n",
        "# elif ladder example\n",
        "my_marks = 80\n",
        "if (my_marks < 33):\n",
        "              print(\"Sorry!, You failed the exam\")\n",
        "elif(my_marks > 70 and my_marks > 100): \n",
        "              print(\"Passed in First class\")\n",
        "else:\n",
        "              print(\"Passed in First class with distinction\")"
      ],
      "execution_count": null,
      "outputs": [
        {
          "output_type": "stream",
          "text": [
            "b is greater than a\n",
            "b is smaller than a\n",
            "number is positive\n",
            "Number is negative\n",
            "Passed in First class with distinction\n"
          ],
          "name": "stdout"
        }
      ]
    },
    {
      "cell_type": "code",
      "metadata": {
        "colab": {
          "base_uri": "https://localhost:8080/"
        },
        "id": "NaJSE9BHNREF",
        "outputId": "3233f069-21fb-4dfb-c3a6-ced81dc1756e"
      },
      "source": [
        "'''8. Recognize the following three blocks in this code:'''\n",
        "\n",
        "spam = 0\n",
        "if spam == 10:\n",
        "    print('eggs')\n",
        "    if spam > 5:\n",
        "        print('bacon')\n",
        "    else:\n",
        "        print('ham')\n",
        "    print('spam')\n",
        "print('spam')\n",
        "# "
      ],
      "execution_count": null,
      "outputs": [
        {
          "output_type": "stream",
          "text": [
            "spam\n"
          ],
          "name": "stdout"
        }
      ]
    },
    {
      "cell_type": "code",
      "metadata": {
        "colab": {
          "base_uri": "https://localhost:8080/",
          "height": 72
        },
        "id": "WiNDyx_y9zYE",
        "outputId": "db94f885-31a0-4eca-bd1d-9a3562a6d555"
      },
      "source": [
        "''' \n",
        "Block 1 : \n",
        "    if spam == 10 then output will be \"eggs\" else \"spam\"\n",
        "\n",
        "Block 2 : \n",
        "    if spam == 10 then it will check if it is more then 5 or less \n",
        "          if it is more then 5 output will be \"bacon\" else \"ham\"\n",
        "    in this block if statement satisfy spam ==10 it will always print \"spam\".\n",
        "\n",
        "Block 3 :\n",
        "    In this block it will always print \"spam\"\n",
        "'''"
      ],
      "execution_count": null,
      "outputs": [
        {
          "output_type": "execute_result",
          "data": {
            "application/vnd.google.colaboratory.intrinsic+json": {
              "type": "string"
            },
            "text/plain": [
              "' \\nBlock 1 : \\n    if spam == 10 then output will be \"eggs\" else \"spam\"\\n\\nBlock 2 : \\n    if spam == 10 then it will check if it is more then 5 or less \\n          if it is more then 5 output will be \"bacon\" else \"ham\"\\n    in this block if statement satisfy spam ==10 it will always print \"spam\".\\n\\nBlock 3 :\\n    In this block it will always print \"spam\"\\n'"
            ]
          },
          "metadata": {
            "tags": []
          },
          "execution_count": 25
        }
      ]
    },
    {
      "cell_type": "code",
      "metadata": {
        "id": "jvgdKvjnNUjO",
        "colab": {
          "base_uri": "https://localhost:8080/",
          "height": 54
        },
        "outputId": "9544a94f-7d56-4883-a60a-4d77b31edfb4"
      },
      "source": [
        "'''9. Create a programme that prints. \n",
        "If 1 is stored in spam, prints Hello; \n",
        "if 2 is stored in spam, prints Howdy; \n",
        "and if 3 is stored in spam, prints Salutations! \n",
        "if there's something else in spam.'''"
      ],
      "execution_count": null,
      "outputs": [
        {
          "output_type": "execute_result",
          "data": {
            "application/vnd.google.colaboratory.intrinsic+json": {
              "type": "string"
            },
            "text/plain": [
              "\"9. Create a programme that prints. \\nIf 1 is stored in spam, prints Hello; \\nif 2 is stored in spam, prints Howdy; \\nand if 3 is stored in spam, prints Salutations! \\nif there's something else in spam.\""
            ]
          },
          "metadata": {
            "tags": []
          },
          "execution_count": 26
        }
      ]
    },
    {
      "cell_type": "code",
      "metadata": {
        "colab": {
          "base_uri": "https://localhost:8080/"
        },
        "id": "WMqrzcuHvne1",
        "outputId": "201f2720-9e54-4a6b-f520-e585a2c6ec93"
      },
      "source": [
        "spam = (int(input(\"Enter the value: \")))\n",
        "\n",
        "if spam == 1:\n",
        "  print(\"Hello!\")\n",
        "elif spam == 2:\n",
        "  print(\"Howdy!\")\n",
        "else:\n",
        "  print(\"Greetings!!\")"
      ],
      "execution_count": null,
      "outputs": [
        {
          "output_type": "stream",
          "text": [
            "Enter the value: 1\n",
            "Hello!\n"
          ],
          "name": "stdout"
        }
      ]
    },
    {
      "cell_type": "code",
      "metadata": {
        "colab": {
          "base_uri": "https://localhost:8080/",
          "height": 36
        },
        "id": "km8oPibeNa1f",
        "outputId": "b9206e98-796e-425c-fd3d-de391c98c41f"
      },
      "source": [
        "'''10.If your programme is stuck in an endless loop, what keys can you press?'''"
      ],
      "execution_count": null,
      "outputs": [
        {
          "output_type": "execute_result",
          "data": {
            "application/vnd.google.colaboratory.intrinsic+json": {
              "type": "string"
            },
            "text/plain": [
              "'10.If your programme is stuck in an endless loop, what keys can you press?'"
            ]
          },
          "metadata": {
            "tags": []
          },
          "execution_count": 28
        }
      ]
    },
    {
      "cell_type": "code",
      "metadata": {
        "colab": {
          "base_uri": "https://localhost:8080/",
          "height": 36
        },
        "id": "5Ba_thbPyj-F",
        "outputId": "78c0a995-dfc4-4cae-93b8-bc832d80edd0"
      },
      "source": [
        "\"press CTRL + C \""
      ],
      "execution_count": null,
      "outputs": [
        {
          "output_type": "execute_result",
          "data": {
            "application/vnd.google.colaboratory.intrinsic+json": {
              "type": "string"
            },
            "text/plain": [
              "'press CTRL + C '"
            ]
          },
          "metadata": {
            "tags": []
          },
          "execution_count": 29
        }
      ]
    },
    {
      "cell_type": "code",
      "metadata": {
        "id": "WzT6F_mtNj2z",
        "colab": {
          "base_uri": "https://localhost:8080/",
          "height": 36
        },
        "outputId": "1673ffe3-09cb-43e9-ae0c-bde554c2fbc3"
      },
      "source": [
        "'''11. How can you tell the difference between break and continue?'''"
      ],
      "execution_count": null,
      "outputs": [
        {
          "output_type": "execute_result",
          "data": {
            "application/vnd.google.colaboratory.intrinsic+json": {
              "type": "string"
            },
            "text/plain": [
              "'11. How can you tell the difference between break and continue?'"
            ]
          },
          "metadata": {
            "tags": []
          },
          "execution_count": 30
        }
      ]
    },
    {
      "cell_type": "code",
      "metadata": {
        "colab": {
          "base_uri": "https://localhost:8080/"
        },
        "id": "Lkn4yRG5yElN",
        "outputId": "75bcfafd-fabd-476d-cb41-4bed9830a4ff"
      },
      "source": [
        "# Example of continue function - it will skip the loop for that specific condition and keep performing the loop till the last condition\n",
        "for x in range(10):\n",
        "   if (x==2):\n",
        "      continue\n",
        "   print(x)"
      ],
      "execution_count": null,
      "outputs": [
        {
          "output_type": "stream",
          "text": [
            "0\n",
            "1\n",
            "3\n",
            "4\n",
            "5\n",
            "6\n",
            "7\n",
            "8\n",
            "9\n"
          ],
          "name": "stdout"
        }
      ]
    },
    {
      "cell_type": "code",
      "metadata": {
        "colab": {
          "base_uri": "https://localhost:8080/"
        },
        "id": "d98U3_kOyHBv",
        "outputId": "1b5e374f-514f-46ab-e4cd-1f7b9c5e8ccd"
      },
      "source": [
        "# Example of break function - it will stop the loop once the condition will be satisfied\n",
        "for x in range(10):\n",
        "   if (x==2):\n",
        "      break\n",
        "   print(x)"
      ],
      "execution_count": null,
      "outputs": [
        {
          "output_type": "stream",
          "text": [
            "0\n",
            "1\n"
          ],
          "name": "stdout"
        }
      ]
    },
    {
      "cell_type": "code",
      "metadata": {
        "colab": {
          "base_uri": "https://localhost:8080/",
          "height": 36
        },
        "id": "856nf_eCNmQN",
        "outputId": "e2751097-f1fc-4824-8a46-37ffac34131c"
      },
      "source": [
        "'''12. In a for loop, what is the difference between range(10), range(0, 10), and range(0, 10, 1)?'''"
      ],
      "execution_count": null,
      "outputs": [
        {
          "output_type": "execute_result",
          "data": {
            "application/vnd.google.colaboratory.intrinsic+json": {
              "type": "string"
            },
            "text/plain": [
              "'12. In a for loop, what is the difference between range(10), range(0, 10), and range(0, 10, 1)?'"
            ]
          },
          "metadata": {
            "tags": []
          },
          "execution_count": 33
        }
      ]
    },
    {
      "cell_type": "code",
      "metadata": {
        "colab": {
          "base_uri": "https://localhost:8080/"
        },
        "id": "9wY8mNNRx4NW",
        "outputId": "9b7bde4d-1955-4945-e3d6-dc4328ab4b5b"
      },
      "source": [
        "for i in range(10):    # Range (start  from 0 number, till 10 except 10, step size(1 = default))\n",
        "  print(i)"
      ],
      "execution_count": null,
      "outputs": [
        {
          "output_type": "stream",
          "text": [
            "0\n",
            "1\n",
            "2\n",
            "3\n",
            "4\n",
            "5\n",
            "6\n",
            "7\n",
            "8\n",
            "9\n"
          ],
          "name": "stdout"
        }
      ]
    },
    {
      "cell_type": "code",
      "metadata": {
        "colab": {
          "base_uri": "https://localhost:8080/"
        },
        "id": "Xn9EquhAx5-1",
        "outputId": "4f1631e0-f92e-4852-b20c-f736600e447c"
      },
      "source": [
        "for i in range(0,10):\n",
        "  print(i)"
      ],
      "execution_count": null,
      "outputs": [
        {
          "output_type": "stream",
          "text": [
            "0\n",
            "1\n",
            "2\n",
            "3\n",
            "4\n",
            "5\n",
            "6\n",
            "7\n",
            "8\n",
            "9\n"
          ],
          "name": "stdout"
        }
      ]
    },
    {
      "cell_type": "code",
      "metadata": {
        "colab": {
          "base_uri": "https://localhost:8080/"
        },
        "id": "NKLBnvNXx-O1",
        "outputId": "93be30e6-ee8e-457c-df97-05a368b57d29"
      },
      "source": [
        "for i in range(0,10,1):\n",
        "  print(i)\n",
        "# All the three range statement returns the same output. \n",
        "#Return(start number, second last number, step/jump size(1 is) )"
      ],
      "execution_count": null,
      "outputs": [
        {
          "output_type": "stream",
          "text": [
            "0\n",
            "1\n",
            "2\n",
            "3\n",
            "4\n",
            "5\n",
            "6\n",
            "7\n",
            "8\n",
            "9\n"
          ],
          "name": "stdout"
        }
      ]
    },
    {
      "cell_type": "code",
      "metadata": {
        "colab": {
          "base_uri": "https://localhost:8080/"
        },
        "id": "G2UzPdtN1dMF",
        "outputId": "23a4a189-33a3-4554-98be-be154989aff0"
      },
      "source": [
        "#This only for -ve sequence. Also step/ jump is always in same direction of sequence otherwise output will return empty list[].\n",
        "for i in range(10,0,-1):  \n",
        "  print(i)"
      ],
      "execution_count": null,
      "outputs": [
        {
          "output_type": "stream",
          "text": [
            "10\n",
            "9\n",
            "8\n",
            "7\n",
            "6\n",
            "5\n",
            "4\n",
            "3\n",
            "2\n",
            "1\n"
          ],
          "name": "stdout"
        }
      ]
    },
    {
      "cell_type": "code",
      "metadata": {
        "id": "XmaPVaejNomz",
        "colab": {
          "base_uri": "https://localhost:8080/",
          "height": 54
        },
        "outputId": "54294078-1dad-4e6a-c5cf-3571a24e220f"
      },
      "source": [
        "'''13. Using a for loop, write a short programme that prints the numbers 1 to 10 Then, using a while loop, create an identical programme that prints the numbers 1 to 10.'''"
      ],
      "execution_count": null,
      "outputs": [
        {
          "output_type": "execute_result",
          "data": {
            "application/vnd.google.colaboratory.intrinsic+json": {
              "type": "string"
            },
            "text/plain": [
              "'13. Using a for loop, write a short programme that prints the numbers 1 to 10 Then, using a while loop, create an identical programme that prints the numbers 1 to 10.'"
            ]
          },
          "metadata": {
            "tags": []
          },
          "execution_count": 38
        }
      ]
    },
    {
      "cell_type": "code",
      "metadata": {
        "colab": {
          "base_uri": "https://localhost:8080/"
        },
        "id": "KyMGmDDs9H6N",
        "outputId": "cabe32a1-20d7-4795-e292-39d7b6017467"
      },
      "source": [
        "for i in range(1,11):  # For loop\n",
        "  print(i)"
      ],
      "execution_count": null,
      "outputs": [
        {
          "output_type": "stream",
          "text": [
            "1\n",
            "2\n",
            "3\n",
            "4\n",
            "5\n",
            "6\n",
            "7\n",
            "8\n",
            "9\n",
            "10\n"
          ],
          "name": "stdout"
        }
      ]
    },
    {
      "cell_type": "code",
      "metadata": {
        "colab": {
          "base_uri": "https://localhost:8080/"
        },
        "id": "ftAYZJ7D9UHn",
        "outputId": "e9702fde-10be-4b89-aa25-7b6df1877593"
      },
      "source": [
        "i=1\n",
        "while i <11:\n",
        "  print(i)\n",
        "  i=i+1"
      ],
      "execution_count": null,
      "outputs": [
        {
          "output_type": "stream",
          "text": [
            "1\n",
            "2\n",
            "3\n",
            "4\n",
            "5\n",
            "6\n",
            "7\n",
            "8\n",
            "9\n",
            "10\n"
          ],
          "name": "stdout"
        }
      ]
    },
    {
      "cell_type": "code",
      "metadata": {
        "id": "Ov8jISzKNr1T",
        "colab": {
          "base_uri": "https://localhost:8080/",
          "height": 36
        },
        "outputId": "96f07aca-4642-4fe4-e656-9c3b27e00338"
      },
      "source": [
        "'''14. If you had a bacon() function within a spam module, how  would you call it after importing spam?'''"
      ],
      "execution_count": null,
      "outputs": [
        {
          "output_type": "execute_result",
          "data": {
            "application/vnd.google.colaboratory.intrinsic+json": {
              "type": "string"
            },
            "text/plain": [
              "'14. If you had a bacon() function within a spam module, how  would you call it after importing spam?'"
            ]
          },
          "metadata": {
            "tags": []
          },
          "execution_count": 41
        }
      ]
    },
    {
      "cell_type": "code",
      "metadata": {
        "id": "BYbCXrilNwu6",
        "colab": {
          "base_uri": "https://localhost:8080/",
          "height": 36
        },
        "outputId": "341e2f67-d7c8-4d09-9ba5-10c349ddf3f1"
      },
      "source": [
        "'''This function can be called with spam.bacon()'''"
      ],
      "execution_count": null,
      "outputs": [
        {
          "output_type": "execute_result",
          "data": {
            "application/vnd.google.colaboratory.intrinsic+json": {
              "type": "string"
            },
            "text/plain": [
              "'This function can be called with spam.bacon()'"
            ]
          },
          "metadata": {
            "tags": []
          },
          "execution_count": 42
        }
      ]
    },
    {
      "cell_type": "code",
      "metadata": {
        "id": "Xp8IIUZ6AkWL"
      },
      "source": [
        ""
      ],
      "execution_count": null,
      "outputs": []
    }
  ]
}