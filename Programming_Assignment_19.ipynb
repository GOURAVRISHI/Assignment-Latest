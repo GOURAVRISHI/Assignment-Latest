{
  "nbformat": 4,
  "nbformat_minor": 0,
  "metadata": {
    "colab": {
      "name": "Programming Assignment- 19.ipynb",
      "provenance": [],
      "collapsed_sections": []
    },
    "kernelspec": {
      "name": "python3",
      "display_name": "Python 3"
    },
    "language_info": {
      "name": "python"
    }
  },
  "cells": [
    {
      "cell_type": "code",
      "metadata": {
        "colab": {
          "base_uri": "https://localhost:8080/",
          "height": 90
        },
        "id": "TBi4T5wXudLh",
        "outputId": "12b75405-ff27-4082-c159-ae20ab33d0d3"
      },
      "source": [
        "'''Question1\n",
        "Create a function that takes a string and returns a string in which each character is repeated\n",
        "once.\n",
        "Examples\n",
        "double_char(\"String\") ➞ \"SSttrriinngg\"\n",
        "double_char(\"Hello World!\") ➞ \"HHeelllloo WWoorrlldd!!\";\n",
        "double_char(\"1234!_ \") ➞ \"11223344!!__ \"\n",
        "'''"
      ],
      "execution_count": null,
      "outputs": [
        {
          "output_type": "execute_result",
          "data": {
            "application/vnd.google.colaboratory.intrinsic+json": {
              "type": "string"
            },
            "text/plain": [
              "'Question1\\nCreate a function that takes a string and returns a string in which each character is repeated\\nonce.\\nExamples\\ndouble_char(\"String\") ➞ \"SSttrriinngg\"\\ndouble_char(\"Hello World!\") ➞ \"HHeelllloo WWoorrlldd!!\";\\ndouble_char(\"1234!_ \") ➞ \"11223344!!__ \"\\n'"
            ]
          },
          "metadata": {
            "tags": []
          },
          "execution_count": 7
        }
      ]
    },
    {
      "cell_type": "code",
      "metadata": {
        "id": "L5HxSgnHuvef",
        "colab": {
          "base_uri": "https://localhost:8080/"
        },
        "outputId": "d1068e41-19c7-412a-98b2-5c6ced487e63"
      },
      "source": [
        "str1= str(input(\"Enter your String: \"))\n",
        "\n",
        "i=0\n",
        "for i in str1:\n",
        "  str2=(i*2)\n",
        "  for i in str2:\n",
        "    print(str(i))"
      ],
      "execution_count": null,
      "outputs": [
        {
          "output_type": "stream",
          "text": [
            "Enter your String: string\n",
            "s\n",
            "s\n",
            "t\n",
            "t\n",
            "r\n",
            "r\n",
            "i\n",
            "i\n",
            "n\n",
            "n\n",
            "g\n",
            "g\n"
          ],
          "name": "stdout"
        }
      ]
    },
    {
      "cell_type": "code",
      "metadata": {
        "id": "Wften9iqw1vO"
      },
      "source": [
        "'''Question2\n",
        "Create a function that reverses a boolean value and returns the string \"boolean expected\";\n",
        "if another variable type is given.\n",
        "Examples\n",
        "reverse(True) ➞ False\n",
        "reverse(False) ➞ True\n",
        "reverse(0) ➞ \"boolean  expected\"\n",
        "reverse(None) ➞ \"boolean expected\"\n",
        "'''"
      ],
      "execution_count": null,
      "outputs": []
    },
    {
      "cell_type": "code",
      "metadata": {
        "colab": {
          "base_uri": "https://localhost:8080/"
        },
        "id": "ewMd81zLZvBQ",
        "outputId": "2a794fcc-61b8-4717-e39a-5a9e65f6b250"
      },
      "source": [
        "bol = str(input(\"Enter boolean expression: True/ true/ False/ false/ 0/ None: \"))\n",
        "\n",
        "if bol == \"False\" or bol == \"false\":\n",
        "  print(\"True\")\n",
        "elif bol == \"True\" or bol == \"true\":\n",
        "  print(\"False\")\n",
        "elif bol== \"0\":\n",
        "  print(\"Boolean  Expected!\")\n",
        "elif bol== \"None\":\n",
        "  print(\"Boolean  Expected!\")\n",
        "else:\n",
        "  print(\"Boolean  Expected! Please enter again!\")\n",
        "\n",
        "\n",
        "# !pip install PyInputPlus - tring using this library- comment for personal use\n",
        "# import pyinputplus as pyip\n",
        "# response = pyip.inputBool()\n",
        "# Input -  True/ true/ False/ false/ 0/ None"
      ],
      "execution_count": null,
      "outputs": [
        {
          "output_type": "stream",
          "text": [
            "Enter boolean expression: True/ true/ False/ false/ 0/ None: -9\n",
            "Boolean  Expected! Please enter again!\n"
          ],
          "name": "stdout"
        }
      ]
    },
    {
      "cell_type": "code",
      "metadata": {
        "colab": {
          "base_uri": "https://localhost:8080/",
          "height": 72
        },
        "id": "hk7NRk82w2E-",
        "outputId": "03b5d965-e884-4f36-8e66-2c1be657ff0e"
      },
      "source": [
        "'''Question3\n",
        "Create a function that returns the thickness (in meters) of a piece of paper after folding it n\n",
        "number of times. The paper starts off with a thickness of 0.5mm.\n",
        "\n",
        "Examples\n",
        "num_layers(1) ➞ \"0.001m\"\n",
        "# Paper folded once is 1mm (equal to 0.001m)\n",
        "num_layers(4) ➞ \"0.008m\"\n",
        "# Paper folded 4 times is 8mm (equal to 0.008m)\n",
        "num_layers(21) ➞ \"1048.576\"\n",
        "# Paper folded 21 times is 1048576mm (equal to 1048.576m)'''"
      ],
      "execution_count": 1,
      "outputs": [
        {
          "output_type": "execute_result",
          "data": {
            "application/vnd.google.colaboratory.intrinsic+json": {
              "type": "string"
            },
            "text/plain": [
              "'Question3\\nCreate a function that returns the thickness (in meters) of a piece of paper after folding it n\\nnumber of times. The paper starts off with a thickness of 0.5mm.\\n\\nExamples\\nnum_layers(1) ➞ \"0.001m\"\\n# Paper folded once is 1mm (equal to 0.001m)\\nnum_layers(4) ➞ \"0.008m\"\\n# Paper folded 4 times is 8mm (equal to 0.008m)\\nnum_layers(21) ➞ \"1048.576\"\\n# Paper folded 21 times is 1048576mm (equal to 1048.576m)'"
            ]
          },
          "metadata": {
            "tags": []
          },
          "execution_count": 1
        }
      ]
    },
    {
      "cell_type": "code",
      "metadata": {
        "id": "FSBzqu-7w2VU",
        "colab": {
          "base_uri": "https://localhost:8080/"
        },
        "outputId": "2376b453-a4b3-4da1-8927-d7a8e45a6d46"
      },
      "source": [
        "thick1 = 0.5  # paper thickness = 0.5 mm \n",
        "\n",
        "fold = int(input(\"Enter the number of layers: \"))\n",
        "\n",
        "count = 0\n",
        "\n",
        "while count <= fold:\n",
        "   \n",
        "    count =count + 1\n",
        "\n",
        "    thick1 *= 2\n",
        "    thick2= thick1/1000\n",
        "    print (\"Thickness after\", count, \"folds is :\", thick2, \"(in mtr)\")"
      ],
      "execution_count": 17,
      "outputs": [
        {
          "output_type": "stream",
          "text": [
            "Enter the number of layers: 21\n",
            "Thickness after 1 folds is : 0.001 (in mtr)\n",
            "Thickness after 2 folds is : 0.002 (in mtr)\n",
            "Thickness after 3 folds is : 0.004 (in mtr)\n",
            "Thickness after 4 folds is : 0.008 (in mtr)\n",
            "Thickness after 5 folds is : 0.016 (in mtr)\n",
            "Thickness after 6 folds is : 0.032 (in mtr)\n",
            "Thickness after 7 folds is : 0.064 (in mtr)\n",
            "Thickness after 8 folds is : 0.128 (in mtr)\n",
            "Thickness after 9 folds is : 0.256 (in mtr)\n",
            "Thickness after 10 folds is : 0.512 (in mtr)\n",
            "Thickness after 11 folds is : 1.024 (in mtr)\n",
            "Thickness after 12 folds is : 2.048 (in mtr)\n",
            "Thickness after 13 folds is : 4.096 (in mtr)\n",
            "Thickness after 14 folds is : 8.192 (in mtr)\n",
            "Thickness after 15 folds is : 16.384 (in mtr)\n",
            "Thickness after 16 folds is : 32.768 (in mtr)\n",
            "Thickness after 17 folds is : 65.536 (in mtr)\n",
            "Thickness after 18 folds is : 131.072 (in mtr)\n",
            "Thickness after 19 folds is : 262.144 (in mtr)\n",
            "Thickness after 20 folds is : 524.288 (in mtr)\n",
            "Thickness after 21 folds is : 1048.576 (in mtr)\n",
            "Thickness after 22 folds is : 2097.152 (in mtr)\n"
          ],
          "name": "stdout"
        }
      ]
    },
    {
      "cell_type": "code",
      "metadata": {
        "colab": {
          "base_uri": "https://localhost:8080/",
          "height": 108
        },
        "id": "smvDH97Bw-7M",
        "outputId": "8156398f-443b-442a-fee0-acf2c861e20c"
      },
      "source": [
        "'''Question4\n",
        "Create a function that takes a single string as argument and returns an ordered list containing\n",
        "the indices of all capital letters in the string.\n",
        "Examples\n",
        "index_of_caps(\"eDaBiT\") ➞ [1, 3, 5]\n",
        "index_of_caps(\"eQuINoX\") ➞ [1, 3, 4, 6]\n",
        "index_of_caps(\"determine\") ➞ []\n",
        "index_of_caps(\"STRIKE\") ➞ [0, 1, 2, 3, 4, 5]\n",
        "index_of_caps(\"sUn\") ➞ [1]'''"
      ],
      "execution_count": null,
      "outputs": [
        {
          "output_type": "execute_result",
          "data": {
            "application/vnd.google.colaboratory.intrinsic+json": {
              "type": "string"
            },
            "text/plain": [
              "'Question4\\nCreate a function that takes a single string as argument and returns an ordered list containing\\nthe indices of all capital letters in the string.\\nExamples\\nindex_of_caps(\"eDaBiT\") ➞ [1, 3, 5]\\nindex_of_caps(\"eQuINoX\") ➞ [1, 3, 4, 6]\\nindex_of_caps(\"determine\") ➞ []\\nindex_of_caps(\"STRIKE\") ➞ [0, 1, 2, 3, 4, 5]\\nindex_of_caps(\"sUn\") ➞ [1]'"
            ]
          },
          "metadata": {
            "tags": []
          },
          "execution_count": 10
        }
      ]
    },
    {
      "cell_type": "code",
      "metadata": {
        "colab": {
          "base_uri": "https://localhost:8080/"
        },
        "id": "D0f2TdLfxLN3",
        "outputId": "5d1c95ce-6cf0-4afa-e934-2c5583be5111"
      },
      "source": [
        "string = str(input(\"Enter your String: \"))\n",
        "lst=[]\n",
        "\n",
        "def string():\n",
        "\n",
        "\n",
        "for i in string:\n",
        "  if i == i.upper():\n",
        "       \n",
        "    lst.append(string.index(i))\n",
        "print(lst)\n",
        "\n",
        "# input1 - eDaBiT   - [1, 3, 5]\n",
        "# input2 - eQuINoX  - [1, 3, 4, 6]\n",
        "# input3 - determine- []\n",
        "# input4 - STRIKE   - [0, 1, 2, 3, 4, 5]\n",
        "# input5 -sUn       - [1]"
      ],
      "execution_count": null,
      "outputs": [
        {
          "output_type": "stream",
          "text": [
            "Enter your String: STRIKE\n",
            "[0, 1, 2, 3, 4, 5]\n"
          ],
          "name": "stdout"
        }
      ]
    },
    {
      "cell_type": "code",
      "metadata": {
        "colab": {
          "base_uri": "https://localhost:8080/",
          "height": 72
        },
        "id": "7u5hO6a9w_OG",
        "outputId": "a25641d6-4549-4f41-ee4b-0ce975e20c79"
      },
      "source": [
        "'''Question5\n",
        "Using list comprehensions, create a function that finds all even numbers from 1 to the given\n",
        "number.\n",
        "Examples\n",
        "find_even_nums(8) ➞ [2, 4, 6, 8]\n",
        "find_even_nums(4) ➞ [2, 4]\n",
        "find_even_nums(2) ➞ [2]'''"
      ],
      "execution_count": null,
      "outputs": [
        {
          "output_type": "execute_result",
          "data": {
            "application/vnd.google.colaboratory.intrinsic+json": {
              "type": "string"
            },
            "text/plain": [
              "'Question5\\nUsing list comprehensions, create a function that finds all even numbers from 1 to the given\\nnumber.\\nExamples\\nfind_even_nums(8) ➞ [2, 4, 6, 8]\\nfind_even_nums(4) ➞ [2, 4]\\nfind_even_nums(2) ➞ [2]'"
            ]
          },
          "metadata": {
            "tags": []
          },
          "execution_count": 6
        }
      ]
    },
    {
      "cell_type": "code",
      "metadata": {
        "id": "_muASOzGxGmO",
        "colab": {
          "base_uri": "https://localhost:8080/"
        },
        "outputId": "6f5ff83f-69d9-46eb-94c6-a73668345ee0"
      },
      "source": [
        "num= int(input(\"Enter the number: \"))\n",
        "\n",
        "num = [x for x in range(1, num+1) if x%2==0]\n",
        "print(num)"
      ],
      "execution_count": null,
      "outputs": [
        {
          "output_type": "stream",
          "text": [
            "Enter the number: 8\n",
            "[2, 4, 6, 8]\n"
          ],
          "name": "stdout"
        }
      ]
    }
  ]
}