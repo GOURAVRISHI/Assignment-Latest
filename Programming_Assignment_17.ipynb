{
  "nbformat": 4,
  "nbformat_minor": 0,
  "metadata": {
    "colab": {
      "name": "Programming Assignment- 17.ipynb",
      "provenance": [],
      "collapsed_sections": []
    },
    "kernelspec": {
      "name": "python3",
      "display_name": "Python 3"
    },
    "language_info": {
      "name": "python"
    }
  },
  "cells": [
    {
      "cell_type": "code",
      "metadata": {
        "id": "jO7bPjXIolMx"
      },
      "source": [
        "I+1'''Question1. Create a function that takes three arguments a, b, c and returns the sum of the\n",
        "numbers that are evenly divided by c from the range a, b inclusive.\n",
        "Examples\n",
        "evenly_divisible(1, 10, 20) ➞ 0\n",
        "# No number between 1 and 10 can be evenly divided by 20.\n",
        "evenly_divisible(1, 10, 2) ➞ 30\n",
        "# 2 + 4 + 6 + 8 + 10 = 30\n",
        "evenly_divisible(1, 10, 3) ➞ 18\n",
        "# 3 + 6 + 9 = 18'''"
      ],
      "execution_count": null,
      "outputs": []
    },
    {
      "cell_type": "code",
      "metadata": {
        "id": "JRzTfIwzovFO",
        "colab": {
          "base_uri": "https://localhost:8080/"
        },
        "outputId": "e4756acb-d93d-4136-aa12-27b54af932f4"
      },
      "source": [
        "a=int(input(\"Enter the First number: \"))\n",
        "b=int(input(\"Enter the Second number: \"))\n",
        "c=int(input(\"Enter number to be divided: \"))\n",
        "\n",
        "def sum_num(a, b, c):\n",
        "  sum=0\n",
        "\n",
        "  for i in range(a, b+1):\n",
        "    if (i%c==0):\n",
        "      sum = sum +i # sum +=i\n",
        "\n",
        "  return sum\n",
        "\n",
        "if __name__== \"__main__\":\n",
        "  \n",
        "  print(\"The sum of the numbers evenly divisible by\", c, \"in the range from\", a, \"to\", b ,\"is\", sum_num(a, b, c))"
      ],
      "execution_count": null,
      "outputs": [
        {
          "output_type": "stream",
          "text": [
            "Enter the First number: 1\n",
            "Enter the Second number: 10\n",
            "Enter number to be divided: 3\n",
            "The sum of the numbers evenly divisible by 3 in the range from 1 to 10 is 18\n"
          ],
          "name": "stdout"
        }
      ]
    },
    {
      "cell_type": "code",
      "metadata": {
        "colab": {
          "base_uri": "https://localhost:8080/",
          "height": 90
        },
        "id": "jUN_vCS0ovSA",
        "outputId": "9ddfb9d3-75ee-442e-9dfb-4547145f0344"
      },
      "source": [
        "'''Question2.   if a given inequality expression is correct and False otherwise.\n",
        "Examples\n",
        "correct_signs(\"3 < 7 < 11\") ➞ True\n",
        "correct_signs(\"13 > 44 > 33 > 1\") ➞ False\n",
        "correct_signs(\"1 < 2 < 6 < 9 > 3\") ➞ True'''"
      ],
      "execution_count": null,
      "outputs": [
        {
          "output_type": "execute_result",
          "data": {
            "application/vnd.google.colaboratory.intrinsic+json": {
              "type": "string"
            },
            "text/plain": [
              "'Question2. Create a function that returns True if a given inequality expression is correct and\\nFalse otherwise.\\nExamples\\ncorrect_signs(\"3 < 7 < 11\") ➞ True\\ncorrect_signs(\"13 > 44 > 33 > 1\") ➞ False\\ncorrect_signs(\"1 < 2 < 6 < 9 > 3\") ➞ True'"
            ]
          },
          "metadata": {
            "tags": []
          },
          "execution_count": 4
        }
      ]
    },
    {
      "cell_type": "code",
      "metadata": {
        "colab": {
          "base_uri": "https://localhost:8080/"
        },
        "id": "hDpijLKMJScO",
        "outputId": "c4f34d68-8859-46b3-e2c7-3be54cfa354c"
      },
      "source": [
        "def inequality_test(str):\n",
        "    lst1 = [int(i) if i.isdigit() else i for i in str.split()]\n",
        "  \n",
        "    for i in range(0,len(lst1)-2,2):\n",
        "\n",
        "        if lst1[i+1] == '<':\n",
        "            if lst1[i] >= lst1[i+2]:\n",
        "                return False\n",
        "       \n",
        "        elif lst1[i+1] == '>':\n",
        "            if lst1[i] <= lst1[i+2]:\n",
        "                return False\n",
        "\n",
        "    return True\n",
        "\n",
        "inequality_test(\"13 > 44 > 33 > 1\")\n",
        "\n",
        "# Input a - \"3 < 7 < 11\" ,        ➞ True\n",
        "# Input b - \"13 > 44 > 33 > 1\",   ➞ False\n",
        "# Input c - \"1 < 2 < 6 < 9 > 3\"   ➞ True"
      ],
      "execution_count": 10,
      "outputs": [
        {
          "output_type": "execute_result",
          "data": {
            "text/plain": [
              "False"
            ]
          },
          "metadata": {
            "tags": []
          },
          "execution_count": 10
        }
      ]
    },
    {
      "cell_type": "code",
      "metadata": {
        "colab": {
          "base_uri": "https://localhost:8080/",
          "height": 108
        },
        "id": "WS1KRE-eovsu",
        "outputId": "78ba290f-b958-40a1-91df-a3df8f9c56cb"
      },
      "source": [
        "7'''Question3. Create a function that replaces all the vowels in a string with a specified character.\n",
        "Examples\n",
        "replace_vowels(\"the aardvark\", \"#\") ➞ \"th# ##rdv#rk\"\n",
        "replace_vowels(\"minnie mouse\", \"?\") ➞ \"m?nn?? m??s?\"\n",
        "replace_vowels(\"shakespeare\", \"*\") ➞ \"sh*k*sp**r*\"'''"
      ],
      "execution_count": null,
      "outputs": [
        {
          "output_type": "execute_result",
          "data": {
            "application/vnd.google.colaboratory.intrinsic+json": {
              "type": "string"
            },
            "text/plain": [
              "'Question3. Create a function that replaces all the vowels in a string with a specified character.\\nExamples\\nreplace_vowels(&quot;the aardvark&quot;, &quot;#&quot;) ➞ &quot;th# ##rdv#rk&quot;\\nreplace_vowels(&quot;minnie mouse&quot;, &quot;?&quot;) ➞ &quot;m?nn?? m??s?&quot;\\nreplace_vowels(&quot;shakespeare&quot;, &quot;*&quot;) ➞ &quot;sh*k*sp**r*&quot;'"
            ]
          },
          "metadata": {
            "tags": []
          },
          "execution_count": 2
        }
      ]
    },
    {
      "cell_type": "code",
      "metadata": {
        "colab": {
          "base_uri": "https://localhost:8080/"
        },
        "id": "etCoiRQuDLrh",
        "outputId": "1107a3c9-20a9-4f56-a6af-479d1d694578"
      },
      "source": [
        "str1 = str(input(\"Enter your String: \"))\n",
        "special= str(input(\"Vowels to be Replaced with: \"))\n",
        "\n",
        "def replaceVowel(string, special):\n",
        "  vowel= 'AEIOUaeiou'\n",
        "\n",
        "  for i in vowel:\n",
        "    string = string.replace(i, special)\n",
        "  \n",
        "  return string\n",
        "\n",
        "print(\"Original String: \", str1)\n",
        "print(\"Modified String: \", replaceVowel(str1, special))\n",
        "# the aardvark- input string\n",
        "# minnie mouse- input string\n",
        "# shakespeare- input string"
      ],
      "execution_count": null,
      "outputs": [
        {
          "output_type": "stream",
          "text": [
            "Enter your String: minnie mouse\n",
            "Vowels to be Replaced with: ?\n",
            "Original String:  minnie mouse\n",
            "Modified String:  m?nn?? m??s?\n"
          ],
          "name": "stdout"
        }
      ]
    },
    {
      "cell_type": "code",
      "metadata": {
        "colab": {
          "base_uri": "https://localhost:8080/",
          "height": 72
        },
        "id": "xJuq8_CfowAo",
        "outputId": "aeb81ae6-f70e-44ac-b9c1-ba8c551a1c4c"
      },
      "source": [
        "'''Question4. Write a function that calculates the factorial of a number recursively.\n",
        "Examples\n",
        "factorial(5) ➞ 120\n",
        "factorial(3) ➞ 6\n",
        "factorial(1) ➞ 1\n",
        "factorial(0) ➞ 1'''"
      ],
      "execution_count": null,
      "outputs": [
        {
          "output_type": "execute_result",
          "data": {
            "application/vnd.google.colaboratory.intrinsic+json": {
              "type": "string"
            },
            "text/plain": [
              "'Question4. Write a function that calculates the factorial of a number recursively.\\nExamples\\nfactorial(5) ➞ 120\\nfactorial(3) ➞ 6\\nfactorial(1) ➞ 1\\nfactorial(0) ➞ 1'"
            ]
          },
          "metadata": {
            "tags": []
          },
          "execution_count": 3
        }
      ]
    },
    {
      "cell_type": "code",
      "metadata": {
        "id": "CrH7uBBLowIy",
        "colab": {
          "base_uri": "https://localhost:8080/"
        },
        "outputId": "f60d438b-fac5-40d7-8eb5-256e8e410336"
      },
      "source": [
        "num = int(input(\"Enter the Number: \"))\n",
        "\n",
        "def fact(num):\n",
        "  if num == 1:\n",
        "    return num \n",
        "  else:\n",
        "    return num*fact(num-1)\n",
        "\n",
        "if num < 0:\n",
        "  print(\"Invalid Number!\")\n",
        "elif num == 0:\n",
        "  print(\"The Factorial of 0 is 1\")\n",
        "else:\n",
        "  print(\"The Factorial of\", num, \"is\", fact(num))"
      ],
      "execution_count": null,
      "outputs": [
        {
          "output_type": "stream",
          "text": [
            "Enter the Number: 7\n",
            "The Factorial of 7 is 5040\n"
          ],
          "name": "stdout"
        }
      ]
    },
    {
      "cell_type": "code",
      "metadata": {
        "id": "syWhWuLRpper"
      },
      "source": [
        "'''Question 5\n",
        "Hamming distance is the number of characters that differ between two strings.\n",
        "To illustrate:\n",
        "String1: \"abcbba\"\n",
        "String2: \"abcbda\"\n",
        "Hamming Distance: 1 - \"b\" vs. \"d\" is the only difference.\n",
        "Create a function that computes the hamming distance between two strings.\n",
        "Examples\n",
        "hamming_distance(\"abcde\", \"bcdef\") ➞ 5\n",
        "hamming_distance(\"abcde\", \"abcde\") ➞ 0\n",
        "hamming_distance(\"strong\", \"strung\") ➞ 1'''"
      ],
      "execution_count": null,
      "outputs": []
    },
    {
      "cell_type": "code",
      "metadata": {
        "colab": {
          "base_uri": "https://localhost:8080/"
        },
        "id": "sk2OZTv9pptT",
        "outputId": "c3e604bd-afa6-4fcf-b652-b036f92ebfa1"
      },
      "source": [
        "S1= str(input(\"Enter your first string: \"))\n",
        "S2= str(input(\"Enter your Second string: \"))\n",
        "\n",
        "def hamming_distance(S1, S2):\n",
        "  i=0\n",
        "  count=0\n",
        "\n",
        "  while(i<len(S1)):\n",
        "    if (S1[i] != S2[i]):\n",
        "      count= count+1\n",
        "    i = i+ 1\n",
        "  return count\n",
        "\n",
        "print(\"Hamming Distance between '{}' and '{} is: {}\".format(S1, S2, hamming_distance(S1, S2)))"
      ],
      "execution_count": null,
      "outputs": [
        {
          "output_type": "stream",
          "text": [
            "Enter your first string: abcde\n",
            "Enter your Second string: bcdef\n",
            "Hamming Distance between 'abcde' and 'bcdef is: 5\n"
          ],
          "name": "stdout"
        }
      ]
    }
  ]
}