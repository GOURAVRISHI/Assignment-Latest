{
  "nbformat": 4,
  "nbformat_minor": 0,
  "metadata": {
    "colab": {
      "name": "Programming Assignment- 6.ipynb",
      "provenance": [],
      "collapsed_sections": []
    },
    "kernelspec": {
      "name": "python3",
      "display_name": "Python 3"
    },
    "language_info": {
      "name": "python"
    }
  },
  "cells": [
    {
      "cell_type": "code",
      "metadata": {
        "id": "Gihy19R8vpHl"
      },
      "source": [
        "# 1. Write a Python Program to Display Fibonacci Sequence Using Recursion?"
      ],
      "execution_count": null,
      "outputs": []
    },
    {
      "cell_type": "code",
      "metadata": {
        "id": "Ej6-8W24vvD3",
        "colab": {
          "base_uri": "https://localhost:8080/"
        },
        "outputId": "4316bfcd-afa3-4705-8387-715f4cd6b461"
      },
      "source": [
        "def fiboseries(num):\n",
        "    if (num<=1):\n",
        "      return num\n",
        "    elif (num == 0):\n",
        "      return 0\n",
        "    else:\n",
        "      return (fiboseries(num-1) + fiboseries(num-2))\n",
        "\n",
        "num = int(input('Enter a number, N, N>=2 : '))\n",
        "\n",
        "series = []\n",
        "\n",
        "for i in range(0,num):\n",
        "\tseries.append(fiboseries(i))\n",
        "\t\n",
        "print(series)"
      ],
      "execution_count": 40,
      "outputs": [
        {
          "output_type": "stream",
          "text": [
            "Enter a number, N, N>=2 : 7\n",
            "[0, 1, 1, 2, 3, 5, 8]\n"
          ],
          "name": "stdout"
        }
      ]
    },
    {
      "cell_type": "code",
      "metadata": {
        "id": "apR4u86ivvOU"
      },
      "source": [
        "# 2. Write a Python Program to Find Factorial of Number Using Recursion?"
      ],
      "execution_count": null,
      "outputs": []
    },
    {
      "cell_type": "code",
      "metadata": {
        "id": "Pzd3GuIfvvXo",
        "colab": {
          "base_uri": "https://localhost:8080/"
        },
        "outputId": "20a5fca3-e9ef-4b48-caff-de1de1fc2ca1"
      },
      "source": [
        "def fact(num):\n",
        "    if (num == 1):\n",
        "        return 1\n",
        "    elif (num == 0):\n",
        "        return 1\n",
        "    elif (num<1):\n",
        "        print(\"Number is invalid\")\n",
        "    else:\n",
        "        return(num*fact(num-1))\n",
        "num = int(input(\"Enter number: \"))\n",
        "print(\"Factorial of {0} is {1}\".format(num, fact(num)))"
      ],
      "execution_count": 29,
      "outputs": [
        {
          "output_type": "stream",
          "text": [
            "Enter number: -100\n",
            "Number is invalid\n",
            "Factorial of -100 is None\n"
          ],
          "name": "stdout"
        }
      ]
    },
    {
      "cell_type": "code",
      "metadata": {
        "id": "ckYAf8gYvvhi"
      },
      "source": [
        "# 3. Write a Python Program to calculate your Body Mass Index?"
      ],
      "execution_count": null,
      "outputs": []
    },
    {
      "cell_type": "code",
      "metadata": {
        "id": "AG2cCGOivvqf",
        "colab": {
          "base_uri": "https://localhost:8080/"
        },
        "outputId": "02287a83-0d30-4701-a7cb-b0843bfe771e"
      },
      "source": [
        "hght = float(input(\"Please enter the height(m): \"))\n",
        "wght = float(input(\"Please enter the weight(kg): \"))\n",
        "cal=round(((wght)/ (hght*hght)),2)\n",
        "\n",
        "print(\"Your BMI is = {0} \".format(cal))"
      ],
      "execution_count": 4,
      "outputs": [
        {
          "output_type": "stream",
          "text": [
            "Please enter the height(m): 1.52\n",
            "Please enter the weight(kg): 40\n",
            "Your BMI is = 17.31 \n"
          ],
          "name": "stdout"
        }
      ]
    },
    {
      "cell_type": "code",
      "metadata": {
        "id": "bHFAW2RbvvyX"
      },
      "source": [
        "# 4. Write a Python Program to calculate the natural logarithm of any number?"
      ],
      "execution_count": null,
      "outputs": []
    },
    {
      "cell_type": "code",
      "metadata": {
        "id": "qgM5g4Irvv6Y",
        "colab": {
          "base_uri": "https://localhost:8080/"
        },
        "outputId": "1afb59d0-1680-4956-af86-251513cbcd6e"
      },
      "source": [
        "import math   \n",
        "a=float(input(\"Enter the number :\")) \n",
        "b=math.log(a)\n",
        "print(\"Natural Log value of {0} is {1}\".format(a, b))"
      ],
      "execution_count": 9,
      "outputs": [
        {
          "output_type": "stream",
          "text": [
            "Enter the number :2\n",
            "Natural Log value of 2.0 is 0.6931471805599453\n"
          ],
          "name": "stdout"
        }
      ]
    },
    {
      "cell_type": "code",
      "metadata": {
        "id": "-UClvMSXvwDB"
      },
      "source": [
        "# 5. Write a Python Program for cube sum of first n natural numbers?"
      ],
      "execution_count": null,
      "outputs": []
    },
    {
      "cell_type": "code",
      "metadata": {
        "id": "RTU0Iix5vwMS",
        "colab": {
          "base_uri": "https://localhost:8080/"
        },
        "outputId": "c794aa02-2287-49d3-9d8d-d5534464c085"
      },
      "source": [
        "def sum(n):\n",
        "   x = (n * (n + 1) / 2)\n",
        "   return (int)(x * x)\n",
        "\n",
        "n = int(input(\"Enter the number: \"))\n",
        "print(\"The Cube sum of the first {0} natural number is {1}\".format(n, sum(n)))"
      ],
      "execution_count": 17,
      "outputs": [
        {
          "output_type": "stream",
          "text": [
            "Enter the number: 4\n",
            "The Cube sum of the first 4 natural number is 100\n"
          ],
          "name": "stdout"
        }
      ]
    }
  ]
}