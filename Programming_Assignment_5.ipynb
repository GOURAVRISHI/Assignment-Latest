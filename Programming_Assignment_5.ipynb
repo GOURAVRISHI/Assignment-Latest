{
  "nbformat": 4,
  "nbformat_minor": 0,
  "metadata": {
    "colab": {
      "name": "Programming Assignment- 5.ipynb",
      "provenance": [],
      "collapsed_sections": []
    },
    "kernelspec": {
      "name": "python3",
      "display_name": "Python 3"
    },
    "language_info": {
      "name": "python"
    }
  },
  "cells": [
    {
      "cell_type": "code",
      "metadata": {
        "id": "4MshG8HmucdP"
      },
      "source": [
        "# 1. Write a Python Program to Find LCM?"
      ],
      "execution_count": null,
      "outputs": []
    },
    {
      "cell_type": "code",
      "metadata": {
        "id": "y04NKLTovZ97",
        "colab": {
          "base_uri": "https://localhost:8080/"
        },
        "outputId": "79e498c3-28e7-48b5-9145-ff848f76d3ea"
      },
      "source": [
        "num1= int(input(\"Enter first number: \"))\n",
        "num2= int(input(\"Enter second number: \"))\n",
        "if(num1>num2):\n",
        "    i=num1\n",
        "else:\n",
        "    i=num2\n",
        "while(True):\n",
        "    if(i%num1==0 and i%num2==0):\n",
        "      print(\"LCM of {0} and {1} is: {2}\".format(num1, num2, i))\n",
        "      break\n",
        "    i = i +1"
      ],
      "execution_count": 110,
      "outputs": [
        {
          "output_type": "stream",
          "text": [
            "Enter first number: 12\n",
            "Enter second number: 4\n",
            "LCM of 12 and 4 is: 12\n"
          ],
          "name": "stdout"
        }
      ]
    },
    {
      "cell_type": "code",
      "metadata": {
        "id": "ctvCc_BGva0i"
      },
      "source": [
        "# 2. Write a Python Program to Find HCF?"
      ],
      "execution_count": null,
      "outputs": []
    },
    {
      "cell_type": "code",
      "metadata": {
        "id": "md1aiwvkvbEU",
        "colab": {
          "base_uri": "https://localhost:8080/"
        },
        "outputId": "0c587cfa-8747-4f9e-b667-cabc90c324a7"
      },
      "source": [
        "num1 = int(input(\"Enter first number: \"))  \n",
        "num2 = int(input(\"Enter second number: \"))  \n",
        "if num2> num1:  \n",
        "    small = num1  \n",
        "else:  \n",
        "    small = num2\n",
        "for i in range(1,small + 1):  \n",
        "  if((num1 % i == 0) and (num1 % i == 0)):  \n",
        "    gcd = i  \n",
        "\n",
        "print(\"The H.C.F. of {0} and {1} is {2}\".format(num1, num2, gcd))  "
      ],
      "execution_count": 113,
      "outputs": [
        {
          "output_type": "stream",
          "text": [
            "Enter first number: 50\n",
            "Enter second number: 25\n",
            "The H.C.F. of 50 and 25 is 25\n"
          ],
          "name": "stdout"
        }
      ]
    },
    {
      "cell_type": "code",
      "metadata": {
        "id": "F8_QrZMBvbOI"
      },
      "source": [
        "# 3. Write a Python Program to Convert Decimal to Binary, Octal and Hexadecimal?"
      ],
      "execution_count": null,
      "outputs": []
    },
    {
      "cell_type": "code",
      "metadata": {
        "id": "ggVHLBR6vbXG",
        "colab": {
          "base_uri": "https://localhost:8080/"
        },
        "outputId": "4b04aeeb-e6fc-460f-8f64-b9bde79d5433"
      },
      "source": [
        "num = int(input(\"Enter the decimal number: \"))\n",
        "\n",
        "print(\"The decimal value of {0} is :\".format(num))\n",
        "print(\"In binary number System value of {0} is {1}\".format(num, bin(num)))\n",
        "print(\"In Octal number System value of {0} is {1}\".format(num, oct(num)))\n",
        "print(\"In hexadecimal number System value of {0} is {1}\".format(num, hex(num)))"
      ],
      "execution_count": 124,
      "outputs": [
        {
          "output_type": "stream",
          "text": [
            "Enter the decimal number: 344\n",
            "The decimal value of 344 is :\n",
            "In binary number System value of 344 is 0b101011000\n",
            "In Octal number System value of 344 is 0o530\n",
            "In hexadecimal number System value of 344 is 0x158\n"
          ],
          "name": "stdout"
        }
      ]
    },
    {
      "cell_type": "code",
      "metadata": {
        "id": "4_hex5wqvbgf"
      },
      "source": [
        "# 4. Write a Python Program To Find ASCII value of a character?"
      ],
      "execution_count": null,
      "outputs": []
    },
    {
      "cell_type": "code",
      "metadata": {
        "id": "X0yutvIOvbpE",
        "colab": {
          "base_uri": "https://localhost:8080/"
        },
        "outputId": "df4363b3-a614-41da-c82f-e473ffb287aa"
      },
      "source": [
        "# to calculate the ASCII values of character\n",
        "c = input(\"Enter the character: \")\n",
        "print(\"The ASCII value is \", ord(c))"
      ],
      "execution_count": 125,
      "outputs": [
        {
          "output_type": "stream",
          "text": [
            "Enter the character: z\n",
            "The ASCII value is  122\n"
          ],
          "name": "stdout"
        }
      ]
    },
    {
      "cell_type": "code",
      "metadata": {
        "id": "NRG7JB34vhe2"
      },
      "source": [
        "# 5. Write a Python Program to Make a Simple Calculator with 4 basic mathematical operations?"
      ],
      "execution_count": null,
      "outputs": []
    },
    {
      "cell_type": "code",
      "metadata": {
        "id": "egHaW-1ZvhxH",
        "colab": {
          "base_uri": "https://localhost:8080/"
        },
        "outputId": "ecc6d83f-e11a-42af-8315-47619117bc73"
      },
      "source": [
        "def add(x, y):       # For addition\n",
        "    return x + y\n",
        "\n",
        "def sub(x, y):  # For subtraction\n",
        "    return x - y\n",
        "\n",
        "def multi(x, y):  # For Multiplication\n",
        "    return x * y\n",
        "\n",
        "def divide(x, y):    # For Divide\n",
        "    return x / y\n",
        "\n",
        "print(\"Select the operation - 1/2/3/4\")\n",
        "print(\"1 for Add\")\n",
        "print(\"2 for Subtract\")\n",
        "print(\"3 for Multiply\")\n",
        "print(\"4 for Divide\")\n",
        "\n",
        "while True:\n",
        "    ops = input(\"Enter choice(1/2/3/4): \")\n",
        "\n",
        "    # Check if choice is one of the four options\n",
        "    if ops in ('1', '2', '3', '4'):\n",
        "        num1 = float(input(\"Enter first number: \"))\n",
        "        num2 = float(input(\"Enter second number: \"))\n",
        "\n",
        "        if ops == '1':\n",
        "          print(num1, \"+\", num2, \"=\", add(num1, num2))\n",
        "\n",
        "        elif ops == '2':\n",
        "          print(num1, \"-\", num2, \"=\", sub(num1, num2))\n",
        "\n",
        "        elif ops == '3':\n",
        "          print(num1, \"*\", num2, \"=\", multi(num1, num2))\n",
        "\n",
        "        elif ops == '4':\n",
        "          print(num1, \"/\", num2, \"=\", divide(num1, num2))\n",
        "        break\n",
        "    else:\n",
        "        print(\"Invalid Input\")"
      ],
      "execution_count": 86,
      "outputs": [
        {
          "output_type": "stream",
          "text": [
            "Select the Mathematical Operation : (1/2/3/4): 1\n",
            "Select '1' for Addition\n",
            "Select '2' for Substraction\n",
            "Select '3' for Multiplication\n",
            "Select '4' for Divide\n",
            "Enter the two number\n",
            "Enter the first number    : 10\n",
            "Enter the second number   : 20\n"
          ],
          "name": "stdout"
        }
      ]
    }
  ]
}