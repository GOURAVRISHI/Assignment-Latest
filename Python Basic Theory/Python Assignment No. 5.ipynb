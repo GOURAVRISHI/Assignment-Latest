{
 "cells": [
  {
   "cell_type": "markdown",
   "metadata": {
    "id": "3pPWx2DVmPIO"
   },
   "source": [
    "**1. What does an empty dictionary's code look like?**\n",
    "\n",
    "**Solution:-** { }"
   ]
  },
  {
   "cell_type": "markdown",
   "metadata": {
    "id": "iwAEHsxKuR4N"
   },
   "source": [
    "**2. What is the value of a dictionary value with the key 'foo' and the value 42?**\n",
    "\n",
    "**Solutionn:-** {'foo' : 42}"
   ]
  },
  {
   "cell_type": "markdown",
   "metadata": {
    "id": "_Wg_xW-uwzHW"
   },
   "source": [
    "**3. What is the most significant distinction between a dictionary and a list?**\n",
    "\n",
    "**Solution:-** The items stored in a dictionary are unordered, while the items in a list are ordered. In dictionary duplicate not allowed but in list duplicate are allowed."
   ]
  },
  {
   "cell_type": "markdown",
   "metadata": {
    "id": "U3bkuYx0xhhs"
   },
   "source": [
    "**4. What happens if spam['foo'] is 'bar': 100 and you try to access it?**\n",
    "\n",
    "**Solution:-** We will get a KeyError error."
   ]
  },
  {
   "cell_type": "markdown",
   "metadata": {
    "id": "1Gm734180m_e"
   },
   "source": [
    "**5. What is the difference between the terms 'cat' in spam and 'cat' in spam.keys() if a dictionary is contained in spam?**\n",
    "\n",
    "**Solution:-** There is no difference in that, but the in operator checks whether a value exists as a key in the dictionary."
   ]
  },
  {
   "cell_type": "markdown",
   "metadata": {
    "id": "ePJKBMtr93Ku"
   },
   "source": [
    "**6. What is the difference between the terms 'cat' in spam and 'cat' in spam.values() when a dictionary is contained in spam?**\n",
    "\n",
    "**Solution:-** There is no difference. The in operator checks whether a value exists as a key in the dictionary"
   ]
  },
  {
   "cell_type": "markdown",
   "metadata": {
    "id": "rB3f0r_X_6_u"
   },
   "source": [
    "**6. What is the difference between the terms 'cat' in spam and 'cat' in spam.values() when a dictionary is contained in spam?**\n",
    "\n",
    "**Solution:-** 'cat' in spam checks whether there is a 'cat' key in the dictionary, while 'cat' in spam.values() checks whether there is a value 'cat' for one of the keys in spam."
   ]
  },
  {
   "cell_type": "markdown",
   "metadata": {
    "id": "MIw5rUnKBRAk"
   },
   "source": [
    "**7. What is the quickest way to type the following code?**\n",
    "\n",
    "**if the word 'colour' isn't in spam:**\n",
    "\n",
    "**'black' for spam['color']**\n",
    "\n",
    "**Solution:-** spam.setdefault('color', 'black')\n",
    "\n"
   ]
  },
  {
   "cell_type": "markdown",
   "metadata": {
    "id": "cbyjfKzWB-TN"
   },
   "source": [
    "**8. How do you \"pretty print\" dictionary values using which module and function?**\n",
    "\n",
    "**Solution:-** pprint.pprint()"
   ]
  },
  {
   "cell_type": "code",
   "execution_count": null,
   "metadata": {
    "id": "PZcLCWWU0Rl9"
   },
   "outputs": [],
   "source": []
  }
 ],
 "metadata": {
  "colab": {
   "collapsed_sections": [],
   "name": "Python Assignment No. 5.ipynb",
   "provenance": []
  },
  "kernelspec": {
   "display_name": "Python 3 (ipykernel)",
   "language": "python",
   "name": "python3"
  },
  "language_info": {
   "codemirror_mode": {
    "name": "ipython",
    "version": 3
   },
   "file_extension": ".py",
   "mimetype": "text/x-python",
   "name": "python",
   "nbconvert_exporter": "python",
   "pygments_lexer": "ipython3",
   "version": "3.9.7"
  }
 },
 "nbformat": 4,
 "nbformat_minor": 1
}
