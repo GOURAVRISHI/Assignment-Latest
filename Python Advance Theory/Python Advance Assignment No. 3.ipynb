{
 "cells": [
  {
   "cell_type": "markdown",
   "metadata": {},
   "source": [
    "**1. What is the concept of an abstract superclass?**"
   ]
  },
  {
   "cell_type": "markdown",
   "metadata": {},
   "source": [
    "**Solution:-** \n",
    "- It allows you to create a set of methods that must be created within any child classes built from the abstract class. \n",
    "- A class which contains one or more abstract methods is called an abstract class. \n",
    "- An abstract method is a method that has a declaration but does not have an implementation."
   ]
  },
  {
   "cell_type": "code",
   "execution_count": 3,
   "metadata": {},
   "outputs": [
    {
     "name": "stdout",
     "output_type": "stream",
     "text": [
      "I Have 3 Sides\n",
      "I Have 4 Sides\n"
     ]
    }
   ],
   "source": [
    "from abc import ABC, abstractmethod\n",
    " \n",
    "class Polygon(ABC): # Abstract Class\n",
    " \n",
    "    @abstractmethod\n",
    "    def noofsides(self):  # Abstract Method\n",
    "        pass\n",
    "    \n",
    "class Triangle(Polygon):\n",
    "    \n",
    "    def noofsides(self): # overriding abstract method in child class Triangle\n",
    "        print('I Have 3 Sides')\n",
    "        \n",
    "class Quadrilateral(Polygon):\n",
    "    \n",
    "    def noofsides(self): # overriding abstract method in child class Triangle\n",
    "        print('I Have 4 Sides')\n",
    "\n",
    "\n",
    "#Driver Code\n",
    "R = Triangle()\n",
    "R.noofsides()\n",
    " \n",
    "K = Quadrilateral()\n",
    "K.noofsides()\n"
   ]
  },
  {
   "cell_type": "markdown",
   "metadata": {},
   "source": [
    "**2. What happens when a class statement's top level contains a basic assignment statement?**"
   ]
  },
  {
   "cell_type": "markdown",
   "metadata": {},
   "source": [
    "**Solution:-**\n",
    "- When a Class statement's top level contains a basic assignment statement, it is treated as a class attribute or class level variable.\n",
    "\n",
    "- where as assignment statements inside methods are treated as instance attributes or local attributes.\n",
    "\n",
    "- When an instance of a class is created a single copy of class attributes is maintained and shared to all instances of class. where as each instance object maintains its own copy of instance variables."
   ]
  },
  {
   "cell_type": "code",
   "execution_count": 5,
   "metadata": {},
   "outputs": [],
   "source": [
    "class Person:\n",
    "    species = 'Human' # class attribute\n",
    "    def __init__(self,name,gender):\n",
    "        self.name = name # instance attributes\n",
    "        self.gender = gender"
   ]
  },
  {
   "cell_type": "markdown",
   "metadata": {},
   "source": [
    "**3. Why does a class need to manually call a superclass's __init__ method?**"
   ]
  },
  {
   "cell_type": "markdown",
   "metadata": {},
   "source": [
    "**Solution:-** \n",
    "- A subclass derives from a superclass and inherits its fields and methods. \n",
    "- Invoking the super constructor of a subclass invokes the constructor of its superclass. \n",
    "- Call __init__() on super() inside the constructor of the subclass to invoke the constructor of the superclass."
   ]
  },
  {
   "cell_type": "code",
   "execution_count": 7,
   "metadata": {},
   "outputs": [
    {
     "name": "stdout",
     "output_type": "stream",
     "text": [
      "{'name': 'Rahul', 'age': 44, 'salary': 80000}\n"
     ]
    }
   ],
   "source": [
    "class Person:\n",
    "    def __init__(self,name,age):\n",
    "        self.name = name\n",
    "        self.age = age       \n",
    "class Employee(Person):\n",
    "    def __init__(self,name,age,salary):\n",
    "        super().__init__(name,age)\n",
    "        self.salary = salary\n",
    "emp_1 = Employee('Rahul', 44,80000)\n",
    "print(emp_1.__dict__)"
   ]
  },
  {
   "cell_type": "markdown",
   "metadata": {},
   "source": [
    "**4. How can you augment, instead of completely replacing, an inherited method?**"
   ]
  },
  {
   "cell_type": "markdown",
   "metadata": {},
   "source": [
    "**Solution:-**\n",
    "- super() method can be used to augment, instead of completely replacing, an inherited method."
   ]
  },
  {
   "cell_type": "code",
   "execution_count": 8,
   "metadata": {},
   "outputs": [
    {
     "name": "stdout",
     "output_type": "stream",
     "text": [
      "{'name': 'Rahul', 'gender': 44, 'salary': 80000}\n"
     ]
    }
   ],
   "source": [
    "class Person:\n",
    "    def __init__(self,name,gender):\n",
    "        self.name = name\n",
    "        self.gender = gender\n",
    "class Employee(Person):\n",
    "    def __init__(self,name,gender,salary):\n",
    "        super().__init__(name,gender) \n",
    "        self.salary = salary\n",
    "emp_1 = Employee('Rahul', 44,80000)\n",
    "print(emp_1.__dict__)       "
   ]
  },
  {
   "cell_type": "markdown",
   "metadata": {},
   "source": [
    "**5. How is the local scope of a class different from that of a function?**"
   ]
  },
  {
   "cell_type": "markdown",
   "metadata": {},
   "source": [
    "**Solution:-** At the beginning, **a and b** are only variables defined for the class itself - accessible via **Test.a and Test.b** and not specific to any instance.\n",
    "\n",
    "When creating an instance of that class (which results in **__init__** being executed):\n",
    "\n",
    "1. **print(self.a)** doesn't find an instance variable and thus returns the class variable\n",
    "\n",
    "2. **self.a = a**: a new instance variable **a** is created. This shadows the class variable so **self.a** will now reference the instance variable; to access the class variable you now have to use **Test.a.**\n",
    "\n",
    "3. The assignment to **self._x** creates a new instance variable. It's considered \"not part of the public API\" (aka protected) but technically it has no different behaviour.\n",
    "\n",
    "4. The assignment to **self.__y** creates a new instance variable named **_Test__y**, i.e. its name is mangled so unless you use the mangled name it cannot be accessed from outside the class. This could be used for \"private\" variables.\n",
    "\n",
    "5. The assignment to **b** creates a local variable. It is not available from anywhere but the **__init__** function as it's not saved in the instance, class or global scope."
   ]
  },
  {
   "cell_type": "code",
   "execution_count": 9,
   "metadata": {},
   "outputs": [
    {
     "name": "stdout",
     "output_type": "stream",
     "text": [
      "you're name is Lexy\n",
      "Name varible is not available outside hello function scope\n",
      "HomeSapines\n",
      "HomeSapines\n"
     ]
    }
   ],
   "source": [
    "def hi(name):\n",
    "    name = name\n",
    "    print(f'you\\'re name is {name}')\n",
    "hi('Lexy')\n",
    "try:\n",
    "    name\n",
    "except NameError:\n",
    "    print('Name varible is not available outside hello function scope')\n",
    "\n",
    "class Person:\n",
    "    species = \"HomeSapines\"\n",
    "    def __init__(self):\n",
    "        pass\n",
    "print(Person.species) # Accessing species using class name\n",
    "Male = Person()\n",
    "print(Male.species) # Accessing species using instance of class"
   ]
  },
  {
   "cell_type": "code",
   "execution_count": null,
   "metadata": {},
   "outputs": [],
   "source": []
  }
 ],
 "metadata": {
  "kernelspec": {
   "display_name": "Python 3 (ipykernel)",
   "language": "python",
   "name": "python3"
  },
  "language_info": {
   "codemirror_mode": {
    "name": "ipython",
    "version": 3
   },
   "file_extension": ".py",
   "mimetype": "text/x-python",
   "name": "python",
   "nbconvert_exporter": "python",
   "pygments_lexer": "ipython3",
   "version": "3.9.7"
  }
 },
 "nbformat": 4,
 "nbformat_minor": 4
}
