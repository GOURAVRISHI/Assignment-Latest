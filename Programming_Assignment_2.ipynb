{
  "nbformat": 4,
  "nbformat_minor": 0,
  "metadata": {
    "colab": {
      "name": "Programming Assignment- 2.ipynb",
      "provenance": [],
      "collapsed_sections": []
    },
    "kernelspec": {
      "name": "python3",
      "display_name": "Python 3"
    },
    "language_info": {
      "name": "python"
    }
  },
  "cells": [
    {
      "cell_type": "code",
      "metadata": {
        "id": "pJuNVSOhUazW"
      },
      "source": [
        "# 1. Write a Python program to convert kilometers to miles?"
      ],
      "execution_count": 31,
      "outputs": []
    },
    {
      "cell_type": "code",
      "metadata": {
        "colab": {
          "base_uri": "https://localhost:8080/"
        },
        "id": "IhdiLuxOUmeJ",
        "outputId": "ee16bf6a-5573-43c9-f96a-02e110ccd9fc"
      },
      "source": [
        "x= float(input(\"Enter your distance in Kms \"))\n",
        "y= 0.621*x\n",
        "y= print(\"{0} Kms is = {1} Miles\".format(x, y))"
      ],
      "execution_count": 32,
      "outputs": [
        {
          "output_type": "stream",
          "text": [
            "Enter your distance in Kms 10\n",
            "10.0 Kms is = 6.21 Miles\n"
          ],
          "name": "stdout"
        }
      ]
    },
    {
      "cell_type": "code",
      "metadata": {
        "id": "sgHLrndfUiiJ"
      },
      "source": [
        "# 2. Write a Python program to convert Celsius to Fahrenheit?"
      ],
      "execution_count": 33,
      "outputs": []
    },
    {
      "cell_type": "code",
      "metadata": {
        "colab": {
          "base_uri": "https://localhost:8080/"
        },
        "id": "DF38EjY4Um4e",
        "outputId": "d071a047-6583-4c5b-ffa3-b84c40343f31"
      },
      "source": [
        "celsius= float(input(\"Enter the temperature in Celsius \"))\n",
        "fahrenheit = (celsius * 1.8) + 32\n",
        "print(\"{0} Celsius is = {1} fahrenheit\". format(celsius, fahrenheit))"
      ],
      "execution_count": 34,
      "outputs": [
        {
          "output_type": "stream",
          "text": [
            "Enter the temperature in Celsius 100\n",
            "100.0 Celsius is = 212.0 fahrenheit\n"
          ],
          "name": "stdout"
        }
      ]
    },
    {
      "cell_type": "code",
      "metadata": {
        "id": "1w7qgwgIUjxz"
      },
      "source": [
        "# 3. Write a Python program to display calendar?"
      ],
      "execution_count": 35,
      "outputs": []
    },
    {
      "cell_type": "code",
      "metadata": {
        "colab": {
          "base_uri": "https://localhost:8080/"
        },
        "id": "FWPkICaJUnOs",
        "outputId": "e7415987-02fc-4335-d707-d9d5c5d6f64e"
      },
      "source": [
        "import calendar\n",
        "\n",
        "yy = int(input(\"Enter year in yyyy format: \"))\n",
        "mm = int(input(\"Enter month in mm format(numeric): \"))\n",
        "\n",
        "# Calendar of the month\n",
        "print(calendar.month(yy, mm))"
      ],
      "execution_count": 36,
      "outputs": [
        {
          "output_type": "stream",
          "text": [
            "Enter year in yyyy format: 2012\n",
            "Enter month in mm format(numeric): 3\n",
            "     March 2012\n",
            "Mo Tu We Th Fr Sa Su\n",
            "          1  2  3  4\n",
            " 5  6  7  8  9 10 11\n",
            "12 13 14 15 16 17 18\n",
            "19 20 21 22 23 24 25\n",
            "26 27 28 29 30 31\n",
            "\n"
          ],
          "name": "stdout"
        }
      ]
    },
    {
      "cell_type": "code",
      "metadata": {
        "colab": {
          "base_uri": "https://localhost:8080/"
        },
        "id": "k7nETnIyUknJ",
        "outputId": "83bcb475-35f9-443d-fe90-650da7f52e1e"
      },
      "source": [
        "import cmath  \n",
        "a = float(input('Enter a: '))  \n",
        "b = float(input('Enter b: '))  \n",
        "c = float(input('Enter c: '))  \n",
        "  \n",
        "# formula of discriminant  \n",
        "d = (b*b) - (4*a*c)  \n",
        "  \n",
        "# Positive & negative Roots of the equation\n",
        "negative = (-b-cmath.sqrt(d))/(2*a)  \n",
        "positive = (-b+cmath.sqrt(d))/(2*a)  \n",
        "print('The solution are {0} and {1}'.format(negative, positive))   # 4. Write a Python program to solve quadratic equation?"
      ],
      "execution_count": 37,
      "outputs": [
        {
          "output_type": "stream",
          "text": [
            "Enter a: 1\n",
            "Enter b: 4\n",
            "Enter c: 6\n",
            "The solution are (-2-1.4142135623730951j) and (-2+1.4142135623730951j)\n"
          ],
          "name": "stdout"
        }
      ]
    },
    {
      "cell_type": "code",
      "metadata": {
        "id": "haAHHFW1UlXt"
      },
      "source": [
        "# 5. Write a Python program to swap two variables without temp variable?"
      ],
      "execution_count": 38,
      "outputs": []
    },
    {
      "cell_type": "code",
      "metadata": {
        "colab": {
          "base_uri": "https://localhost:8080/"
        },
        "id": "Q2mhzX5FUluP",
        "outputId": "0ec994f3-72c9-4047-c154-6c5305b7dd8c"
      },
      "source": [
        "x= input(\"Enter the value of x \")\n",
        "y= input(\"Enter the value of y \")\n",
        "\n",
        "print(\"The value of x before swapping is = \", x)\n",
        "print(\"The value of y before swapping is = \", y)\n",
        "\n",
        "x, y = y, x\n",
        "print(\"The value of x after swapping is = \", x)\n",
        "print(\"The value of y after swapping is = \", y)"
      ],
      "execution_count": 47,
      "outputs": [
        {
          "output_type": "stream",
          "text": [
            "Enter the value of x 100\n",
            "Enter the value of y 450\n",
            "The value of x before swapping is =  100\n",
            "The value of y before swapping is =  450\n",
            "The value of x after swapping is =  450\n",
            "The value of y after swapping is =  100\n"
          ],
          "name": "stdout"
        }
      ]
    },
    {
      "cell_type": "code",
      "metadata": {
        "id": "Yq49niYdbBIk"
      },
      "source": [
        ""
      ],
      "execution_count": 39,
      "outputs": []
    }
  ]
}