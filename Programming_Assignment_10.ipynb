{
  "nbformat": 4,
  "nbformat_minor": 0,
  "metadata": {
    "colab": {
      "name": "Programming Assignment- 10.ipynb",
      "provenance": [],
      "collapsed_sections": []
    },
    "kernelspec": {
      "name": "python3",
      "display_name": "Python 3"
    },
    "language_info": {
      "name": "python"
    }
  },
  "cells": [
    {
      "cell_type": "code",
      "metadata": {
        "id": "ooFUWgA6NNpx"
      },
      "source": [
        "# 1. Write a Python program to find sum of elements in list?"
      ],
      "execution_count": 1,
      "outputs": []
    },
    {
      "cell_type": "code",
      "metadata": {
        "id": "raXhJYr1NWrZ",
        "colab": {
          "base_uri": "https://localhost:8080/"
        },
        "outputId": "8db9d276-9d27-4ee9-dcaa-34decd799ae5"
      },
      "source": [
        "sum = 0\n",
        "lst= [1,2,2,351,312]\n",
        "\n",
        "for i in range(0, len(lst)):\n",
        "  sum=sum+lst[i]\n",
        "print(\"Sum of all items of list is: \", sum)"
      ],
      "execution_count": 2,
      "outputs": [
        {
          "output_type": "stream",
          "text": [
            "Sum of all items of list is:  668\n"
          ],
          "name": "stdout"
        }
      ]
    },
    {
      "cell_type": "code",
      "metadata": {
        "id": "qfcjoKkoNWyt"
      },
      "source": [
        "# 2. Write a Python program to Multiply all numbers in the list?"
      ],
      "execution_count": 3,
      "outputs": []
    },
    {
      "cell_type": "code",
      "metadata": {
        "id": "7b4-KTd6NW6u",
        "colab": {
          "base_uri": "https://localhost:8080/"
        },
        "outputId": "a85e0f22-9128-4bc3-aa83-c2eea467e25c"
      },
      "source": [
        "sum = 1\n",
        "lst= [4,3,7,5,9]\n",
        "\n",
        "for i in range(0, len(lst)):\n",
        "  sum=sum*lst[i]\n",
        "print(\"Sum of all items of list is: \", sum)"
      ],
      "execution_count": 4,
      "outputs": [
        {
          "output_type": "stream",
          "text": [
            "Sum of all items of list is:  3780\n"
          ],
          "name": "stdout"
        }
      ]
    },
    {
      "cell_type": "code",
      "metadata": {
        "id": "EQ9DJN1hNXCM"
      },
      "source": [
        "# 3. Write a Python program to find smallest number in a list?"
      ],
      "execution_count": 5,
      "outputs": []
    },
    {
      "cell_type": "code",
      "metadata": {
        "id": "OU07fseDNXJw",
        "colab": {
          "base_uri": "https://localhost:8080/"
        },
        "outputId": "625166c3-e3b5-4d39-b01f-ef4d88c70b91"
      },
      "source": [
        "lst=[]\n",
        "\n",
        "values= int(input(\"Enter the number of elements in the list: \"))\n",
        "\n",
        "for i in range(1, values+1):\n",
        "  item = int(input(\"Enter the numbers: \"))\n",
        "  lst.append(item)\n",
        "\n",
        "print(\"The smallest number in the list is : \", min(lst))"
      ],
      "execution_count": 6,
      "outputs": [
        {
          "output_type": "stream",
          "text": [
            "Enter the number of elements in the list: 5\n",
            "Enter the numbers: 12\n",
            "Enter the numbers: 23\n",
            "Enter the numbers: 15\n",
            "Enter the numbers: 99\n",
            "Enter the numbers: 26\n",
            "The smallest number in the list is :  12\n"
          ],
          "name": "stdout"
        }
      ]
    },
    {
      "cell_type": "code",
      "metadata": {
        "id": "0Qz4a-emNXQ-"
      },
      "source": [
        "# 4. Write a Python program to find largest number in a list?"
      ],
      "execution_count": 7,
      "outputs": []
    },
    {
      "cell_type": "code",
      "metadata": {
        "id": "32tmTPvmNXYf",
        "colab": {
          "base_uri": "https://localhost:8080/"
        },
        "outputId": "56a6c75e-b878-4a7a-c75f-f29e0058ca9b"
      },
      "source": [
        "lst=[]\n",
        "\n",
        "values= int(input(\"Enter the number of elements in the list: \"))\n",
        "\n",
        "for i in range(1, values+1):\n",
        "  item = int(input(\"Enter the numbers: \"))\n",
        "  lst.append(item)\n",
        "\n",
        "print(\"The largest number in the list is : \", max(lst))"
      ],
      "execution_count": 9,
      "outputs": [
        {
          "output_type": "stream",
          "text": [
            "Enter the number of elements in the list: 5\n",
            "Enter the numbers: 22\n",
            "Enter the numbers: 15\n",
            "Enter the numbers: 99\n",
            "Enter the numbers: 205\n",
            "Enter the numbers: 23\n",
            "The largest number in the list is :  205\n"
          ],
          "name": "stdout"
        }
      ]
    },
    {
      "cell_type": "code",
      "metadata": {
        "id": "TlwLbCRSNXfv"
      },
      "source": [
        "# 5. Write a Python program to find second largest number in a list?"
      ],
      "execution_count": 10,
      "outputs": []
    },
    {
      "cell_type": "code",
      "metadata": {
        "id": "QrULCe11NXnL",
        "colab": {
          "base_uri": "https://localhost:8080/"
        },
        "outputId": "0e95ccf0-d17e-4c93-93cd-9cb0565263b3"
      },
      "source": [
        "lst=[]\n",
        "\n",
        "values= int(input(\"Enter the number of elements in the list: \"))\n",
        "\n",
        "for i in range(1, values+1):\n",
        "  item = int(input(\"Enter the numbers: \"))\n",
        "  lst.append(item)\n",
        "\n",
        "lst.sort()\n",
        "\n",
        "print(\"The Second largest number in the list is : \", lst[-2])"
      ],
      "execution_count": 11,
      "outputs": [
        {
          "output_type": "stream",
          "text": [
            "Enter the number of elements in the list: 5\n",
            "Enter the numbers: -10\n",
            "Enter the numbers: 205\n",
            "Enter the numbers: 2\n",
            "Enter the numbers: 616\n",
            "Enter the numbers: 210\n",
            "The Second largest number in the list is :  210\n"
          ],
          "name": "stdout"
        }
      ]
    },
    {
      "cell_type": "code",
      "metadata": {
        "id": "fENh424GNXu5"
      },
      "source": [
        "# 6. Write a Python program to find N largest elements from a list?"
      ],
      "execution_count": null,
      "outputs": []
    },
    {
      "cell_type": "code",
      "metadata": {
        "id": "sIO6qSy9NX10",
        "colab": {
          "base_uri": "https://localhost:8080/"
        },
        "outputId": "49b68fff-6c48-4816-907c-65b8f8c778e9"
      },
      "source": [
        "lst=[]\n",
        "\n",
        "values= int(input(\"Enter the number of elements in the list: \"))\n",
        "for i in range(1, values+1):\n",
        "  item = int(input(\"Enter the numbers: \"))\n",
        "  lst.append(item)\n",
        "\n",
        "n=4   # 4 largest elements in the lists are\n",
        "lst.sort()\n",
        "print(lst[-n:])"
      ],
      "execution_count": 16,
      "outputs": [
        {
          "output_type": "stream",
          "text": [
            "Enter the number of elements in the list: 7\n",
            "Enter the numbers: 1000\n",
            "Enter the numbers: 2014\n",
            "Enter the numbers: 153\n",
            "Enter the numbers: 201\n",
            "Enter the numbers: 30\n",
            "Enter the numbers: -15\n",
            "Enter the numbers: 515\n",
            "[201, 515, 1000, 2014]\n"
          ],
          "name": "stdout"
        }
      ]
    },
    {
      "cell_type": "code",
      "metadata": {
        "id": "-T26phlMNX9Q"
      },
      "source": [
        "# 7. Write a Python program to print even numbers in a list?"
      ],
      "execution_count": null,
      "outputs": []
    },
    {
      "cell_type": "code",
      "metadata": {
        "id": "M1qPI06VNYDd",
        "colab": {
          "base_uri": "https://localhost:8080/"
        },
        "outputId": "6d7f0e42-fdd7-4a68-94cd-e9c0f3d6e149"
      },
      "source": [
        "lst=[]\n",
        "\n",
        "values= int(input(\"Enter the number of elements in the list: \"))\n",
        "for i in range(1, values+1):\n",
        "  item = int(input(\"Enter the numbers: \"))\n",
        "  lst.append(item)\n",
        "\n",
        "print(\"Even numbers in the list are: \")\n",
        "for j in range(values):\n",
        "  if (lst[j] % 2== 0):\n",
        "    print(lst[j], end = \" \")"
      ],
      "execution_count": 17,
      "outputs": [
        {
          "output_type": "stream",
          "text": [
            "Enter the number of elements in the list: 4\n",
            "Enter the numbers: 19\n",
            "Enter the numbers: 82\n",
            "Enter the numbers: 3\n",
            "Enter the numbers: 96\n",
            "Even numbers in the list are: \n",
            "82 96 "
          ],
          "name": "stdout"
        }
      ]
    },
    {
      "cell_type": "code",
      "metadata": {
        "id": "RM8OsQDENYKs"
      },
      "source": [
        "# 8. Write a Python program to print odd numbers in a List?"
      ],
      "execution_count": null,
      "outputs": []
    },
    {
      "cell_type": "code",
      "metadata": {
        "id": "ZkB4p7L-NjJn",
        "colab": {
          "base_uri": "https://localhost:8080/"
        },
        "outputId": "3589bb1d-5222-4498-f7c8-ef1779279b91"
      },
      "source": [
        "lst=[]\n",
        "\n",
        "values= int(input(\"Enter the number of elements in the list: \"))\n",
        "for i in range(1, values+1):\n",
        "  item = int(input(\"Enter the numbers: \"))\n",
        "  lst.append(item)\n",
        "\n",
        "print(\"Odd numbers in the list are: \")\n",
        "for j in range(values):\n",
        "  if not (lst[j] % 2== 0):\n",
        "    print(lst[j], end = \" , \")"
      ],
      "execution_count": 18,
      "outputs": [
        {
          "output_type": "stream",
          "text": [
            "Enter the number of elements in the list: 4\n",
            "Enter the numbers: 15\n",
            "Enter the numbers: 29\n",
            "Enter the numbers: 30\n",
            "Enter the numbers: 44\n",
            "Odd numbers in the list are: \n",
            "15 , 29 , "
          ],
          "name": "stdout"
        }
      ]
    },
    {
      "cell_type": "code",
      "metadata": {
        "id": "gwLpiEgwNjU2"
      },
      "source": [
        "# 9. Write a Python program to Remove empty List from List?"
      ],
      "execution_count": 19,
      "outputs": []
    },
    {
      "cell_type": "code",
      "metadata": {
        "id": "pAL_t8KeNjcp",
        "colab": {
          "base_uri": "https://localhost:8080/"
        },
        "outputId": "2fed7c6e-ce9b-4e84-a12e-84532f7b9794"
      },
      "source": [
        "lst = [31, [], [], 59, 15, 36, [], ]\n",
        "\n",
        "print(\"The original list is : \" + str(lst))\n",
        "  \n",
        "# Remove empty list from lists using filter function\n",
        "remove = list(filter(None, lst))\n",
        "  \n",
        "remove.sort()\n",
        "print (\"List after removing empty lists : \" + str(remove))"
      ],
      "execution_count": 15,
      "outputs": [
        {
          "output_type": "stream",
          "text": [
            "The original list is : [31, [], [], 59, 15, 36, []]\n",
            "List after removing empty lists : [15, 31, 36, 59]\n"
          ],
          "name": "stdout"
        }
      ]
    },
    {
      "cell_type": "code",
      "metadata": {
        "id": "yctjTa8BNjjb"
      },
      "source": [
        "# 10. Write a Python program to Cloning or Copying a list?"
      ],
      "execution_count": null,
      "outputs": []
    },
    {
      "cell_type": "code",
      "metadata": {
        "id": "sLuEhEYINjp1",
        "colab": {
          "base_uri": "https://localhost:8080/"
        },
        "outputId": "14772607-55e9-433c-fd17-a1ab8c51b61d"
      },
      "source": [
        "def Clone(lst_1):\n",
        "    list_copy =[]\n",
        "    for num in lst_1: list_copy.append(num)\n",
        "    return list_copy\n",
        "\n",
        "lst_1 = [14, 81, 25, 15, 19, 89]\n",
        "lst_2 = Clone(lst_1)\n",
        "print(\"Original List:\", lst_1)\n",
        "print(\"After Cloning:\", lst_2)"
      ],
      "execution_count": 14,
      "outputs": [
        {
          "output_type": "stream",
          "text": [
            "Original List: [14, 81, 25, 15, 19, 89]\n",
            "After Cloning: [14, 81, 25, 15, 19, 89]\n"
          ],
          "name": "stdout"
        }
      ]
    },
    {
      "cell_type": "code",
      "metadata": {
        "id": "sHAe8f3ENjva"
      },
      "source": [
        "# 11. Write a Python program to Count occurrences of an element in a list?"
      ],
      "execution_count": 20,
      "outputs": []
    },
    {
      "cell_type": "code",
      "metadata": {
        "id": "crv0RVlhNmlu",
        "colab": {
          "base_uri": "https://localhost:8080/"
        },
        "outputId": "e79d606d-7526-4839-ed51-ea473cda0901"
      },
      "source": [
        "def count(item, a):\n",
        "    return item.count(a)\n",
        "\n",
        "item = [2,3,18,8,12,12,6,20]\n",
        "a=12\n",
        "print(\"{0} has occured {1} times\".format(a, count(item, a)))"
      ],
      "execution_count": 23,
      "outputs": [
        {
          "output_type": "stream",
          "text": [
            "12 has occured 2 times\n"
          ],
          "name": "stdout"
        }
      ]
    },
    {
      "cell_type": "code",
      "metadata": {
        "id": "bguV9RWeL-ev"
      },
      "source": [
        ""
      ],
      "execution_count": null,
      "outputs": []
    }
  ]
}