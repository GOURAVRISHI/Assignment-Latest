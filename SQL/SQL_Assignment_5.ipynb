{
  "nbformat": 4,
  "nbformat_minor": 0,
  "metadata": {
    "colab": {
      "name": "SQL_Assignment_1.ipynb",
      "provenance": [],
      "collapsed_sections": []
    },
    "kernelspec": {
      "name": "python3",
      "display_name": "Python 3"
    },
    "language_info": {
      "name": "python"
    }
  },
  "cells": [
    {
      "cell_type": "markdown",
      "source": [
        "Q-1. Write an SQL query to print details of workers excluding first names, “Vipul” and “Satish” from Worker table."
      ],
      "metadata": {
        "id": "witGQ7FDqc8B"
      }
    },
    {
      "cell_type": "code",
      "source": [
        "'''\n",
        "SELECT * from Worker where FIRST_NAME NOT IN (\"Vipul\", \"Satish\");\n",
        "'''"
      ],
      "metadata": {
        "colab": {
          "base_uri": "https://localhost:8080/",
          "height": 36
        },
        "id": "dkb4thnEqdD-",
        "outputId": "63225caf-ca83-46b4-c22c-f93597dd94ae"
      },
      "execution_count": 5,
      "outputs": [
        {
          "output_type": "execute_result",
          "data": {
            "application/vnd.google.colaboratory.intrinsic+json": {
              "type": "string"
            },
            "text/plain": [
              "'\\nSELECT * from Worker where FIRST_NAME NOT IN (\"Vipul\", \"Satish\");\\n'"
            ]
          },
          "metadata": {},
          "execution_count": 5
        }
      ]
    },
    {
      "cell_type": "markdown",
      "source": [
        "2. Write an SQL query to print details of the Workers whose FIRST_NAME ends with ‘h’ and contains six alphabets.\n"
      ],
      "metadata": {
        "id": "Qh6hC6mOqulI"
      }
    },
    {
      "cell_type": "code",
      "source": [
        "'''\n",
        "SELECT * FROM Workers WHERE FIRST_NAME LIKE '_____h';\n",
        "'''"
      ],
      "metadata": {
        "colab": {
          "base_uri": "https://localhost:8080/",
          "height": 36
        },
        "id": "UueDw597qymX",
        "outputId": "1637e467-d8c6-4955-b834-80b55edb731b"
      },
      "execution_count": 6,
      "outputs": [
        {
          "output_type": "execute_result",
          "data": {
            "application/vnd.google.colaboratory.intrinsic+json": {
              "type": "string"
            },
            "text/plain": [
              "\"\\nSELECT * FROM Workers WHERE FIRST_NAME LIKE '_____h';\\n\""
            ]
          },
          "metadata": {},
          "execution_count": 6
        }
      ]
    },
    {
      "cell_type": "markdown",
      "source": [
        "Q-3. Write a query to validate Email of Employee."
      ],
      "metadata": {
        "id": "_d6X3921qxUV"
      }
    },
    {
      "cell_type": "code",
      "source": [
        "'''\n",
        "SELECT * FROM Worker WHERE email LIKE \"_%@_%._%\n",
        "\"'''"
      ],
      "metadata": {
        "colab": {
          "base_uri": "https://localhost:8080/",
          "height": 36
        },
        "id": "ao3PvFZsqwbp",
        "outputId": "f79a050c-f6f3-43a1-fef0-3e5e47c97fc4"
      },
      "execution_count": 7,
      "outputs": [
        {
          "output_type": "execute_result",
          "data": {
            "application/vnd.google.colaboratory.intrinsic+json": {
              "type": "string"
            },
            "text/plain": [
              "'\\nSELECT * FROM Worker WHERE email LIKE \"_%@_%._%\\n\"'"
            ]
          },
          "metadata": {},
          "execution_count": 7
        }
      ]
    },
    {
      "cell_type": "code",
      "source": [
        ""
      ],
      "metadata": {
        "id": "QK2wNYosrWBa"
      },
      "execution_count": null,
      "outputs": []
    }
  ]
}