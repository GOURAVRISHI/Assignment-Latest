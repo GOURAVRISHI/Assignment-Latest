{
  "nbformat": 4,
  "nbformat_minor": 0,
  "metadata": {
    "colab": {
      "name": "SQL_Assignment_9.ipynb",
      "provenance": [],
      "collapsed_sections": []
    },
    "kernelspec": {
      "name": "python3",
      "display_name": "Python 3"
    },
    "language_info": {
      "name": "python"
    }
  },
  "cells": [
    {
      "cell_type": "markdown",
      "source": [
        "Q-17. Write an SQL query to show the top n (say 10) records of a table.\n"
      ],
      "metadata": {
        "id": "qmWTzscU572S"
      }
    },
    {
      "cell_type": "code",
      "source": [
        "SELECT * FROM Worker LIMIT 10;\n",
        "SELECT TOP 10 * FROM Worker; #Top Keyword is not supported by Many Popular Databases  \n"
      ],
      "metadata": {
        "id": "qiDQ3skz58Vh"
      },
      "execution_count": null,
      "outputs": []
    },
    {
      "cell_type": "markdown",
      "source": [
        "Q-18. Write an SQL query to determine the nth (say n=5) highest salary from a table."
      ],
      "metadata": {
        "id": "QIh1DsOd59xX"
      }
    },
    {
      "cell_type": "code",
      "source": [
        "ELECT DISTINCT(Salary) FROM Worker ORDER BY DESC LIMIT 1 OFFSET 5;"
      ],
      "metadata": {
        "id": "00wZ43K65_Ca"
      },
      "execution_count": null,
      "outputs": []
    }
  ]
}