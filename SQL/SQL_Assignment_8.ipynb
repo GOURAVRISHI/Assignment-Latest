{
  "nbformat": 4,
  "nbformat_minor": 0,
  "metadata": {
    "colab": {
      "name": "SQL_Assignment_8.ipynb",
      "provenance": [],
      "collapsed_sections": []
    },
    "kernelspec": {
      "name": "python3",
      "display_name": "Python 3"
    },
    "language_info": {
      "name": "python"
    }
  },
  "cells": [
    {
      "cell_type": "markdown",
      "source": [
        "Q-15. Write an SQL query to fetch intersecting records of two tables."
      ],
      "metadata": {
        "id": "6dhSmibk5LUp"
      }
    },
    {
      "cell_type": "code",
      "source": [
        "SELECT <column_names> FROM table_1 INTERSECT SELECT <column_names> FROM table_2;"
      ],
      "metadata": {
        "id": "PdvSZtKe5Lsv"
      },
      "execution_count": null,
      "outputs": []
    },
    {
      "cell_type": "markdown",
      "source": [
        "Q-16. Write an SQL query to show records from one table that another table does not have."
      ],
      "metadata": {
        "id": "7jpBUAoR5M42"
      }
    },
    {
      "cell_type": "code",
      "source": [
        "SELECT * FROM table_1 EXCEPT SELECT * FROM table_2;"
      ],
      "metadata": {
        "id": "1YBTu1JC5OR4"
      },
      "execution_count": null,
      "outputs": []
    }
  ]
}