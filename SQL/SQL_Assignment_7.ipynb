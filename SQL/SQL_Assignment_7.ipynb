{
  "nbformat": 4,
  "nbformat_minor": 0,
  "metadata": {
    "colab": {
      "name": "SQL_Assignment_7.ipynb",
      "provenance": [],
      "collapsed_sections": []
    },
    "kernelspec": {
      "name": "python3",
      "display_name": "Python 3"
    },
    "language_info": {
      "name": "python"
    }
  },
  "cells": [
    {
      "cell_type": "markdown",
      "source": [
        "Q-13. Write an SQL query to show only odd rows from a table."
      ],
      "metadata": {
        "id": "q936vUr23npG"
      }
    },
    {
      "cell_type": "code",
      "source": [
        "SELECT * FROM Worker Where MOD(worker_id,2) = 1"
      ],
      "metadata": {
        "id": "gTwPEC0O3oEt"
      },
      "execution_count": null,
      "outputs": []
    },
    {
      "cell_type": "markdown",
      "source": [
        "Q-14. Write an SQL query to clone a new table from another table."
      ],
      "metadata": {
        "id": "BTe_IiJ_3oih"
      }
    },
    {
      "cell_type": "code",
      "source": [
        "# Code to Create a New table\n",
        "CREATE TABLE CloneWorker (\n",
        "    WORKER_ID INT NOT NULL AUTO INCREMENT PRIMARY KEY,\n",
        "    FIRST_NAME VARCHAR(50),\n",
        "    LAST_NAME VARCHAR(50),\n",
        "    SALARY INT,\n",
        "    DEPARTMENT VARCHAR(50),\n",
        "    JOINING_DATE DATETIME\n",
        ");\n",
        "\n",
        "# Code to Clone content of a table to another table\n",
        "INSERT INTO CloneWorker SELECT * FROM Worker;"
      ],
      "metadata": {
        "id": "AHUsbAYr3pha"
      },
      "execution_count": null,
      "outputs": []
    }
  ]
}