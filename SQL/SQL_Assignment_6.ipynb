{
  "nbformat": 4,
  "nbformat_minor": 0,
  "metadata": {
    "colab": {
      "name": "SQL_Assignment_6.ipynb",
      "provenance": [],
      "collapsed_sections": []
    },
    "kernelspec": {
      "name": "python3",
      "display_name": "Python 3"
    },
    "language_info": {
      "name": "python"
    }
  },
  "cells": [
    {
      "cell_type": "markdown",
      "source": [
        "Q-1. Write an SQL query to print details of the Workers who have joined in Feb’ 2014."
      ],
      "metadata": {
        "id": "hXPGIKfF2Izn"
      }
    },
    {
      "cell_type": "code",
      "source": [
        "'''\n",
        "# Approach 1\n",
        "SELECT * FROM Worker WHERE JOINING_DATE LIKE \"%2014-02%\";\n",
        "\n",
        "# Approach 2\n",
        "SELECT * FROM Worker WHERE YEAR(JOINING_DATE) = 2014 AND MONTH(JOINING_DATE) = 02;\n",
        "'''"
      ],
      "metadata": {
        "colab": {
          "base_uri": "https://localhost:8080/",
          "height": 54
        },
        "id": "X_rD4TVx2KNI",
        "outputId": "e60b92f5-7263-4c36-d7b5-dc3921da46c1"
      },
      "execution_count": 4,
      "outputs": [
        {
          "output_type": "execute_result",
          "data": {
            "application/vnd.google.colaboratory.intrinsic+json": {
              "type": "string"
            },
            "text/plain": [
              "'\\n# Approach 1\\nSELECT * FROM Worker WHERE JOINING_DATE LIKE \"%2014-02%\";\\n\\n# Approach 2\\nSELECT * FROM Worker WHERE YEAR(JOINING_DATE) = 2014 AND MONTH(JOINING_DATE) = 02;\\n'"
            ]
          },
          "metadata": {},
          "execution_count": 4
        }
      ]
    },
    {
      "cell_type": "markdown",
      "source": [
        "Q-2. Write an SQL query to fetch duplicate records having matching data in some fields of a table."
      ],
      "metadata": {
        "id": "XSzi0W5g2LqA"
      }
    },
    {
      "cell_type": "code",
      "source": [
        "'''\n",
        "SELECT column_name, COUNT(column_name) FROM Worker GROUP BY FIELD HAVING COUNT(column_name) > 1;\n",
        "'''"
      ],
      "metadata": {
        "colab": {
          "base_uri": "https://localhost:8080/",
          "height": 54
        },
        "id": "Up3E0lrj2MsQ",
        "outputId": "e91165d3-5718-41bf-cc69-f5a5eea0fbbf"
      },
      "execution_count": 8,
      "outputs": [
        {
          "output_type": "execute_result",
          "data": {
            "application/vnd.google.colaboratory.intrinsic+json": {
              "type": "string"
            },
            "text/plain": [
              "'\\nSELECT column_name, COUNT(column_name) FROM Worker GROUP BY FIELD HAVING COUNT(column_name) > 1;\\n'"
            ]
          },
          "metadata": {},
          "execution_count": 8
        }
      ]
    },
    {
      "cell_type": "markdown",
      "source": [
        "Q-3. How to remove duplicate rows from Employees table."
      ],
      "metadata": {
        "id": "nf4S0QbV2NMV"
      }
    },
    {
      "cell_type": "code",
      "source": [
        "'''CREATE TABLE Employee (\n",
        "    ID INT PRIMARY KEY AUTO_INCREMENT NOT NULL,\n",
        "    FIRST_NAME VARCHAR(50),\n",
        "    LAST_NAME VARCHAR(50),\n",
        "    COUNTRY VARCHAR(50)\n",
        ");\n",
        "\n",
        "INSERT INTO Employee VALUES \n",
        "(1,'GOURAV','RISHI','INDIA'),\n",
        "(2,'SHIVAM','AGGARWAL','INDIA'),\n",
        "(3,'KAUSHIK','SHARMA','INDIA'),\n",
        "(4,'WILL','SMITH','USA'),\n",
        "(5,'JASON','SMITH','USA'),\n",
        "(6,'STEVE','JOBS','USA');\n",
        "\n",
        "DELETE e1.* from employee e1 INNER JOIN employee e2 WHERE e1.id > e2.id AND e1.FIRST_NAME = e2.FIRST_NAME AND e1.LAST_NAME = e2.LAST_NAME AND e1.COUNTRY'''"
      ],
      "metadata": {
        "colab": {
          "base_uri": "https://localhost:8080/",
          "height": 127
        },
        "id": "TO_AK3Qd2QvG",
        "outputId": "6cb665c6-70b2-4559-d11e-a6cc2bdfbdbb"
      },
      "execution_count": 9,
      "outputs": [
        {
          "output_type": "execute_result",
          "data": {
            "application/vnd.google.colaboratory.intrinsic+json": {
              "type": "string"
            },
            "text/plain": [
              "\"CREATE TABLE Employee (\\n    ID INT PRIMARY KEY AUTO_INCREMENT NOT NULL,\\n    FIRST_NAME VARCHAR(50),\\n    LAST_NAME VARCHAR(50),\\n    COUNTRY VARCHAR(50)\\n);\\n\\nINSERT INTO Employee VALUES \\n(1,'GOURAV','RISHI','INDIA'),\\n(2,'SHIVAM','AGGARWAL','INDIA'),\\n(3,'KAUSHIK','SHARMA','INDIA'),\\n(4,'WILL','SMITH','USA'),\\n(5,'JASON','SMITH','USA'),\\n(6,'STEVE','JOBS','USA');\\n\\nDELETE e1.* from employee e1 INNER JOIN employee e2 WHERE e1.id > e2.id AND e1.FIRST_NAME = e2.FIRST_NAME AND e1.LAST_NAME = e2.LAST_NAME AND e1.COUNTRY\""
            ]
          },
          "metadata": {},
          "execution_count": 9
        }
      ]
    },
    {
      "cell_type": "code",
      "source": [
        ""
      ],
      "metadata": {
        "id": "fvnVgjOy2uXt"
      },
      "execution_count": null,
      "outputs": []
    }
  ]
}