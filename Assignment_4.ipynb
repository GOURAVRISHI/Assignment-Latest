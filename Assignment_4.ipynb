{
  "nbformat": 4,
  "nbformat_minor": 0,
  "metadata": {
    "colab": {
      "name": "Assignment-4.ipynb",
      "provenance": [],
      "collapsed_sections": []
    },
    "kernelspec": {
      "display_name": "Python 3",
      "name": "python3"
    }
  },
  "cells": [
    {
      "cell_type": "code",
      "metadata": {
        "colab": {
          "base_uri": "https://localhost:8080/",
          "height": 36
        },
        "id": "Rqr0iDnJb5Dm",
        "outputId": "f7fb8d02-454b-4d0a-c41a-5d9efa37cb13"
      },
      "source": [
        "'''1. What exactly is []?'''"
      ],
      "execution_count": null,
      "outputs": [
        {
          "output_type": "execute_result",
          "data": {
            "application/vnd.google.colaboratory.intrinsic+json": {
              "type": "string"
            },
            "text/plain": [
              "'1. What exactly is []?'"
            ]
          },
          "metadata": {
            "tags": []
          },
          "execution_count": 11
        }
      ]
    },
    {
      "cell_type": "code",
      "metadata": {
        "colab": {
          "base_uri": "https://localhost:8080/"
        },
        "id": "Ksn13Zs-jbl-",
        "outputId": "136e41f5-04be-4719-e781-6197f3aea833"
      },
      "source": [
        "type([1,2,3,4])"
      ],
      "execution_count": null,
      "outputs": [
        {
          "output_type": "execute_result",
          "data": {
            "text/plain": [
              "list"
            ]
          },
          "metadata": {
            "tags": []
          },
          "execution_count": 1
        }
      ]
    },
    {
      "cell_type": "code",
      "metadata": {
        "id": "SdWSPDWMY3fp"
      },
      "source": [
        "#it is a list. and specifically [] is empty list."
      ],
      "execution_count": null,
      "outputs": []
    },
    {
      "cell_type": "code",
      "metadata": {
        "colab": {
          "base_uri": "https://localhost:8080/",
          "height": 54
        },
        "id": "c9RS-7Dljeo-",
        "outputId": "71091fef-da3a-4b54-ace4-92d953f9d05b"
      },
      "source": [
        "'''2. In a list of values stored in a variable called spam, how would you assign the value 'hello' as the third value? (Assume [2, 4, 6, 8, 10] are in spam.)\n",
        "Let's pretend the spam includes the list ['a', 'b', 'c', 'd'] for the next three queries.'''"
      ],
      "execution_count": null,
      "outputs": [
        {
          "output_type": "execute_result",
          "data": {
            "application/vnd.google.colaboratory.intrinsic+json": {
              "type": "string"
            },
            "text/plain": [
              "\"2. In a list of values stored in a variable called spam, how would you assign the value 'hello' as the third value? (Assume [2, 4, 6, 8, 10] are in spam.)\\nLet's pretend the spam includes the list ['a', 'b', 'c', 'd'] for the next three queries.\""
            ]
          },
          "metadata": {
            "tags": []
          },
          "execution_count": 12
        }
      ]
    },
    {
      "cell_type": "code",
      "metadata": {
        "id": "XnSXdYENje-a",
        "colab": {
          "base_uri": "https://localhost:8080/"
        },
        "outputId": "e2c349da-01f9-4514-fefa-647f9cd6ab31"
      },
      "source": [
        "spam= [[2, 4, 6, 8, 10], ['a', 'b', 'c', 'd'], ['a', 'b', 'c', 'd'], ['a', 'b', 'c', 'd']]\n",
        "spam[2]=\"hello\"\n",
        "spam"
      ],
      "execution_count": null,
      "outputs": [
        {
          "output_type": "execute_result",
          "data": {
            "text/plain": [
              "[[2, 4, 6, 8, 10], ['a', 'b', 'c', 'd'], 'hello', ['a', 'b', 'c', 'd']]"
            ]
          },
          "metadata": {
            "tags": []
          },
          "execution_count": 51
        }
      ]
    },
    {
      "cell_type": "code",
      "metadata": {
        "colab": {
          "base_uri": "https://localhost:8080/",
          "height": 36
        },
        "id": "Djvxhgp-jhHv",
        "outputId": "bc951d32-0ec0-4950-fd2b-5bfa51da9236"
      },
      "source": [
        "'''3. What is the value of spam[int(int('3' * 2) / 11)]?'''"
      ],
      "execution_count": null,
      "outputs": [
        {
          "output_type": "execute_result",
          "data": {
            "application/vnd.google.colaboratory.intrinsic+json": {
              "type": "string"
            },
            "text/plain": [
              "\"3. What is the value of spam[int(int('3' * 2) / 11)]?\""
            ]
          },
          "metadata": {
            "tags": []
          },
          "execution_count": 13
        }
      ]
    },
    {
      "cell_type": "code",
      "metadata": {
        "colab": {
          "base_uri": "https://localhost:8080/"
        },
        "id": "j6CKwD7Qj7TG",
        "outputId": "50491ac8-e5ec-4529-e082-af3f5d3bdd3e"
      },
      "source": [
        "spam= [int(int('3' * 2) / 11)] \n",
        "spam "
      ],
      "execution_count": null,
      "outputs": [
        {
          "output_type": "execute_result",
          "data": {
            "text/plain": [
              "[3]"
            ]
          },
          "metadata": {
            "tags": []
          },
          "execution_count": 2
        }
      ]
    },
    {
      "cell_type": "code",
      "metadata": {
        "colab": {
          "base_uri": "https://localhost:8080/"
        },
        "id": "AVQxI4tIWtt1",
        "outputId": "79274c77-8f1e-4fdc-9432-f31b9acd03dc"
      },
      "source": [
        "a=(int('3' * 2))    # because this string was square doubled \n",
        "a"
      ],
      "execution_count": 4,
      "outputs": [
        {
          "output_type": "execute_result",
          "data": {
            "text/plain": [
              "33"
            ]
          },
          "metadata": {
            "tags": []
          },
          "execution_count": 4
        }
      ]
    },
    {
      "cell_type": "code",
      "metadata": {
        "colab": {
          "base_uri": "https://localhost:8080/",
          "height": 36
        },
        "id": "1pFXsWUDji78",
        "outputId": "93f5dbc8-04c6-466a-aef1-0f664fccf4fa"
      },
      "source": [
        "'''4. What is the value of spam[-1]?'''"
      ],
      "execution_count": null,
      "outputs": [
        {
          "output_type": "execute_result",
          "data": {
            "application/vnd.google.colaboratory.intrinsic+json": {
              "type": "string"
            },
            "text/plain": [
              "'4. What is the value of spam[-1]?'"
            ]
          },
          "metadata": {
            "tags": []
          },
          "execution_count": 14
        }
      ]
    },
    {
      "cell_type": "code",
      "metadata": {
        "colab": {
          "base_uri": "https://localhost:8080/"
        },
        "id": "0SEFeMaxjkD-",
        "outputId": "cddaea41-7351-45f4-acbc-9bb2c3711f94"
      },
      "source": [
        "spam= [[2, 4, 6, 8, 10], ['a', 'b', 'c', 'd'], ['a', 'b', 'c', 'd'], ['a', 'b', 'c', 'd']]\n",
        "spam[-1] # so this explain us this that [-1] index of the variable gives us the last index value of the variable."
      ],
      "execution_count": null,
      "outputs": [
        {
          "output_type": "execute_result",
          "data": {
            "text/plain": [
              "['a', 'b', 'c', 'd']"
            ]
          },
          "metadata": {
            "tags": []
          },
          "execution_count": 52
        }
      ]
    },
    {
      "cell_type": "code",
      "metadata": {
        "colab": {
          "base_uri": "https://localhost:8080/",
          "height": 36
        },
        "id": "opU-xLTZzAsZ",
        "outputId": "6c0b096d-471d-4973-e66d-13770a1d5538"
      },
      "source": [
        "'''5. What is the value of spam[:2]? \n",
        "\n",
        "Let's pretend bacon has the list [3.14, 'cat', 11, 'cat', True] for the next three questions.\n",
        "'''"
      ],
      "execution_count": null,
      "outputs": [
        {
          "output_type": "execute_result",
          "data": {
            "application/vnd.google.colaboratory.intrinsic+json": {
              "type": "string"
            },
            "text/plain": [
              "\"5. What is the value of spam[:2]? \\n\\nLet's pretend bacon has the list [3.14, 'cat,' 11, 'cat,' True] for the next three questions.\\n\""
            ]
          },
          "metadata": {
            "tags": []
          },
          "execution_count": 15
        }
      ]
    },
    {
      "cell_type": "code",
      "metadata": {
        "id": "OqhAhOfRzBNk"
      },
      "source": [
        "bacon= [3.14, 'cat', 11, 'cat', True]      \n",
        "# Values as \n",
        "# 0 = 3.14, \n",
        "# 1 = 'cat'\n",
        "# 2 = 11\n",
        "   "
      ],
      "execution_count": 9,
      "outputs": []
    },
    {
      "cell_type": "code",
      "metadata": {
        "colab": {
          "base_uri": "https://localhost:8080/"
        },
        "id": "_c4baTvDdB8A",
        "outputId": "e311972a-8376-4d4b-e537-fe69fd03088e"
      },
      "source": [
        "bacon[:2]   # because this takes values (start, one step before end, step size = 1 is default)    values starts from 0"
      ],
      "execution_count": 10,
      "outputs": [
        {
          "output_type": "execute_result",
          "data": {
            "text/plain": [
              "[3.14, 'cat']"
            ]
          },
          "metadata": {
            "tags": []
          },
          "execution_count": 10
        }
      ]
    },
    {
      "cell_type": "code",
      "metadata": {
        "colab": {
          "base_uri": "https://localhost:8080/",
          "height": 36
        },
        "id": "WxXqz42azIgz",
        "outputId": "be3c21c6-e311-4633-e3d1-7172d96015b9"
      },
      "source": [
        "'''6. What is the value of bacon.index('cat')?'''"
      ],
      "execution_count": null,
      "outputs": [
        {
          "output_type": "execute_result",
          "data": {
            "application/vnd.google.colaboratory.intrinsic+json": {
              "type": "string"
            },
            "text/plain": [
              "\"6. What is the value of bacon.index('cat')?\""
            ]
          },
          "metadata": {
            "tags": []
          },
          "execution_count": 16
        }
      ]
    },
    {
      "cell_type": "code",
      "metadata": {
        "id": "mCSmJdrvzIzL",
        "colab": {
          "base_uri": "https://localhost:8080/"
        },
        "outputId": "92dc0180-f2be-4352-874e-c891955922f2"
      },
      "source": [
        "bacon.index('cat')"
      ],
      "execution_count": 11,
      "outputs": [
        {
          "output_type": "execute_result",
          "data": {
            "text/plain": [
              "1"
            ]
          },
          "metadata": {
            "tags": []
          },
          "execution_count": 11
        }
      ]
    },
    {
      "cell_type": "code",
      "metadata": {
        "colab": {
          "base_uri": "https://localhost:8080/",
          "height": 36
        },
        "id": "S46THfKEzT1L",
        "outputId": "1559c86e-2f22-4bdd-9634-12d4e47246c2"
      },
      "source": [
        "'''7. How does bacon.append(99) change the look of the list value in bacon?'''"
      ],
      "execution_count": null,
      "outputs": [
        {
          "output_type": "execute_result",
          "data": {
            "application/vnd.google.colaboratory.intrinsic+json": {
              "type": "string"
            },
            "text/plain": [
              "'7. How does bacon.append(99) change the look of the list value in bacon?'"
            ]
          },
          "metadata": {
            "tags": []
          },
          "execution_count": 17
        }
      ]
    },
    {
      "cell_type": "code",
      "metadata": {
        "id": "nqWOvhm9zZL0",
        "colab": {
          "base_uri": "https://localhost:8080/"
        },
        "outputId": "2136547b-c188-46ce-92bf-ea319b8e21a0"
      },
      "source": [
        "bacon.append(99)    # append means adding at last in the list \n",
        "bacon"
      ],
      "execution_count": null,
      "outputs": [
        {
          "output_type": "execute_result",
          "data": {
            "text/plain": [
              "[3.14, 'cat', 11, 'cat', True, 99]"
            ]
          },
          "metadata": {
            "tags": []
          },
          "execution_count": 17
        }
      ]
    },
    {
      "cell_type": "code",
      "metadata": {
        "colab": {
          "base_uri": "https://localhost:8080/",
          "height": 36
        },
        "id": "u3pyVAnjzZWD",
        "outputId": "cd925e70-e83d-4eab-c94d-4652a9cdacf5"
      },
      "source": [
        "'''8. How does bacon.remove('cat') change the look of the list meaning in bacon?'''"
      ],
      "execution_count": null,
      "outputs": [
        {
          "output_type": "execute_result",
          "data": {
            "application/vnd.google.colaboratory.intrinsic+json": {
              "type": "string"
            },
            "text/plain": [
              "\"8. How does bacon.remove('cat') change the look of the list meaning in bacon?\""
            ]
          },
          "metadata": {
            "tags": []
          },
          "execution_count": 18
        }
      ]
    },
    {
      "cell_type": "code",
      "metadata": {
        "id": "cSMXAIBJzZfH",
        "colab": {
          "base_uri": "https://localhost:8080/"
        },
        "outputId": "7763bad5-fefa-4cf1-a26d-d46f6d900346"
      },
      "source": [
        "# I have removed both the cat from the list- \n",
        "bacon.remove('cat')\n",
        "bacon\n",
        "bacon.remove('cat')\n",
        "bacon"
      ],
      "execution_count": null,
      "outputs": [
        {
          "output_type": "execute_result",
          "data": {
            "text/plain": [
              "[3.14, 11, True]"
            ]
          },
          "metadata": {
            "tags": []
          },
          "execution_count": 25
        }
      ]
    },
    {
      "cell_type": "code",
      "metadata": {
        "colab": {
          "base_uri": "https://localhost:8080/",
          "height": 36
        },
        "id": "SVz7QBmOza0V",
        "outputId": "b8fdde56-fc34-476d-c1e0-0eeae1c309ce"
      },
      "source": [
        "'''9. What are the list concatenation and list replication operators?'''"
      ],
      "execution_count": null,
      "outputs": [
        {
          "output_type": "execute_result",
          "data": {
            "application/vnd.google.colaboratory.intrinsic+json": {
              "type": "string"
            },
            "text/plain": [
              "'9. What are the list concatenation and list replication operators?'"
            ]
          },
          "metadata": {
            "tags": []
          },
          "execution_count": 19
        }
      ]
    },
    {
      "cell_type": "code",
      "metadata": {
        "id": "1qVWZx75za-Q",
        "colab": {
          "base_uri": "https://localhost:8080/",
          "height": 54
        },
        "outputId": "b97b966e-2340-412a-98c7-15638b5a85b2"
      },
      "source": [
        "'''list concatenation operator is \"+\". It use for concatenation with the other list. \n",
        "list replication operators operator is \"*\". It multiple the list and add the same list at the end of the same list. Example is shown in Question No. 3 also.\n",
        "'''"
      ],
      "execution_count": null,
      "outputs": [
        {
          "output_type": "execute_result",
          "data": {
            "application/vnd.google.colaboratory.intrinsic+json": {
              "type": "string"
            },
            "text/plain": [
              "'list concatenation operator is \"+\". It use for concatenation with the other list. \\nlist replication operators operator is \"*\". It multiple the list and add the same list at the end of the same list. \\n'"
            ]
          },
          "metadata": {
            "tags": []
          },
          "execution_count": 29
        }
      ]
    },
    {
      "cell_type": "code",
      "metadata": {
        "colab": {
          "base_uri": "https://localhost:8080/"
        },
        "id": "zSODxqdmexB0",
        "outputId": "60a6c833-d6c3-4d58-bb1a-a111cc5a61fa"
      },
      "source": [
        "lst1=[1,2,3,4]\n",
        "lst2=[5,6,7,8]\n",
        "print(\"list concatenation: \", lst1+lst2)\n",
        "print(\"list replication: \", lst1*2)"
      ],
      "execution_count": null,
      "outputs": [
        {
          "output_type": "stream",
          "text": [
            "list concatenation:  [1, 2, 3, 4, 5, 6, 7, 8]\n",
            "list replication:  [1, 2, 3, 4, 1, 2, 3, 4]\n"
          ],
          "name": "stdout"
        }
      ]
    },
    {
      "cell_type": "code",
      "metadata": {
        "colab": {
          "base_uri": "https://localhost:8080/",
          "height": 36
        },
        "id": "2KmFNkARzbIN",
        "outputId": "9dca57c1-0892-4062-c701-0e8ad6e5278f"
      },
      "source": [
        "'''10. What is difference between the list methods append() and insert()?'''"
      ],
      "execution_count": null,
      "outputs": [
        {
          "output_type": "execute_result",
          "data": {
            "application/vnd.google.colaboratory.intrinsic+json": {
              "type": "string"
            },
            "text/plain": [
              "'10. What is difference between the list methods append() and insert()?'"
            ]
          },
          "metadata": {
            "tags": []
          },
          "execution_count": 20
        }
      ]
    },
    {
      "cell_type": "code",
      "metadata": {
        "id": "r1vYLC0vzbRc"
      },
      "source": [
        "'''append () - insert the items at the endof the list, \n",
        "insert () - it will add/ insert values at any place in the list. \n",
        "'''"
      ],
      "execution_count": null,
      "outputs": []
    },
    {
      "cell_type": "code",
      "metadata": {
        "colab": {
          "base_uri": "https://localhost:8080/",
          "height": 36
        },
        "id": "8SZO6Wnazbas",
        "outputId": "e541421a-cd72-4be7-eca9-647361a6efee"
      },
      "source": [
        "'''11. What are the two methods for removing items from a list?'''"
      ],
      "execution_count": null,
      "outputs": [
        {
          "output_type": "execute_result",
          "data": {
            "application/vnd.google.colaboratory.intrinsic+json": {
              "type": "string"
            },
            "text/plain": [
              "'11. What are the two methods for removing items from a list?'"
            ]
          },
          "metadata": {
            "tags": []
          },
          "execution_count": 21
        }
      ]
    },
    {
      "cell_type": "code",
      "metadata": {
        "id": "C6QTKPRNzbj_",
        "colab": {
          "base_uri": "https://localhost:8080/"
        },
        "outputId": "4445ce88-e70c-4042-f5f2-ca89e0b5c652"
      },
      "source": [
        "# Three methods of removing an items from list are: remove(), pop(), del(). examples shown below\n",
        "lst3 = lst1+lst2\n",
        "print(lst3)\n",
        "lst3.remove(3)    # removed 3 from the list\n",
        "print(lst3)\n",
        "\n",
        "lst3.pop(5)       # removed 5th index element from the list\n",
        "print(lst3)\n",
        "\n",
        "del lst3[2:4]      # removed 2th & 3rd index element \n",
        "print(lst3)"
      ],
      "execution_count": null,
      "outputs": [
        {
          "output_type": "stream",
          "text": [
            "[1, 2, 3, 4, 5, 6, 7, 8]\n",
            "[1, 2, 4, 5, 6, 7, 8]\n",
            "[1, 2, 4, 5, 6, 8]\n",
            "[1, 2, 6, 8]\n"
          ],
          "name": "stdout"
        }
      ]
    },
    {
      "cell_type": "code",
      "metadata": {
        "id": "LTKvHdzOfXOH"
      },
      "source": [
        "# I have mentioned three methods of removing items from a list. del and pop function take indexes where remove function remove the exact element from the list. \n",
        "# difference between pop and Del function is that del function does not return the removed element. "
      ],
      "execution_count": null,
      "outputs": []
    },
    {
      "cell_type": "code",
      "metadata": {
        "colab": {
          "base_uri": "https://localhost:8080/",
          "height": 36
        },
        "id": "s1CYeSn1zbtZ",
        "outputId": "23e824a0-1028-46d5-fd23-60427c3f374f"
      },
      "source": [
        "'''12. Describe how list values and string values are identical.'''"
      ],
      "execution_count": null,
      "outputs": [
        {
          "output_type": "execute_result",
          "data": {
            "application/vnd.google.colaboratory.intrinsic+json": {
              "type": "string"
            },
            "text/plain": [
              "'12. Describe how list values and string values are identical.'"
            ]
          },
          "metadata": {
            "tags": []
          },
          "execution_count": 22
        }
      ]
    },
    {
      "cell_type": "code",
      "metadata": {
        "id": "vINS38Egb0Zf"
      },
      "source": [
        "# Both lists and strings can be passed to len(), have indexes and slices, be used in for loops, be concatenated or replicated, and be used with the in and not in operators."
      ],
      "execution_count": null,
      "outputs": []
    },
    {
      "cell_type": "code",
      "metadata": {
        "id": "w1sG34fQzl9T",
        "colab": {
          "base_uri": "https://localhost:8080/"
        },
        "outputId": "72e6dc3c-3476-4eaf-beca-41ea87f830c1"
      },
      "source": [
        "lst= [\"a\", \"b\", \"c\", \"d\", \"e\"]\n",
        "string= \"abcde\"\n",
        "\n",
        "print(len(lst))\n",
        "print(len(string))"
      ],
      "execution_count": 32,
      "outputs": [
        {
          "output_type": "stream",
          "text": [
            "5\n",
            "5\n"
          ],
          "name": "stdout"
        }
      ]
    },
    {
      "cell_type": "code",
      "metadata": {
        "colab": {
          "base_uri": "https://localhost:8080/"
        },
        "id": "grRGER5TdD5J",
        "outputId": "8e6fd100-dac4-4651-cca8-1a327592dd1f"
      },
      "source": [
        "for i in lst:\n",
        "  for j in string:\n",
        "    if i in string:\n",
        "     print (\"%s is present in both %s\" % (i, string))\n",
        "     break\n",
        "    \n",
        "    else:\n",
        "     print (\"%s is not present in both %s\" % (i, string))"
      ],
      "execution_count": 31,
      "outputs": [
        {
          "output_type": "stream",
          "text": [
            "a is present in both abcde\n",
            "b is present in both abcde\n",
            "c is present in both abcde\n",
            "d is present in both abcde\n",
            "e is present in both abcde\n"
          ],
          "name": "stdout"
        }
      ]
    },
    {
      "cell_type": "code",
      "metadata": {
        "colab": {
          "base_uri": "https://localhost:8080/",
          "height": 36
        },
        "id": "I_O-rTu3zmJM",
        "outputId": "278cf63d-4c66-4241-bf2a-0cdad193af62"
      },
      "source": [
        "'''13. What's the difference between tuples and lists?'''"
      ],
      "execution_count": null,
      "outputs": [
        {
          "output_type": "execute_result",
          "data": {
            "application/vnd.google.colaboratory.intrinsic+json": {
              "type": "string"
            },
            "text/plain": [
              "\"13. What's the difference between tuples and lists?\""
            ]
          },
          "metadata": {
            "tags": []
          },
          "execution_count": 23
        }
      ]
    },
    {
      "cell_type": "code",
      "metadata": {
        "id": "yVwUBvnhzmTw",
        "colab": {
          "base_uri": "https://localhost:8080/",
          "height": 54
        },
        "outputId": "9332ec83-c133-4f02-be9a-a9e3c5644c5f"
      },
      "source": [
        "'''List = are mutable. Values in the List can be changes/ edited. List symbol = []. Both are iterable.\n",
        "Tuples= are immutable. Once values are assigned to tuple it cannot be changes. tuple symbol = (). Both are iterable.\n",
        "'''"
      ],
      "execution_count": null,
      "outputs": [
        {
          "output_type": "execute_result",
          "data": {
            "application/vnd.google.colaboratory.intrinsic+json": {
              "type": "string"
            },
            "text/plain": [
              "'List = are mutable. Values in the List can be changes/ edited. List symbol = []\\nTuples= are immutable. Once values are assigned to tuple it cannot be changes. tuple symbol = ()\\n'"
            ]
          },
          "metadata": {
            "tags": []
          },
          "execution_count": 26
        }
      ]
    },
    {
      "cell_type": "code",
      "metadata": {
        "id": "t_2y_3DBYtwy"
      },
      "source": [
        "a=(1,2,3,4,5,6,7,8,9, 10)"
      ],
      "execution_count": 13,
      "outputs": []
    },
    {
      "cell_type": "code",
      "metadata": {
        "colab": {
          "base_uri": "https://localhost:8080/"
        },
        "id": "zEze477hY2X9",
        "outputId": "19ab6ed6-5fae-4e09-acb7-e811e10dd118"
      },
      "source": [
        "for i in a:\n",
        "  print(i)"
      ],
      "execution_count": 14,
      "outputs": [
        {
          "output_type": "stream",
          "text": [
            "1\n",
            "2\n",
            "3\n",
            "4\n",
            "5\n",
            "6\n",
            "7\n",
            "8\n",
            "9\n",
            "10\n"
          ],
          "name": "stdout"
        }
      ]
    },
    {
      "cell_type": "code",
      "metadata": {
        "colab": {
          "base_uri": "https://localhost:8080/"
        },
        "id": "kDbjqU06Y6Z_",
        "outputId": "53663710-782a-4f32-af97-818074bf4762"
      },
      "source": [
        "for i in range(0, 10):\n",
        "  print(i)"
      ],
      "execution_count": 15,
      "outputs": [
        {
          "output_type": "stream",
          "text": [
            "0\n",
            "1\n",
            "2\n",
            "3\n",
            "4\n",
            "5\n",
            "6\n",
            "7\n",
            "8\n",
            "9\n"
          ],
          "name": "stdout"
        }
      ]
    },
    {
      "cell_type": "code",
      "metadata": {
        "colab": {
          "base_uri": "https://localhost:8080/",
          "height": 36
        },
        "id": "WxQ7VNFuzmce",
        "outputId": "a6d5fbec-2cb4-4dff-e9f5-7641e2ec5770"
      },
      "source": [
        "'''14. How do you type a tuple value that only contains the integer 42?'''"
      ],
      "execution_count": null,
      "outputs": [
        {
          "output_type": "execute_result",
          "data": {
            "application/vnd.google.colaboratory.intrinsic+json": {
              "type": "string"
            },
            "text/plain": [
              "'14. How do you type a tuple value that only contains the integer 42?'"
            ]
          },
          "metadata": {
            "tags": []
          },
          "execution_count": 24
        }
      ]
    },
    {
      "cell_type": "code",
      "metadata": {
        "id": "0Ey49sFszmkz",
        "colab": {
          "base_uri": "https://localhost:8080/",
          "height": 189
        },
        "outputId": "213ef667-c18d-45c4-d483-62214f0909e3"
      },
      "source": [
        "print(tuple(42))\n",
        "print(tuple(42,))   # For the above reason we have to place \",\" after the integer in tuples."
      ],
      "execution_count": null,
      "outputs": [
        {
          "output_type": "error",
          "ename": "TypeError",
          "evalue": "ignored",
          "traceback": [
            "\u001b[0;31m---------------------------------------------------------------------------\u001b[0m",
            "\u001b[0;31mTypeError\u001b[0m                                 Traceback (most recent call last)",
            "\u001b[0;32m<ipython-input-48-32a91dc7f8c1>\u001b[0m in \u001b[0;36m<module>\u001b[0;34m()\u001b[0m\n\u001b[0;32m----> 1\u001b[0;31m \u001b[0mprint\u001b[0m\u001b[0;34m(\u001b[0m\u001b[0mtuple\u001b[0m\u001b[0;34m(\u001b[0m\u001b[0;36m42\u001b[0m\u001b[0;34m)\u001b[0m\u001b[0;34m)\u001b[0m\u001b[0;34m\u001b[0m\u001b[0;34m\u001b[0m\u001b[0m\n\u001b[0m\u001b[1;32m      2\u001b[0m \u001b[0mprint\u001b[0m\u001b[0;34m(\u001b[0m\u001b[0mtuple\u001b[0m\u001b[0;34m(\u001b[0m\u001b[0;36m42\u001b[0m\u001b[0;34m,\u001b[0m\u001b[0;34m)\u001b[0m\u001b[0;34m)\u001b[0m\u001b[0;34m\u001b[0m\u001b[0;34m\u001b[0m\u001b[0m\n",
            "\u001b[0;31mTypeError\u001b[0m: 'int' object is not iterable"
          ]
        }
      ]
    },
    {
      "cell_type": "code",
      "metadata": {
        "colab": {
          "base_uri": "https://localhost:8080/",
          "height": 36
        },
        "id": "oskT1VWFzul3",
        "outputId": "b59afb37-d6d2-48f8-a81a-4a830c5085f2"
      },
      "source": [
        "'''15. How do you get a list value's tuple form? How do you get a tuple value's list form?'''"
      ],
      "execution_count": null,
      "outputs": [
        {
          "output_type": "execute_result",
          "data": {
            "application/vnd.google.colaboratory.intrinsic+json": {
              "type": "string"
            },
            "text/plain": [
              "\"15. How do you get a list value's tuple form? How do you get a tuple value's list form?\""
            ]
          },
          "metadata": {
            "tags": []
          },
          "execution_count": 47
        }
      ]
    },
    {
      "cell_type": "code",
      "metadata": {
        "id": "DcrOWYlDzuzZ",
        "colab": {
          "base_uri": "https://localhost:8080/"
        },
        "outputId": "dad75040-78b3-46d2-d4d3-d8a81338656e"
      },
      "source": [
        "lst3= [4,5,6,7,8,9]\n",
        "tup = (4,5,6,7,8,9)\n",
        "\n",
        "tup1= tuple(lst3)\n",
        "print(\"lst3 become: \", type(tup1))\n",
        "lst4 = list(tup)\n",
        "print(\"tup become: \",type(lst4))"
      ],
      "execution_count": null,
      "outputs": [
        {
          "output_type": "stream",
          "text": [
            "lst3 become:  <class 'tuple'>\n",
            "tup become:  <class 'list'>\n"
          ],
          "name": "stdout"
        }
      ]
    },
    {
      "cell_type": "code",
      "metadata": {
        "colab": {
          "base_uri": "https://localhost:8080/",
          "height": 36
        },
        "id": "mqrZ4X-Kzu9U",
        "outputId": "af207900-7a7f-45a0-b7af-8e455c8f7a87"
      },
      "source": [
        "'''16. Variables that \"contain\" list values are not necessarily lists themselves. Instead, what do they contain?'''"
      ],
      "execution_count": null,
      "outputs": [
        {
          "output_type": "execute_result",
          "data": {
            "application/vnd.google.colaboratory.intrinsic+json": {
              "type": "string"
            },
            "text/plain": [
              "'16. Variables that \"contain\" list values are not necessarily lists themselves. Instead, what do they contain?'"
            ]
          },
          "metadata": {
            "tags": []
          },
          "execution_count": 26
        }
      ]
    },
    {
      "cell_type": "code",
      "metadata": {
        "id": "C6hLwByyzx6J",
        "colab": {
          "base_uri": "https://localhost:8080/",
          "height": 36
        },
        "outputId": "a34402a7-61da-4eb2-ec66-e9c55f6c7961"
      },
      "source": [
        "\"They contain reference to list values. \""
      ],
      "execution_count": null,
      "outputs": [
        {
          "output_type": "execute_result",
          "data": {
            "application/vnd.google.colaboratory.intrinsic+json": {
              "type": "string"
            },
            "text/plain": [
              "'They contain reference to list values. '"
            ]
          },
          "metadata": {
            "tags": []
          },
          "execution_count": 53
        }
      ]
    },
    {
      "cell_type": "code",
      "metadata": {
        "colab": {
          "base_uri": "https://localhost:8080/",
          "height": 36
        },
        "id": "Ulf4b7u6zvGm",
        "outputId": "6b2bfbf4-daa4-4b4d-e83f-f98f8fb54848"
      },
      "source": [
        "'''17. How do you distinguish between copy.copy() and copy.deepcopy()?'''"
      ],
      "execution_count": null,
      "outputs": [
        {
          "output_type": "execute_result",
          "data": {
            "application/vnd.google.colaboratory.intrinsic+json": {
              "type": "string"
            },
            "text/plain": [
              "'17. How do you distinguish between copy.copy() and copy.deepcopy()?'"
            ]
          },
          "metadata": {
            "tags": []
          },
          "execution_count": 27
        }
      ]
    },
    {
      "cell_type": "code",
      "metadata": {
        "id": "csLycajVzb19",
        "colab": {
          "base_uri": "https://localhost:8080/",
          "height": 54
        },
        "outputId": "270951d9-d923-4509-ab0f-79d57369e829"
      },
      "source": [
        "'''The copy.copy() function do a shallow copy of a list, while the copy.deepcopy() function  do a deep copy of a list. \n",
        "It measns only copy.deepcopy() will duplicate any lists inside the list.'''"
      ],
      "execution_count": null,
      "outputs": [
        {
          "output_type": "execute_result",
          "data": {
            "application/vnd.google.colaboratory.intrinsic+json": {
              "type": "string"
            },
            "text/plain": [
              "'The copy.copy() function do a shallow copy of a list, while the copy.deepcopy() function  do a deep copy of a list. \\nIt measns only copy.deepcopy() will duplicate any lists inside the list.'"
            ]
          },
          "metadata": {
            "tags": []
          },
          "execution_count": 40
        }
      ]
    }
  ]
}