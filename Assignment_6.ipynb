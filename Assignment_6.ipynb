{
  "nbformat": 4,
  "nbformat_minor": 0,
  "metadata": {
    "colab": {
      "name": "Assignment-6.ipynb",
      "provenance": [],
      "collapsed_sections": []
    },
    "kernelspec": {
      "name": "python3",
      "display_name": "Python 3"
    },
    "language_info": {
      "name": "python"
    }
  },
  "cells": [
    {
      "cell_type": "code",
      "metadata": {
        "colab": {
          "base_uri": "https://localhost:8080/",
          "height": 36
        },
        "id": "v_TB0Uj22UmT",
        "outputId": "648dcc19-14d5-45f7-fc34-9a7ef2c9d8cf"
      },
      "source": [
        "'''1. What are escape characters, and how do you use them?'''"
      ],
      "execution_count": null,
      "outputs": [
        {
          "output_type": "execute_result",
          "data": {
            "application/vnd.google.colaboratory.intrinsic+json": {
              "type": "string"
            },
            "text/plain": [
              "'1. What are escape characters, and how do you use them?'"
            ]
          },
          "metadata": {
            "tags": []
          },
          "execution_count": 1
        }
      ]
    },
    {
      "cell_type": "code",
      "metadata": {
        "id": "oXTkEpoF2c-4",
        "colab": {
          "base_uri": "https://localhost:8080/",
          "height": 90
        },
        "outputId": "22899dd9-481b-4d23-b20e-2c7e8fdfc15d"
      },
      "source": [
        "'''Escape characters represent characters in string values that would otherwise be difficult or impossible to type into code\n",
        "The backslash \"\\\" is known as the escape character,\n",
        "To insert characters that are illegal in a string, use an escape character.\n",
        "An escape character is a backslash \\ followed by the character you want to insert.\n",
        "'''"
      ],
      "execution_count": 1,
      "outputs": [
        {
          "output_type": "execute_result",
          "data": {
            "application/vnd.google.colaboratory.intrinsic+json": {
              "type": "string"
            },
            "text/plain": [
              "'Escape characters represent characters in string values that would otherwise be difficult or impossible to type into code\\nThe backslash \"\" is known as the escape character,\\nTo insert characters that are illegal in a string, use an escape character.\\nAn escape character is a backslash \\\\ followed by the character you want to insert.\\n'"
            ]
          },
          "metadata": {
            "tags": []
          },
          "execution_count": 1
        }
      ]
    },
    {
      "cell_type": "code",
      "metadata": {
        "colab": {
          "base_uri": "https://localhost:8080/",
          "height": 134
        },
        "id": "9Ay_eRS3zyFs",
        "outputId": "1a8e876a-4f48-4910-c0d7-5d0fddb376e9"
      },
      "source": [
        "txt = \"We are the so-called \"Vikings\" from the north.\"\n",
        "print(txt)"
      ],
      "execution_count": null,
      "outputs": [
        {
          "output_type": "error",
          "ename": "SyntaxError",
          "evalue": "ignored",
          "traceback": [
            "\u001b[0;36m  File \u001b[0;32m\"<ipython-input-13-485014d8dfdf>\"\u001b[0;36m, line \u001b[0;32m1\u001b[0m\n\u001b[0;31m    txt = \"We are the so-called \"Vikings\" from the north.\"\u001b[0m\n\u001b[0m                                       ^\u001b[0m\n\u001b[0;31mSyntaxError\u001b[0m\u001b[0;31m:\u001b[0m invalid syntax\n"
          ]
        }
      ]
    },
    {
      "cell_type": "code",
      "metadata": {
        "id": "ipfoTAEZz-o1"
      },
      "source": [
        "txt2= \"We are the so-called \\\"Vikings\\\" from the north.\"    # example of escape character using backslash\n",
        "print(txt2)"
      ],
      "execution_count": null,
      "outputs": []
    },
    {
      "cell_type": "code",
      "metadata": {
        "id": "dMUMxirJ2dXw"
      },
      "source": [
        "'''2. What do the escape characters n and t stand for?'''"
      ],
      "execution_count": null,
      "outputs": []
    },
    {
      "cell_type": "code",
      "metadata": {
        "id": "CRMknZ-c2dvl"
      },
      "source": [
        "'''\n",
        "'\\t'- this stands for \"a tab\" - used in csv, tsv files.\n",
        "'\\n'- this stands for \"a new line\" - generally use in print command or paragraph \n",
        "'\\r' is a carriage return\n",
        "'''"
      ],
      "execution_count": null,
      "outputs": []
    },
    {
      "cell_type": "code",
      "metadata": {
        "colab": {
          "base_uri": "https://localhost:8080/",
          "height": 36
        },
        "id": "rbi0fRGm2d41",
        "outputId": "97d195c1-f1c0-499f-c2cb-ee99eabfcaa3"
      },
      "source": [
        "'''3. What is the way to include backslash characters in a string?'''"
      ],
      "execution_count": null,
      "outputs": [
        {
          "output_type": "execute_result",
          "data": {
            "application/vnd.google.colaboratory.intrinsic+json": {
              "type": "string"
            },
            "text/plain": [
              "'3. What is the way to include backslash characters in a string?'"
            ]
          },
          "metadata": {
            "tags": []
          },
          "execution_count": 2
        }
      ]
    },
    {
      "cell_type": "code",
      "metadata": {
        "id": "1RRo6NeD2eBr"
      },
      "source": [
        "\"The \\\\ escape character will represent a backslash character.\"\""
      ],
      "execution_count": null,
      "outputs": []
    },
    {
      "cell_type": "code",
      "metadata": {
        "id": "C4iGOsPb2eKk"
      },
      "source": [
        "'''4. The string \"Howl's Moving Castle\" is a correct value. Why isn't the single quote character in the word Howl's not escaped a problem?'''"
      ],
      "execution_count": null,
      "outputs": []
    },
    {
      "cell_type": "code",
      "metadata": {
        "id": "Sp2oyPnf2eR3"
      },
      "source": [
        "string= \"Howl's Moving Castle\" \n",
        "\n",
        "'''Because single quote are already used in the string \"Howl's Moving Castle\" so you've to used double quotes to mark the beginning and end of the string.\n",
        "If string is too long and include single and double quote then we use triple quote as used in explaing this. ''' "
      ],
      "execution_count": null,
      "outputs": []
    },
    {
      "cell_type": "code",
      "metadata": {
        "id": "88cuR8Pa2eXy"
      },
      "source": [
        "'''5. How do you write a string of newlines if you don't want to use the n character?'''"
      ],
      "execution_count": null,
      "outputs": []
    },
    {
      "cell_type": "code",
      "metadata": {
        "id": "di3iG4u62edu",
        "colab": {
          "base_uri": "https://localhost:8080/"
        },
        "outputId": "2924fd82-8ee1-41b6-a297-0651fec2244c"
      },
      "source": [
        "\"Multiline strings allow you to use newlines in strings without the \\n escape character.\"\n",
        "string = '''I am Gourav \n",
        "done b.tech \n",
        "from Delhi\n",
        "'''\n",
        "print(string)"
      ],
      "execution_count": null,
      "outputs": [
        {
          "output_type": "stream",
          "text": [
            "I am Gourav \n",
            "done b.tech \n",
            "from Delhi\n",
            "\n"
          ],
          "name": "stdout"
        }
      ]
    },
    {
      "cell_type": "code",
      "metadata": {
        "colab": {
          "base_uri": "https://localhost:8080/",
          "height": 36
        },
        "id": "4WUkx0J02ei_",
        "outputId": "2647d324-afb1-4367-ffaf-cc03f426ad5f"
      },
      "source": [
        "'''6. What are the values of the given expressions?'''"
      ],
      "execution_count": null,
      "outputs": [
        {
          "output_type": "execute_result",
          "data": {
            "application/vnd.google.colaboratory.intrinsic+json": {
              "type": "string"
            },
            "text/plain": [
              "'6. What are the values of the given expressions?'"
            ]
          },
          "metadata": {
            "tags": []
          },
          "execution_count": 3
        }
      ]
    },
    {
      "cell_type": "code",
      "metadata": {
        "colab": {
          "base_uri": "https://localhost:8080/",
          "height": 36
        },
        "id": "UxEJbz3A2qBZ",
        "outputId": "da696875-5e77-4050-9bb6-a22f60cf27f5"
      },
      "source": [
        "'Hello, world!'[1]    # it will print from 1 to end and it starts counting from 0"
      ],
      "execution_count": null,
      "outputs": [
        {
          "output_type": "execute_result",
          "data": {
            "application/vnd.google.colaboratory.intrinsic+json": {
              "type": "string"
            },
            "text/plain": [
              "'lo, world!'"
            ]
          },
          "metadata": {
            "tags": []
          },
          "execution_count": 4
        }
      ]
    },
    {
      "cell_type": "code",
      "metadata": {
        "colab": {
          "base_uri": "https://localhost:8080/",
          "height": 36
        },
        "id": "tl7kGnHt2q2C",
        "outputId": "e28eecb6-12cb-40a4-c425-2f03ac5a6602"
      },
      "source": [
        "'Hello, world!'[0:5]   # [start: end (one index before end): step size]"
      ],
      "execution_count": null,
      "outputs": [
        {
          "output_type": "execute_result",
          "data": {
            "application/vnd.google.colaboratory.intrinsic+json": {
              "type": "string"
            },
            "text/plain": [
              "'Hello'"
            ]
          },
          "metadata": {
            "tags": []
          },
          "execution_count": 5
        }
      ]
    },
    {
      "cell_type": "code",
      "metadata": {
        "colab": {
          "base_uri": "https://localhost:8080/",
          "height": 36
        },
        "id": "sYwakFFd2uR0",
        "outputId": "a4cc223a-68ff-4f25-fb2e-d35878654891"
      },
      "source": [
        "'Hello, world!'[:5]    # till one index 5"
      ],
      "execution_count": 2,
      "outputs": [
        {
          "output_type": "execute_result",
          "data": {
            "application/vnd.google.colaboratory.intrinsic+json": {
              "type": "string"
            },
            "text/plain": [
              "'Hello'"
            ]
          },
          "metadata": {
            "tags": []
          },
          "execution_count": 2
        }
      ]
    },
    {
      "cell_type": "code",
      "metadata": {
        "colab": {
          "base_uri": "https://localhost:8080/",
          "height": 36
        },
        "id": "I-0g2C1P2vRU",
        "outputId": "0361a962-3546-4af3-a40c-a560c3ef2718"
      },
      "source": [
        "'Hello, world!'[3:]     # start from index 3 till end "
      ],
      "execution_count": null,
      "outputs": [
        {
          "output_type": "execute_result",
          "data": {
            "application/vnd.google.colaboratory.intrinsic+json": {
              "type": "string"
            },
            "text/plain": [
              "'lo, world!'"
            ]
          },
          "metadata": {
            "tags": []
          },
          "execution_count": 7
        }
      ]
    },
    {
      "cell_type": "code",
      "metadata": {
        "id": "4E8ZIqo62vlg"
      },
      "source": [
        "'''7. What are the values of the following expressions? '''"
      ],
      "execution_count": null,
      "outputs": []
    },
    {
      "cell_type": "code",
      "metadata": {
        "colab": {
          "base_uri": "https://localhost:8080/"
        },
        "id": "BG41KAYA21L7",
        "outputId": "546e1071-75da-43e6-d43f-01f97b45dc6b"
      },
      "source": [
        "print('Hello'.upper())"
      ],
      "execution_count": 6,
      "outputs": [
        {
          "output_type": "stream",
          "text": [
            "HELLO\n"
          ],
          "name": "stdout"
        }
      ]
    },
    {
      "cell_type": "code",
      "metadata": {
        "colab": {
          "base_uri": "https://localhost:8080/"
        },
        "id": "2DqJWy8522SV",
        "outputId": "05b9b5e9-95cb-4315-fc90-0a099b70020a"
      },
      "source": [
        "'Hello'.upper().isupper()   # This is \"True\" because Hello.upper is upper. "
      ],
      "execution_count": 7,
      "outputs": [
        {
          "output_type": "execute_result",
          "data": {
            "text/plain": [
              "True"
            ]
          },
          "metadata": {
            "tags": []
          },
          "execution_count": 7
        }
      ]
    },
    {
      "cell_type": "code",
      "metadata": {
        "colab": {
          "base_uri": "https://localhost:8080/"
        },
        "id": "k3eu7_Gs27Ns",
        "outputId": "a83a065b-de7f-4e1d-8049-5a03a74dbb2f"
      },
      "source": [
        "'Hello'.isupper()"
      ],
      "execution_count": 8,
      "outputs": [
        {
          "output_type": "execute_result",
          "data": {
            "text/plain": [
              "False"
            ]
          },
          "metadata": {
            "tags": []
          },
          "execution_count": 8
        }
      ]
    },
    {
      "cell_type": "code",
      "metadata": {
        "colab": {
          "base_uri": "https://localhost:8080/",
          "height": 36
        },
        "id": "JTivqmxB23J9",
        "outputId": "a70bdc52-abee-4ef9-fd2c-b3db3de0c35c"
      },
      "source": [
        "'Hello'.lower()"
      ],
      "execution_count": 9,
      "outputs": [
        {
          "output_type": "execute_result",
          "data": {
            "application/vnd.google.colaboratory.intrinsic+json": {
              "type": "string"
            },
            "text/plain": [
              "'hello'"
            ]
          },
          "metadata": {
            "tags": []
          },
          "execution_count": 9
        }
      ]
    },
    {
      "cell_type": "code",
      "metadata": {
        "colab": {
          "base_uri": "https://localhost:8080/",
          "height": 36
        },
        "id": "ni7dCRBD23fW",
        "outputId": "e63748a8-9d29-415d-b305-8e3d61596288"
      },
      "source": [
        "'''8. What are the values of the following expressions?'''"
      ],
      "execution_count": null,
      "outputs": [
        {
          "output_type": "execute_result",
          "data": {
            "application/vnd.google.colaboratory.intrinsic+json": {
              "type": "string"
            },
            "text/plain": [
              "'8. What are the values of the following expressions?'"
            ]
          },
          "metadata": {
            "tags": []
          },
          "execution_count": 13
        }
      ]
    },
    {
      "cell_type": "code",
      "metadata": {
        "colab": {
          "base_uri": "https://localhost:8080/"
        },
        "id": "9M0nJ1md3Hfn",
        "outputId": "d5df4a6a-c303-4125-ef0b-788004ddb47f"
      },
      "source": [
        "a= 'Remember, remember, the fifth of July.'\n",
        "a= 'Remember, remember, the fifth of July.'.split()\n",
        "a"
      ],
      "execution_count": 10,
      "outputs": [
        {
          "output_type": "execute_result",
          "data": {
            "text/plain": [
              "['Remember,', 'remember,', 'the', 'fifth', 'of', 'July.']"
            ]
          },
          "metadata": {
            "tags": []
          },
          "execution_count": 10
        }
      ]
    },
    {
      "cell_type": "code",
      "metadata": {
        "colab": {
          "base_uri": "https://localhost:8080/",
          "height": 36
        },
        "id": "XCZvAHwF3SdF",
        "outputId": "2ba082f3-1b57-45b8-9f38-ba7d055f767f"
      },
      "source": [
        "'-'.join('There can only one.'.split())   # split the text and joined - with every words"
      ],
      "execution_count": 17,
      "outputs": [
        {
          "output_type": "execute_result",
          "data": {
            "application/vnd.google.colaboratory.intrinsic+json": {
              "type": "string"
            },
            "text/plain": [
              "'There-can-only-one.'"
            ]
          },
          "metadata": {
            "tags": []
          },
          "execution_count": 17
        }
      ]
    },
    {
      "cell_type": "code",
      "metadata": {
        "colab": {
          "base_uri": "https://localhost:8080/",
          "height": 36
        },
        "id": "jttglA7o3ni7",
        "outputId": "51d23fed-2147-4572-b667-8f5d3674df8c"
      },
      "source": [
        "'''9. What are the methods for right-justifying, left-justifying, and centering a string?'''"
      ],
      "execution_count": null,
      "outputs": [
        {
          "output_type": "execute_result",
          "data": {
            "application/vnd.google.colaboratory.intrinsic+json": {
              "type": "string"
            },
            "text/plain": [
              "'9. What are the methods for right-justifying, left-justifying, and centering a string?'"
            ]
          },
          "metadata": {
            "tags": []
          },
          "execution_count": 21
        }
      ]
    },
    {
      "cell_type": "code",
      "metadata": {
        "id": "1WFozD023rdg",
        "colab": {
          "base_uri": "https://localhost:8080/"
        },
        "outputId": "0813f885-dc5c-4488-c713-4d182f9df135"
      },
      "source": [
        "'''center( len, fillchr )\n",
        "ljust(), rjust(),center()\n",
        "\n",
        "len : The width of string to expand it.\n",
        "fillchr (optional): The character to fill in remaining space.'''\n",
        "\n",
        "string = \"Gourav\"\n",
        "print(string.center(10))      # made 10 space and then adjusted the word in center \n",
        "# made 10 space and then adjusted the word to left and insert @ to remaining spaces\n",
        "print(string.ljust(10, '@'))  \n",
        "# made 10 space and then adjusted the word to right and insert @ to remaining spaces\n",
        "print(string.rjust(10, '@'))  \n",
        "\n",
        "# input - Full Stack Data Scince course by Ineuron - for reference"
      ],
      "execution_count": 18,
      "outputs": [
        {
          "output_type": "stream",
          "text": [
            "  Gourav  \n",
            "Gourav@@@@\n",
            "@@@@Gourav\n"
          ],
          "name": "stdout"
        }
      ]
    },
    {
      "cell_type": "code",
      "metadata": {
        "colab": {
          "base_uri": "https://localhost:8080/",
          "height": 36
        },
        "id": "Eq8Tjd0n3r0S",
        "outputId": "5f42ab7b-82ad-4b28-ea52-5f386cba1f02"
      },
      "source": [
        "'''10. What is the best way to remove whitespace characters from the start or end?'''"
      ],
      "execution_count": null,
      "outputs": [
        {
          "output_type": "execute_result",
          "data": {
            "application/vnd.google.colaboratory.intrinsic+json": {
              "type": "string"
            },
            "text/plain": [
              "'10. What is the best way to remove whitespace characters from the start or end?'"
            ]
          },
          "metadata": {
            "tags": []
          },
          "execution_count": 22
        }
      ]
    },
    {
      "cell_type": "code",
      "metadata": {
        "id": "QYbAYuHH3r9r",
        "colab": {
          "base_uri": "https://localhost:8080/"
        },
        "outputId": "8c579b7d-adf6-4468-cb3c-c1c6c10e0700"
      },
      "source": [
        "l=\" Gourav Rishi \"\n",
        "print(l.strip())      # removed all whitespces from left and right"
      ],
      "execution_count": null,
      "outputs": [
        {
          "output_type": "stream",
          "text": [
            "Gourav Rishi\n"
          ],
          "name": "stdout"
        }
      ]
    }
  ]
}