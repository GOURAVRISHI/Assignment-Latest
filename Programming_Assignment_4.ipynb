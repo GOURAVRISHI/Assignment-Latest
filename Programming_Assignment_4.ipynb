{
  "nbformat": 4,
  "nbformat_minor": 0,
  "metadata": {
    "colab": {
      "name": "Programming Assignment- 4.ipynb",
      "provenance": [],
      "collapsed_sections": []
    },
    "kernelspec": {
      "name": "python3",
      "display_name": "Python 3"
    },
    "language_info": {
      "name": "python"
    }
  },
  "cells": [
    {
      "cell_type": "code",
      "metadata": {
        "id": "5e94laf81kpn"
      },
      "source": [
        "# 1. Write a Python Program to Find the Factorial of a Number?"
      ],
      "execution_count": null,
      "outputs": []
    },
    {
      "cell_type": "code",
      "metadata": {
        "colab": {
          "base_uri": "https://localhost:8080/"
        },
        "id": "ZhutI_Ug11lh",
        "outputId": "8b10ec84-4646-4097-ee4f-1d15eefc5b0b"
      },
      "source": [
        "num= int(input(\"Enter a number: \"))\n",
        "\n",
        "fact= 1\n",
        "if num>0:\n",
        "  for i in range(1, num+1):\n",
        "    fact=fact*i\n",
        "  print(\"Factorial of {0} is {1}\".format(i, fact))\n",
        "else:\n",
        "  print(\"Enter a positive integer!\")"
      ],
      "execution_count": 12,
      "outputs": [
        {
          "output_type": "stream",
          "text": [
            "Enter a number: 7\n",
            "Factorial of 7 is 5040\n"
          ],
          "name": "stdout"
        }
      ]
    },
    {
      "cell_type": "code",
      "metadata": {
        "id": "ClKX7qOu1vif"
      },
      "source": [
        "# 2. Write a Python Program to Display the multiplication Table?"
      ],
      "execution_count": null,
      "outputs": []
    },
    {
      "cell_type": "code",
      "metadata": {
        "colab": {
          "base_uri": "https://localhost:8080/"
        },
        "id": "KP4LShEH12Fc",
        "outputId": "9be10b68-97b7-49ed-9db5-35eda346905c"
      },
      "source": [
        "num= int(input(\"Enter the value of number: \"))\n",
        "if num>0:\n",
        "  for i in range(1,11):\n",
        "     ans = num*i\n",
        "     print(\"{0} x {1}= {2}\".format(num, i, ans))"
      ],
      "execution_count": null,
      "outputs": [
        {
          "output_type": "stream",
          "text": [
            "Enter the value of number: 12\n",
            "12 x 1= 12\n",
            "12 x 2= 24\n",
            "12 x 3= 36\n",
            "12 x 4= 48\n",
            "12 x 5= 60\n",
            "12 x 6= 72\n",
            "12 x 7= 84\n",
            "12 x 8= 96\n",
            "12 x 9= 108\n",
            "12 x 10= 120\n"
          ],
          "name": "stdout"
        }
      ]
    },
    {
      "cell_type": "code",
      "metadata": {
        "id": "tImUJzsV1wyf"
      },
      "source": [
        "# 3. Write a Python Program to Print the Fibonacci sequence?"
      ],
      "execution_count": null,
      "outputs": []
    },
    {
      "cell_type": "code",
      "metadata": {
        "id": "oBf8jYHs12br",
        "colab": {
          "base_uri": "https://localhost:8080/"
        },
        "outputId": "294d8b4f-b351-45cb-aa76-ed5708ad74a0"
      },
      "source": [
        "num=int(input(\"Enter the number: \"))\n",
        "\n",
        "num1, num2=0, 1 \n",
        "count =0\n",
        "if num<=0:\n",
        "  print(\"Enter a positive integer number!!\")\n",
        "elif num ==0:\n",
        "  print(\"Fibonacci sequence upto\",num,\":\")\n",
        "  print(num1)\n",
        "else:\n",
        "  print(\"Fibonacci Sequence: \")\n",
        "  while count<num:\n",
        "    print(num1)\n",
        "    sum= num1+num2\n",
        "    num1=num2\n",
        "    num2=sum\n",
        "    count +=1"
      ],
      "execution_count": null,
      "outputs": [
        {
          "output_type": "stream",
          "text": [
            "Enter the number: 6\n",
            "Fibonacci Sequence: \n",
            "0\n",
            "1\n",
            "1\n",
            "2\n",
            "3\n",
            "5\n"
          ],
          "name": "stdout"
        }
      ]
    },
    {
      "cell_type": "code",
      "metadata": {
        "id": "9wTX32I41x6e"
      },
      "source": [
        "# 4. Write a Python Program to Check Armstrong Number?"
      ],
      "execution_count": null,
      "outputs": []
    },
    {
      "cell_type": "code",
      "metadata": {
        "id": "o-YQtAzc12yM",
        "colab": {
          "base_uri": "https://localhost:8080/"
        },
        "outputId": "8c2b3583-edb4-4d7f-e8e8-ff8e96ec8d16"
      },
      "source": [
        "num = int(input(\"Enter a number: \"))  \n",
        "total = 0  \n",
        "temp = num  \n",
        "      \n",
        "while temp > 0:  \n",
        "  digits = temp % 10  \n",
        "  total += digits ** 3  \n",
        "  temp //= 10  \n",
        "      \n",
        "if num == total:  \n",
        "  print(\"{0} is an Armstrong number\".format(num))  \n",
        "else:  \n",
        "  print(\"{}is not an Armstrong number\".format(num))  "
      ],
      "execution_count": 28,
      "outputs": [
        {
          "output_type": "stream",
          "text": [
            "Enter a number: 153\n",
            "153 is an Armstrong number\n"
          ],
          "name": "stdout"
        }
      ]
    },
    {
      "cell_type": "code",
      "metadata": {
        "id": "SjTTDVX_1yn6",
        "colab": {
          "base_uri": "https://localhost:8080/"
        },
        "outputId": "3e1c840b-5e5c-4cd4-aa89-fe26b7218803"
      },
      "source": [
        "3# 5. Write a Python Program to Find Armstrong Number in an Interval?"
      ],
      "execution_count": 29,
      "outputs": [
        {
          "output_type": "execute_result",
          "data": {
            "text/plain": [
              "3"
            ]
          },
          "metadata": {
            "tags": []
          },
          "execution_count": 29
        }
      ]
    },
    {
      "cell_type": "code",
      "metadata": {
        "id": "zAgu2HaH13H_",
        "colab": {
          "base_uri": "https://localhost:8080/"
        },
        "outputId": "db6c594d-2b2a-4d21-cb97-f84214a72ba6"
      },
      "source": [
        "start = int(input(\"Enter lower range: \"))\n",
        "till = int(input(\"Enter upper range: \"))\n",
        "for i in range(start, till + 1):\n",
        "    num = len(str(i))\n",
        "    sum, temp = 0, i\n",
        "  \n",
        "    while temp > 0:\n",
        "      digits = temp % 10\n",
        "      sum += digits ** num \n",
        "      temp //= 10\n",
        "    \n",
        "    if i == sum:\n",
        "      print(i)"
      ],
      "execution_count": 33,
      "outputs": [
        {
          "output_type": "stream",
          "text": [
            "Enter lower range: 1\n",
            "Enter upper range: 1500\n",
            "1\n",
            "2\n",
            "3\n",
            "4\n",
            "5\n",
            "6\n",
            "7\n",
            "8\n",
            "9\n",
            "153\n",
            "370\n",
            "371\n",
            "407\n"
          ],
          "name": "stdout"
        }
      ]
    },
    {
      "cell_type": "code",
      "metadata": {
        "id": "pdtn7FVU10FM"
      },
      "source": [
        "11# 6. Write a Python Program to Find the Sum of Natural Numbers?"
      ],
      "execution_count": null,
      "outputs": []
    },
    {
      "cell_type": "code",
      "metadata": {
        "colab": {
          "base_uri": "https://localhost:8080/"
        },
        "id": "QRy94LH110wZ",
        "outputId": "566c40fd-8f14-4bd3-a82c-57f8a20a3e97"
      },
      "source": [
        "num= int(input(\"Enter a Number: \"))\n",
        "sum = 0\n",
        "\n",
        "for i in range(1, num + 1):\n",
        "    sum = sum + i\n",
        "\n",
        "print(\"The Sum of {0} Natural Numbers is = {1}\".format(num, sum))"
      ],
      "execution_count": 24,
      "outputs": [
        {
          "output_type": "stream",
          "text": [
            "Enter a Number: 5\n",
            "The Sum of 5 Natural Numbers is = 15\n"
          ],
          "name": "stdout"
        }
      ]
    },
    {
      "cell_type": "code",
      "metadata": {
        "id": "5OYOqFnDqlTW"
      },
      "source": [
        ""
      ],
      "execution_count": null,
      "outputs": []
    }
  ]
}