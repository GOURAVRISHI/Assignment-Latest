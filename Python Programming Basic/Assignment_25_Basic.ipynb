{
  "nbformat": 4,
  "nbformat_minor": 0,
  "metadata": {
    "colab": {
      "name": "Assignment_25_Basic.ipynb",
      "provenance": [],
      "collapsed_sections": []
    },
    "kernelspec": {
      "name": "python3",
      "display_name": "Python 3"
    },
    "language_info": {
      "name": "python"
    }
  },
  "cells": [
    {
      "cell_type": "code",
      "execution_count": null,
      "metadata": {
        "id": "uONIypIhs1WN"
      },
      "outputs": [],
      "source": [
        ""
      ]
    },
    {
      "cell_type": "markdown",
      "source": [
        "1.Create a function that takes three integer arguments (a, b, c) and returns the amount of integers which are of equal value.\n",
        "\n",
        "Examples:\n",
        "- equal(3, 4, 3) ➞ 2\n",
        "- equal(1, 1, 1) ➞ 3\n",
        "- equal(3, 4, 1) ➞ 0\n",
        "\n",
        "###  Notes:\n",
        "Your function must return 0, 2 or 3."
      ],
      "metadata": {
        "id": "VJL7svefs8D5"
      }
    },
    {
      "cell_type": "code",
      "source": [
        "def equal(a,b,c):\n",
        "    num = 0\n",
        "    if a == b and a == c :\n",
        "        num = 3\n",
        "    elif a == b or a == c :\n",
        "        num = 2\n",
        "    else:\n",
        "        num = 0\n",
        "    return num\n",
        "\n",
        "print(equal(3, 4, 3))\n",
        "print(equal(1, 1, 1))\n",
        "print(equal(3, 4, 1))"
      ],
      "metadata": {
        "colab": {
          "base_uri": "https://localhost:8080/"
        },
        "id": "-cip-C0OtAhm",
        "outputId": "854a8d5f-2cf9-4f4a-eb36-fde09c08cd7c"
      },
      "execution_count": 6,
      "outputs": [
        {
          "output_type": "stream",
          "name": "stdout",
          "text": [
            "2\n",
            "3\n",
            "0\n"
          ]
        }
      ]
    },
    {
      "cell_type": "markdown",
      "source": [
        "2.Write a function that converts a dictionary into a list of keys-values tuples.\n",
        "\n",
        "Examples:\n",
        "- dict_to_list({\n",
        "    \"D\": 1,\n",
        "    \"B\": 2,\n",
        "    \"C\": 3\n",
        "    }) ➞ [(\"B\", 2), (\"C\", 3), (\"D\", 1)]  \n",
        "\n",
        "- dict_to_list({\n",
        "    \"likes\": 2,\n",
        "    \"dislikes\": 3,\n",
        "    \"followers\": 10\n",
        "    }) ➞ [(\"dislikes\", 3), (\"followers\", 10), (\"likes\", 2)]\n",
        "\n",
        "### Notes:\n",
        "Return the elements in the list in alphabetical order."
      ],
      "metadata": {
        "id": "qlk6LaROtaR4"
      }
    },
    {
      "cell_type": "code",
      "source": [
        "def dict_to_list(d):\n",
        "    return list(d.items())\n",
        "                   \n",
        "print(sorted(dict_to_list({\"D\": 1,\"B\": 2,\"C\": 3})))\n",
        "print(sorted(dict_to_list({\"likes\": 2,\"dislikes\": 3,\"followers\": 10})))"
      ],
      "metadata": {
        "colab": {
          "base_uri": "https://localhost:8080/"
        },
        "id": "QlblZLPJtdIO",
        "outputId": "31aec01b-2344-4210-f09e-ec173b58916a"
      },
      "execution_count": 11,
      "outputs": [
        {
          "output_type": "stream",
          "name": "stdout",
          "text": [
            "[('B', 2), ('C', 3), ('D', 1)]\n",
            "[('dislikes', 3), ('followers', 10), ('likes', 2)]\n"
          ]
        }
      ]
    },
    {
      "cell_type": "markdown",
      "source": [
        "3.Write a function that creates a dictionary with each (key, value) pair being the (lower case, upper case) versions of a letter, respectively.\n",
        "\n",
        "Examples:\n",
        "- mapping([\"p\", \"s\"]) ➞ { \"p\": \"P\", \"s\": \"S\" }\n",
        "- mapping([\"a\", \"b\", \"c\"]) ➞ { \"a\": \"A\", \"b\": \"B\", \"c\": \"C\" }\n",
        "- mapping([\"a\", \"v\", \"y\", \"z\"]) ➞ { \"a\": \"A\", \"v\": \"V\", \"y\": \"Y\", \"z\": \"Z\" }\n",
        "\n",
        "### Notes:\n",
        "All of the letters in the input list will always be lowercase."
      ],
      "metadata": {
        "id": "tSqnOx2bvkWJ"
      }
    },
    {
      "cell_type": "code",
      "source": [
        "def mapping(lst):\n",
        "    output = {}\n",
        "    for ele in lst:\n",
        "        output[ele] = ele.upper()\n",
        "    print(f'{lst} ➞ {output}')\n",
        "    \n",
        "mapping([\"p\", \"s\"])\n",
        "mapping([\"a\", \"b\", \"c\"])\n",
        "mapping([\"a\", \"v\", \"y\", \"z\"])"
      ],
      "metadata": {
        "colab": {
          "base_uri": "https://localhost:8080/"
        },
        "id": "4BdmG-KfvkgI",
        "outputId": "d3f3f77b-4f79-4e43-ae57-f5a950a78e8b"
      },
      "execution_count": 12,
      "outputs": [
        {
          "output_type": "stream",
          "name": "stdout",
          "text": [
            "['p', 's'] ➞ {'p': 'P', 's': 'S'}\n",
            "['a', 'b', 'c'] ➞ {'a': 'A', 'b': 'B', 'c': 'C'}\n",
            "['a', 'v', 'y', 'z'] ➞ {'a': 'A', 'v': 'V', 'y': 'Y', 'z': 'Z'}\n"
          ]
        }
      ]
    },
    {
      "cell_type": "markdown",
      "source": [
        "4.Write a function, that replaces all vowels in a string with a specified vowel.\n",
        "\n",
        "Examples:\n",
        "- vow_replace(\"apples and bananas\", \"u\") ➞ \"upplus und bununus\"\n",
        "- vow_replace(\"cheese casserole\", \"o\") ➞ \"chooso cossorolo\"\n",
        "- vow_replace(\"stuffed jalapeno poppers\", \"e\") ➞ \"steffed jelepene peppers\"\n",
        "\n",
        "### Notes:\n",
        "All words will be lowercase. Y is not considered a vowel."
      ],
      "metadata": {
        "id": "az9J7F_ov26G"
      }
    },
    {
      "cell_type": "code",
      "source": [
        "def replace_vowel(string, vowel):\n",
        "    vowels = ['a','e','i','o','u']\n",
        "    output = ''\n",
        "    for ele in string:\n",
        "        if ele in vowels:\n",
        "            output += vowel\n",
        "        else:\n",
        "            output += ele\n",
        "    print(f'{string} ➞ {output}')\n",
        "        \n",
        "replace_vowel(\"apples and bananas\", \"u\")\n",
        "replace_vowel(\"cheese casserole\", \"o\")\n",
        "replace_vowel(\"stuffed jalapeno poppers\", \"e\")"
      ],
      "metadata": {
        "colab": {
          "base_uri": "https://localhost:8080/"
        },
        "id": "YlJg5-bHv5bs",
        "outputId": "7941bca9-e746-4884-d844-c5401a21b882"
      },
      "execution_count": 13,
      "outputs": [
        {
          "output_type": "stream",
          "name": "stdout",
          "text": [
            "apples and bananas ➞ upplus und bununus\n",
            "cheese casserole ➞ chooso cossorolo\n",
            "stuffed jalapeno poppers ➞ steffed jelepene peppers\n"
          ]
        }
      ]
    },
    {
      "cell_type": "markdown",
      "source": [
        "5.Create a function that takes a string as input and capitalizes a letter if its ASCII code is even and returns its lower case version if its ASCII code is odd.\n",
        "\n",
        "Examples:\n",
        "- ascii_capitalize(\"to be or not to be!\") ➞ \"To Be oR NoT To Be!\"\n",
        "- ascii_capitalize(\"THE LITTLE MERMAID\") ➞ \"THe LiTTLe meRmaiD\"\n",
        "- ascii_capitalize(\"Oh what a beautiful morning.\") ➞ \"oH wHaT a BeauTiFuL moRNiNg.\""
      ],
      "metadata": {
        "id": "ZIxTmQjxwfqf"
      }
    },
    {
      "cell_type": "code",
      "source": [
        "def ascii_capitalize(string):\n",
        "    output = ''\n",
        "    for ele in string.lower():\n",
        "        if (ord(ele)%2 == 0):\n",
        "            output += ele.upper()\n",
        "        else:\n",
        "            output += ele\n",
        "    print(f'{string} ➞ {output}')\n",
        "        \n",
        "ascii_capitalize(\"to be or not to be!\")\n",
        "ascii_capitalize(\"THE LITTLE MERMAID\")\n",
        "ascii_capitalize(\"Oh what a beautiful morning.\")"
      ],
      "metadata": {
        "colab": {
          "base_uri": "https://localhost:8080/"
        },
        "id": "tgnpron3wijU",
        "outputId": "7c6a862a-ff95-4a32-8857-b822d09e3cbb"
      },
      "execution_count": 14,
      "outputs": [
        {
          "output_type": "stream",
          "name": "stdout",
          "text": [
            "to be or not to be! ➞ To Be oR NoT To Be!\n",
            "THE LITTLE MERMAID ➞ THe LiTTLe meRmaiD\n",
            "Oh what a beautiful morning. ➞ oH wHaT a BeauTiFuL moRNiNg.\n"
          ]
        }
      ]
    },
    {
      "cell_type": "code",
      "source": [
        ""
      ],
      "metadata": {
        "id": "tmTCOfsWwwNX"
      },
      "execution_count": null,
      "outputs": []
    }
  ]
}