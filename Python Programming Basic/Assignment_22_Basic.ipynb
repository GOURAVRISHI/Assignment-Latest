{
  "nbformat": 4,
  "nbformat_minor": 0,
  "metadata": {
    "colab": {
      "name": "Assignment_22_Basic.ipynb",
      "provenance": [],
      "collapsed_sections": []
    },
    "kernelspec": {
      "name": "python3",
      "display_name": "Python 3"
    },
    "language_info": {
      "name": "python"
    }
  },
  "cells": [
    {
      "cell_type": "code",
      "execution_count": null,
      "metadata": {
        "id": "AhzN9JB0iZjN"
      },
      "outputs": [],
      "source": [
        ""
      ]
    },
    {
      "cell_type": "markdown",
      "source": [
        "Question1\n",
        "Create a function that takes three parameters where:\n",
        "- x is the start of the range (inclusive).\n",
        "- y is the end of the range (inclusive).\n",
        "- n is the divisor to be checked against.\n",
        "\n",
        "Return an ordered list with numbers in the range that are divisible by the third parameter n.\n",
        "\n",
        "Return an empty list if there are no numbers that are divisible by n.\n",
        "Examples\n",
        "- list_operation(1, 10, 3) ➞ [3, 6, 9]\n",
        "- list_operation(7, 9, 2) ➞ [8]\n",
        "- list_operation(15, 20, 7) ➞ []"
      ],
      "metadata": {
        "id": "tovbNntTjAgA"
      }
    },
    {
      "cell_type": "code",
      "source": [
        "def list_operation(start,end,divisor):\n",
        "    out_list=[]\n",
        "    for i in range(start,end+1):\n",
        "        if i % divisor == 0:\n",
        "            out_list.append(i)\n",
        "    print(f'Output: ➞ {out_list}')\n",
        "\n",
        "list_operation(1, 10, 3)\n",
        "list_operation(7, 9, 2)\n",
        "list_operation(15, 20, 7)"
      ],
      "metadata": {
        "colab": {
          "base_uri": "https://localhost:8080/"
        },
        "id": "IjESVuB_jB7Y",
        "outputId": "8fb093b1-8e35-4226-dac0-17b34fca73ad"
      },
      "execution_count": 1,
      "outputs": [
        {
          "output_type": "stream",
          "name": "stdout",
          "text": [
            "Output: ➞ [3, 6, 9]\n",
            "Output: ➞ [8]\n",
            "Output: ➞ []\n"
          ]
        }
      ]
    },
    {
      "cell_type": "code",
      "source": [
        ""
      ],
      "metadata": {
        "id": "VVMDbAMsjibJ"
      },
      "execution_count": null,
      "outputs": []
    },
    {
      "cell_type": "markdown",
      "source": [
        "2.Create a function that takes in two lists and returns True if the second list follows the first list by one element, and False otherwise. In other words, determine if the second list is the first list shifted to the right by 1.\n",
        "\n",
        "Examples:\n",
        "- simon_says([1, 2], [5, 1]) ➞ True\n",
        "- simon_says([1, 2], [5, 5]) ➞ False\n",
        "- simon_says([1, 2, 3, 4, 5], [0, 1, 2, 3, 4]) ➞ True\n",
        "- simon_says([1, 2, 3, 4, 5], [5, 5, 1, 2, 3]) ➞ False\n",
        "\n",
        "\n",
        "Notes:\n",
        "\n",
        "1. Both input lists will be of the same length, and will have a minimum length of 2.  \n",
        "2. The values of the 0-indexed element in the second list and the n-1th indexed element in the first list do not matter."
      ],
      "metadata": {
        "id": "8h-ZEV33jnX5"
      }
    },
    {
      "cell_type": "code",
      "source": [
        "def simon_says(list_1, list_2):\n",
        "    if len(list_1) == len(list_1) and len(list_1) >=2 and len(list_1) >=2:\n",
        "        if(list_1[:-1] == list_2[1:]):\n",
        "            print(f'{list_1,list_2} ➞ {True}')\n",
        "        else:\n",
        "            print(f'{list_1,list_2} ➞ {False}')\n",
        "            \n",
        "simon_says([1, 2], [5, 1])\n",
        "simon_says([1, 2], [5, 5])\n",
        "simon_says([1, 2, 3, 4, 5], [0, 1, 2, 3, 4])\n",
        "simon_says([1, 2, 3, 4, 5], [5, 5, 1, 2, 3])"
      ],
      "metadata": {
        "colab": {
          "base_uri": "https://localhost:8080/"
        },
        "id": "7OwtANmojnjW",
        "outputId": "ebba69d7-c2d0-4a3b-ea8a-2e00f1f2848b"
      },
      "execution_count": 3,
      "outputs": [
        {
          "output_type": "stream",
          "name": "stdout",
          "text": [
            "([1, 2], [5, 1]) ➞ True\n",
            "([1, 2], [5, 5]) ➞ False\n",
            "([1, 2, 3, 4, 5], [0, 1, 2, 3, 4]) ➞ True\n",
            "([1, 2, 3, 4, 5], [5, 5, 1, 2, 3]) ➞ False\n"
          ]
        }
      ]
    },
    {
      "cell_type": "code",
      "source": [
        ""
      ],
      "metadata": {
        "id": "_4x3DwEhj30H"
      },
      "execution_count": null,
      "outputs": []
    },
    {
      "cell_type": "markdown",
      "source": [
        "3.A group of friends have decided to start a secret society. The name will be the first letter of each of their names, sorted in a alphabetical order ? Create a function that takes in a list of names and returns the name of the secret society ?\n",
        "\n",
        "Examples:\n",
        "- society_name([\"Adam\", \"Sarah\", \"Malcolm\"]) ➞ \"AMS\"\n",
        "- society_name([\"Harry\", \"Newt\", \"Luna\", \"Cho\"]) ➞ \"CHLN\"\n",
        "- society_name([\"Phoebe\", \"Chandler\", \"Rachel\", \"Ross\", \"Monica\", \"Joey\"])"
      ],
      "metadata": {
        "id": "7kqnaQ0_kO5A"
      }
    },
    {
      "cell_type": "code",
      "source": [
        "def society_name(lst):\n",
        "    output = []\n",
        "    for ele in lst:\n",
        "        output.append(ele[0])\n",
        "    output = ''.join(sorted(output))\n",
        "    print(f'{lst} ➞ {output}')\n",
        "\n",
        "society_name([\"Adam\", \"Sarah\", \"Malcolm\"])\n",
        "society_name([\"Harry\", \"Newt\", \"Luna\", \"Cho\"])\n",
        "society_name([\"Phoebe\", \"Chandler\", \"Rachel\", \"Ross\", \"Monica\", \"Joey\"])"
      ],
      "metadata": {
        "colab": {
          "base_uri": "https://localhost:8080/"
        },
        "id": "vhB0raG4kRyb",
        "outputId": "6dad3b6a-a322-4392-dcfc-74043634d6d6"
      },
      "execution_count": 6,
      "outputs": [
        {
          "output_type": "stream",
          "name": "stdout",
          "text": [
            "['Adam', 'Sarah', 'Malcolm'] ➞ AMS\n",
            "['Harry', 'Newt', 'Luna', 'Cho'] ➞ CHLN\n",
            "['Phoebe', 'Chandler', 'Rachel', 'Ross', 'Monica', 'Joey'] ➞ CJMPRR\n"
          ]
        }
      ]
    },
    {
      "cell_type": "code",
      "source": [
        ""
      ],
      "metadata": {
        "id": "GZ0xpiCNke8V"
      },
      "execution_count": null,
      "outputs": []
    },
    {
      "cell_type": "markdown",
      "source": [
        "4.An isogram is a word that has no duplicate letters. Create a function that takes a string and returns either True or False depending on whether or not it's an \"isogram\".\n",
        "\n",
        "Examples:\n",
        "- is_isogram(\"Algorism\") ➞ True\n",
        "- is_isogram(\"PasSword\") ➞ False\n",
        "\n",
        "### Not case sensitive.   \n",
        "- is_isogram(\"Consecutive\") ➞ False\n",
        "\n",
        "### Notes:\n",
        "Ignore letter case (should not be case sensitive).\n",
        "All test cases contain valid one word strings."
      ],
      "metadata": {
        "id": "QXint7nSkjq2"
      }
    },
    {
      "cell_type": "code",
      "source": [
        "def is_isogram(string):\n",
        "    lower_in_string = string.lower()\n",
        "    if len(lower_in_string) == len(set(lower_in_string)):\n",
        "        print(f'{string} ➞ {True}')\n",
        "    else:\n",
        "        print(f'{string} ➞ {False}')\n",
        "    \n",
        "is_isogram(\"Algorism\")\n",
        "is_isogram(\"PasSword\")\n",
        "is_isogram(\"Consecutive\")"
      ],
      "metadata": {
        "colab": {
          "base_uri": "https://localhost:8080/"
        },
        "id": "gwrJukmEknp-",
        "outputId": "db788335-d986-4492-81a6-f904bef6bbe8"
      },
      "execution_count": 7,
      "outputs": [
        {
          "output_type": "stream",
          "name": "stdout",
          "text": [
            "Algorism ➞ True\n",
            "PasSword ➞ False\n",
            "Consecutive ➞ False\n"
          ]
        }
      ]
    },
    {
      "cell_type": "code",
      "source": [
        ""
      ],
      "metadata": {
        "id": "intmkwIplaFd"
      },
      "execution_count": null,
      "outputs": []
    },
    {
      "cell_type": "markdown",
      "source": [
        "5.Create a function that takes a string and returns True or False, depending on whether the characters are in order or not ?\n",
        "\n",
        "Examples:\n",
        "- is_in_order(\"abc\") ➞ True\n",
        "- is_in_order(\"edabit\") ➞ False\n",
        "- is_in_order(\"123\") ➞ True\n",
        "- is_in_order(\"xyzz\") ➞ True\n",
        "\n",
        "### Notes:\n",
        "You don't have to handle empty strings."
      ],
      "metadata": {
        "id": "dv0bR2WLlw8H"
      }
    },
    {
      "cell_type": "code",
      "source": [
        "def is_in_order(string):\n",
        "    sorted_string = ''.join(sorted(string))\n",
        "    if string == sorted_string:\n",
        "        print(f'{string} ➞ {True}')\n",
        "    else:\n",
        "       print(f'{string} ➞ {False}')\n",
        "\n",
        "is_in_order(\"abc\")\n",
        "is_in_order(\"edabit\")\n",
        "is_in_order(\"123\")\n",
        "is_in_order(\"xyzz\")"
      ],
      "metadata": {
        "colab": {
          "base_uri": "https://localhost:8080/"
        },
        "id": "nbKKorTZly15",
        "outputId": "1e0c3066-1fda-4824-cd4b-164ed22a435c"
      },
      "execution_count": 8,
      "outputs": [
        {
          "output_type": "stream",
          "name": "stdout",
          "text": [
            "abc ➞ True\n",
            "edabit ➞ False\n",
            "123 ➞ True\n",
            "xyzz ➞ True\n"
          ]
        }
      ]
    },
    {
      "cell_type": "code",
      "source": [
        ""
      ],
      "metadata": {
        "id": "Dw4mYgJxl-_o"
      },
      "execution_count": null,
      "outputs": []
    }
  ]
}