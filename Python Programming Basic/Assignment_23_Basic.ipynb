{
  "nbformat": 4,
  "nbformat_minor": 0,
  "metadata": {
    "colab": {
      "name": "Assignment_23_Basicipynb",
      "provenance": [],
      "collapsed_sections": []
    },
    "kernelspec": {
      "name": "python3",
      "display_name": "Python 3"
    },
    "language_info": {
      "name": "python"
    }
  },
  "cells": [
    {
      "cell_type": "code",
      "execution_count": null,
      "metadata": {
        "id": "hH_2aUzLnHtm"
      },
      "outputs": [],
      "source": [
        ""
      ]
    },
    {
      "cell_type": "markdown",
      "source": [
        "1.Create a function that takes a number as an argument and returns True or False depending on whether the number is symmetrical or not. A number is symmetrical when it is the same as its reverse.\n",
        "\n",
        "Examples:\n",
        "- is_symmetrical(7227) ➞ True\n",
        "- is_symmetrical(12567) ➞ False\n",
        "- is_symmetrical(44444444) ➞ True\n",
        "- is_symmetrical(9939) ➞ False\n",
        "- is_symmetrical(1112111) ➞ True"
      ],
      "metadata": {
        "id": "htJ9R7iNnLLA"
      }
    },
    {
      "cell_type": "code",
      "source": [
        "def is_symmetrical(num):\n",
        "    if str(num) == str(num)[::-1]:\n",
        "        print(f'{num} ➞ {True}')\n",
        "    else:\n",
        "        print(f'{num} ➞ {False}')\n",
        "\n",
        "is_symmetrical(7227)\n",
        "is_symmetrical(12567)\n",
        "is_symmetrical(44444444)\n",
        "is_symmetrical(9939)\n",
        "is_symmetrical(1112111)"
      ],
      "metadata": {
        "colab": {
          "base_uri": "https://localhost:8080/"
        },
        "id": "GLzt1iqGnNI1",
        "outputId": "90a99cff-f687-4e2b-ae88-f89e93709cd5"
      },
      "execution_count": 1,
      "outputs": [
        {
          "output_type": "stream",
          "name": "stdout",
          "text": [
            "7227 ➞ True\n",
            "12567 ➞ False\n",
            "44444444 ➞ True\n",
            "9939 ➞ False\n",
            "1112111 ➞ True\n"
          ]
        }
      ]
    },
    {
      "cell_type": "code",
      "source": [
        ""
      ],
      "metadata": {
        "id": "UaZJtLBjnT7M"
      },
      "execution_count": null,
      "outputs": []
    },
    {
      "cell_type": "markdown",
      "source": [
        "2.Given a string of numbers separated by a comma and space, return the product of the numbers.\n",
        "\n",
        "Examples:\n",
        "- multiply_nums(\"2, 3\") ➞ 6\n",
        "- multiply_nums(\"1, 2, 3, 4\") ➞ 24\n",
        "- multiply_nums(\"54, 75, 453, 0\") ➞ 0\n",
        "- multiply_nums(\"10, -2\") ➞ -20"
      ],
      "metadata": {
        "id": "Wk4ReuHVnVmg"
      }
    },
    {
      "cell_type": "code",
      "source": [
        "def multiply_nums(string):\n",
        "    output = string.replace(' ','').split(',')\n",
        "    out_num = 1\n",
        "    for ele in output:\n",
        "        out_num *= int(ele)\n",
        "    print(f'{string} ➞ {out_num}')\n",
        "    \n",
        "multiply_nums(\"2, 3\")\n",
        "multiply_nums(\"1, 2, 3, 4\")\n",
        "multiply_nums(\"54, 75, 453, 0\")\n",
        "multiply_nums(\"10, -2\")"
      ],
      "metadata": {
        "colab": {
          "base_uri": "https://localhost:8080/"
        },
        "id": "XMikxYMcnVwv",
        "outputId": "1e9d1075-7c61-4eee-c4d5-adbdd13a3d48"
      },
      "execution_count": 2,
      "outputs": [
        {
          "output_type": "stream",
          "name": "stdout",
          "text": [
            "2, 3 ➞ 6\n",
            "1, 2, 3, 4 ➞ 24\n",
            "54, 75, 453, 0 ➞ 0\n",
            "10, -2 ➞ -20\n"
          ]
        }
      ]
    },
    {
      "cell_type": "markdown",
      "source": [
        "3.Create a function that squares every digit of a number.\n",
        "\n",
        "Examples:\n",
        "- square_digits(9119) ➞ 811181\n",
        "- square_digits(2483) ➞ 416649\n",
        "- square_digits(3212) ➞ 9414\n",
        "\n",
        "### Notes:\n",
        "The function receives an integer and must return an integer."
      ],
      "metadata": {
        "id": "fQdNWq1PnlK2"
      }
    },
    {
      "cell_type": "code",
      "source": [
        "def square_digits(num):\n",
        "  lst= [str(int(i)**2) for i in str(num)]\n",
        "  output = \"\".join(lst)\n",
        "  print(f'{num} --> {int(output)}')\n",
        "\n",
        "square_digits(9119)\n",
        "square_digits(2483)\n",
        "square_digits(3212)"
      ],
      "metadata": {
        "colab": {
          "base_uri": "https://localhost:8080/"
        },
        "id": "zV7fd0KcnYVj",
        "outputId": "8b0f51b9-1d08-4d5c-c9ce-6bf2b95dee70"
      },
      "execution_count": 3,
      "outputs": [
        {
          "output_type": "stream",
          "name": "stdout",
          "text": [
            "9119 --> 811181\n",
            "2483 --> 416649\n",
            "3212 --> 9414\n"
          ]
        }
      ]
    },
    {
      "cell_type": "markdown",
      "source": [
        "4.Create a function that sorts a list and removes all duplicate items from it.\n",
        "\n",
        "Examples:\n",
        "- setify([1, 3, 3, 5, 5]) ➞ [1, 3, 5]\n",
        "- setify([4, 4, 4, 4]) ➞ [4]\n",
        "- setify([5, 7, 8, 9, 10, 15]) ➞ [5, 7, 8, 9, 10, 15]\n",
        "- setify([3, 3, 3, 2, 1]) ➞ [1, 2, 3]"
      ],
      "metadata": {
        "id": "_VDhdOlMoTLi"
      }
    },
    {
      "cell_type": "code",
      "source": [
        "def setify(lst):\n",
        "    output = sorted(set(lst))\n",
        "    print(f'{lst} ➞ {output}')\n",
        "    \n",
        "setify([1, 3, 3, 5, 5]) \n",
        "setify([4, 4, 4, 4])\n",
        "setify([5, 7, 8, 9, 10, 15])\n",
        "setify([3, 3, 3, 2, 1])"
      ],
      "metadata": {
        "colab": {
          "base_uri": "https://localhost:8080/"
        },
        "id": "Kkz2Jr3cnqTd",
        "outputId": "91bc2c96-1e8d-4890-d478-a337f6fc9194"
      },
      "execution_count": 4,
      "outputs": [
        {
          "output_type": "stream",
          "name": "stdout",
          "text": [
            "[1, 3, 3, 5, 5] ➞ [1, 3, 5]\n",
            "[4, 4, 4, 4] ➞ [4]\n",
            "[5, 7, 8, 9, 10, 15] ➞ [5, 7, 8, 9, 10, 15]\n",
            "[3, 3, 3, 2, 1] ➞ [1, 2, 3]\n"
          ]
        }
      ]
    },
    {
      "cell_type": "code",
      "source": [
        ""
      ],
      "metadata": {
        "id": "qQWzsxd8nqXi"
      },
      "execution_count": null,
      "outputs": []
    },
    {
      "cell_type": "markdown",
      "source": [
        "5.Create a function that returns the mean of all digits.\n",
        "\n",
        "Examples:\n",
        "- mean(42) ➞ 3\n",
        "- mean(12345) ➞ 3\n",
        "- mean(666) ➞ 6\n",
        "\n",
        "### Notes:\n",
        "1.The mean of all digits is the sum of digits / how many digits there are (e.g. mean of digits in 512 is (5+1+2)/3(number of digits) = 8/3=2).\n",
        "\n",
        "2.The mean will always be an integer."
      ],
      "metadata": {
        "id": "B1iGp4w7oeMf"
      }
    },
    {
      "cell_type": "code",
      "source": [
        "def mean(num):\n",
        "    lst = [int(ele) for ele in str(num)]\n",
        "    out_num = sum(lst)/len(str(num))\n",
        "    print(f'Mean of {num}  ➞ {out_num:.0f}')\n",
        "    \n",
        "mean(42)\n",
        "mean(12345)\n",
        "mean(666)"
      ],
      "metadata": {
        "colab": {
          "base_uri": "https://localhost:8080/"
        },
        "id": "QGL4Yy8YnqbC",
        "outputId": "69b3eeb1-fd3e-43fa-c370-23089dee2c42"
      },
      "execution_count": 12,
      "outputs": [
        {
          "output_type": "stream",
          "name": "stdout",
          "text": [
            "Mean of 42  ➞ 3\n",
            "Mean of 12345  ➞ 3\n",
            "Mean of 666  ➞ 6\n"
          ]
        }
      ]
    },
    {
      "cell_type": "code",
      "source": [
        ""
      ],
      "metadata": {
        "id": "08zDq4uupAR0"
      },
      "execution_count": null,
      "outputs": []
    }
  ]
}