{
  "nbformat": 4,
  "nbformat_minor": 0,
  "metadata": {
    "colab": {
      "name": "Programming Assignment- 7.ipynb",
      "provenance": [],
      "collapsed_sections": []
    },
    "kernelspec": {
      "name": "python3",
      "display_name": "Python 3"
    },
    "language_info": {
      "name": "python"
    }
  },
  "cells": [
    {
      "cell_type": "code",
      "metadata": {
        "id": "FetyDS8MwTK8"
      },
      "source": [
        "# 1. Write a Python Program to find sum of array?"
      ],
      "execution_count": 49,
      "outputs": []
    },
    {
      "cell_type": "code",
      "metadata": {
        "id": "nSlU2dF3wcu6",
        "colab": {
          "base_uri": "https://localhost:8080/"
        },
        "outputId": "16e8ad2c-0be6-4de2-ff95-ba5c8fec65fa"
      },
      "source": [
        "import numpy as np \n",
        "       \n",
        "lst = [20, 2, .2, 10, 4]  \n",
        "   \n",
        "print(\"\\nSum of arr : \", np.sum(lst)) "
      ],
      "execution_count": 3,
      "outputs": [
        {
          "output_type": "stream",
          "text": [
            "\n",
            "Sum of arr :  36.2\n"
          ],
          "name": "stdout"
        }
      ]
    },
    {
      "cell_type": "code",
      "metadata": {
        "id": "f2-IBAdqwc4w"
      },
      "source": [
        "# 2. Write a Python Program to find largest element in an array?"
      ],
      "execution_count": null,
      "outputs": []
    },
    {
      "cell_type": "code",
      "metadata": {
        "id": "RKtHUX7AwdBv",
        "colab": {
          "base_uri": "https://localhost:8080/"
        },
        "outputId": "309deb39-8687-498b-cfac-320d98100ecb"
      },
      "source": [
        "lst = []\n",
        "num = int(input(\"Enter the size of the array: \"))\n",
        "print(\"Enter array elements: \")\n",
        "for i in range(num):\n",
        "  number = int(input())\n",
        "  lst.append(number)\n",
        "print(max(lst))"
      ],
      "execution_count": 5,
      "outputs": [
        {
          "output_type": "stream",
          "text": [
            "Enter the size of the array: 5\n",
            "Enter array elements: \n",
            "20\n",
            "10\n",
            "50\n",
            "60\n",
            "3\n",
            "60\n"
          ],
          "name": "stdout"
        }
      ]
    },
    {
      "cell_type": "code",
      "metadata": {
        "id": "5p7PnOfnweIO"
      },
      "source": [
        "# 3. Write a Python Program for array rotation?"
      ],
      "execution_count": null,
      "outputs": []
    },
    {
      "cell_type": "code",
      "metadata": {
        "id": "SfOYJAxfweZk",
        "colab": {
          "base_uri": "https://localhost:8080/"
        },
        "outputId": "41481d94-9629-4f33-a30a-444863776603"
      },
      "source": [
        "# Method 1\n",
        "import numpy as np\n",
        "m=np.arange(1,7, 1).reshape((3, 2))\n",
        "m"
      ],
      "execution_count": 21,
      "outputs": [
        {
          "output_type": "execute_result",
          "data": {
            "text/plain": [
              "array([[1, 2],\n",
              "       [3, 4],\n",
              "       [5, 6]])"
            ]
          },
          "metadata": {
            "tags": []
          },
          "execution_count": 21
        }
      ]
    },
    {
      "cell_type": "code",
      "metadata": {
        "colab": {
          "base_uri": "https://localhost:8080/"
        },
        "id": "EeN3THM1EK_9",
        "outputId": "48c494ac-bb29-4618-ed38-8beab6a65ba1"
      },
      "source": [
        "np.rot90(m)"
      ],
      "execution_count": 18,
      "outputs": [
        {
          "output_type": "execute_result",
          "data": {
            "text/plain": [
              "array([[2, 4, 6],\n",
              "       [1, 3, 5]])"
            ]
          },
          "metadata": {
            "tags": []
          },
          "execution_count": 18
        }
      ]
    },
    {
      "cell_type": "code",
      "metadata": {
        "colab": {
          "base_uri": "https://localhost:8080/"
        },
        "id": "eE8ZxMTcG9K6",
        "outputId": "0076d0ca-284d-4ef4-df75-a809e4f1835b"
      },
      "source": [
        "# Method 2\n",
        "import numpy as np\n",
        "m = np.array([[1,2], [3,4], [5,6]], int)\n",
        "m"
      ],
      "execution_count": 22,
      "outputs": [
        {
          "output_type": "execute_result",
          "data": {
            "text/plain": [
              "array([[1, 2],\n",
              "       [3, 4],\n",
              "       [5, 6]])"
            ]
          },
          "metadata": {
            "tags": []
          },
          "execution_count": 22
        }
      ]
    },
    {
      "cell_type": "code",
      "metadata": {
        "colab": {
          "base_uri": "https://localhost:8080/"
        },
        "id": "c9bUgH03G_nC",
        "outputId": "7e3940d9-de13-452a-ae39-5c1beac05c7d"
      },
      "source": [
        "np.rot90(m)"
      ],
      "execution_count": 20,
      "outputs": [
        {
          "output_type": "execute_result",
          "data": {
            "text/plain": [
              "array([[2, 4, 6],\n",
              "       [1, 3, 5]])"
            ]
          },
          "metadata": {
            "tags": []
          },
          "execution_count": 20
        }
      ]
    },
    {
      "cell_type": "code",
      "metadata": {
        "id": "CoTzI8ePweii"
      },
      "source": [
        "# 4. Write a Python Program to Split the array and add the first part to the end?"
      ],
      "execution_count": null,
      "outputs": []
    },
    {
      "cell_type": "code",
      "metadata": {
        "id": "j59OV4uqwer4",
        "colab": {
          "base_uri": "https://localhost:8080/"
        },
        "outputId": "a289b459-7f01-4f99-f066-1aab89a71ced"
      },
      "source": [
        "def split(arr, n, k): \n",
        "   b = arr[:k]\n",
        "   return (arr[k::]+b[::])\n",
        "          \n",
        "  \n",
        "arr = [7,10,15,20,99,101]\n",
        "n = len(arr)\n",
        "position = 3\n",
        "\n",
        "arr = split(arr, n, position)\n",
        "for i in range(0, n): \n",
        "    print(arr[i], end = ' ')"
      ],
      "execution_count": 43,
      "outputs": [
        {
          "output_type": "stream",
          "text": [
            "20 99 101 7 10 15 "
          ],
          "name": "stdout"
        }
      ]
    },
    {
      "cell_type": "code",
      "metadata": {
        "id": "uOmKO03_we1D"
      },
      "source": [
        "# 5. Write a Python Program to check if given array is Monotonic?"
      ],
      "execution_count": null,
      "outputs": []
    },
    {
      "cell_type": "code",
      "metadata": {
        "id": "58nYraFNwjMu",
        "colab": {
          "base_uri": "https://localhost:8080/"
        },
        "outputId": "deb6fa98-2779-4aef-a35f-bb30880ad1b1"
      },
      "source": [
        "# Check if given array is Monotonic\n",
        "# An array is monotonic if it is either monotone increasing or monotone decreasing.\n",
        "def Monotonic(Arr):\n",
        "  \n",
        "    return (all(Arr[i] <= Arr[i + 1] for i in range(len(Arr) - 1)) or\n",
        "            all(Arr[i] >= Arr[i + 1] for i in range(len(Arr) - 1)))\n",
        "  \n",
        "Arr = [1,3,5,99]\n",
        "  \n",
        "print(Monotonic(Arr))"
      ],
      "execution_count": 48,
      "outputs": [
        {
          "output_type": "stream",
          "text": [
            "True\n"
          ],
          "name": "stdout"
        }
      ]
    },
    {
      "cell_type": "code",
      "metadata": {
        "id": "AIUDL3W9LXNS"
      },
      "source": [
        ""
      ],
      "execution_count": null,
      "outputs": []
    }
  ]
}