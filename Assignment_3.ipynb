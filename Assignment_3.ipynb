{
  "nbformat": 4,
  "nbformat_minor": 0,
  "metadata": {
    "colab": {
      "name": "Assignment 3.ipynb",
      "provenance": [],
      "collapsed_sections": []
    },
    "kernelspec": {
      "name": "python3",
      "display_name": "Python 3"
    }
  },
  "cells": [
    {
      "cell_type": "code",
      "metadata": {
        "colab": {
          "base_uri": "https://localhost:8080/",
          "height": 36
        },
        "id": "ma3s0qR7xF_1",
        "outputId": "6108cda5-5bad-40e3-931f-50b66b8e9428"
      },
      "source": [
        "'''1. Why are functions advantageous to have in your programs?'''"
      ],
      "execution_count": null,
      "outputs": [
        {
          "output_type": "execute_result",
          "data": {
            "application/vnd.google.colaboratory.intrinsic+json": {
              "type": "string"
            },
            "text/plain": [
              "'1. Why are functions advantageous to have in your programs?'"
            ]
          },
          "metadata": {
            "tags": []
          },
          "execution_count": 1
        }
      ]
    },
    {
      "cell_type": "code",
      "metadata": {
        "id": "XniOMeu-0VJL"
      },
      "source": [
        "# The Function makes our program shorter, easier to read and easier to update. It also make our program duplicacy free. (Plagarism)"
      ],
      "execution_count": null,
      "outputs": []
    },
    {
      "cell_type": "code",
      "metadata": {
        "colab": {
          "base_uri": "https://localhost:8080/"
        },
        "id": "xywYi5QNxNWJ",
        "outputId": "68597050-4698-4b0e-8ebe-fad38bf6dd37"
      },
      "source": [
        "'''2. When does the code in a function run: when it's specified or when it's called?'''  "
      ],
      "execution_count": null,
      "outputs": [
        {
          "output_type": "execute_result",
          "data": {
            "application/vnd.google.colaboratory.intrinsic+json": {
              "type": "string"
            },
            "text/plain": [
              "\"2. When does the code in a function run: when it's specified or when it's called?\""
            ]
          },
          "metadata": {
            "tags": []
          },
          "execution_count": 2
        }
      ]
    },
    {
      "cell_type": "code",
      "metadata": {
        "id": "XawK7PbS0UNt"
      },
      "source": [
        "# The code in the function executes when the function is called, not when the function is defined."
      ],
      "execution_count": 11,
      "outputs": []
    },
    {
      "cell_type": "code",
      "metadata": {
        "colab": {
          "base_uri": "https://localhost:8080/",
          "height": 36
        },
        "id": "s2gMy9vdxR3P",
        "outputId": "e8a47eeb-e746-4ac0-c090-6e7e6b25458f"
      },
      "source": [
        "'''3. What statement causes a feature to be created?'''    "
      ],
      "execution_count": 12,
      "outputs": [
        {
          "output_type": "execute_result",
          "data": {
            "application/vnd.google.colaboratory.intrinsic+json": {
              "type": "string"
            },
            "text/plain": [
              "'3. What statement causes a feature to be created?'"
            ]
          },
          "metadata": {
            "tags": []
          },
          "execution_count": 12
        }
      ]
    },
    {
      "cell_type": "code",
      "metadata": {
        "id": "GpK8VBj10V8S"
      },
      "source": [
        "# The def statement defines that is created inside a function."
      ],
      "execution_count": 13,
      "outputs": []
    },
    {
      "cell_type": "code",
      "metadata": {
        "colab": {
          "base_uri": "https://localhost:8080/",
          "height": 36
        },
        "id": "_rYylNssxc-W",
        "outputId": "ef413b8b-a744-49fb-b216-7ff0a3cdb61c"
      },
      "source": [
        "'''4. What is the difference between a function and a call to a function?'''"
      ],
      "execution_count": null,
      "outputs": [
        {
          "output_type": "execute_result",
          "data": {
            "application/vnd.google.colaboratory.intrinsic+json": {
              "type": "string"
            },
            "text/plain": [
              "'4. What is the difference between a function and a call to a function?'"
            ]
          },
          "metadata": {
            "tags": []
          },
          "execution_count": 2
        }
      ]
    },
    {
      "cell_type": "code",
      "metadata": {
        "id": "VQ0RSpNY0Wya"
      },
      "source": [
        "# A function consists of def statement and the code in its def clause. \n",
        "# A function calls the program execution into the function, and the function call evaluates to the function's return value."
      ],
      "execution_count": null,
      "outputs": []
    },
    {
      "cell_type": "code",
      "metadata": {
        "colab": {
          "base_uri": "https://localhost:8080/",
          "height": 36
        },
        "id": "EGiiXwPTxi8U",
        "outputId": "a8637a2c-56ce-4692-f25c-da5e96792d6b"
      },
      "source": [
        "'''5. How many global scopes are there in a Python program? How many local scopes?'''"
      ],
      "execution_count": null,
      "outputs": [
        {
          "output_type": "execute_result",
          "data": {
            "application/vnd.google.colaboratory.intrinsic+json": {
              "type": "string"
            },
            "text/plain": [
              "'5. How many global scopes are there in a Python program? How many local scopes?'"
            ]
          },
          "metadata": {
            "tags": []
          },
          "execution_count": 3
        }
      ]
    },
    {
      "cell_type": "code",
      "metadata": {
        "id": "tMV1QFN_0XpN",
        "colab": {
          "base_uri": "https://localhost:8080/"
        },
        "outputId": "944f36cc-6545-49bb-879a-77778fd1462c"
      },
      "source": [
        "# There is one global scope and it is created when a program begins, and When program terminates, global scope and all its variables are destroyed. \n",
        "# A local scope is created whenever a function is called. Any variable assigned in the function exist within the function's local scope.\n",
        "def spam():                   # local scope\n",
        "  eggs= \"spam local\"\n",
        "  print(eggs)\n",
        "spam()        # print spam local\n",
        "\n",
        "def bacon():                  # local scope\n",
        "  eggs= \"bacon local\"\n",
        "  print(eggs) # print bacon local\n",
        "  spam()\n",
        "  print(eggs) # print spam local\n",
        "\n",
        "eggs=\"global\"                 # global scope\n",
        "bacon()       # print bacon local\n",
        "print(eggs)   # print global"
      ],
      "execution_count": 27,
      "outputs": [
        {
          "output_type": "stream",
          "text": [
            "spam local\n",
            "bacon local\n",
            "spam local\n",
            "bacon local\n",
            "global\n"
          ],
          "name": "stdout"
        }
      ]
    },
    {
      "cell_type": "code",
      "metadata": {
        "colab": {
          "base_uri": "https://localhost:8080/",
          "height": 36
        },
        "id": "YcB9FhKmxsl3",
        "outputId": "0e7accfa-31e7-44f4-a06a-3ab99fbbf009"
      },
      "source": [
        "'''6. What happens to variables in a local scope when the function call returns?'''"
      ],
      "execution_count": null,
      "outputs": [
        {
          "output_type": "execute_result",
          "data": {
            "application/vnd.google.colaboratory.intrinsic+json": {
              "type": "string"
            },
            "text/plain": [
              "'6. What happens to variables in a local scope when the function call returns?'"
            ]
          },
          "metadata": {
            "tags": []
          },
          "execution_count": 4
        }
      ]
    },
    {
      "cell_type": "code",
      "metadata": {
        "id": "wencr0Z50YXs"
      },
      "source": [
        "# When a function returns from its function, the local scope is destroyed, and all the variables in it are destroyed and forgotten. "
      ],
      "execution_count": 28,
      "outputs": []
    },
    {
      "cell_type": "code",
      "metadata": {
        "colab": {
          "base_uri": "https://localhost:8080/",
          "height": 36
        },
        "id": "dVDCcCVXx6pG",
        "outputId": "14c3a06a-e6d0-4362-e1f3-3c75c25f512c"
      },
      "source": [
        "'''7. What is the concept of a return value? Is it possible to have a return value in an expression?'''"
      ],
      "execution_count": null,
      "outputs": [
        {
          "output_type": "execute_result",
          "data": {
            "application/vnd.google.colaboratory.intrinsic+json": {
              "type": "string"
            },
            "text/plain": [
              "'7. What is the concept of a return value? Is it possible to have a return value in an expression?'"
            ]
          },
          "metadata": {
            "tags": []
          },
          "execution_count": 7
        }
      ]
    },
    {
      "cell_type": "code",
      "metadata": {
        "id": "o3vKU63h0Yx_"
      },
      "source": [
        "# A return value is the value that a function call for evaluation. Like any other value, a return value can also be used as part of expression."
      ],
      "execution_count": 29,
      "outputs": []
    },
    {
      "cell_type": "code",
      "metadata": {
        "colab": {
          "base_uri": "https://localhost:8080/",
          "height": 36
        },
        "id": "HaegOq5oyDPz",
        "outputId": "6865f469-9164-4e0e-8857-b85c001cdbb3"
      },
      "source": [
        "'''8. If a function does not have a return statement, what is the return value of a call to that function?'''"
      ],
      "execution_count": null,
      "outputs": [
        {
          "output_type": "execute_result",
          "data": {
            "application/vnd.google.colaboratory.intrinsic+json": {
              "type": "string"
            },
            "text/plain": [
              "'8. If a function does not have a return statement, what is the return value of a call to that function?'"
            ]
          },
          "metadata": {
            "tags": []
          },
          "execution_count": 5
        }
      ]
    },
    {
      "cell_type": "code",
      "metadata": {
        "id": "X4guhCao0ZMg",
        "colab": {
          "base_uri": "https://localhost:8080/"
        },
        "outputId": "428314e5-206f-4d2e-9462-5ca0b1ea2d46"
      },
      "source": [
        "# If there is no return statement for a function, it return value is None.\n",
        "def gourav():\n",
        "  return 1    # returned 1- it can be any number\n",
        "gourav()"
      ],
      "execution_count": 43,
      "outputs": [
        {
          "output_type": "execute_result",
          "data": {
            "text/plain": [
              "1"
            ]
          },
          "metadata": {
            "tags": []
          },
          "execution_count": 43
        }
      ]
    },
    {
      "cell_type": "code",
      "metadata": {
        "id": "7N7xBKS3A1Iu"
      },
      "source": [
        "def gourav():\n",
        "\n",
        "  gourav()"
      ],
      "execution_count": 40,
      "outputs": []
    },
    {
      "cell_type": "code",
      "metadata": {
        "colab": {
          "base_uri": "https://localhost:8080/",
          "height": 36
        },
        "id": "NiP12JHuyH3L",
        "outputId": "f4a8aa85-761c-450a-9d6b-7803fe82a27b"
      },
      "source": [
        "'''9. How do you make a function variable refer to the global variable?'''      "
      ],
      "execution_count": null,
      "outputs": [
        {
          "output_type": "execute_result",
          "data": {
            "application/vnd.google.colaboratory.intrinsic+json": {
              "type": "string"
            },
            "text/plain": [
              "'9. How do you make a function variable refer to the global variable?'"
            ]
          },
          "metadata": {
            "tags": []
          },
          "execution_count": 9
        }
      ]
    },
    {
      "cell_type": "code",
      "metadata": {
        "id": "9H-S8F6r0Zm_"
      },
      "source": [
        "# A global statement will force a variable in a function to refer to the global variable."
      ],
      "execution_count": 44,
      "outputs": []
    },
    {
      "cell_type": "code",
      "metadata": {
        "id": "Me1bSTEjyNHe",
        "colab": {
          "base_uri": "https://localhost:8080/",
          "height": 36
        },
        "outputId": "6cfcce3c-df11-4436-cc61-b97fca5a5bd6"
      },
      "source": [
        "'''10. What is the data type of None?'''"
      ],
      "execution_count": null,
      "outputs": [
        {
          "output_type": "execute_result",
          "data": {
            "application/vnd.google.colaboratory.intrinsic+json": {
              "type": "string"
            },
            "text/plain": [
              "'10. What is the data type of None?'"
            ]
          },
          "metadata": {
            "tags": []
          },
          "execution_count": 6
        }
      ]
    },
    {
      "cell_type": "code",
      "metadata": {
        "id": "nPWrhYdE0afr",
        "colab": {
          "base_uri": "https://localhost:8080/"
        },
        "outputId": "a8ffc3ac-6b72-4a1e-d6a7-c09ba2eb6d70"
      },
      "source": [
        "type(None)       # Data type of None is Nonetype"
      ],
      "execution_count": null,
      "outputs": [
        {
          "output_type": "execute_result",
          "data": {
            "text/plain": [
              "NoneType"
            ]
          },
          "metadata": {
            "tags": []
          },
          "execution_count": 3
        }
      ]
    },
    {
      "cell_type": "code",
      "metadata": {
        "colab": {
          "base_uri": "https://localhost:8080/",
          "height": 36
        },
        "id": "zIOxprsRyRfw",
        "outputId": "fc522de6-fe88-4315-e342-370f86abe2e0"
      },
      "source": [
        "'''11. What does the sentence import areallyourpetsnamederic do?'''"
      ],
      "execution_count": null,
      "outputs": [
        {
          "output_type": "execute_result",
          "data": {
            "application/vnd.google.colaboratory.intrinsic+json": {
              "type": "string"
            },
            "text/plain": [
              "'11. What does the sentence import areallyourpetsnamederic do?'"
            ]
          },
          "metadata": {
            "tags": []
          },
          "execution_count": 11
        }
      ]
    },
    {
      "cell_type": "code",
      "metadata": {
        "id": "3M_Lz3am0a4b",
        "colab": {
          "base_uri": "https://localhost:8080/",
          "height": 316
        },
        "outputId": "aec446ee-cd74-4cde-b5d6-2f234a943274"
      },
      "source": [
        "import areallyourpetsnamederic         # In python No module is available from such a name"
      ],
      "execution_count": null,
      "outputs": [
        {
          "output_type": "error",
          "ename": "ModuleNotFoundError",
          "evalue": "ignored",
          "traceback": [
            "\u001b[0;31m---------------------------------------------------------------------------\u001b[0m",
            "\u001b[0;31mModuleNotFoundError\u001b[0m                       Traceback (most recent call last)",
            "\u001b[0;32m<ipython-input-4-b1ea9cb2228f>\u001b[0m in \u001b[0;36m<module>\u001b[0;34m()\u001b[0m\n\u001b[0;32m----> 1\u001b[0;31m \u001b[0;32mimport\u001b[0m \u001b[0mareallyourpetsnamederic\u001b[0m\u001b[0;34m\u001b[0m\u001b[0;34m\u001b[0m\u001b[0m\n\u001b[0m",
            "\u001b[0;31mModuleNotFoundError\u001b[0m: No module named 'areallyourpetsnamederic'",
            "",
            "\u001b[0;31m---------------------------------------------------------------------------\u001b[0;32m\nNOTE: If your import is failing due to a missing package, you can\nmanually install dependencies using either !pip or !apt.\n\nTo view examples of installing some common dependencies, click the\n\"Open Examples\" button below.\n\u001b[0;31m---------------------------------------------------------------------------\u001b[0m\n"
          ]
        }
      ]
    },
    {
      "cell_type": "code",
      "metadata": {
        "id": "6DPvxVjYyU2g",
        "colab": {
          "base_uri": "https://localhost:8080/",
          "height": 36
        },
        "outputId": "9a8c2344-c265-4ae2-fbf7-9cb1b16437a1"
      },
      "source": [
        "'''12. If you had a bacon() feature in a spam module, what would you call it after importing spam?'''"
      ],
      "execution_count": null,
      "outputs": [
        {
          "output_type": "execute_result",
          "data": {
            "application/vnd.google.colaboratory.intrinsic+json": {
              "type": "string"
            },
            "text/plain": [
              "'12. If you had a bacon() feature in a spam module, what would you call it after importing spam?'"
            ]
          },
          "metadata": {
            "tags": []
          },
          "execution_count": 12
        }
      ]
    },
    {
      "cell_type": "code",
      "metadata": {
        "id": "r4NfK4QX0bSx"
      },
      "source": [
        "# This function will be called spam.bacon()\n",
        "def bacon():\n",
        "  bacon.spam= spam\n",
        "  pass"
      ],
      "execution_count": 8,
      "outputs": []
    },
    {
      "cell_type": "code",
      "metadata": {
        "id": "SOV5jO_fydVS",
        "colab": {
          "base_uri": "https://localhost:8080/",
          "height": 36
        },
        "outputId": "4a7be365-c72d-49a5-d2eb-d0b35e51ad16"
      },
      "source": [
        "'''13. What can you do to save a programme from crashing if it encounters an error?'''"
      ],
      "execution_count": null,
      "outputs": [
        {
          "output_type": "execute_result",
          "data": {
            "application/vnd.google.colaboratory.intrinsic+json": {
              "type": "string"
            },
            "text/plain": [
              "'13. What can you do to save a programme from crashing if it encounters an error?'"
            ]
          },
          "metadata": {
            "tags": []
          },
          "execution_count": 13
        }
      ]
    },
    {
      "cell_type": "code",
      "metadata": {
        "id": "UgahYiv-0bsk"
      },
      "source": [
        "# We will use the try clause in the line of code that might create an error."
      ],
      "execution_count": 45,
      "outputs": []
    },
    {
      "cell_type": "code",
      "metadata": {
        "colab": {
          "base_uri": "https://localhost:8080/",
          "height": 36
        },
        "id": "Q3ser4eryhvi",
        "outputId": "362aa1dc-ce8c-49f6-9c00-d33ec066036b"
      },
      "source": [
        "'''14. What is the purpose of the try clause? What is the purpose of the except clause?'''"
      ],
      "execution_count": null,
      "outputs": [
        {
          "output_type": "execute_result",
          "data": {
            "application/vnd.google.colaboratory.intrinsic+json": {
              "type": "string"
            },
            "text/plain": [
              "'14. What is the purpose of the try clause? What is the purpose of the except clause?'"
            ]
          },
          "metadata": {
            "tags": []
          },
          "execution_count": 14
        }
      ]
    },
    {
      "cell_type": "code",
      "metadata": {
        "id": "ll0L4pa60cEn"
      },
      "source": [
        "# The code that could cause an error goes in the try clause. \n",
        "# The code that executes if an error happens goes in the except clause."
      ],
      "execution_count": 47,
      "outputs": []
    },
    {
      "cell_type": "code",
      "metadata": {
        "id": "MCECblOWBr8p"
      },
      "source": [
        ""
      ],
      "execution_count": null,
      "outputs": []
    }
  ]
}